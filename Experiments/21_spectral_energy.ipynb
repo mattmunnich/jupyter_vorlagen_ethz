{
 "cells": [
  {
   "cell_type": "markdown",
   "id": "0629b8fb",
   "metadata": {},
   "source": [
    "# Protocol for experiment 21 \"Energy Distribution in the Spectrum\""
   ]
  },
  {
   "cell_type": "markdown",
   "id": "931507fc",
   "metadata": {},
   "source": [
    "<div style=\"padding:8px 0 8px 15px;border-left:3px solid #B51F1F;background-color:#F3F3F3;\">\n",
    "    <b><font color=\"darkred\">!! IMPORTANT !!</font></b> <br/>\n",
    "    For this experiment you need to prepare your notebook well during the preparation day. <br/>\n",
    "    <b>Preparation day:</b> <br/>\n",
    "    a) Define all the functions you need to create a table and to calculate $\\lambda$ and $C\\cdot E$ from $\\gamma$ and $I$. <br/>\n",
    "    b) Write the code to plot the spectral density in experiment 2.<br/>\n",
    "    c) Test your code with some exemplary data points<br/>\n",
    "    <b>Experiment day:</b> <br/>\n",
    "    You will have to calculate $\\lambda$ and $C\\cdot E$ and plot it while doing the experiment, in order to find the deflection angle where physics gets interesting. So be sure that you know how to do the calculation, that you have defined all necessary functions and that the code is working before you start!"
   ]
  },
  {
   "cell_type": "markdown",
   "id": "0b7ce929",
   "metadata": {},
   "source": [
    "**Date:** {2023-MM-DD}  \n",
    "**Version:** {1 for 1st assignment, 2 for corrected assignment, ...}\n",
    " \n",
    " - **Student 1:** {full name}\n",
    " - **Student 2:** {full name}"
   ]
  },
  {
   "cell_type": "markdown",
   "id": "8f0f1d43",
   "metadata": {},
   "source": [
    "## 1. Introduction\n",
    "\n",
    "### 1.1 Introduction to the experiment\n",
    "\n",
    "- What is the experiment about? What is the objective?\n",
    "\n",
    "### 1.2 Summary of theory\n",
    "\n",
    "- Explanation of the formulas used incl. variable labeling (example from preliminary experiment)\n",
    "    - Representation e.g. by  \n",
    "    \"\\\\$\\\\$ T = 2\\pi \\sqrt{\\frac{L}{g}} \\\\$\\\\$\" $\\rightarrow$ \n",
    "    $$T=2\\pi\\sqrt{\\frac{L}{g}}$$  \n",
    "    where $T$ is the period of oscillation of the pendulum for one oscillation, $L$ is the length of the pendulum, and $g$ is the acceleration due to gravity.\n",
    "    - $$\\phi = A \\exp(-\\frac{\\gamma t}{2})\\cos(\\omega t + \\alpha)$$\n",
    "    where $\\phi$ is the displacement of the oscillation, $A$ is the original amplitude of the oscillation, $\\gamma$ is the coefficient of friction, and $\\omega$ is the angular frequency.\n",
    "\n",
    "### 1.3 Tasks\n",
    "\n",
    "- What are the tasks for the experiment?\n",
    "\n",
    "### 1.4 Environmental relevance\n",
    "\n",
    "- How is the experiment relevant to your studies in environmental science? (1-2 sentences)"
   ]
  },
  {
   "cell_type": "markdown",
   "id": "0172593d",
   "metadata": {},
   "source": [
    "## 2. Packages and Functions"
   ]
  },
  {
   "cell_type": "markdown",
   "id": "aad31d47",
   "metadata": {},
   "source": [
    "### 2.1 Load packages\n",
    "You may not use all of these packages. You can comment out the ones you don't need."
   ]
  },
  {
   "cell_type": "code",
   "execution_count": 1,
   "id": "b4170517",
   "metadata": {},
   "outputs": [],
   "source": [
    "# import packages  (not every package is used in each notebook template)\n",
    "\n",
    "# numerical computing\n",
    "import numpy as np                    # Fundamental package for numerical computing in Python\n",
    "\n",
    "# uncertainty calculations\n",
    "from uncertainties import ufloat      # For handling numbers with uncertainties\n",
    "from uncertainties.umath import *     # For applying mathematical functions with uncertainties\n",
    "from uncertainties import unumpy      # For handling uncertainties in arrays\n",
    "\n",
    "# data manipulation and analysis\n",
    "import pandas as pd                   # Powerful data manipulation and analysis library\n",
    "\n",
    "# data visualization in tables\n",
    "from tabulate import tabulate\n",
    "\n",
    "# data visualization in plots\n",
    "import matplotlib.pyplot as plt       # Library for creating static, interactive, and animated visualizations\n",
    "\n",
    "# scientific computing\n",
    "import scipy as sc                    # Open-source scientific computing library\n",
    "from scipy.stats import linregress    # For performing linear regression analysis\n",
    "from scipy.constants import R         # Physical and mathematical constants\n",
    "\n",
    "# interactive display in Jupyter Notebook\n",
    "from IPython.display import display, Markdown, Image   # For displaying rich content (e.g., Markdown) in Jupyter Notebook\n",
    "\n",
    "# standard mathematical functions\n",
    "import math                          # Python's built-in math functions\n",
    "\n",
    "\n"
   ]
  },
  {
   "cell_type": "markdown",
   "id": "40438cc2",
   "metadata": {},
   "source": [
    "### 2.2 Define functions"
   ]
  },
  {
   "cell_type": "code",
   "execution_count": 2,
   "id": "a3d0e52e",
   "metadata": {},
   "outputs": [],
   "source": [
    "# example: \n",
    "\n",
    "def my_function(param1_placeholder, param2_placeholder):\n",
    "    \n",
    "    value = 'Replace with your calculation'\n",
    "    return value"
   ]
  },
  {
   "cell_type": "markdown",
   "id": "d427a194",
   "metadata": {},
   "source": [
    "#### Creating a table"
   ]
  },
  {
   "cell_type": "code",
   "execution_count": 3,
   "id": "62a689e1",
   "metadata": {},
   "outputs": [],
   "source": [
    "#----------------------------------------------\n",
    "# Create a table (see CheatSheet)\n",
    "#----------------------------------------------\n",
    "\n",
    "def Table(table, header, precisions):\n",
    "    # Check if precisions list length matches table's row count\n",
    "    if len(precisions) != len(table):\n",
    "        raise ValueError(\"Length of precisions list must match the number of columns in the table\")\n",
    "\n",
    "    for i in range(len(table)):\n",
    "        # If precision for this row/column is not None, round the entire row\n",
    "        if precisions[i] is not None:\n",
    "            table[i] = [np.round(val, precisions[i]) for val in table[i]]\n",
    "\n",
    "    table = np.matrix.transpose(np.array(table))\n",
    "    print(tabulate(table, headers=header, tablefmt='fancy_grid'))"
   ]
  },
  {
   "cell_type": "markdown",
   "id": "5216cef4",
   "metadata": {},
   "source": [
    "#### Polynomial fit of the calibration curves\n",
    "The conversion of $\\gamma_0-\\gamma$ into $log_{10}(\\lambda)$ and $log_{10}(|d\\lambda/d\\gamma|)$ can be done with the help of the following functions (and doesn't have to be read manually on the calibration curve)."
   ]
  },
  {
   "cell_type": "code",
   "execution_count": 4,
   "id": "d330764f",
   "metadata": {},
   "outputs": [],
   "source": [
    "#----------------------------------------------\n",
    "# generic Polynomial\n",
    "#----------------------------------------------\n",
    "\n",
    "def polynom(coefficients, x): # coefficients: array with the coefficients\n",
    "    poly = 0\n",
    "    for i in range(len(coefficients)):\n",
    "        poly = poly + coefficients[i]*x**i\n",
    "    return poly\n",
    "\n",
    "#----------------------------------------------\n",
    "# Fit function for log10(lambda)\n",
    "#----------------------------------------------\n",
    "\n",
    "def log10lambda(x): # lambda in micrometer, x = gamma0-gamma [°] \n",
    "    coefficients = [-0.23991, -0.01573, 0.00226, -1.21005E-4, -7.53654E-5, -4.09306E-6, 1.70008E-6, 1.30007E-7] # B0 ... B7 von der Eichkurven-Fitfunktion\n",
    "    return polynom(coefficients, x)\n",
    "\n",
    "#----------------------------------------------\n",
    "# Fit function for log10(|dlambda/dgamma|)\n",
    "#----------------------------------------------\n",
    "\n",
    "def log10dlambda_dgamma(x): # lambda in micrometer, x = gamma0 - gamma [°] \n",
    "    coefficients = [-1.63959,-0.08758,0.00106,5.9517E-4,1.86036E-4,-2.01466E-5,-3.45518E-6,-5.57806E-8]\n",
    "    return polynom(coefficients,x)"
   ]
  },
  {
   "cell_type": "code",
   "execution_count": 5,
   "id": "8c9c78d0",
   "metadata": {},
   "outputs": [
    {
     "data": {
      "image/png": "[encoded data removed]",
      "text/plain": [
       "<Figure size 1000x600 with 1 Axes>"
      ]
     },
     "metadata": {},
     "output_type": "display_data"
    }
   ],
   "source": [
    "plt.figure(figsize=(10, 6))\n",
    "x = np.linspace(-11,5,100)\n",
    "y = log10lambda(x)\n",
    "plt.plot(x, y, label='Line', color='darkblue')\n",
    "plt.grid(True, which='both')\n",
    "plt.xlabel('$\\gamma_0-\\gamma$') \n",
    "plt.ylabel('$log_{10}(\\lambda / \\mu m)$') \n",
    "plt.title('Energy distribution $\\lambda (\\gamma_0-\\gamma)$') # Replace with an appropriate title\n",
    "plt.show()\n"
   ]
  },
  {
   "cell_type": "code",
   "execution_count": 6,
   "id": "e03f7e6a",
   "metadata": {},
   "outputs": [
    {
     "data": {
      "image/png": "[encoded data removed]",
      "text/plain": [
       "<Figure size 1000x600 with 1 Axes>"
      ]
     },
     "metadata": {},
     "output_type": "display_data"
    }
   ],
   "source": [
    "plt.figure(figsize=(10, 6))\n",
    "x = np.linspace(-11,5,100)\n",
    "y = log10dlambda_dgamma(x)\n",
    "plt.plot(x, y, label='Line', color='darkblue')\n",
    "plt.grid(True, which='both')\n",
    "plt.xlabel('$\\gamma_0-\\gamma$') \n",
    "plt.ylabel('$log_{10}[|(d \\lambda / d \\gamma) /(\\mu m/°)|]$') \n",
    "plt.title('Energy distribution $d \\lambda / d \\gamma$') # Replace with an appropriate title\n",
    "plt.show()\n"
   ]
  },
  {
   "cell_type": "markdown",
   "id": "e0ebdda4",
   "metadata": {},
   "source": [
    "#### Conversion from $\\gamma$ and $I$ to $\\lambda$ and $C\\cdot E$ "
   ]
  },
  {
   "cell_type": "markdown",
   "id": "f1756322",
   "metadata": {},
   "source": [
    "<span style='color:darkcyan'> <i>Define the functions for the following calculations:</i></span>"
   ]
  },
  {
   "cell_type": "markdown",
   "id": "6df2e5ba",
   "metadata": {},
   "source": [
    "<div class=\"alert alert-block alert-info\">\n",
    "    <b>Tip:</b> You will store the values for $\\gamma$ in an uarray. If you want to perform mathematical operations on it, you will have to do it element by element. <br/>\n",
    "    To see how this can be done in python, take a look at the calculation of $\\gamma_0-\\gamma$ below."
   ]
  },
  {
   "cell_type": "markdown",
   "id": "a0e5eb64",
   "metadata": {},
   "source": [
    "#### <span style='color:darkcyan'> Your functions: </span>"
   ]
  },
  {
   "cell_type": "code",
   "execution_count": 7,
   "id": "7e7f65bf",
   "metadata": {},
   "outputs": [],
   "source": [
    "#----------------------------------------------\n",
    "# Calculation of gamma0-gamma (here as an example):\n",
    "#----------------------------------------------\n",
    "\n",
    "def gamma_diff(gamma0, gamma): \n",
    "    # 'gamma0' is a (u)float, but gamma is a (u)array -> the calculation must be done\n",
    "    # for each element of 'gamma' seperately\n",
    "    diff = [] # create an empty array 'diff'\n",
    "    for i in range(len(gamma)): \n",
    "        diff.append(gamma0 - gamma[i]) # for each element i from 'gamma' add an element to 'diff', \n",
    "                                       # that has the value (gamma0 - gamma[i])\n",
    "    return diff\n",
    "\n",
    "#----------------------------------------------\n",
    "# calculate log(lambda)\n",
    "#----------------------------------------------\n",
    "\n",
    "# your function ... \n",
    "\n",
    "\n",
    "#----------------------------------------------    \n",
    "# calculation of lambda\n",
    "#----------------------------------------------\n",
    "\n",
    "# your function ... \n",
    "\n",
    "\n",
    "#----------------------------------------------\n",
    "# calculation of log(|dlambda/dgamma|)\n",
    "#----------------------------------------------\n",
    "\n",
    "# your function ... \n",
    "\n",
    "\n",
    "#----------------------------------------------\n",
    "# calculation of dlambda/dgamma\n",
    "#----------------------------------------------\n",
    "\n",
    "# your function ... \n",
    "\n",
    "\n",
    "#----------------------------------------------\n",
    "# calculation of C*E\n",
    "#----------------------------------------------\n",
    "\n",
    "# your function ... \n",
    "\n",
    "\n"
   ]
  },
  {
   "cell_type": "code",
   "execution_count": 8,
   "id": "7525fb6a",
   "metadata": {},
   "outputs": [],
   "source": [
    "# further functions (if needed)"
   ]
  },
  {
   "cell_type": "markdown",
   "id": "aa491cdb",
   "metadata": {},
   "source": [
    "<div class=\"alert alert-block alert-info\">\n",
    "    <b>Tip</b>: <br/>\n",
    "    1) Here is the place to <b>define all the functions you need</b> in this notebook. This helps to keep your notebook clear and structured.<br/>\n",
    "    2) Add <b>comments</b> to your functions (e.g. what is the function good for, what happens in each line, etc.), so that you and your lab partner will still be able to understand the code at a later time."
   ]
  },
  {
   "cell_type": "markdown",
   "id": "5439aec6",
   "metadata": {},
   "source": [
    "<div style=\"padding:8px 0 8px 15px;border-left:3px solid #B51F1F;background-color:#F3F3F3;\">\n",
    "    <b><font color=\"darkred\">!! IMPORTANT !!</font></b> <br/>\n",
    "    Instructions for getting good results: <br/>\n",
    "    <b>Preparation day:</b> <br/>\n",
    "    To test your code: Calculate $\\lambda$ and $C \\cdot E$ for an array of some exemplary data points using the functions you defined in the 'functions' section, following all the steps in the cell below."
   ]
  },
  {
   "cell_type": "code",
   "execution_count": 17,
   "id": "7185be4b",
   "metadata": {},
   "outputs": [],
   "source": [
    "# Choose some random data for the test:\n",
    "gamma0 = ...  # ufloat (1 value)\n",
    "gamma_test = ... # uarray of at least 2 values for gamma\n",
    "I_test = ... # uarray of at least 2 values for I\n",
    "\n",
    "# 1) calculate gamma0 - gamma\n",
    "\n",
    "# 2) calculate log_10(lambda)\n",
    "\n",
    "# 3) calculate lambda\n",
    "\n",
    "# 4) calculate log_10(dlambda/dgamma)\n",
    "\n",
    "# 5) calculate dlambda/dgamma\n",
    "\n",
    "# 6) calculate C*E\n"
   ]
  },
  {
   "cell_type": "markdown",
   "id": "335259b7",
   "metadata": {},
   "source": [
    "## 3. Experiments"
   ]
  },
  {
   "cell_type": "markdown",
   "id": "f61bee2d",
   "metadata": {},
   "source": [
    "### 3.1 Experiment 1: Checking the calibration curve\n",
    "<span style='color:indigo'> <i>By measuring the line spectrum of a mercury vapor lamp, the accuracy of the calibration curve of the spectrometer is checked. The wavelengths of the individual Hg lines are accurately known and indicated below.</i></span>"
   ]
  },
  {
   "cell_type": "code",
   "execution_count": 9,
   "id": "c27e10d5",
   "metadata": {
    "scrolled": true
   },
   "outputs": [
    {
     "name": "stdout",
     "output_type": "stream",
     "text": [
      "\n",
      "Literature values for the wavelengths of the Hg lines:\n",
      "╒════════════╤═══════════════════╕\n",
      "│ color      │   wavelength [nm] │\n",
      "╞════════════╪═══════════════════╡\n",
      "│ yellow     │               578 │\n",
      "├────────────┼───────────────────┤\n",
      "│ green      │               546 │\n",
      "├────────────┼───────────────────┤\n",
      "│ infrared 1 │              1014 │\n",
      "├────────────┼───────────────────┤\n",
      "│ infrared 2 │              1367 │\n",
      "╘════════════╧═══════════════════╛\n"
     ]
    }
   ],
   "source": [
    "# literature values for lambda\n",
    "\n",
    "lambda_yellow = 578.0      # [nm]\n",
    "lambda_green = 546.0       # [nm]\n",
    "lambda_infrared_1 = 1014.0 # [nm]\n",
    "lambda_infrared_2 = 1367.0 # [nm]\n",
    "\n",
    "lambda_theory = [lambda_yellow,lambda_green,lambda_infrared_1, lambda_infrared_2]\n",
    "\n",
    "# print the values in a table\n",
    "\n",
    "print('\\nLiterature values for the wavelengths of the Hg lines:')\n",
    "table_0 = [['yellow', 'green', 'infrared 1', 'infrared 2'], lambda_theory]\n",
    "header_0 = ['color','wavelength [nm]']\n",
    "precision_0 = [None,1]\n",
    "Table(table_0, header_0, precision_0)"
   ]
  },
  {
   "cell_type": "markdown",
   "id": "256717b8",
   "metadata": {},
   "source": [
    "#### 3.1.1 Measurement data"
   ]
  },
  {
   "cell_type": "code",
   "execution_count": 10,
   "id": "790fca41",
   "metadata": {},
   "outputs": [],
   "source": [
    "#--------------------------------------------------------------------\n",
    "# Example how to store your data:\n",
    "\n",
    "# One data point stored in a ufloat\n",
    "# variable = ufloat(measured_value, absolute_error) # [unit]\n",
    "one_gamma = ufloat(20.33, 0.17) # [°]\n",
    "\n",
    "# several data points combined into one (u)array\n",
    "# array = unumpy.uarray([measured_value_1, measured_value_2, ...], [absolute_error_1, absolute_error_2, ...]) # [unit]\n",
    "multiple_gammas = unumpy.uarray([20.33, 18.57, 23.10], [0.17, 0.34, 0.68]) # [°]\n",
    "#--------------------------------------------------------------------\n"
   ]
  },
  {
   "cell_type": "markdown",
   "id": "6cfebcf9",
   "metadata": {},
   "source": [
    "<span style='color:darkcyan'> <i>Start with the yellow Hg-line:<br/> \n",
    "    Identify the deflection angle $\\gamma_0$ at which the intensity is maximal.</i></span>"
   ]
  },
  {
   "cell_type": "code",
   "execution_count": 11,
   "id": "f268d959",
   "metadata": {},
   "outputs": [],
   "source": [
    "# Location of the yellow Hg line:\n",
    "\n",
    "gamma0 = ... # [unit]"
   ]
  },
  {
   "cell_type": "markdown",
   "id": "a468a86b",
   "metadata": {},
   "source": [
    "<span style='color:darkcyan'> <i>Proceed in the same way for the remaining Hg-lines.</i></span>"
   ]
  },
  {
   "cell_type": "markdown",
   "id": "7a63def2",
   "metadata": {},
   "source": [
    "<div class=\"alert alert-block alert-info\">\n",
    "    <b>Hint</b>: You can't see the infrared lines with your eyes. However, you can still measure the maxima in the intensity.<br/>\n",
    "    The two infrared peaks are very broad, so <b>scan the entire spectrum</b> to be sure that you really find the right maxima!<br/>"
   ]
  },
  {
   "cell_type": "code",
   "execution_count": 12,
   "id": "e986bf91",
   "metadata": {},
   "outputs": [],
   "source": [
    "# Location of the 4 spectral lines of the Hg lamp\n",
    "\n",
    "gamma_Hg_1 = ... # [unit] (include gamma0 as 1st element in the array)"
   ]
  },
  {
   "cell_type": "markdown",
   "id": "57562c78",
   "metadata": {},
   "source": [
    "<div class=\"alert alert-block alert-info\">\n",
    "    <b>Tip</b>: Take care when choosing names for your variables - make sure that you <b>don't use the same name for different variables</b> (throughout the whole notebook!) <br/>\n",
    "    If you measure the same quantity in more than one experiment, you can e.g. include the experiment number in the variable name to make it unique. <br/>\n",
    "    <small>Otherwise the value of the variable will depend on the order in which you execute the cells, which may cause confusion and wrong results if you don't always execute them from top to bottom.</small><br/>"
   ]
  },
  {
   "cell_type": "markdown",
   "id": "31c5b41d",
   "metadata": {},
   "source": [
    "<span style='color:darkcyan'> <i>Print your data in a table (incl. errors and units).</i></span>"
   ]
  },
  {
   "cell_type": "markdown",
   "id": "faaa37a8",
   "metadata": {},
   "source": [
    "#### 3.1.2 Evaluation"
   ]
  },
  {
   "cell_type": "markdown",
   "id": "c32d3c71",
   "metadata": {},
   "source": [
    "<span style='color:darkcyan'> <i>Calculate the wavelengths $\\lambda$ of the Hg-lines in three steps:<br/>\n",
    "    1) Calculate the difference in the deflection angles $\\gamma_0 - \\gamma$ using the functions you defined in the section 'functions'.</i></span>"
   ]
  },
  {
   "cell_type": "code",
   "execution_count": 13,
   "id": "24e8d79e",
   "metadata": {},
   "outputs": [],
   "source": [
    "# gamma0-gamma\n",
    "\n",
    "gamma_diff_1 = ..."
   ]
  },
  {
   "cell_type": "markdown",
   "id": "d356816d",
   "metadata": {},
   "source": [
    "<span style='color:darkcyan'> <i>\n",
    "    2) Use the fit function for the calibration curve to calculate the logarithm of the wavelength from $\\gamma_0 - \\gamma$ for the Hg-lines you measured. </i></span>"
   ]
  },
  {
   "cell_type": "code",
   "execution_count": 14,
   "id": "74d0a354",
   "metadata": {},
   "outputs": [],
   "source": [
    "# log(lambda)\n",
    "\n",
    "log_lambda_1 = ...\n"
   ]
  },
  {
   "cell_type": "markdown",
   "id": "6b1e24ea",
   "metadata": {},
   "source": [
    "<span style='color:darkcyan'> <i>\n",
    "    3) Calculate the wavelength $\\lambda from the logarithm (also with the corresponding function from above). </i></span>"
   ]
  },
  {
   "cell_type": "code",
   "execution_count": 15,
   "id": "96156e9c",
   "metadata": {},
   "outputs": [],
   "source": [
    "# lambda\n",
    "\n",
    "lambda_1 = ...\n"
   ]
  },
  {
   "cell_type": "markdown",
   "id": "7eb331c2",
   "metadata": {},
   "source": [
    "<span style='color:darkcyan'> <i>Fill in the table below with your results (don't forget the errors!).</i></span>"
   ]
  },
  {
   "cell_type": "code",
   "execution_count": 16,
   "id": "81376499",
   "metadata": {},
   "outputs": [
    {
     "name": "stdout",
     "output_type": "stream",
     "text": [
      "╒════════════╤════════════════╤═══════════════════════╤═════════════════════════╤═════════════════════════╕\n",
      "│ color      │   gamma [unit] │   gamma0-gamma [unit] │   lambda_messung [unit] │   lambda_theorie [unit] │\n",
      "╞════════════╪════════════════╪═══════════════════════╪═════════════════════════╪═════════════════════════╡\n",
      "│ yellow     │              0 │                     0 │                       0 │                     578 │\n",
      "├────────────┼────────────────┼───────────────────────┼─────────────────────────┼─────────────────────────┤\n",
      "│ green      │              0 │                     0 │                       0 │                     546 │\n",
      "├────────────┼────────────────┼───────────────────────┼─────────────────────────┼─────────────────────────┤\n",
      "│ infrared 1 │              0 │                     0 │                       0 │                    1014 │\n",
      "├────────────┼────────────────┼───────────────────────┼─────────────────────────┼─────────────────────────┤\n",
      "│ infrared 2 │              0 │                     0 │                       0 │                    1367 │\n",
      "╘════════════╧════════════════╧═══════════════════════╧═════════════════════════╧═════════════════════════╛\n"
     ]
    }
   ],
   "source": [
    "header_1 = ['color', 'gamma [unit]', 'gamma0-gamma [unit]', 'lambda_messung [unit]', 'lambda_theorie [unit]'] # Einheiten [] bitte ergänzen\n",
    "table_1 = [['yellow', 'green', 'infrared 1', 'infrared 2'],\n",
    "           [0,0,0,0], # gamma\n",
    "           [0,0,0,0], # gamma0-gamma\n",
    "           [0,0,0,0], # lambda\n",
    "           lambda_theory]\n",
    "precision_1 = [None,0,0,0,0] # replace 0 by adequate values\n",
    "\n",
    "Table(table_1, header_1, precision_1)\n"
   ]
  },
  {
   "cell_type": "markdown",
   "id": "17629225",
   "metadata": {},
   "source": [
    "<div class=\"alert alert-block alert-info\">\n",
    "    <b>Attention!</b> Take care of the <b>units</b> for $\\lambda$!"
   ]
  },
  {
   "cell_type": "markdown",
   "id": "1c6be70c",
   "metadata": {},
   "source": [
    "<span style='color:darkcyan'> <i>Compare your results with the literature values: <br/>\n",
    "    Do they agree? Is the deviation smaller than the error of your measurement?</i></span>"
   ]
  },
  {
   "cell_type": "markdown",
   "id": "11d22f08",
   "metadata": {},
   "source": [
    "### 3.2 Experiment 2: Spectral distribution of a Halogen or Thungsten lamp\n",
    "<span style=\"color: indigo;\"><i>\n",
    "        Measure and plot the spectral energy distribution of either a halogen or a thungsten lamp at 3 different temperatures. </i>\n",
    "</span>\n"
   ]
  },
  {
   "cell_type": "markdown",
   "id": "d5a178b7",
   "metadata": {},
   "source": [
    "For exercise 3 you will have to determine the $\\gamma$ for which $C\\cdot E$ is maximal from your spectral energy distribution plots. \n",
    "    However, the quantities you measure are the intensity $I$ and the deflection angle $\\gamma$. <br/>\n",
    "    Those quantities <b>do NOT transform linearly</b> into each other, but via the rather complicated calibration curves. <b>Therefore, the angle at which you measure the maximum intensity $I$ will not be to the angle at which $C\\cdot E$ is maximal!</b>  \n",
    "      \n",
    "__To make sure that you don't miss the $C\\cdot E$ maximum, perform your measurements in the folloeing steps:__  \n",
    "    1. Scan through the entire spectrum in coarse steps.  \n",
    "    2. Calculate $\\lambda$ and $C\\cdot E$, print your data in a table and plot $C\\cdot E$ in dependence of $\\lambda$ (step 1 and 2 in 'Evaluation').   \n",
    "    3. Look for the maximum for $C\\cdot E$. If there is no clear maximum in your plot, it may be outside the range you have measured and you will have to collect more data for smaller/larger $\\gamma$.  \n",
    "    4. If you found the maximum, collect more data point around the maximum and repeat step 2 (you only have to re-run the corresponding cells). This is the interesting region! You will need them to determine the exact location of the maximum. Further away from the maximum you don't need that many data points - just enough to have a nice plot of the spectral density distribution."
   ]
  },
  {
   "cell_type": "markdown",
   "id": "2087d300",
   "metadata": {},
   "source": [
    "#### 3.2.1  Measurement data"
   ]
  },
  {
   "cell_type": "markdown",
   "id": "d6af5565",
   "metadata": {},
   "source": [
    "<span style='color:darkcyan'> <i>Measure the intesity $I$ for different deflection angles $\\gamma$ for three different voltages.</i></span>"
   ]
  },
  {
   "cell_type": "code",
   "execution_count": 18,
   "id": "5a0565f1",
   "metadata": {},
   "outputs": [],
   "source": [
    "\n",
    "# Lamp used: .........\n",
    "\n",
    "# Measured values for deflection angle and intensity for 3 different voltages.\n",
    "\n",
    "#Measurement1:\n",
    "Voltage1 = ... # [unit]\n",
    "gamma_U1 = ... # [unit]\n",
    "intensity_U1 = ... # [unit]\n",
    "\n",
    "#Measurement 2:\n",
    "Voltage2 = ... # [unit]\n",
    "gamma_U2 = ... # [unit]\n",
    "intensity_U2 = ... # [unit]\n",
    "\n",
    "# Measurement 3:\n",
    "Voltage3 = ... # [unit]\n",
    "gamma_U3 = ... # [unit]\n",
    "intensity_U3 = ... # [unit]"
   ]
  },
  {
   "cell_type": "markdown",
   "id": "78d2b1c2",
   "metadata": {},
   "source": [
    "#### 3.2.2 Evaluation"
   ]
  },
  {
   "cell_type": "markdown",
   "id": "d64de8a4",
   "metadata": {},
   "source": [
    "<span style='color:darkcyan'> <i>Calculate $\\lambda$ and $C \\cdot E$ for the three different voltages.</i></span>"
   ]
  },
  {
   "cell_type": "code",
   "execution_count": null,
   "id": "0bb9b6ee",
   "metadata": {},
   "outputs": [],
   "source": []
  },
  {
   "cell_type": "markdown",
   "id": "441d945c",
   "metadata": {},
   "source": [
    "<span style='color:darkcyan'> <i>Fill in the table below with your results (don't forget the errors!).</i></span>"
   ]
  },
  {
   "cell_type": "code",
   "execution_count": 19,
   "id": "f9d0efcf",
   "metadata": {},
   "outputs": [
    {
     "name": "stdout",
     "output_type": "stream",
     "text": [
      "╒════════════════╤═══════════════════════╤═════════════════╤════════════╤══════════════╕\n",
      "│ gamma [unit]   │ gamma0-gamma [unit]   │ lambda [unit]   │ I [unit]   │ C E [unit]   │\n",
      "╞════════════════╪═══════════════════════╪═════════════════╪════════════╪══════════════╡\n",
      "╘════════════════╧═══════════════════════╧═════════════════╧════════════╧══════════════╛\n"
     ]
    }
   ],
   "source": [
    "#-----------------------------------------------------\n",
    "# Voltage 1\n",
    "#-----------------------------------------------------\n",
    "\n",
    "header_21 = ['gamma [unit]', 'gamma0-gamma [unit]', 'lambda [unit]', 'I [unit]', 'C E [unit]'] \n",
    "table_21 = [[], \n",
    "           [], \n",
    "           [], \n",
    "           [],\n",
    "           [],\n",
    "           ]\n",
    "precision_21 = [0,0,0,0,0] # replace 0 by adequate values\n",
    "\n",
    "Table(table_21, header_21, precision_21)\n",
    "\n",
    "#-----------------------------------------------------\n",
    "# Voltage 2\n",
    "#-----------------------------------------------------\n",
    "\n",
    "# table\n",
    "\n",
    "\n",
    "#-----------------------------------------------------\n",
    "# Voltage 3\n",
    "#-----------------------------------------------------\n",
    "\n",
    "# table\n"
   ]
  },
  {
   "cell_type": "markdown",
   "id": "50b0fe83",
   "metadata": {},
   "source": [
    "<span style='color:darkcyan'> <i>Plot $CE$ in dependence of $\\lambda$.</i></span>"
   ]
  },
  {
   "cell_type": "markdown",
   "id": "6e2c4c55",
   "metadata": {},
   "source": [
    "<div class=\"alert alert-block alert-info\">\n",
    "    <b>Hint</b>: You can display all three curves in  the same plot with different colors. Use <code>plt.scatter()</code> (not <code>plt.plot()</code>), especially if your data arrays are not sorted by increasing x-values (<code>plt.scatter()</code> shows only dots and does not connect the data points).<br/>"
   ]
  },
  {
   "cell_type": "code",
   "execution_count": 20,
   "id": "43f46422",
   "metadata": {},
   "outputs": [],
   "source": [
    "# plot"
   ]
  },
  {
   "cell_type": "markdown",
   "id": "bbe09eb4",
   "metadata": {},
   "source": [
    "### 3.3 Exercise 3: Wien's displacement law\n",
    "<span style=\"color: indigo;\"><i>\n",
    "        Can you observe the Wien’s displacement law in your spectral energy distributions? Determine the temperatures of the glowing point from the wavelengths of the energy maxima, which to a large extent fulfill the condition that the halogen lamp is a gray emitter.</i>\n",
    "</span>\n"
   ]
  },
  {
   "cell_type": "markdown",
   "id": "dd9846b1",
   "metadata": {},
   "source": [
    "<span style='color:darkcyan'> <i>Determine $\\lambda_\\max$ for each voltage from the spectral energy distribution curves. .</i></span>"
   ]
  },
  {
   "cell_type": "code",
   "execution_count": 21,
   "id": "dfe957f6",
   "metadata": {},
   "outputs": [],
   "source": [
    "lambda_max = ..."
   ]
  },
  {
   "cell_type": "markdown",
   "id": "3cb4ab7a",
   "metadata": {},
   "source": [
    "<span style='color:darkcyan'> <i>Calculate the corresponding temperature.</i></span>"
   ]
  },
  {
   "cell_type": "code",
   "execution_count": 22,
   "id": "411519b1",
   "metadata": {},
   "outputs": [],
   "source": [
    "T = ..."
   ]
  },
  {
   "cell_type": "markdown",
   "id": "f3fec4ea",
   "metadata": {},
   "source": [
    "<span style='color:darkcyan'> <i>Create a table with your data. What can you observe? Describe it in the markdown below. </i></span>"
   ]
  },
  {
   "cell_type": "code",
   "execution_count": 23,
   "id": "2770a22a",
   "metadata": {},
   "outputs": [],
   "source": [
    "# table"
   ]
  },
  {
   "cell_type": "markdown",
   "id": "1681de8c",
   "metadata": {},
   "source": []
  },
  {
   "cell_type": "markdown",
   "id": "3a32edb6",
   "metadata": {},
   "source": [
    "## 4 Discussion"
   ]
  },
  {
   "cell_type": "markdown",
   "id": "7d2e95be",
   "metadata": {},
   "source": [
    "<span style='color:darkcyan'> <i>Are your results realistic? Why (not)? Comparison with theory? </i></span>"
   ]
  },
  {
   "cell_type": "markdown",
   "id": "9330d0e7",
   "metadata": {},
   "source": []
  },
  {
   "cell_type": "markdown",
   "id": "8a52e543",
   "metadata": {},
   "source": [
    "<span style='color:darkcyan'> <i>What measurement errors were assumed? Why? <br/>\n",
    "    What are the main reasons for the errors in your results and how do they come about?</i></span>"
   ]
  },
  {
   "cell_type": "markdown",
   "id": "4416ade5",
   "metadata": {},
   "source": []
  },
  {
   "cell_type": "markdown",
   "id": "0fab5617",
   "metadata": {},
   "source": [
    "<span style='color:darkcyan'> <i>How would you try to reduce the error further? Could you improve the accuracy of the experiment? </i></span>"
   ]
  },
  {
   "cell_type": "markdown",
   "id": "0d50b92e",
   "metadata": {},
   "source": []
  },
  {
   "cell_type": "markdown",
   "id": "f5967c0c",
   "metadata": {},
   "source": [
    "<span style='color:darkcyan'> <i>If you were to repeat the experiment, what would you do differently and why?</i></span>"
   ]
  },
  {
   "cell_type": "markdown",
   "id": "6593ac1e",
   "metadata": {},
   "source": []
  }
 ],
 "metadata": {
  "kernelspec": {
   "display_name": "Python 3 (ipykernel)",
   "language": "python",
   "name": "python3"
  },
  "language_info": {
   "codemirror_mode": {
    "name": "ipython",
    "version": 3
   },
   "file_extension": ".py",
   "mimetype": "text/x-python",
   "name": "python",
   "nbconvert_exporter": "python",
   "pygments_lexer": "ipython3",
   "version": "3.10.12"
  }
 },
 "nbformat": 4,
 "nbformat_minor": 5
}
