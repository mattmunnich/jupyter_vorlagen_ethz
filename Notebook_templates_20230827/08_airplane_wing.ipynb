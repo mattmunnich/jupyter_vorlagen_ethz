{
 "cells": [
  {
   "cell_type": "markdown",
   "id": "0629b8fb",
   "metadata": {},
   "source": [
    "# Protocol for experiment 08 \"Airplane Wing\""
   ]
  },
  {
   "cell_type": "markdown",
   "id": "0b7ce929",
   "metadata": {},
   "source": [
    "**Date:** {2023-MM-DD}  \n",
    "**Version:** {1 for 1st assignment, 2 for corrected assignment, ...}\n",
    " \n",
    " - **Student 1:** {full name}\n",
    " - **Student 2:** {full name}"
   ]
  },
  {
   "cell_type": "markdown",
   "id": "8f0f1d43",
   "metadata": {},
   "source": [
    "## 1. Introduction\n",
    "\n",
    "### 1.1 Introduction to the experiment\n",
    "\n",
    "- What is the experiment about? What is the objective?\n",
    "\n",
    "### 1.2 Summary of theory\n",
    "\n",
    "- Explanation of the formulas used incl. variable labeling (example from preliminary experiment)\n",
    "    - Representation e.g. by  \n",
    "    \"\\\\$\\\\$ T = 2\\pi \\sqrt{\\frac{L}{g}} \\\\$\\\\$\" $\\rightarrow$ \n",
    "    $$T=2\\pi\\sqrt{\\frac{L}{g}}$$  \n",
    "    where $T$ is the period of oscillation of the pendulum for one oscillation, $L$ is the length of the pendulum, and $g$ is the acceleration due to gravity.\n",
    "    - $$\\phi = A \\exp(-\\frac{\\gamma t}{2})\\cos(\\omega t + \\alpha)$$\n",
    "    where $\\phi$ is the displacement of the oscillation, $A$ is the original amplitude of the oscillation, $\\gamma$ is the coefficient of friction, and $\\omega$ is the angular frequency.\n",
    "\n",
    "### 1.3 Tasks\n",
    "\n",
    "- What are the tasks for the experiment?\n",
    "\n",
    "### 1.4 Environmental relevance\n",
    "\n",
    "- How is the experiment relevant to your studies in environmental science? (1-2 sentences)"
   ]
  },
  {
   "cell_type": "markdown",
   "id": "0172593d",
   "metadata": {},
   "source": [
    "## 2. Packages and Functions"
   ]
  },
  {
   "cell_type": "markdown",
   "id": "aad31d47",
   "metadata": {},
   "source": [
    "### 2.1 Load packages\n",
    "You may not use all of these packages. You can comment out the ones you don't need."
   ]
  },
  {
   "cell_type": "code",
   "execution_count": 1,
   "id": "b4170517",
   "metadata": {},
   "outputs": [],
   "source": [
    "# import packages  (not every package is used in each notebook template)\n",
    "\n",
    "# numerical computing\n",
    "import numpy as np                    # Fundamental package for numerical computing in Python\n",
    "\n",
    "# uncertainty calculations\n",
    "from uncertainties import ufloat      # For handling numbers with uncertainties\n",
    "from uncertainties.umath import *     # For applying mathematical functions with uncertainties\n",
    "from uncertainties import unumpy      # For handling uncertainties in arrays\n",
    "\n",
    "# data manipulation and analysis\n",
    "import pandas as pd                   # Powerful data manipulation and analysis library\n",
    "\n",
    "# data visualization in tables\n",
    "from tabulate import tabulate\n",
    "\n",
    "# data visualization in plots\n",
    "import matplotlib.pyplot as plt       # Library for creating static, interactive, and animated visualizations\n",
    "\n",
    "# scientific computing\n",
    "import scipy as sc                    # Open-source scientific computing library\n",
    "from scipy.stats import linregress    # For performing linear regression analysis\n",
    "from scipy.constants import R         # Physical and mathematical constants\n",
    "\n",
    "# interactive display in Jupyter Notebook\n",
    "from IPython.display import display, Markdown   # For displaying rich content (e.g., Markdown) in Jupyter Notebook\n",
    "\n",
    "# standard mathematical functions\n",
    "import math                          # Python's built-in math functions\n",
    "\n",
    "# widgets (to create elements such as dynamic input/output boxes)\n",
    "import ipywidgets as widgets\n",
    "\n",
    "\n"
   ]
  },
  {
   "cell_type": "markdown",
   "id": "40438cc2",
   "metadata": {},
   "source": [
    "### 2.2 Define functions"
   ]
  },
  {
   "cell_type": "code",
   "execution_count": 2,
   "id": "04e0266b",
   "metadata": {},
   "outputs": [],
   "source": [
    "# example: \n",
    "\n",
    "def my_function(param1_placeholder, param2_placeholder):\n",
    "    \n",
    "    value = 'Replace with your calculation'\n",
    "    return value"
   ]
  },
  {
   "cell_type": "markdown",
   "id": "87d85fe0",
   "metadata": {},
   "source": [
    "#### Creating a table"
   ]
  },
  {
   "cell_type": "code",
   "execution_count": 3,
   "id": "0f19fc2e",
   "metadata": {},
   "outputs": [],
   "source": [
    "#----------------------------------------------\n",
    "# Create a table (see CheatSheet)\n",
    "#----------------------------------------------\n",
    "\n",
    "def Table(table, header, precisions):\n",
    "    # Check if precisions list length matches table's row count\n",
    "    if len(precisions) != len(table):\n",
    "        raise ValueError(\"Length of precisions list must match the number of columns in the table\")\n",
    "\n",
    "    for i in range(len(table)):\n",
    "        # If precision for this row/column is not None, round the entire row\n",
    "        if precisions[i] is not None:\n",
    "            table[i] = [np.round(val, precisions[i]) for val in table[i]]\n",
    "\n",
    "    table = np.matrix.transpose(np.array(table))\n",
    "    print(tabulate(table, headers=header, tablefmt='fancy_grid'))"
   ]
  },
  {
   "cell_type": "markdown",
   "id": "6dd82fad",
   "metadata": {},
   "source": [
    "#### <span style='color:darkcyan'> Your functions: </span>"
   ]
  },
  {
   "cell_type": "code",
   "execution_count": null,
   "id": "2371dd18",
   "metadata": {},
   "outputs": [],
   "source": []
  },
  {
   "cell_type": "code",
   "execution_count": null,
   "id": "a3d0e52e",
   "metadata": {},
   "outputs": [],
   "source": []
  },
  {
   "cell_type": "markdown",
   "id": "aa491cdb",
   "metadata": {},
   "source": [
    "<div class=\"alert alert-block alert-info\">\n",
    "    <b>Tip</b>: <br/>\n",
    "    1) Here is the place to <b>define all the functions you need</b> in this notebook. This helps to keep your notebook clear and structured.<br/>\n",
    "    2) Add <b>comments</b> to your functions (e.g. what is the function good for, what happens in each line, etc.), so that you and your lab partner will still be able to understand the code at a later time."
   ]
  },
  {
   "cell_type": "markdown",
   "id": "335259b7",
   "metadata": {},
   "source": [
    "## 3. Experiments"
   ]
  },
  {
   "cell_type": "markdown",
   "id": "bbf964d2",
   "metadata": {},
   "source": [
    "### 3.1 Experiment 1: Flow velocity\n",
    "<span style='color:indigo'> <i>\n",
    "    Measure the flow velocity $v_∞$ using the Prandtl\n",
    "tube and employing the Bernoulli Equation (1). </i></span>"
   ]
  },
  {
   "cell_type": "markdown",
   "id": "b95cf676",
   "metadata": {},
   "source": [
    "#### 3.1.1 Measurement data"
   ]
  },
  {
   "cell_type": "code",
   "execution_count": 4,
   "id": "baef9bbc",
   "metadata": {},
   "outputs": [],
   "source": [
    "delta_p = ufloat(0, 0) # [Pa] pressure difference at the Prandtl tube \n",
    "rho = 1.2 # [kg/m^3] density of the air "
   ]
  },
  {
   "cell_type": "markdown",
   "id": "d27d694c",
   "metadata": {},
   "source": [
    "#### 3.1.2 Evaluation"
   ]
  },
  {
   "cell_type": "markdown",
   "id": "ce2b5cb6",
   "metadata": {},
   "source": [
    "<span style='color:darkcyan'> <i>Calculate the flow velocity from the pressure difference and print your result (incl. error and unit).</i></span>"
   ]
  },
  {
   "cell_type": "code",
   "execution_count": 5,
   "id": "a3a4cfcb",
   "metadata": {},
   "outputs": [],
   "source": [
    "v_inf = ... # [unit]\n"
   ]
  },
  {
   "cell_type": "markdown",
   "id": "40b8daac",
   "metadata": {},
   "source": [
    "### 3.2 Experiment 2: Pressure distribution along the profile\n",
    "<span style='color:indigo'> <i>Measure the pressure distribution in the middle cross-section of the airfoil for two angles of\n",
    "attack, 0° and 10°. Determine the lift $A′$ per\n",
    "unit length and calculate the circulation $\\Gamma$\n",
    "therefrom according to Equation (3). Also plot\n",
    "the pressure distribution.</i></span>"
   ]
  },
  {
   "cell_type": "markdown",
   "id": "3db55e6b",
   "metadata": {},
   "source": [
    "#### 3.2.1 Measurement data"
   ]
  },
  {
   "cell_type": "markdown",
   "id": "5096dc33",
   "metadata": {},
   "source": [
    "<div class=\"alert alert-block alert-info\">\n",
    "    <b>Tip</b>: If there are multiple measurements of the same quantity, you can use an <b>uarray</b> for each quantity to store the measured values and their errors:  <br/>\n",
    "    <code>array = unumpy.uarray([measured_value_1, measured_value_2, ...], [abs_error_1, abs_error_2, ...])</code>. "
   ]
  },
  {
   "cell_type": "code",
   "execution_count": 9,
   "id": "e730ee05",
   "metadata": {},
   "outputs": [],
   "source": [
    "k = np.arange(1,10,1) # drill holes from 1 to 9\n",
    "\n",
    "#-------------------------\n",
    "# alpha = 0°\n",
    "# ------------------------\n",
    "\n",
    "p_0 = ...  # [Pa] pressure for each point k\n",
    "\n",
    "\n",
    "#-------------------------\n",
    "# alpha = 10°\n",
    "# ------------------------\n",
    "\n",
    "p_10 = ... # [Pa]pressure for each point k\n"
   ]
  },
  {
   "cell_type": "markdown",
   "id": "49f9c1c7",
   "metadata": {},
   "source": [
    "<span style='color:darkcyan'> <i>Complete the table with your measurement data.<br/>\n",
    "    Make comments in a Markdown below. (e.g. What does which quantity mean?) </i></span>"
   ]
  },
  {
   "cell_type": "code",
   "execution_count": 11,
   "id": "4163d69c",
   "metadata": {},
   "outputs": [
    {
     "name": "stdout",
     "output_type": "stream",
     "text": [
      "╒═════╤════════╤═════════╕\n",
      "│   k │   α=0° │   α=10° │\n",
      "╞═════╪════════╪═════════╡\n",
      "│   1 │      0 │       0 │\n",
      "├─────┼────────┼─────────┤\n",
      "│   2 │      0 │       0 │\n",
      "├─────┼────────┼─────────┤\n",
      "│   3 │      0 │       0 │\n",
      "├─────┼────────┼─────────┤\n",
      "│   4 │      0 │       0 │\n",
      "├─────┼────────┼─────────┤\n",
      "│   5 │      0 │       0 │\n",
      "├─────┼────────┼─────────┤\n",
      "│   6 │      0 │       0 │\n",
      "├─────┼────────┼─────────┤\n",
      "│   7 │      0 │       0 │\n",
      "├─────┼────────┼─────────┤\n",
      "│   8 │      0 │       0 │\n",
      "├─────┼────────┼─────────┤\n",
      "│   9 │      0 │       0 │\n",
      "╘═════╧════════╧═════════╛\n"
     ]
    }
   ],
   "source": [
    "# create a table with your data \n",
    "\n",
    "header2 = ['k', 'α=0°', 'α=10°']\n",
    "\n",
    "table2 = [k,\n",
    "          9*[0], # replace with your data (eg. h_increase1 for first column)\n",
    "          9*[0]]\n",
    "\n",
    "precision2 = [None,0,0] # replace 0 with adequate values\n",
    "\n",
    "Table(table2, header2, precision2)\n",
    "\n"
   ]
  },
  {
   "cell_type": "markdown",
   "id": "4d69a9b0",
   "metadata": {},
   "source": [
    "#### 3.2.2 Evaluation"
   ]
  },
  {
   "cell_type": "markdown",
   "id": "fac414be",
   "metadata": {},
   "source": [
    "<span style='color:darkcyan'> <i>Plot the pressure distribution as a function of $s'$, $p = f(s')$. If you plot the data for both angles of attack in the same graph, indicate them with different colors.</i></span>"
   ]
  },
  {
   "cell_type": "code",
   "execution_count": null,
   "id": "da562cd5",
   "metadata": {},
   "outputs": [],
   "source": [
    "# plot"
   ]
  },
  {
   "cell_type": "markdown",
   "id": "9fcf2e1b",
   "metadata": {},
   "source": [
    "<span style='color:darkcyan'> <i>\n",
    "    Determine the lift $A′$ per\n",
    "unit length.\n",
    "    </i></span>"
   ]
  },
  {
   "cell_type": "code",
   "execution_count": null,
   "id": "26adc68f",
   "metadata": {},
   "outputs": [],
   "source": []
  },
  {
   "cell_type": "markdown",
   "id": "0b972b8c",
   "metadata": {},
   "source": [
    "<div class=\"alert alert-block alert-info\">\n",
    "    <b>Hint</b>: \n",
    "    For the uncertainty of $A'$, one can consider how large the error bars $\\sigma_p$ are at each $p_k$ value. Integrating\n",
    "over the area spanned by $±\\sigma_p$, an estimate of the uncertainty of $A'$ is obtained.\n",
    "    </div>"
   ]
  },
  {
   "cell_type": "markdown",
   "id": "74c43da2",
   "metadata": {},
   "source": [
    "<span style='color:darkcyan'> <i>Calculate the circulation $\\Gamma$ from the lift.</i></span>"
   ]
  },
  {
   "cell_type": "code",
   "execution_count": null,
   "id": "ef5949d8",
   "metadata": {},
   "outputs": [],
   "source": [
    "gamma_0 =...\n",
    "gamma_10 = ...\n",
    "\n",
    "print(\"Circulation at 0°:\", gamma_0, \"m^2/s\")\n",
    "print(\"Circulation at 10°:\", gamma_10, \"m^2/s\")"
   ]
  },
  {
   "cell_type": "markdown",
   "id": "06592efb",
   "metadata": {},
   "source": [
    "### 3.3 Experiment 3: Lift and drag\n",
    "<span style='color:indigo'> <i>Using the balance, measure lift $A$ and drag $W$ of the wing for different angles of attack, $\\alpha$,\n",
    "and plot the relationship $A = f (W )$ in a polar\n",
    "diagram.</i></span>"
   ]
  },
  {
   "cell_type": "markdown",
   "id": "6503298b",
   "metadata": {},
   "source": [
    "#### 3.3.1 Measurement data"
   ]
  },
  {
   "cell_type": "code",
   "execution_count": 13,
   "id": "fb29f1ef",
   "metadata": {},
   "outputs": [],
   "source": [
    "alpha = unumpy.uarray([-9, -6, -3, 0, 3, 6, 9, 12],[0,0,0,0,0,0,0,0]) # angle of attack [°]\n",
    "# insert the errors you estimate for alpha\n",
    "# you can also import the values for alpha from your csv file\n",
    "\n",
    "A = ...     # [unit] lift\n",
    "W_exp = ... # [unit] drag (measured)"
   ]
  },
  {
   "cell_type": "markdown",
   "id": "1187480c",
   "metadata": {},
   "source": [
    "<div class=\"alert alert-block alert-info\">\n",
    "    <b>Tip</b>: Be careful with the units - make sure that you don't forget to convert the units if necessary!\n",
    "    </div>"
   ]
  },
  {
   "cell_type": "markdown",
   "id": "ca54cd11",
   "metadata": {},
   "source": [
    "#### 3.3.2 Evaluation"
   ]
  },
  {
   "cell_type": "markdown",
   "id": "cba5a712",
   "metadata": {},
   "source": [
    "<span style='color:darkcyan'> <i>\n",
    "    Calculate the induced drag from theory. \n",
    "     </i></span>"
   ]
  },
  {
   "cell_type": "code",
   "execution_count": null,
   "id": "063a0247",
   "metadata": {},
   "outputs": [],
   "source": []
  },
  {
   "cell_type": "markdown",
   "id": "b36a5c5d",
   "metadata": {},
   "source": [
    "<span style='color:darkcyan'> <i>Create a table with your measurement data and the calculated induced drag.<br/>\n",
    "    Compare the values for the drag and make comments in a Markdown below. </i></span>"
   ]
  },
  {
   "cell_type": "code",
   "execution_count": 14,
   "id": "3fa8c3a8",
   "metadata": {},
   "outputs": [
    {
     "name": "stdout",
     "output_type": "stream",
     "text": [
      "╒══════════╤═════╤═════════╤══════════╕\n",
      "│ α        │   A │   W_exp │   W_theo │\n",
      "╞══════════╪═════╪═════════╪══════════╡\n",
      "│ -9.0+/-0 │   0 │       0 │        0 │\n",
      "├──────────┼─────┼─────────┼──────────┤\n",
      "│ -6.0+/-0 │   0 │       0 │        0 │\n",
      "├──────────┼─────┼─────────┼──────────┤\n",
      "│ -3.0+/-0 │   0 │       0 │        0 │\n",
      "├──────────┼─────┼─────────┼──────────┤\n",
      "│ 0.0+/-0  │   0 │       0 │        0 │\n",
      "├──────────┼─────┼─────────┼──────────┤\n",
      "│ 3.0+/-0  │   0 │       0 │        0 │\n",
      "├──────────┼─────┼─────────┼──────────┤\n",
      "│ 6.0+/-0  │   0 │       0 │        0 │\n",
      "├──────────┼─────┼─────────┼──────────┤\n",
      "│ 9.0+/-0  │   0 │       0 │        0 │\n",
      "├──────────┼─────┼─────────┼──────────┤\n",
      "│ 12.0+/-0 │   0 │       0 │        0 │\n",
      "╘══════════╧═════╧═════════╧══════════╛\n"
     ]
    }
   ],
   "source": [
    "# create a table with your data \n",
    "\n",
    "header3 = ['α', 'A', 'W_exp', 'W_theo']\n",
    "\n",
    "table3 = [alpha,\n",
    "          8*[0], # replace with your data (eg. h_increase1 for first column)\n",
    "          8*[0],\n",
    "          8*[0]]\n",
    "\n",
    "precision3 = [None,0,0,0] # replace 0 with adequate values\n",
    "\n",
    "Table(table3, header3, precision3)\n",
    "\n"
   ]
  },
  {
   "cell_type": "markdown",
   "id": "4190d53a",
   "metadata": {},
   "source": []
  },
  {
   "cell_type": "markdown",
   "id": "fe4336a8",
   "metadata": {},
   "source": [
    "<span style='color:darkcyan'> <i>Plot the relationship $A = f (W )$ in a polar\n",
    "diagram.</i></span>"
   ]
  },
  {
   "cell_type": "code",
   "execution_count": null,
   "id": "664d5536",
   "metadata": {},
   "outputs": [],
   "source": [
    "# plot"
   ]
  },
  {
   "cell_type": "markdown",
   "id": "5729de58",
   "metadata": {},
   "source": [
    "### 3.4 Experiment 3: Drag coefficient $c_w$\n",
    "<span style='color:indigo'> <i>Determine the drag coefficient $c_w$ for different\n",
    "profiles: disc, ball and Zeppelin profile.</i></span>"
   ]
  },
  {
   "cell_type": "markdown",
   "id": "db4a594d",
   "metadata": {},
   "source": [
    "#### 3.4.1 Measurement data"
   ]
  },
  {
   "cell_type": "code",
   "execution_count": null,
   "id": "322aad1d",
   "metadata": {},
   "outputs": [],
   "source": [
    "F = ... # main bulkhead or \"Hauptspant\"\n",
    "\n",
    "# ------------------------\n",
    "# disc\n",
    "# ------------------------\n",
    "\n",
    "W_disc = ...  # [unit] drag\n",
    "cw_disc = ... # [unit] drag coefficient\n",
    "\n",
    "# ------------------------\n",
    "# ball\n",
    "# ------------------------\n",
    "\n",
    "W_ball = ...  # [unit] drag\n",
    "cw_ball = ... # [unit] drag coefficient\n",
    "\n",
    "# ------------------------\n",
    "# Zeppelin\n",
    "# ------------------------\n",
    "\n",
    "W_zep = ...   # [unit] drag\n",
    "cw_zep = ...  # [unit] drag\n"
   ]
  },
  {
   "cell_type": "markdown",
   "id": "463b7c47",
   "metadata": {},
   "source": [
    "<span style='color:darkcyan'> <i>Create a table with your measurement data. </i></span>"
   ]
  },
  {
   "cell_type": "markdown",
   "id": "677f4138",
   "metadata": {},
   "source": [
    "#### 3.4.2 Evaluation"
   ]
  },
  {
   "cell_type": "markdown",
   "id": "f2e56a13",
   "metadata": {},
   "source": [
    "<span style='color:darkcyan'> <i>Calculate the drag coefficients and print your results (incl. errors and units). </i></span>"
   ]
  },
  {
   "cell_type": "code",
   "execution_count": null,
   "id": "6177c70b",
   "metadata": {},
   "outputs": [],
   "source": [
    "# calculation"
   ]
  },
  {
   "cell_type": "markdown",
   "id": "d458f817",
   "metadata": {},
   "source": [
    "<div class=\"alert alert-block alert-info\">\n",
    "    <b>Tip</b>: Be careful with the units - make sure that you don't forget to convert the units if necessary!\n",
    "    </div>"
   ]
  },
  {
   "cell_type": "code",
   "execution_count": 15,
   "id": "acaf82d9",
   "metadata": {},
   "outputs": [
    {
     "name": "stdout",
     "output_type": "stream",
     "text": [
      "Drag coefficient Zeppelin profile:\n",
      "Drag coefficient Ball:\n",
      "Drag coefficient disc:\n"
     ]
    }
   ],
   "source": [
    "print(\"Drag coefficient Zeppelin profile:\")\n",
    "print(\"Drag coefficient Ball:\")\n",
    "print(\"Drag coefficient disc:\")"
   ]
  },
  {
   "cell_type": "markdown",
   "id": "7f8287ff",
   "metadata": {},
   "source": [
    "### 3.5 Experiment 5: Magnus effect\n",
    "<span style='color:indigo'> <i>Convince yourself of the Magnus effect by using\n",
    "a small Flettner rotor.</i></span>"
   ]
  },
  {
   "cell_type": "code",
   "execution_count": null,
   "id": "28f538b2",
   "metadata": {},
   "outputs": [],
   "source": []
  },
  {
   "cell_type": "markdown",
   "id": "a9e7a156",
   "metadata": {},
   "source": [
    "## 4 Discussion"
   ]
  },
  {
   "cell_type": "markdown",
   "id": "780d6efa",
   "metadata": {},
   "source": [
    "<span style='color:darkcyan'> <i>Are your results realistic? Why (not)? Comparison with theory? </i></span>"
   ]
  },
  {
   "cell_type": "markdown",
   "id": "e500efe6",
   "metadata": {},
   "source": []
  },
  {
   "cell_type": "markdown",
   "id": "47a41fd9",
   "metadata": {},
   "source": [
    "<span style='color:darkcyan'> <i>What measurement errors were assumed? Why? <br/>\n",
    "    What are the main reasons for the errors in your results and how do they come about?</i></span>"
   ]
  },
  {
   "cell_type": "markdown",
   "id": "be4be14a",
   "metadata": {},
   "source": []
  },
  {
   "cell_type": "markdown",
   "id": "4780d7f8",
   "metadata": {},
   "source": [
    "<span style='color:darkcyan'> <i>How would you try to reduce the error further? Could you improve the accuracy of the experiment? </i></span>"
   ]
  },
  {
   "cell_type": "markdown",
   "id": "04c8f7cc",
   "metadata": {},
   "source": []
  },
  {
   "cell_type": "markdown",
   "id": "ea9b47c6",
   "metadata": {},
   "source": [
    "<span style='color:darkcyan'> <i>If you were to repeat the experiment, what would you do differently and why?</i></span>"
   ]
  },
  {
   "cell_type": "markdown",
   "id": "ffd4e124",
   "metadata": {},
   "source": []
  }
 ],
 "metadata": {
  "kernelspec": {
   "display_name": "Python 3 (ipykernel)",
   "language": "python",
   "name": "python3"
  },
  "language_info": {
   "codemirror_mode": {
    "name": "ipython",
    "version": 3
   },
   "file_extension": ".py",
   "mimetype": "text/x-python",
   "name": "python",
   "nbconvert_exporter": "python",
   "pygments_lexer": "ipython3",
   "version": "3.10.12"
  }
 },
 "nbformat": 4,
 "nbformat_minor": 5
}
