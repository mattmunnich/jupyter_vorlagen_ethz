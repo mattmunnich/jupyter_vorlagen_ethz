{
 "cells": [
  {
   "cell_type": "markdown",
   "id": "0629b8fb",
   "metadata": {},
   "source": [
    "# Protocol for experiment 50 \"$\\alpha$-Decay in Radioactive Indoor Air\""
   ]
  },
  {
   "cell_type": "markdown",
   "id": "1d789636",
   "metadata": {},
   "source": [
    "<div style=\"padding:8px 0 8px 15px;border-left:3px solid #B51F1F;background-color:#F3F3F3;\">\n",
    "    <b><font color=\"darkred\">!! IMPORTANT !!</font></b> <br/>\n",
    "    <b>Preparation day:</b> <br/>\n",
    "    Pick up a Pico-rad detector (PRD) from your assistant.  <br/>\n",
    "    <b>During the week before your experiment day:</b> <br/>\n",
    "    Expose the PRD to air in a room where you expect a certian amount of Radon pollution for 2 to 3 days."
   ]
  },
  {
   "cell_type": "markdown",
   "id": "0b7ce929",
   "metadata": {},
   "source": [
    "**Date:** {2023-MM-DD}  \n",
    "**Version:** {1 for 1st assignment, 2 for corrected assignment, ...}\n",
    " \n",
    " - **Student 1:** {full name}\n",
    " - **Student 2:** {full name}"
   ]
  },
  {
   "cell_type": "markdown",
   "id": "8f0f1d43",
   "metadata": {},
   "source": [
    "## 1. Introduction\n",
    "\n",
    "### 1.1 Introduction to the experiment\n",
    "\n",
    "- What is the experiment about? What is the objective?\n",
    "\n",
    "### 1.2 Summary of theory\n",
    "\n",
    "- Explanation of the formulas used incl. variable labeling (example from preliminary experiment)\n",
    "    - Representation e.g. by  \n",
    "    \"\\\\$\\\\$ T = 2\\pi \\sqrt{\\frac{L}{g}} \\\\$\\\\$\" $\\rightarrow$ \n",
    "    $$T=2\\pi\\sqrt{\\frac{L}{g}}$$  \n",
    "    where $T$ is the period of oscillation of the pendulum for one oscillation, $L$ is the length of the pendulum, and $g$ is the acceleration due to gravity.\n",
    "    - $$\\phi = A \\exp(-\\frac{\\gamma t}{2})\\cos(\\omega t + \\alpha)$$\n",
    "    where $\\phi$ is the displacement of the oscillation, $A$ is the original amplitude of the oscillation, $\\gamma$ is the coefficient of friction, and $\\omega$ is the angular frequency.\n",
    "\n",
    "### 1.3 Tasks\n",
    "\n",
    "- What are the tasks for the experiment?\n",
    "\n",
    "### 1.4 Environmental relevance\n",
    "\n",
    "- How is the experiment relevant to your studies in environmental science? (1-2 sentences)"
   ]
  },
  {
   "cell_type": "markdown",
   "id": "0172593d",
   "metadata": {},
   "source": [
    "## 2. Packages and Functions"
   ]
  },
  {
   "cell_type": "markdown",
   "id": "aad31d47",
   "metadata": {},
   "source": [
    "### 2.1 Load packages\n",
    "You may not use all of these packages. You can comment out the ones you don't need."
   ]
  },
  {
   "cell_type": "code",
   "execution_count": 1,
   "id": "b4170517",
   "metadata": {},
   "outputs": [],
   "source": [
    "# import packages  (not every package is used in each notebook template)\n",
    "\n",
    "# numerical computing\n",
    "import numpy as np                    # Fundamental package for numerical computing in Python\n",
    "\n",
    "# uncertainty calculations\n",
    "from uncertainties import ufloat      # For handling numbers with uncertainties\n",
    "from uncertainties.umath import *     # For applying mathematical functions with uncertainties\n",
    "from uncertainties import unumpy      # For handling uncertainties in arrays\n",
    "\n",
    "# data manipulation and analysis\n",
    "import pandas as pd                   # Powerful data manipulation and analysis library\n",
    "\n",
    "# data visualization in tables\n",
    "from tabulate import tabulate\n",
    "\n",
    "# data visualization in plots\n",
    "import matplotlib.pyplot as plt       # Library for creating static, interactive, and animated visualizations\n",
    "\n",
    "# scientific computing\n",
    "import scipy as sc                    # Open-source scientific computing library\n",
    "from scipy.stats import linregress    # For performing linear regression analysis\n",
    "from scipy.constants import R         # Physical and mathematical constants\n",
    "\n",
    "# interactive display in Jupyter Notebook\n",
    "from IPython.display import display, Markdown, Image   # For displaying rich content (e.g., Markdown) in Jupyter Notebook\n",
    "\n",
    "# standard mathematical functions\n",
    "import math                          # Python's built-in math functions\n",
    "\n",
    "# widgets (to create elements such as dynamic input/output boxes)\n",
    "import ipywidgets as widgets\n",
    "\n",
    "\n"
   ]
  },
  {
   "cell_type": "markdown",
   "id": "40438cc2",
   "metadata": {},
   "source": [
    "### 2.2 Define functions"
   ]
  },
  {
   "cell_type": "code",
   "execution_count": 2,
   "id": "a3d0e52e",
   "metadata": {},
   "outputs": [],
   "source": [
    "# example: \n",
    "\n",
    "def my_function(param1_placeholder, param2_placeholder):\n",
    "    \n",
    "    value = 'Replace with your calculation'\n",
    "    return value"
   ]
  },
  {
   "cell_type": "markdown",
   "id": "d2e8fd46",
   "metadata": {},
   "source": [
    "#### <span style='color:darkcyan'> Your functions: </span>"
   ]
  },
  {
   "cell_type": "code",
   "execution_count": null,
   "id": "41dc64ad",
   "metadata": {},
   "outputs": [],
   "source": []
  },
  {
   "cell_type": "markdown",
   "id": "aa491cdb",
   "metadata": {},
   "source": [
    "<div class=\"alert alert-block alert-info\">\n",
    "    <b>Tip</b>: <br/>\n",
    "    1) Here is the place to <b>define all the functions you need</b> in this notebook. This helps to keep your notebook clear and structured.<br/>\n",
    "    2) Add <b>comments</b> to your functions (e.g. what is the function good for, what happens in each line, etc.), so that you and your lab partner will still be able to understand the code at a later time."
   ]
  },
  {
   "cell_type": "markdown",
   "id": "335259b7",
   "metadata": {},
   "source": [
    "## 3. Experiments"
   ]
  },
  {
   "cell_type": "markdown",
   "id": "53cbe59c",
   "metadata": {},
   "source": [
    "<div class=\"alert alert-block alert-info\">\n",
    "    <b>Evaluation of the measurement errors:</b>  <br/>\n",
    "The fluctuations of the count rate in radioactive decays obey a Poisson-distribution. In that case, the uncertainties package (ufloat, uarray,...) cannot be used to determine the error correctly, since it uses the Gauss distribution.<br/>\n",
    "    The error for the count rate can easily be calculated with $\\Delta N = \\sqrt{N}$."
   ]
  },
  {
   "cell_type": "markdown",
   "id": "f61bee2d",
   "metadata": {},
   "source": [
    "### 3.1 Experiment 1: Radon activity of indoor air\n",
    "<span style='color:indigo'> <i>\n",
    "    Determine the Radon aktivity in\n",
    "the sampled room air using the LSC and\n",
    "formulae provided.</i></span>"
   ]
  },
  {
   "cell_type": "markdown",
   "id": "c9b14157",
   "metadata": {},
   "source": [
    "#### 3.1.1 Measurement Data"
   ]
  },
  {
   "cell_type": "code",
   "execution_count": 3,
   "id": "415ffa24",
   "metadata": {},
   "outputs": [],
   "source": [
    "#------------------------\n",
    "# PROBE 1\n",
    "#------------------------\n",
    "\n",
    "# Name:\n",
    "# Location: \n",
    "\n",
    "# Opening the PRD\n",
    "t0_P1 = ... # [unit]\n",
    "# Closing PRD\n",
    "t1_P1 = ... # [unit]\n",
    "# Adding the solvent cocktail\n",
    "t2_P1 = ... # [unit]\n",
    "# Starting the measurement\n",
    "t3_P1 = ... # [unit]\n",
    "\n",
    "\n",
    "#------------------------\n",
    "# PROBE 2\n",
    "#------------------------\n",
    "\n",
    "# Name:\n",
    "# Location: \n",
    "\n",
    "# Opening the PRD\n",
    "t0_P2 = ... # [unit]\n",
    "# Closing PRD\n",
    "t1_P2 = ... # [unit]\n",
    "# Adding the solvent cocktail\n",
    "t2_P2 = ... # [unit]\n",
    "# Starting the measurement\n",
    "t3_P2 = ... # [unit]\n",
    "\n",
    "\n",
    "# MEASUREMENT (3 measurements for each probe)\n",
    "\n",
    "# Measurement duration\n",
    "t = ... # [unit]\n",
    "# Zero probe\n",
    "N_U = ... # [unit]\n",
    "# Probe 1\n",
    "N_P1 = ... # [unit]\n",
    "# Probe 2\n",
    "N_P2 = ... # [unit]"
   ]
  },
  {
   "cell_type": "markdown",
   "id": "89bddb84",
   "metadata": {},
   "source": [
    "<span style='color:darkcyan'> <i>Print your measurement results claerly and structured (don't forget the errors!)</i></span>"
   ]
  },
  {
   "cell_type": "markdown",
   "id": "0e3e8ec2",
   "metadata": {},
   "source": [
    "#### 3.1.2 Evaluation"
   ]
  },
  {
   "cell_type": "markdown",
   "id": "7b204970",
   "metadata": {},
   "source": [
    "\n",
    "<b>Hint:</b>  <br/>\n",
    "If<ul>\n",
    "    <li>the PRD was open for at least 72 hours and</li>\n",
    "<li>the sample was submitted on time and the solvent cocktail was added the day before the experiment,</li>\n",
    "    </ul><br/>\n",
    "it can be assumed that <b>the $^{222}Rn$ activity corresponds to one third of the measured activity</b>.\n",
    "(see section <i>'Calculating the activity assuming\n",
    "secular equilibrium'</i> in the manual).<br/><br/>\n",
    "    This assumption simplifies the calculations a lot!!!"
   ]
  },
  {
   "cell_type": "markdown",
   "id": "90ca214c",
   "metadata": {},
   "source": [
    "<span style='color:darkcyan'> <i>Calculate the radon activity.</i></span>"
   ]
  },
  {
   "cell_type": "code",
   "execution_count": null,
   "id": "f19d17c8",
   "metadata": {},
   "outputs": [],
   "source": []
  },
  {
   "cell_type": "markdown",
   "id": "db91beb5",
   "metadata": {},
   "source": [
    "<span style='color:darkcyan'> <i>Print your results (incl. errors and units).</i></span>"
   ]
  },
  {
   "cell_type": "code",
   "execution_count": null,
   "id": "3e35c836",
   "metadata": {},
   "outputs": [],
   "source": []
  },
  {
   "cell_type": "markdown",
   "id": "e706a858",
   "metadata": {},
   "source": [
    "<span style='color:darkcyan'> <i>What do these results mean? <br/>\n",
    "    Is there an increased radon activity in the samples? <br/>\n",
    "Are these only statistical fluctuations?</i></span>"
   ]
  },
  {
   "cell_type": "markdown",
   "id": "1ae28d6b",
   "metadata": {},
   "source": []
  },
  {
   "cell_type": "markdown",
   "id": "4b8bcfff",
   "metadata": {},
   "source": [
    "### 3.2 Experiment 2: Geiger counter measurement at ETH campus\n",
    "<span style='color:indigo'> <i>\n",
    "    Use a Geiger counter to find a publicly\n",
    "accessible location with high radioactvity (and, if thime permits, also one with low radioaktivity) on the Hönggerberg campus. Measure the number of decays and the radiation dose (Sievert) for at least 2\n",
    "minutes.</i></span>"
   ]
  },
  {
   "cell_type": "markdown",
   "id": "0c55d7f7",
   "metadata": {},
   "source": [
    "#### 3.2.1 Measueremt Data"
   ]
  },
  {
   "cell_type": "markdown",
   "id": "e27f29d9",
   "metadata": {},
   "source": [
    "<span style='color:darkcyan'> <i>Measure the number of decays and the radiation dose (to be able to compare it with the poster).</i></span>"
   ]
  },
  {
   "cell_type": "code",
   "execution_count": 4,
   "id": "cf1edb9f",
   "metadata": {},
   "outputs": [],
   "source": [
    "#-----------------------------------\n",
    "# LOCATION WITH HIGH RADIOACTIVITY\n",
    "#-----------------------------------\n",
    "\n",
    "\n",
    "\n",
    "\n",
    "\n",
    "#-----------------------------------\n",
    "# LOCATION WITH LOW RADIOACTIVITY\n",
    "#-----------------------------------\n",
    "\n",
    "\n",
    "\n",
    "\n",
    "\n"
   ]
  },
  {
   "cell_type": "markdown",
   "id": "43ab3366",
   "metadata": {},
   "source": [
    "<span style='color:darkcyan'> <i>Print your results (units and the location(s) where you measured).</i></span>"
   ]
  },
  {
   "cell_type": "code",
   "execution_count": null,
   "id": "8c8e562e",
   "metadata": {},
   "outputs": [],
   "source": []
  },
  {
   "cell_type": "markdown",
   "id": "e6f7211f",
   "metadata": {},
   "source": [
    "#### 3.2.2 Evaluation"
   ]
  },
  {
   "cell_type": "markdown",
   "id": "80c9bca2",
   "metadata": {},
   "source": [
    "<span style='color:darkcyan'> <i>What is the error of your measured radioactivity?</i></span>"
   ]
  },
  {
   "cell_type": "code",
   "execution_count": null,
   "id": "444378fb",
   "metadata": {},
   "outputs": [],
   "source": []
  },
  {
   "cell_type": "markdown",
   "id": "c55bffdc",
   "metadata": {},
   "source": [
    "<span style='color:darkcyan'> <i>How long would you need to measure to reduce this error to\n",
    "5%?</i></span>"
   ]
  },
  {
   "cell_type": "code",
   "execution_count": null,
   "id": "24ec8006",
   "metadata": {},
   "outputs": [],
   "source": []
  },
  {
   "cell_type": "markdown",
   "id": "a3555833",
   "metadata": {},
   "source": [
    "<span style='color:darkcyan'> <i>What is the error of this estimated\n",
    "time?</i></span>"
   ]
  },
  {
   "cell_type": "code",
   "execution_count": null,
   "id": "4e83dbf2",
   "metadata": {},
   "outputs": [],
   "source": []
  },
  {
   "cell_type": "markdown",
   "id": "5a5027d6",
   "metadata": {},
   "source": [
    "<span style='color:darkcyan'> <i>What would be your radiation exposure at this place if you stayed there for 8 hours?</i></span>"
   ]
  },
  {
   "cell_type": "code",
   "execution_count": null,
   "id": "8eac3fa4",
   "metadata": {},
   "outputs": [],
   "source": []
  },
  {
   "cell_type": "markdown",
   "id": "57dd3ce6",
   "metadata": {},
   "source": [
    "<span style='color:darkcyan'> <i>Compare your results with\n",
    "the sample radiation exposures shown\n",
    "on the poster in HPP J33.</i></span>"
   ]
  },
  {
   "cell_type": "markdown",
   "id": "b2ee2680",
   "metadata": {},
   "source": []
  },
  {
   "cell_type": "markdown",
   "id": "3a32edb6",
   "metadata": {},
   "source": [
    "## 4 Discussion"
   ]
  },
  {
   "cell_type": "markdown",
   "id": "7d2e95be",
   "metadata": {},
   "source": [
    "<span style='color:darkcyan'> <i>Are your results realistic? Why (not)? Comparison with theory? </i></span>"
   ]
  },
  {
   "cell_type": "markdown",
   "id": "9330d0e7",
   "metadata": {},
   "source": []
  },
  {
   "cell_type": "markdown",
   "id": "8a52e543",
   "metadata": {},
   "source": [
    "<span style='color:darkcyan'> <i>What measurement errors were assumed? Why? <br/>\n",
    "    What are the main reasons for the errors in your results and how do they come about?</i></span>"
   ]
  },
  {
   "cell_type": "markdown",
   "id": "4416ade5",
   "metadata": {},
   "source": []
  },
  {
   "cell_type": "markdown",
   "id": "0fab5617",
   "metadata": {},
   "source": [
    "<span style='color:darkcyan'> <i>How would you try to reduce the error further? Could you improve the accuracy of the experiment? </i></span>"
   ]
  },
  {
   "cell_type": "markdown",
   "id": "0d50b92e",
   "metadata": {},
   "source": []
  },
  {
   "cell_type": "markdown",
   "id": "f5967c0c",
   "metadata": {},
   "source": [
    "<span style='color:darkcyan'> <i>If you were to repeat the experiment, what would you do differently and why?</i></span>"
   ]
  },
  {
   "cell_type": "markdown",
   "id": "6593ac1e",
   "metadata": {},
   "source": []
  }
 ],
 "metadata": {
  "kernelspec": {
   "display_name": "Python 3 (ipykernel)",
   "language": "python",
   "name": "python3"
  },
  "language_info": {
   "codemirror_mode": {
    "name": "ipython",
    "version": 3
   },
   "file_extension": ".py",
   "mimetype": "text/x-python",
   "name": "python",
   "nbconvert_exporter": "python",
   "pygments_lexer": "ipython3",
   "version": "3.10.12"
  }
 },
 "nbformat": 4,
 "nbformat_minor": 5
}
