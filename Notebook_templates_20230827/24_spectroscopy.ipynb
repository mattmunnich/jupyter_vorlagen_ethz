{
 "cells": [
  {
   "cell_type": "markdown",
   "id": "0629b8fb",
   "metadata": {},
   "source": [
    "# Protocol for experiment 24 \"Spectroscopy\""
   ]
  },
  {
   "cell_type": "markdown",
   "id": "0b7ce929",
   "metadata": {},
   "source": [
    "**Date:** {2023-MM-DD}  \n",
    "**Version:** {1 for 1st assignment, 2 for corrected assignment, ...}\n",
    " \n",
    " - **Student 1:** {full name}\n",
    " - **Student 2:** {full name}"
   ]
  },
  {
   "cell_type": "markdown",
   "id": "8f0f1d43",
   "metadata": {},
   "source": [
    "## 1. Introduction\n",
    "\n",
    "### 1.1 Introduction to the experiment\n",
    "\n",
    "- What is the experiment about? What is the objective?\n",
    "\n",
    "### 1.2 Summary of theory\n",
    "\n",
    "- Explanation of the formulas used incl. variable labeling (example from preliminary experiment)\n",
    "    - Representation e.g. by  \n",
    "    \"\\\\$\\\\$ T = 2\\pi \\sqrt{\\frac{L}{g}} \\\\$\\\\$\" $\\rightarrow$ \n",
    "    $$T=2\\pi\\sqrt{\\frac{L}{g}}$$  \n",
    "    where $T$ is the period of oscillation of the pendulum for one oscillation, $L$ is the length of the pendulum, and $g$ is the acceleration due to gravity.\n",
    "    - $$\\phi = A \\exp(-\\frac{\\gamma t}{2})\\cos(\\omega t + \\alpha)$$\n",
    "    where $\\phi$ is the displacement of the oscillation, $A$ is the original amplitude of the oscillation, $\\gamma$ is the coefficient of friction, and $\\omega$ is the angular frequency.\n",
    "\n",
    "### 1.3 Tasks\n",
    "\n",
    "- What are the tasks for the experiment?\n",
    "\n",
    "### 1.4 Environmental relevance\n",
    "\n",
    "- How is the experiment relevant to your studies in environmental science? (1-2 sentences)"
   ]
  },
  {
   "cell_type": "markdown",
   "id": "0172593d",
   "metadata": {},
   "source": [
    "## 2. Packages and Functions"
   ]
  },
  {
   "cell_type": "markdown",
   "id": "aad31d47",
   "metadata": {},
   "source": [
    "### 2.1 Load packages\n",
    "You may not use all of these packages. You can comment out the ones you don't need."
   ]
  },
  {
   "cell_type": "code",
   "execution_count": 1,
   "id": "b4170517",
   "metadata": {},
   "outputs": [],
   "source": [
    "# import packages  (not every package is used in each notebook template)\n",
    "\n",
    "# numerical computing\n",
    "import numpy as np                    # Fundamental package for numerical computing in Python\n",
    "\n",
    "# uncertainty calculations\n",
    "from uncertainties import ufloat      # For handling numbers with uncertainties\n",
    "from uncertainties.umath import *     # For applying mathematical functions with uncertainties\n",
    "from uncertainties import unumpy      # For handling uncertainties in arrays\n",
    "\n",
    "# data manipulation and analysis\n",
    "import pandas as pd                   # Powerful data manipulation and analysis library\n",
    "\n",
    "# data visualization in tables\n",
    "from tabulate import tabulate\n",
    "\n",
    "# data visualization in plots\n",
    "import matplotlib.pyplot as plt       # Library for creating static, interactive, and animated visualizations\n",
    "\n",
    "# scientific computing\n",
    "import scipy as sc                    # Open-source scientific computing library\n",
    "from scipy.stats import linregress    # For performing linear regression analysis\n",
    "from scipy.constants import R         # Physical and mathematical constants\n",
    "\n",
    "# interactive display in Jupyter Notebook\n",
    "from IPython.display import display, Markdown, Image   # For displaying rich content (e.g., Markdown) in Jupyter Notebook\n",
    "\n",
    "# standard mathematical functions\n",
    "import math                          # Python's built-in math functions\n",
    "\n",
    "# widgets (to create elements such as dynamic input/output boxes)\n",
    "import ipywidgets as widgets\n",
    "\n",
    "\n"
   ]
  },
  {
   "cell_type": "markdown",
   "id": "40438cc2",
   "metadata": {},
   "source": [
    "### 2.2 Define functions"
   ]
  },
  {
   "cell_type": "code",
   "execution_count": 2,
   "id": "a3d0e52e",
   "metadata": {},
   "outputs": [],
   "source": [
    "# example: \n",
    "\n",
    "def my_function(param1_placeholder, param2_placeholder):\n",
    "    \n",
    "    value = 'Replace with your calculation'\n",
    "    return value"
   ]
  },
  {
   "cell_type": "markdown",
   "id": "9326cb6b",
   "metadata": {},
   "source": [
    "#### Creating a table"
   ]
  },
  {
   "cell_type": "code",
   "execution_count": 28,
   "id": "26e963cb",
   "metadata": {},
   "outputs": [],
   "source": [
    "#----------------------------------------------\n",
    "# Create a table (see CheatSheet)\n",
    "#----------------------------------------------\n",
    "\n",
    "def Table(table, header, precisions):\n",
    "    # Check if precisions list length matches table's row count\n",
    "    if len(precisions) != len(table):\n",
    "        raise ValueError(\"Length of precisions list must match the number of columns in the table\")\n",
    "\n",
    "    for i in range(len(table)):\n",
    "        # If precision for this row/column is not None, round the entire row\n",
    "        if precisions[i] is not None:\n",
    "            table[i] = [np.round(val, precisions[i]) for val in table[i]]\n",
    "\n",
    "    table = np.matrix.transpose(np.array(table))\n",
    "    print(tabulate(table, headers=header, tablefmt='fancy_grid'))"
   ]
  },
  {
   "cell_type": "markdown",
   "id": "61d5e7a6",
   "metadata": {},
   "source": [
    "#### <span style='color:darkcyan'> Your functions: </span>"
   ]
  },
  {
   "cell_type": "code",
   "execution_count": null,
   "id": "61d7855e",
   "metadata": {},
   "outputs": [],
   "source": []
  },
  {
   "cell_type": "markdown",
   "id": "aa491cdb",
   "metadata": {},
   "source": [
    "<div class=\"alert alert-block alert-info\">\n",
    "    <b>Tip</b>: <br/>\n",
    "    1) Here is the place to <b>define all the functions you need</b> in this notebook. This helps to keep your notebook clear and structured.<br/>\n",
    "    2) Add <b>comments</b> to your functions (e.g. what is the function good for, what happens in each line, etc.), so that you and your lab partner will still be able to understand the code at a later time."
   ]
  },
  {
   "cell_type": "markdown",
   "id": "335259b7",
   "metadata": {},
   "source": [
    "## 3. Experiments"
   ]
  },
  {
   "cell_type": "markdown",
   "id": "f61bee2d",
   "metadata": {},
   "source": [
    "### 3.1 Experiment 1: Calibration of the prism spectrometer\n",
    "<span style='color:indigo'> <i>Calibrate the prism spectrometer with a He-\n",
    "spectrum and draw the calibration curve graphically.</i></span>"
   ]
  },
  {
   "cell_type": "markdown",
   "id": "fa0acc36",
   "metadata": {},
   "source": [
    "<span style='color:darkcyan'> <i>Determine the scale parts for each of the lines in the He-spectrum.</i></span>"
   ]
  },
  {
   "cell_type": "markdown",
   "id": "1cbd908f",
   "metadata": {},
   "source": [
    "#### 3.1.1 Measurement data"
   ]
  },
  {
   "cell_type": "code",
   "execution_count": 36,
   "id": "b1c5c69f",
   "metadata": {},
   "outputs": [
    {
     "name": "stdout",
     "output_type": "stream",
     "text": [
      "\n",
      " Helium Spectrum\n",
      "╒══════════╤═════════════╤═════════════╤═══════════════════╤═══════════════╕\n",
      "│   Number │ Color       │ Intensity   │   Wavelength [nm] │   Scale parts │\n",
      "╞══════════╪═════════════╪═════════════╪═══════════════════╪═══════════════╡\n",
      "│        1 │ dark red    │ weak        │             728.1 │             0 │\n",
      "├──────────┼─────────────┼─────────────┼───────────────────┼───────────────┤\n",
      "│        2 │ red         │ medium      │             706.5 │             0 │\n",
      "├──────────┼─────────────┼─────────────┼───────────────────┼───────────────┤\n",
      "│        3 │ red         │ strong      │             667.8 │             0 │\n",
      "├──────────┼─────────────┼─────────────┼───────────────────┼───────────────┤\n",
      "│        4 │ yellow      │ strong      │             587.6 │             0 │\n",
      "├──────────┼─────────────┼─────────────┼───────────────────┼───────────────┤\n",
      "│        5 │ light green │ strong      │             504.7 │             0 │\n",
      "├──────────┼─────────────┼─────────────┼───────────────────┼───────────────┤\n",
      "│        6 │ green       │ strong      │             501.6 │             0 │\n",
      "├──────────┼─────────────┼─────────────┼───────────────────┼───────────────┤\n",
      "│        7 │ green       │ strong      │             492.2 │             0 │\n",
      "├──────────┼─────────────┼─────────────┼───────────────────┼───────────────┤\n",
      "│        8 │ indigo      │ strong      │             471.3 │             0 │\n",
      "├──────────┼─────────────┼─────────────┼───────────────────┼───────────────┤\n",
      "│        9 │ blue        │ strong      │             447.1 │             0 │\n",
      "├──────────┼─────────────┼─────────────┼───────────────────┼───────────────┤\n",
      "│       10 │ blue        │ weak        │             443.7 │             0 │\n",
      "├──────────┼─────────────┼─────────────┼───────────────────┼───────────────┤\n",
      "│       11 │ blue        │ weak        │             438.8 │             0 │\n",
      "├──────────┼─────────────┼─────────────┼───────────────────┼───────────────┤\n",
      "│       12 │ violet      │ weak        │             416.9 │             0 │\n",
      "├──────────┼─────────────┼─────────────┼───────────────────┼───────────────┤\n",
      "│       13 │ violet      │ weak        │             414.4 │             0 │\n",
      "├──────────┼─────────────┼─────────────┼───────────────────┼───────────────┤\n",
      "│       14 │ violet      │ weak        │             412.1 │             0 │\n",
      "├──────────┼─────────────┼─────────────┼───────────────────┼───────────────┤\n",
      "│       15 │ violet      │ medium      │             402.6 │             0 │\n",
      "├──────────┼─────────────┼─────────────┼───────────────────┼───────────────┤\n",
      "│       16 │ violet      │ weak        │             396.4 │             0 │\n",
      "├──────────┼─────────────┼─────────────┼───────────────────┼───────────────┤\n",
      "│       17 │ dark violet │ medium      │             388.9 │             0 │\n",
      "╘══════════╧═════════════╧═════════════╧═══════════════════╧═══════════════╛\n"
     ]
    }
   ],
   "source": [
    "# Number\n",
    "number_He = np.arange(1, 18, 1)\n",
    "\n",
    "# Color (translated to English)\n",
    "color_He = [\n",
    "    \"dark red\",\n",
    "    \"red\",\n",
    "    \"red\",\n",
    "    \"yellow\",\n",
    "    \"light green\",\n",
    "    \"green\",\n",
    "    \"green\",\n",
    "    \"indigo\",\n",
    "    \"blue\",\n",
    "    \"blue\",\n",
    "    \"blue\",\n",
    "    \"violet\",\n",
    "    \"violet\",\n",
    "    \"violet\",\n",
    "    \"violet\",\n",
    "    \"violet\",\n",
    "    \"dark violet\"\n",
    "]\n",
    "\n",
    "# Intensity (translated to English)\n",
    "intensity_He = [\n",
    "    \"weak\",\n",
    "    \"medium\",\n",
    "    \"strong\",\n",
    "    \"strong\",\n",
    "    \"strong\",\n",
    "    \"strong\",\n",
    "    \"strong\",\n",
    "    \"strong\",\n",
    "    \"strong\",\n",
    "    \"weak\",\n",
    "    \"weak\",\n",
    "    \"weak\",\n",
    "    \"weak\",\n",
    "    \"weak\",\n",
    "    \"medium\",\n",
    "    \"weak\",\n",
    "    \"medium\"\n",
    "]\n",
    "\n",
    "# Wavelength\n",
    "wavelength_He = [\n",
    "    728.1, 706.5, 667.8, 587.6, 504.7, 501.6, 492.2, 471.3, 447.1, \n",
    "    443.7, 438.8, 416.9, 414.4, 412.1, 402.6, 396.4, 388.9\n",
    "]\n",
    "\n",
    "# Scale parts \n",
    "scale_parts_He = [0,0,0,0,0,0,0,0,0,0,0,0,0,0,0,0,0] # replace the zeroes!\n",
    "\n",
    "\n",
    "header_He = ['Number', 'Color', 'Intensity', 'Wavelength [nm]', 'Scale parts'] \n",
    "table_He = [number_He,\n",
    "           color_He,\n",
    "           intensity_He,\n",
    "           wavelength_He,\n",
    "           scale_parts_He\n",
    "           ]\n",
    "precision_He = [None,None,None,None,None] # replace 0 by adequate values\n",
    "\n",
    "print('\\n Helium Spectrum')\n",
    "Table(table_He, header_He, precision_He)\n"
   ]
  },
  {
   "cell_type": "markdown",
   "id": "4fdebe3c",
   "metadata": {},
   "source": [
    "#### 3.1.2 Evaluation"
   ]
  },
  {
   "cell_type": "markdown",
   "id": "252c0981",
   "metadata": {},
   "source": [
    "<span style='color:darkcyan'> <i>Plot the calibration curve (scale parts in dependence of $\\lambda$) and fit a __quadratic(!!) function__.</i></span>"
   ]
  },
  {
   "cell_type": "code",
   "execution_count": 5,
   "id": "198c75b0",
   "metadata": {},
   "outputs": [],
   "source": [
    "# for the quadratic fit you can use:\n",
    "'''\n",
    "calibration_curve = np.poly1d(np.polyfit(x,y,k))  \n",
    "'''\n",
    "# x,y is the data to be fitted\n",
    "# k is the degree of the polynomial --> 2 for quadratic\n",
    "# Use only the nominal values of you data for the fit (without errors)!\n",
    "\n",
    "\n",
    "# plot\n",
    "'''\n",
    "polyline = np.linspace(0,10)\n",
    "plt.scatter(x,y)\n",
    "plt.plot(polyline,calibration_curve(polyline))\n",
    "plt.xlabel(\"...\")\n",
    "plt.ylabel(\"...\")\n",
    "plt.title(\"...\")\n",
    "plt.show()\n",
    "\n",
    "\n",
    "print(calibration_curve) # shows formula for quadratic fit\n",
    "\n",
    "# Reading the coefficients from the calibration function (ax^2 + bx + c)\n",
    "a = calibration_curve[2] \n",
    "b = calibration_curve[1]\n",
    "c = calibration_curve[0]\n",
    "\n",
    "'''"
   ]
  },
  {
   "cell_type": "markdown",
   "id": "11d22f08",
   "metadata": {},
   "source": [
    "### 3.2 Experiment 2: Balmer lines\n",
    "<span style=\"color: indigo;\"><i>\n",
    "        Determine the wavelengths of the Balmer lines\n",
    "of hydrogen spectrum.</i>\n",
    "</span>\n"
   ]
  },
  {
   "cell_type": "markdown",
   "id": "57017eba",
   "metadata": {},
   "source": [
    "#### 3.2.1  Measurement data"
   ]
  },
  {
   "cell_type": "markdown",
   "id": "846e91cc",
   "metadata": {},
   "source": [
    "<span style='color:darkcyan'> <i>For each of the four Hydrogen Balmer lines, determine the following quantities:</i></span>"
   ]
  },
  {
   "cell_type": "markdown",
   "id": "ccec6fcb",
   "metadata": {},
   "source": [
    "<div class=\"alert alert-block alert-info\">\n",
    "    <b>Tip</b>: If there are multiple measurements of the same quantity, you can use an <b>uarray</b> for each quantity to store the measured values and their errors:  \n",
    "    <code>array = unumpy.uarray([measured_value_1, measured_value_2, ...], [abs_error_1, abs_error_2, ...])</code>. "
   ]
  },
  {
   "cell_type": "code",
   "execution_count": 5,
   "id": "d07cc7f3",
   "metadata": {},
   "outputs": [],
   "source": [
    "# color\n",
    "color_H = ...\n",
    "\n",
    "# Scale parts\n",
    "scale_H = ...\n",
    "\n",
    "# The 4th H-line is hard to see!"
   ]
  },
  {
   "cell_type": "markdown",
   "id": "e3c15d47",
   "metadata": {},
   "source": [
    "#### 3.2.2 Evaluation"
   ]
  },
  {
   "cell_type": "markdown",
   "id": "2bd1590b",
   "metadata": {},
   "source": [
    "<span style='color:darkcyan'> <i>What is $n$ for each of the lines? Calculate the wavelength $\\lambda$ and the Rydberg constant.</i></span>"
   ]
  },
  {
   "cell_type": "code",
   "execution_count": null,
   "id": "b3e6999f",
   "metadata": {},
   "outputs": [],
   "source": [
    "# lambda (Tip: Calculate from the coefficients a, b and c)\n",
    "lambda_H = ... # [unit]\n",
    "\n",
    "# quantum number n \n",
    "n_H = ...\n",
    "\n",
    "# Rydberg constant\n",
    "Ry_H = ...     # [unit]"
   ]
  },
  {
   "cell_type": "code",
   "execution_count": null,
   "id": "fe0f3f0d",
   "metadata": {},
   "outputs": [],
   "source": []
  },
  {
   "cell_type": "markdown",
   "id": "bbe09eb4",
   "metadata": {},
   "source": [
    "<span style=\"color: indigo;\"><i>\n",
    "        Verify the Bohr theory for each line calculated\n",
    "from the Rydberg frequency and compute the\n",
    "mean value of the different measurements.</i>\n",
    "</span>\n"
   ]
  },
  {
   "cell_type": "code",
   "execution_count": 49,
   "id": "dfe957f6",
   "metadata": {},
   "outputs": [],
   "source": [
    "# Mean of the experimental results for the Rydberg constant\n",
    "Ry_mean = ... # [unit]\n",
    "\n",
    "# Deviation from theoretial value\n",
    "Ry_dev = ...  # [%]"
   ]
  },
  {
   "cell_type": "markdown",
   "id": "3cb4ab7a",
   "metadata": {},
   "source": [
    "<span style='color:darkcyan'> <i>Print your results (incl. errors and units).</i></span>"
   ]
  },
  {
   "cell_type": "code",
   "execution_count": 52,
   "id": "34491154",
   "metadata": {},
   "outputs": [
    {
     "data": {
      "text/markdown": [
       "\n",
       "Mean: $\\langle Ry \\rangle \\pm \\Delta \\langle Ry \\rangle =$ Ellipsis \n",
       "\n",
       "$\\langle Ry \\rangle_{theo} - \\Delta \\langle Ry \\rangle_{exp} =$ Ellipsis"
      ],
      "text/plain": [
       "<IPython.core.display.Markdown object>"
      ]
     },
     "metadata": {},
     "output_type": "display_data"
    }
   ],
   "source": [
    "# for example:\n",
    "\n",
    "display(Markdown(f'''\n",
    "Mean: $\\\\langle Ry \\\\rangle \\\\pm \\\\Delta \\\\langle Ry \\\\rangle =$ {Ry_mean} \\n\n",
    "$\\\\langle Ry \\\\rangle_{{theo}} - \\\\Delta \\\\langle Ry \\\\rangle_{{exp}} =$ {Ry_dev}'''))\n"
   ]
  },
  {
   "cell_type": "markdown",
   "id": "04cc3cc2",
   "metadata": {},
   "source": [
    "<span style=\"color: indigo;\"><i>\n",
    "        By using the mean value of the Rydberg frequency, compute the series limit of the Balmer\n",
    "series and explain why it was not observed in\n",
    "the experiment.</i>\n",
    "</span>\n"
   ]
  },
  {
   "cell_type": "code",
   "execution_count": null,
   "id": "832940d0",
   "metadata": {},
   "outputs": [],
   "source": [
    "# Series limit\n",
    "lambda_alpha = ... # [nm]"
   ]
  },
  {
   "cell_type": "markdown",
   "id": "4bfe3183",
   "metadata": {},
   "source": [
    "<span style='color:darkcyan'> <i>Print your results (incl. errors and units).</i></span>"
   ]
  },
  {
   "cell_type": "code",
   "execution_count": null,
   "id": "3b5d4f3c",
   "metadata": {},
   "outputs": [],
   "source": []
  },
  {
   "cell_type": "markdown",
   "id": "cebf3a7d",
   "metadata": {},
   "source": [
    "<span style='color:darkcyan'> <i>Why don't you see the series limit in the spectrometer? </i></span>"
   ]
  },
  {
   "cell_type": "markdown",
   "id": "3824be21",
   "metadata": {},
   "source": []
  },
  {
   "cell_type": "markdown",
   "id": "b96bf64f",
   "metadata": {},
   "source": [
    "<span style=\"color: indigo;\"><i>\n",
    "        Calculate the ionization energy in electron volts\n",
    "from the experimentally determined value for\n",
    "$Ry$.</i>\n",
    "</span>\n"
   ]
  },
  {
   "cell_type": "code",
   "execution_count": null,
   "id": "9cd44d76",
   "metadata": {},
   "outputs": [],
   "source": [
    "# ionization energy\n",
    "E_1 = ... # [eV]  think about how you get to the unit eV!"
   ]
  },
  {
   "cell_type": "markdown",
   "id": "6a8b6001",
   "metadata": {},
   "source": [
    "<span style='color:darkcyan'> <i>Print your results (incl. errors and units).</i></span>"
   ]
  },
  {
   "cell_type": "code",
   "execution_count": null,
   "id": "b0c45443",
   "metadata": {},
   "outputs": [],
   "source": []
  },
  {
   "cell_type": "markdown",
   "id": "ed20e789",
   "metadata": {},
   "source": [
    "#### 3.2.1  Measurement data"
   ]
  },
  {
   "cell_type": "markdown",
   "id": "9a533985",
   "metadata": {},
   "source": [
    "### 3.6 Experiment 6: Fraunhofer lines\n",
    "<span style=\"color: indigo;\"><i>\n",
    "        Convince yourself of the band structure of the\n",
    "$N_2$-spectrum.<br/>\n",
    "Measure the wavelength of the principal Fraunhofer lines in the solar spectrum.</i>\n",
    "</span>\n"
   ]
  },
  {
   "cell_type": "markdown",
   "id": "3989ba90",
   "metadata": {},
   "source": [
    "#### 3.3.1  Measurement data"
   ]
  },
  {
   "cell_type": "markdown",
   "id": "cbf19552",
   "metadata": {},
   "source": [
    "<span style='color:darkcyan'> <i>Proceed analogously to experiment 2.</i></span>"
   ]
  },
  {
   "cell_type": "code",
   "execution_count": 5,
   "id": "e355b701",
   "metadata": {},
   "outputs": [],
   "source": [
    "# Scale parts\n",
    "scale_Fr = ...\n",
    "\n",
    "# measured wavelengths\n",
    "lambda_exp = ...  # [unit]"
   ]
  },
  {
   "cell_type": "markdown",
   "id": "3269b48e",
   "metadata": {},
   "source": [
    "#### 3.3.2 Evaluation"
   ]
  },
  {
   "cell_type": "code",
   "execution_count": 55,
   "id": "5ce4cbcd",
   "metadata": {},
   "outputs": [],
   "source": [
    "# values for the wavelengths from the spectral chart\n",
    "lambda_theo = ...  # [unit]\n",
    "\n",
    "# deviation theory-experiment\n",
    "Delta_lambda = ... # [unit]\n",
    "\n",
    "# chemical element\n",
    "element = ...     "
   ]
  },
  {
   "cell_type": "markdown",
   "id": "747e4895",
   "metadata": {},
   "source": [
    "<span style='color:darkcyan'> <i>Create a table with your data and your results (incl. errors and units).</i></span>"
   ]
  },
  {
   "cell_type": "code",
   "execution_count": null,
   "id": "aaa70d77",
   "metadata": {},
   "outputs": [],
   "source": [
    "# table"
   ]
  },
  {
   "cell_type": "markdown",
   "id": "1656b320",
   "metadata": {},
   "source": [
    "<span style='color:darkcyan'> <i>Are the chemical elements you found realistic?</i></span>"
   ]
  },
  {
   "cell_type": "markdown",
   "id": "f6364ef0",
   "metadata": {},
   "source": []
  },
  {
   "cell_type": "markdown",
   "id": "3a32edb6",
   "metadata": {},
   "source": [
    "## 4 Discussion"
   ]
  },
  {
   "cell_type": "markdown",
   "id": "7d2e95be",
   "metadata": {},
   "source": [
    "<span style='color:darkcyan'> <i>Are your results realistic? Why (not)? Comparison with theory? </i></span>"
   ]
  },
  {
   "cell_type": "markdown",
   "id": "9330d0e7",
   "metadata": {},
   "source": []
  },
  {
   "cell_type": "markdown",
   "id": "8a52e543",
   "metadata": {},
   "source": [
    "<span style='color:darkcyan'> <i>What measurement errors were assumed? Why? <br/>\n",
    "    What are the main reasons for the errors in your results and how do they come about?</i></span>"
   ]
  },
  {
   "cell_type": "markdown",
   "id": "4416ade5",
   "metadata": {},
   "source": []
  },
  {
   "cell_type": "markdown",
   "id": "0fab5617",
   "metadata": {},
   "source": [
    "<span style='color:darkcyan'> <i>How would you try to reduce the error further? Could you improve the accuracy of the experiment? </i></span>"
   ]
  },
  {
   "cell_type": "markdown",
   "id": "0d50b92e",
   "metadata": {},
   "source": []
  },
  {
   "cell_type": "markdown",
   "id": "f5967c0c",
   "metadata": {},
   "source": [
    "<span style='color:darkcyan'> <i>If you were to repeat the experiment, what would you do differently and why?</i></span>"
   ]
  },
  {
   "cell_type": "markdown",
   "id": "6593ac1e",
   "metadata": {},
   "source": []
  }
 ],
 "metadata": {
  "kernelspec": {
   "display_name": "Python 3 (ipykernel)",
   "language": "python",
   "name": "python3"
  },
  "language_info": {
   "codemirror_mode": {
    "name": "ipython",
    "version": 3
   },
   "file_extension": ".py",
   "mimetype": "text/x-python",
   "name": "python",
   "nbconvert_exporter": "python",
   "pygments_lexer": "ipython3",
   "version": "3.10.12"
  }
 },
 "nbformat": 4,
 "nbformat_minor": 5
}
