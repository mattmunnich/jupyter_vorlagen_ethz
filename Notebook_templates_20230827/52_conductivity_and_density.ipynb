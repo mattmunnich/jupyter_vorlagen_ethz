{
 "cells": [
  {
   "cell_type": "markdown",
   "id": "0629b8fb",
   "metadata": {},
   "source": [
    "# Protocol for experiment 52 \"Density and conductivity of an electrolyte\""
   ]
  },
  {
   "cell_type": "markdown",
   "id": "0b7ce929",
   "metadata": {},
   "source": [
    "**Date:** {2023-MM-DD}  \n",
    "**Version:** {1 for 1st assignment, 2 for corrected assignment, ...}\n",
    " \n",
    " - **Student 1:** {full name}\n",
    " - **Student 2:** {full name}"
   ]
  },
  {
   "cell_type": "markdown",
   "id": "8f0f1d43",
   "metadata": {},
   "source": [
    "## 1. Introduction\n",
    "\n",
    "### 1.1 Introduction to the experiment\n",
    "\n",
    "- What is the experiment about? What is the objective?\n",
    "\n",
    "### 1.2 Summary of theory\n",
    "\n",
    "- Explanation of the formulas used incl. variable labeling (example from preliminary experiment)\n",
    "    - Representation e.g. by  \n",
    "    \"\\\\$\\\\$ T = 2\\pi \\sqrt{\\frac{L}{g}} \\\\$\\\\$\" $\\rightarrow$ \n",
    "    $$T=2\\pi\\sqrt{\\frac{L}{g}}$$  \n",
    "    where $T$ is the period of oscillation of the pendulum for one oscillation, $L$ is the length of the pendulum, and $g$ is the acceleration due to gravity.\n",
    "    - $$\\phi = A \\exp(-\\frac{\\gamma t}{2})\\cos(\\omega t + \\alpha)$$\n",
    "    where $\\phi$ is the displacement of the oscillation, $A$ is the original amplitude of the oscillation, $\\gamma$ is the coefficient of friction, and $\\omega$ is the angular frequency.\n",
    "\n",
    "### 1.3 Tasks\n",
    "\n",
    "- What are the tasks for the experiment?\n",
    "\n",
    "### 1.4 Environmental relevance\n",
    "\n",
    "- How is the experiment relevant to your studies in environmental science? (1-2 sentences)"
   ]
  },
  {
   "cell_type": "markdown",
   "id": "0172593d",
   "metadata": {},
   "source": [
    "## 2. Packages and Functions"
   ]
  },
  {
   "cell_type": "markdown",
   "id": "aad31d47",
   "metadata": {},
   "source": [
    "### 2.1 Load packages\n",
    "You may not use all of these packages. You can comment out the ones you don't need."
   ]
  },
  {
   "cell_type": "code",
   "execution_count": 1,
   "id": "b4170517",
   "metadata": {},
   "outputs": [],
   "source": [
    "# import packages  (not every package is used in each notebook template)\n",
    "\n",
    "# numerical computing\n",
    "import numpy as np                    # Fundamental package for numerical computing in Python\n",
    "\n",
    "# uncertainty calculations\n",
    "from uncertainties import ufloat      # For handling numbers with uncertainties\n",
    "from uncertainties.umath import *     # For applying mathematical functions with uncertainties\n",
    "from uncertainties import unumpy      # For handling uncertainties in arrays\n",
    "\n",
    "# data manipulation and analysis\n",
    "import pandas as pd                   # Powerful data manipulation and analysis library\n",
    "\n",
    "# data visualization in tables\n",
    "from tabulate import tabulate\n",
    "\n",
    "# data visualization in plots\n",
    "import matplotlib.pyplot as plt       # Library for creating static, interactive, and animated visualizations\n",
    "\n",
    "# scientific computing\n",
    "import scipy as sc                    # Open-source scientific computing library\n",
    "from scipy.stats import linregress    # For performing linear regression analysis\n",
    "from scipy.constants import R         # Physical and mathematical constants\n",
    "\n",
    "# interactive display in Jupyter Notebook\n",
    "from IPython.display import display, Markdown, Image   # For displaying rich content (e.g., Markdown) in Jupyter Notebook\n",
    "\n",
    "# standard mathematical functions\n",
    "import math                          # Python's built-in math functions\n",
    "\n",
    "# widgets (to create elements such as dynamic input/output boxes)\n",
    "import ipywidgets as widgets\n",
    "\n",
    "\n"
   ]
  },
  {
   "cell_type": "markdown",
   "id": "40438cc2",
   "metadata": {},
   "source": [
    "### 2.2 Define functions"
   ]
  },
  {
   "cell_type": "code",
   "execution_count": 2,
   "id": "a3d0e52e",
   "metadata": {},
   "outputs": [],
   "source": [
    "# example: \n",
    "\n",
    "def my_function(param1_placeholder, param2_placeholder):\n",
    "    \n",
    "    value = 'Replace with your calculation'\n",
    "    return value"
   ]
  },
  {
   "cell_type": "markdown",
   "id": "07b4431e",
   "metadata": {},
   "source": [
    "#### Creating a table"
   ]
  },
  {
   "cell_type": "code",
   "execution_count": 3,
   "id": "75785f59",
   "metadata": {},
   "outputs": [],
   "source": [
    "#----------------------------------------------\n",
    "# Create a table (see CheatSheet)\n",
    "#----------------------------------------------\n",
    "\n",
    "def Table(table, header, precisions):\n",
    "    # Check if precisions list length matches table's row count\n",
    "    if len(precisions) != len(table):\n",
    "        raise ValueError(\"Length of precisions list must match the number of rows in the table\")\n",
    "\n",
    "    for i in range(len(table)):\n",
    "        # If precision for this row/column is not None, round the entire row\n",
    "        if precisions[i] is not None:\n",
    "            table[i] = [np.round(val, precisions[i]) for val in table[i]]\n",
    "\n",
    "    table = np.matrix.transpose(np.array(table))\n",
    "    print(tabulate(table, headers=header, tablefmt='fancy_grid'))"
   ]
  },
  {
   "cell_type": "markdown",
   "id": "d2e8fd46",
   "metadata": {},
   "source": [
    "#### <span style='color:darkcyan'> Your functions: </span>"
   ]
  },
  {
   "cell_type": "code",
   "execution_count": null,
   "id": "41dc64ad",
   "metadata": {},
   "outputs": [],
   "source": []
  },
  {
   "cell_type": "markdown",
   "id": "aa491cdb",
   "metadata": {},
   "source": [
    "<div class=\"alert alert-block alert-info\">\n",
    "    <b>Tip</b>: <br/>\n",
    "    1) Here is the place to <b>define all the functions you need</b> in this notebook. This helps to keep your notebook clear and structured.<br/>\n",
    "    2) Add <b>comments</b> to your functions (e.g. what is the function good for, what happens in each line, etc.), so that you and your lab partner will still be able to understand the code at a later time."
   ]
  },
  {
   "cell_type": "markdown",
   "id": "335259b7",
   "metadata": {},
   "source": [
    "## 3. Experiments"
   ]
  },
  {
   "cell_type": "markdown",
   "id": "f61bee2d",
   "metadata": {},
   "source": [
    "### 3.1 Task 1: Conductivity\n",
    "<span style='color:indigo'> <i>\n",
    "    Measure the conductivity $\\sigma$ and the density of a zinc sulfate solution as a function of the concentration.<br/>\n",
    " Calculate the equivalent concentration $c_{eq}$ of the solutions.<br/>\n",
    "Plot $\\sigma$ as a function of $c_{eq}$.<br/>\n",
    "Plot $\\Lambda$ as a function of $\\sqrt{c_{eq}}$.</i></span>"
   ]
  },
  {
   "cell_type": "markdown",
   "id": "89769f2d",
   "metadata": {},
   "source": [
    "One liter of the solution contains $800\\,g \\:ZnSO_4 \\cdot H_2O$."
   ]
  },
  {
   "cell_type": "markdown",
   "id": "56d975c8",
   "metadata": {},
   "source": [
    "<span style='color:darkcyan'> <i>First calculations and constants: Insert the values for z, M, ... ,  q.</i></span>"
   ]
  },
  {
   "cell_type": "code",
   "execution_count": 4,
   "id": "415ffa24",
   "metadata": {},
   "outputs": [
    {
     "data": {
      "text/markdown": [
       "\n",
       "Valence value of the ions: $z = Ellipsis$\n",
       "\n",
       "Molecular weight of the substance $ZnSO_4$: $M = Ellipsis \\,[unit]$\n",
       "\n",
       "Molecular weight of the substance $ZnSO4\\cdot 7\\,H_2O$: $M′ = Ellipsis \\,[unit]$\n",
       "\n",
       "Molar concentration: number of moles of $ZnSO_4$ per liter of solution: $c = Ellipsis \\,[unit]$\n",
       "\n",
       "Equivalent concentration: number of moles of equivalents per liter solution: $c_{eq} = Ellipsis \\,[unit]$\n",
       "\n",
       "Number of ions of one species per unit volume: $N = Ellipsis$\n",
       "\n",
       "Distance between the electrodes: $l = Ellipsis \\,[unit]$\n",
       "\n",
       "Area of the electrodes $q = Ellipsis \\,[unit]$"
      ],
      "text/plain": [
       "<IPython.core.display.Markdown object>"
      ]
     },
     "metadata": {},
     "output_type": "display_data"
    }
   ],
   "source": [
    "z = ...\n",
    "M = ...\n",
    "M_prime = ...\n",
    "c = ...\n",
    "c_eq = ...\n",
    "N = ...\n",
    "l = ...\n",
    "q = ...\n",
    "\n",
    "display(Markdown(f'''\n",
    "Valence value of the ions: $z = {z}$\\n\n",
    "Molecular weight of the substance $ZnSO_4$: $M = {M} \\\\,[unit]$\\n\n",
    "Molecular weight of the substance $ZnSO4\\cdot 7\\,H_2O$: $M′ = {M_prime} \\\\,[unit]$\\n\n",
    "Molar concentration: number of moles of $ZnSO_4$ per liter of solution: $c = {c} \\\\,[unit]$\\n\n",
    "Equivalent concentration: number of moles of equivalents per liter solution: $c_{{eq}} = {c_eq} \\\\,[unit]$\\n\n",
    "Number of ions of one species per unit volume: $N = {N}$\\n\n",
    "Distance between the electrodes: $l = {l} \\\\,[unit]$\\n\n",
    "Area of the electrodes $q = {q} \\\\,[unit]$'''))"
   ]
  },
  {
   "cell_type": "code",
   "execution_count": 5,
   "id": "42a248c8",
   "metadata": {},
   "outputs": [
    {
     "name": "stdout",
     "output_type": "stream",
     "text": [
      "╒════════╤════════╤════════╤════════╤════════╤══════════════╤════════╤════════╤════════╕\n",
      "│ c/c₀   │   c_eq │   R±∆R │   a±∆a │   b±∆b │   b/a±∆(b/a) │   W±∆W │   σ±∆σ │   ⋀±∆⋀ │\n",
      "╞════════╪════════╪════════╪════════╪════════╪══════════════╪════════╪════════╪════════╡\n",
      "│ 1/1    │      0 │      0 │      0 │      0 │            0 │      0 │      0 │      0 │\n",
      "├────────┼────────┼────────┼────────┼────────┼──────────────┼────────┼────────┼────────┤\n",
      "│ 9/10   │      0 │      0 │      0 │      0 │            0 │      0 │      0 │      0 │\n",
      "├────────┼────────┼────────┼────────┼────────┼──────────────┼────────┼────────┼────────┤\n",
      "│ 3/4    │      0 │      0 │      0 │      0 │            0 │      0 │      0 │      0 │\n",
      "├────────┼────────┼────────┼────────┼────────┼──────────────┼────────┼────────┼────────┤\n",
      "│ 6/10   │      0 │      0 │      0 │      0 │            0 │      0 │      0 │      0 │\n",
      "├────────┼────────┼────────┼────────┼────────┼──────────────┼────────┼────────┼────────┤\n",
      "│ 1/2    │      0 │      0 │      0 │      0 │            0 │      0 │      0 │      0 │\n",
      "├────────┼────────┼────────┼────────┼────────┼──────────────┼────────┼────────┼────────┤\n",
      "│ 1/4    │      0 │      0 │      0 │      0 │            0 │      0 │      0 │      0 │\n",
      "├────────┼────────┼────────┼────────┼────────┼──────────────┼────────┼────────┼────────┤\n",
      "│ 1/8    │      0 │      0 │      0 │      0 │            0 │      0 │      0 │      0 │\n",
      "├────────┼────────┼────────┼────────┼────────┼──────────────┼────────┼────────┼────────┤\n",
      "│ 1/16   │      0 │      0 │      0 │      0 │            0 │      0 │      0 │      0 │\n",
      "├────────┼────────┼────────┼────────┼────────┼──────────────┼────────┼────────┼────────┤\n",
      "│ 1/32   │      0 │      0 │      0 │      0 │            0 │      0 │      0 │      0 │\n",
      "├────────┼────────┼────────┼────────┼────────┼──────────────┼────────┼────────┼────────┤\n",
      "│ 1/64   │      0 │      0 │      0 │      0 │            0 │      0 │      0 │      0 │\n",
      "├────────┼────────┼────────┼────────┼────────┼──────────────┼────────┼────────┼────────┤\n",
      "│ 1/128  │      0 │      0 │      0 │      0 │            0 │      0 │      0 │      0 │\n",
      "├────────┼────────┼────────┼────────┼────────┼──────────────┼────────┼────────┼────────┤\n",
      "│ 1/256  │      0 │      0 │      0 │      0 │            0 │      0 │      0 │      0 │\n",
      "╘════════╧════════╧════════╧════════╧════════╧══════════════╧════════╧════════╧════════╛\n"
     ]
    }
   ],
   "source": [
    "header_1 = ['c/c₀', 'c_eq', 'R±∆R', 'a±∆a', 'b±∆b', 'b/a±∆(b/a)', 'W±∆W', 'σ±∆σ', '⋀±∆⋀' ] \n",
    "\n",
    "# c/c0\n",
    "c_to_c0 = ['1/1', '9/10', '3/4', '6/10', '1/2', '1/4', '1/8', '1/16', '1/32', '1/64', '1/128', '1/256' ]\n",
    "\n",
    "# c_eq\n",
    "c_eq_1 = 12*[0] # replace with your data\n",
    "\n",
    "# R±∆R\n",
    "R_1 = 12*[0] # replace with your data\n",
    "\n",
    "# a±∆a\n",
    "a_1 = 12*[0] # replace with your data\n",
    "\n",
    "# b±∆b\n",
    "b_1 = 12*[0] # replace with your data\n",
    "\n",
    "# b/a±∆(b/a)\n",
    "b_over_a_1 = 12*[0] # replace with your data\n",
    "\n",
    "# W±∆W\n",
    "W_1 = 12*[0] # replace with your data\n",
    "\n",
    "# σ±∆σ\n",
    "sigma_1 = 12*[0] # replace with your data\n",
    " \n",
    "# ⋀±∆⋀\n",
    "Lambda_1 = 12*[0] # replace with your data\n",
    "\n",
    "\n",
    "precision_1 = [None,0,0,0,0,0,0,0,0] # replace 0 by adequate values\n",
    "\n",
    "Table([c_to_c0,c_eq_1,R_1,a_1,b_1,b_over_a_1,W_1,sigma_1,Lambda_1], header_1, precision_1)\n",
    "#Table([c_to_c0,8*np.zeros(12)], header_1, np.zeros(9,dtype=int))\n",
    "\n"
   ]
  },
  {
   "cell_type": "markdown",
   "id": "90ca214c",
   "metadata": {},
   "source": [
    "<span style='color:darkcyan'> <i>Plot the conductivity $\\sigma = f(c_{eq})$ and the equivalent conductivity $\\Lambda = f(\\sqrt{c_{eq}})$.</i></span>"
   ]
  },
  {
   "cell_type": "code",
   "execution_count": 6,
   "id": "f19d17c8",
   "metadata": {},
   "outputs": [],
   "source": [
    "# plot sigma"
   ]
  },
  {
   "cell_type": "code",
   "execution_count": 7,
   "id": "2bb12f43",
   "metadata": {},
   "outputs": [],
   "source": [
    "# plot Lambda"
   ]
  },
  {
   "cell_type": "markdown",
   "id": "4b8bcfff",
   "metadata": {},
   "source": [
    "### 3.2 Task 2: Comparison of the conductivities\n",
    "<span style='color:indigo'> <i>\n",
    "    From the conductivity curve $\\sigma = f (c_{eq})$\n",
    "take the maximum value $\\sigma_\\max$\n",
    "of the conductivity and compare it with\n",
    "the conductivity of copper at room\n",
    "temperature:\n",
    "    $$\\sigma_{Cu}= 5.88 \\cdot 10^7 \\Omega^{-1}m^{-1}$$</i></span>"
   ]
  },
  {
   "cell_type": "code",
   "execution_count": 8,
   "id": "e00cb4e8",
   "metadata": {},
   "outputs": [
    {
     "data": {
      "text/markdown": [
       "\n",
       "Comparison of the conductivities: $$\\frac{\\sigma_{Cu}}{(\\sigma_{ZnSO_4})_\\max} = \n",
       "Ellipsis \\,[unit]$$"
      ],
      "text/plain": [
       "<IPython.core.display.Markdown object>"
      ]
     },
     "metadata": {},
     "output_type": "display_data"
    }
   ],
   "source": [
    "sigma_ratio = ...\n",
    "\n",
    "display(Markdown(f'''\n",
    "Comparison of the conductivities: $$\\\\frac{{\\\\sigma_{{Cu}}}}{{(\\\\sigma_{{ZnSO_4}})_\\\\max}} = \n",
    "{sigma_ratio} \\\\,[unit]$$'''))"
   ]
  },
  {
   "cell_type": "markdown",
   "id": "d1c9d7bc",
   "metadata": {},
   "source": [
    "### 3.3 Task 3: Temperature correction\n",
    "<span style='color:indigo'> <i>\n",
    "    Calculate $\\sigma$ for $20°C$ $(σ(20))$ with equation (17).</i></span>"
   ]
  },
  {
   "cell_type": "code",
   "execution_count": null,
   "id": "1b52e4bb",
   "metadata": {},
   "outputs": [],
   "source": []
  },
  {
   "cell_type": "markdown",
   "id": "fef438f4",
   "metadata": {},
   "source": [
    "<span style='color:darkcyan'> <i>Print your results (incl. errors and units).</i></span>"
   ]
  },
  {
   "cell_type": "code",
   "execution_count": null,
   "id": "5a828834",
   "metadata": {},
   "outputs": [],
   "source": []
  },
  {
   "cell_type": "markdown",
   "id": "e857bea1",
   "metadata": {},
   "source": [
    "### 3.4 Task 4+5: Density\n",
    "<span style='color:indigo'> <i>\n",
    "     Measure the density $\\rho$ and plot it as a function of the concentration $c$.<br/>\n",
    "    Calculate the mobility u =\n",
    "$u_-+u_+$ of the ions and plot it as a\n",
    "function of the concentration c.</i></span>"
   ]
  },
  {
   "cell_type": "code",
   "execution_count": 9,
   "id": "d3e0e8f4",
   "metadata": {
    "scrolled": false
   },
   "outputs": [
    {
     "name": "stdout",
     "output_type": "stream",
     "text": [
      "╒════════╤════════╤════════╤════════╤════════╤══════════════╤════════╤════════╤════════╕\n",
      "│ c/c₀   │   c_eq │   R±∆R │   a±∆a │   b±∆b │   b/a±∆(b/a) │   W±∆W │   σ±∆σ │   ⋀±∆⋀ │\n",
      "╞════════╪════════╪════════╪════════╪════════╪══════════════╪════════╪════════╪════════╡\n",
      "│ 1/1    │      0 │      0 │      0 │      0 │            0 │      0 │      0 │      0 │\n",
      "├────────┼────────┼────────┼────────┼────────┼──────────────┼────────┼────────┼────────┤\n",
      "│ 9/10   │      0 │      0 │      0 │      0 │            0 │      0 │      0 │      0 │\n",
      "├────────┼────────┼────────┼────────┼────────┼──────────────┼────────┼────────┼────────┤\n",
      "│ 3/4    │      0 │      0 │      0 │      0 │            0 │      0 │      0 │      0 │\n",
      "├────────┼────────┼────────┼────────┼────────┼──────────────┼────────┼────────┼────────┤\n",
      "│ 6/10   │      0 │      0 │      0 │      0 │            0 │      0 │      0 │      0 │\n",
      "├────────┼────────┼────────┼────────┼────────┼──────────────┼────────┼────────┼────────┤\n",
      "│ 1/2    │      0 │      0 │      0 │      0 │            0 │      0 │      0 │      0 │\n",
      "├────────┼────────┼────────┼────────┼────────┼──────────────┼────────┼────────┼────────┤\n",
      "│ 1/4    │      0 │      0 │      0 │      0 │            0 │      0 │      0 │      0 │\n",
      "├────────┼────────┼────────┼────────┼────────┼──────────────┼────────┼────────┼────────┤\n",
      "│ 1/8    │      0 │      0 │      0 │      0 │            0 │      0 │      0 │      0 │\n",
      "├────────┼────────┼────────┼────────┼────────┼──────────────┼────────┼────────┼────────┤\n",
      "│ 1/16   │      0 │      0 │      0 │      0 │            0 │      0 │      0 │      0 │\n",
      "├────────┼────────┼────────┼────────┼────────┼──────────────┼────────┼────────┼────────┤\n",
      "│ 1/32   │      0 │      0 │      0 │      0 │            0 │      0 │      0 │      0 │\n",
      "├────────┼────────┼────────┼────────┼────────┼──────────────┼────────┼────────┼────────┤\n",
      "│ 1/64   │      0 │      0 │      0 │      0 │            0 │      0 │      0 │      0 │\n",
      "├────────┼────────┼────────┼────────┼────────┼──────────────┼────────┼────────┼────────┤\n",
      "│ 1/128  │      0 │      0 │      0 │      0 │            0 │      0 │      0 │      0 │\n",
      "├────────┼────────┼────────┼────────┼────────┼──────────────┼────────┼────────┼────────┤\n",
      "│ 1/256  │      0 │      0 │      0 │      0 │            0 │      0 │      0 │      0 │\n",
      "╘════════╧════════╧════════╧════════╧════════╧══════════════╧════════╧════════╧════════╛\n"
     ]
    }
   ],
   "source": [
    "header_4 = ['c/c₀', 'T±∆T',  'ρ_gem±∆ρ', 'σ±∆σ', 'σ(20)', 'u₊+u₋', 'I', 'f_A', 'A' ] \n",
    "\n",
    "# c/c0\n",
    "c_to_c0 = ['1/1', '9/10', '3/4', '6/10', '1/2', '1/4', '1/8', '1/16', '1/32', '1/64', '1/128', '1/256' ]\n",
    "\n",
    "# T±∆T\n",
    "T_4 = 12*[0] # replace with your data\n",
    "\n",
    "# ρ_gem±∆ρ\n",
    "rho_4 = 12*[0] # replace with your data\n",
    "\n",
    "# σ±∆σ\n",
    "sigma_4 = 12*[0] # replace with your data\n",
    "\n",
    "# σ(20)\n",
    "sigma20 = 12*[0] # replace with your data\n",
    "\n",
    "# u₊+u₋\n",
    "u_4 = 12*[0] # replace with your data\n",
    "\n",
    "# I\n",
    "I_4 = 12*[0] # replace with your data\n",
    "\n",
    "# f_A\n",
    "fA_4 = 12*[0] # replace with your data\n",
    "\n",
    "# A\n",
    "A_4 = 12*[0] # replace with your data\n",
    " \n",
    "\n",
    "\n",
    "precision_1 = [None,0,0,0,0,0,0,0,0] # replace 0 by adequate values\n",
    "\n",
    "Table([c_to_c0,c_eq_1,R_1,a_1,b_1,b_over_a_1,W_1,sigma_1,Lambda_1], header_1, precision_1)\n",
    "#Table([c_to_c0,8*np.zeros(12)], header_1, np.zeros(9,dtype=int))\n",
    "\n"
   ]
  },
  {
   "cell_type": "markdown",
   "id": "5b58ed05",
   "metadata": {},
   "source": [
    "<span style='color:darkcyan'> <i>Plot $\\rho_{gem} = f(c)$.</i></span>"
   ]
  },
  {
   "cell_type": "code",
   "execution_count": 10,
   "id": "cfb74059",
   "metadata": {},
   "outputs": [],
   "source": [
    "# plot "
   ]
  },
  {
   "cell_type": "markdown",
   "id": "89b9d83c",
   "metadata": {},
   "source": [
    "<span style='color:darkcyan'> <i>Plot $ u = (u_+ + u_-) = f(c)$.</i></span>"
   ]
  },
  {
   "cell_type": "code",
   "execution_count": 11,
   "id": "9793785f",
   "metadata": {},
   "outputs": [],
   "source": [
    "# plot "
   ]
  },
  {
   "cell_type": "markdown",
   "id": "2881c6d1",
   "metadata": {},
   "source": [
    "### 3.6 Task 6: Conductivity - activity\n",
    "<span style='color:indigo'> <i>\n",
    "     Plot the electrical conductivity $\\sigma$\n",
    "against the activity $A$ calculated from equation (10): $\\sigma = f(A)$.\n",
    "</i></span>"
   ]
  },
  {
   "cell_type": "code",
   "execution_count": 12,
   "id": "86b01ecc",
   "metadata": {},
   "outputs": [],
   "source": [
    "# plot"
   ]
  },
  {
   "cell_type": "markdown",
   "id": "31c85535",
   "metadata": {},
   "source": [
    "### 3.7 Task 7: Conductivity - activity\n",
    "<span style='color:indigo'> <i>\n",
    "     Plot the density $\\rho$ against the conductivity $\\sigma(20)$.<br/>\n",
    "    Determine the slope $k$ and the intercept $\\rho(20)_{dest}$ from the linear domain of the graph.<br/>\n",
    "Calculate the density of the solution at\n",
    "$T = 20°C,\\: \\rho(c_0, 20)$ (see equation 18).<br/>\n",
    "Also, compare the difference between the measured density and the\n",
    "density at $20°C$ with the error of the density measurement.\n",
    "</i></span>"
   ]
  },
  {
   "cell_type": "code",
   "execution_count": 13,
   "id": "5e45a714",
   "metadata": {},
   "outputs": [],
   "source": [
    "# plot"
   ]
  },
  {
   "cell_type": "code",
   "execution_count": 14,
   "id": "1579baf8",
   "metadata": {},
   "outputs": [
    {
     "data": {
      "text/markdown": [
       "\n",
       "Intercept: $\\rho(20)_{dest} = Ellipsis \\,[unit]$\n",
       "\n",
       "Slope: $k = Ellipsis \\,[unit]$\n",
       "\n",
       "From equation (18): $\\rho(c_0,20) \\,[unit]$\n",
       "\n",
       "Difference $\\rho_{exp}(c_0)-\\rho(c_0,20) = Ellipsis \\,[unit]$\n",
       "\n",
       "Comparison with measurement error of the determinaiton of the density: $\\Delta\\rho_{gem} = Ellipsis \\,[unit]$\n",
       "\n"
      ],
      "text/plain": [
       "<IPython.core.display.Markdown object>"
      ]
     },
     "metadata": {},
     "output_type": "display_data"
    }
   ],
   "source": [
    "rho20_dest = ...\n",
    "k = ...\n",
    "rho_c0_20 = ...\n",
    "rho_diff= ...\n",
    "delta_rho_exp = ...\n",
    "\n",
    "\n",
    "display(Markdown(f'''\n",
    "Intercept: $\\\\rho(20)_{{dest}} = {rho20_dest} \\\\,[unit]$\\n\n",
    "Slope: $k = {k} \\\\,[unit]$\\n\n",
    "From equation (18): $\\\\rho(c_0,20) \\\\,[unit]$\\n\n",
    "Difference $\\\\rho_{{exp}}(c_0)-\\\\rho(c_0,20) = {rho_diff} \\\\,[unit]$\\n\n",
    "Comparison with measurement error of the determinaiton of the density: $\\\\Delta\\\\rho_{{gem}} = {delta_rho_exp} \\\\,[unit]$\\n\n",
    "'''))"
   ]
  },
  {
   "cell_type": "markdown",
   "id": "3a32edb6",
   "metadata": {},
   "source": [
    "## 4 Discussion"
   ]
  },
  {
   "cell_type": "markdown",
   "id": "7d2e95be",
   "metadata": {},
   "source": [
    "<span style='color:darkcyan'> <i>Are your results realistic? Why (not)? Comparison with theory? </i></span>"
   ]
  },
  {
   "cell_type": "markdown",
   "id": "9330d0e7",
   "metadata": {},
   "source": []
  },
  {
   "cell_type": "markdown",
   "id": "8a52e543",
   "metadata": {},
   "source": [
    "<span style='color:darkcyan'> <i>What measurement errors were assumed? Why? <br/>\n",
    "    What are the main reasons for the errors in your results and how do they come about?</i></span>"
   ]
  },
  {
   "cell_type": "markdown",
   "id": "4416ade5",
   "metadata": {},
   "source": []
  },
  {
   "cell_type": "markdown",
   "id": "0fab5617",
   "metadata": {},
   "source": [
    "<span style='color:darkcyan'> <i>How would you try to reduce the error further? Could you improve the accuracy of the experiment? </i></span>"
   ]
  },
  {
   "cell_type": "markdown",
   "id": "0d50b92e",
   "metadata": {},
   "source": []
  },
  {
   "cell_type": "markdown",
   "id": "f5967c0c",
   "metadata": {},
   "source": [
    "<span style='color:darkcyan'> <i>If you were to repeat the experiment, what would you do differently and why?</i></span>"
   ]
  },
  {
   "cell_type": "markdown",
   "id": "6593ac1e",
   "metadata": {},
   "source": []
  }
 ],
 "metadata": {
  "kernelspec": {
   "display_name": "Python 3 (ipykernel)",
   "language": "python",
   "name": "python3"
  },
  "language_info": {
   "codemirror_mode": {
    "name": "ipython",
    "version": 3
   },
   "file_extension": ".py",
   "mimetype": "text/x-python",
   "name": "python",
   "nbconvert_exporter": "python",
   "pygments_lexer": "ipython3",
   "version": "3.10.12"
  }
 },
 "nbformat": 4,
 "nbformat_minor": 5
}
