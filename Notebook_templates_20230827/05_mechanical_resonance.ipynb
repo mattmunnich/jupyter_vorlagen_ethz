{
 "cells": [
  {
   "cell_type": "markdown",
   "id": "0629b8fb",
   "metadata": {},
   "source": [
    "# Protocol for experiment 05 \"Mechanical Resonance\""
   ]
  },
  {
   "cell_type": "markdown",
   "id": "0b7ce929",
   "metadata": {},
   "source": [
    "**Date:** {2023-MM-DD}  \n",
    "**Version:** {1 for 1st assignment, 2 for corrected assignment, ...}\n",
    " \n",
    " - **Student 1:** {full name}\n",
    " - **Student 2:** {full name}"
   ]
  },
  {
   "cell_type": "markdown",
   "id": "8f0f1d43",
   "metadata": {},
   "source": [
    "## 1. Introduction\n",
    "\n",
    "### 1.1 Introduction to the experiment\n",
    "\n",
    "- What is the experiment about? What is the objective?\n",
    "\n",
    "### 1.2 Summary of theory\n",
    "\n",
    "- Explanation of the formulas used incl. variable labeling (example from preliminary experiment)\n",
    "    - Representation e.g. by  \n",
    "    \"\\\\$\\\\$ T = 2\\pi \\sqrt{\\frac{L}{g}} \\\\$\\\\$\" $\\rightarrow$ \n",
    "    $$T=2\\pi\\sqrt{\\frac{L}{g}}$$  \n",
    "    where $T$ is the period of oscillation of the pendulum for one oscillation, $L$ is the length of the pendulum, and $g$ is the acceleration due to gravity.\n",
    "    - $$\\phi = A \\exp(-\\frac{\\gamma t}{2})\\cos(\\omega t + \\alpha)$$\n",
    "    where $\\phi$ is the displacement of the oscillation, $A$ is the original amplitude of the oscillation, $\\gamma$ is the coefficient of friction, and $\\omega$ is the angular frequency.\n",
    "\n",
    "### 1.3 Tasks\n",
    "\n",
    "- What are the tasks for the experiment?\n",
    "\n",
    "### 1.4 Environmental relevance\n",
    "\n",
    "- How is the experiment relevant to your studies in environmental science? (1-2 sentences)"
   ]
  },
  {
   "cell_type": "markdown",
   "id": "0172593d",
   "metadata": {},
   "source": [
    "## 2. Packages and Functions"
   ]
  },
  {
   "cell_type": "markdown",
   "id": "aad31d47",
   "metadata": {},
   "source": [
    "### 2.1 Load packages\n",
    "You may not use all of these packages. You can comment out the ones you don't need."
   ]
  },
  {
   "cell_type": "code",
   "execution_count": 1,
   "id": "b4170517",
   "metadata": {},
   "outputs": [],
   "source": [
    "# import packages  (not every package is used in each notebook template)\n",
    "\n",
    "# numerical computing\n",
    "import numpy as np                    # Fundamental package for numerical computing in Python\n",
    "\n",
    "# uncertainty calculations\n",
    "from uncertainties import ufloat      # For handling numbers with uncertainties\n",
    "from uncertainties.umath import *     # For applying mathematical functions with uncertainties\n",
    "from uncertainties import unumpy      # For handling uncertainties in arrays\n",
    "\n",
    "# data manipulation and analysis\n",
    "import pandas as pd                   # Powerful data manipulation and analysis library\n",
    "\n",
    "# data visualization in tables\n",
    "from tabulate import tabulate\n",
    "\n",
    "# data visualization in plots\n",
    "import matplotlib.pyplot as plt       # Library for creating static, interactive, and animated visualizations\n",
    "\n",
    "# scientific computing\n",
    "import scipy as sc                    # Open-source scientific computing library\n",
    "from scipy.stats import linregress    # For performing linear regression analysis\n",
    "from scipy.constants import R         # Physical and mathematical constants\n",
    "\n",
    "# interactive display in Jupyter Notebook\n",
    "from IPython.display import display, Markdown  # For displaying rich content (e.g., Markdown) in Jupyter Notebook\n",
    "\n",
    "# standard mathematical functions\n",
    "import math                          # Python's built-in math functions\n",
    "\n",
    "# widgets (to create elements such as dynamic input/output boxes)\n",
    "import ipywidgets as widgets\n",
    "\n",
    "\n"
   ]
  },
  {
   "cell_type": "markdown",
   "id": "40438cc2",
   "metadata": {},
   "source": [
    "### 2.2 Define functions"
   ]
  },
  {
   "cell_type": "code",
   "execution_count": 2,
   "id": "e1c4656a",
   "metadata": {},
   "outputs": [],
   "source": [
    "# example: \n",
    "\n",
    "def my_function(param1_placeholder, param2_placeholder):\n",
    "    \n",
    "    value = 'Replace with your calculation'\n",
    "    return value"
   ]
  },
  {
   "cell_type": "markdown",
   "id": "f1fee462",
   "metadata": {},
   "source": [
    "#### Creating a table"
   ]
  },
  {
   "cell_type": "code",
   "execution_count": 3,
   "id": "debd35e4",
   "metadata": {},
   "outputs": [],
   "source": [
    "#----------------------------------------------\n",
    "# Create a table (see CheatSheet)\n",
    "#----------------------------------------------\n",
    "\n",
    "def Table(table, header, precisions):\n",
    "    # Check if precisions list length matches table's row count\n",
    "    if len(precisions) != len(table):\n",
    "        raise ValueError(\"Length of precisions list must match the number of columns in the table\")\n",
    "\n",
    "    for i in range(len(table)):\n",
    "        # If precision for this row/column is not None, round the entire row\n",
    "        if precisions[i] is not None:\n",
    "            table[i] = [np.round(val, precisions[i]) for val in table[i]]\n",
    "\n",
    "    table = np.matrix.transpose(np.array(table))\n",
    "    print(tabulate(table, headers=header, tablefmt='fancy_grid'))"
   ]
  },
  {
   "cell_type": "markdown",
   "id": "6dd82fad",
   "metadata": {},
   "source": [
    "#### <span style='color:darkcyan'> Your functions: </span>"
   ]
  },
  {
   "cell_type": "code",
   "execution_count": null,
   "id": "2371dd18",
   "metadata": {},
   "outputs": [],
   "source": []
  },
  {
   "cell_type": "code",
   "execution_count": null,
   "id": "a3d0e52e",
   "metadata": {},
   "outputs": [],
   "source": []
  },
  {
   "cell_type": "markdown",
   "id": "aa491cdb",
   "metadata": {},
   "source": [
    "<div class=\"alert alert-block alert-info\">\n",
    "    <b>Tip</b>: <br/>\n",
    "    1) Here is the place to <b>define all the functions you need</b> in this notebook. This helps to keep your notebook clear and structured.<br/>\n",
    "    2) Add <b>comments</b> to your functions (e.g. what is the function good for, what happens in each line, etc.), so that you and your lab partner will still be able to understand the code at a later time."
   ]
  },
  {
   "cell_type": "markdown",
   "id": "335259b7",
   "metadata": {},
   "source": [
    "## 3. Experiments"
   ]
  },
  {
   "cell_type": "markdown",
   "id": "bbf964d2",
   "metadata": {},
   "source": [
    "### 3.1 Experiment 1: Dampened natural oscillation\n",
    "<span style=\"color: indigo;\"><i>\n",
    "        Observe the amplitude of the decaying natural oscillation as a function of time for three different dampings and display them in a logarithmic scale as function of time.<br/>\n",
    "        Determine the values of the damping constants $\\alpha$ from the decay time $\\tau$ of the natural oscillation.\n"
   ]
  },
  {
   "cell_type": "markdown",
   "id": "b95cf676",
   "metadata": {},
   "source": [
    "#### 3.1.1 Measurement data"
   ]
  },
  {
   "cell_type": "markdown",
   "id": "3fead899",
   "metadata": {},
   "source": [
    "<span style='color:darkcyan'> <i>Observe the amplitude of the decaying natural oscillation as a function of time for three different dampings. </i></span>"
   ]
  },
  {
   "cell_type": "markdown",
   "id": "aa577e1b",
   "metadata": {},
   "source": [
    "<div class=\"alert alert-block alert-info\">\n",
    "    <b>Tip</b>: Take care when choosing names for your variables - make sure that you <b>don't use the same name for different variables</b> (throughout the whole notebook!) <br/>\n",
    "    If you measure the same quantity in more than one experiment, you can e.g. include the experiment number in the variable name to make it unique. <br/>\n",
    "    <small>Otherwise the value of the variable will depend on the order in which you execute the cells, which may cause confusion and wrong results if you don't always execute them from top to bottom.</small><br/>"
   ]
  },
  {
   "cell_type": "markdown",
   "id": "984dd4e1",
   "metadata": {},
   "source": [
    "<div class=\"alert alert-block alert-info\">\n",
    "    <b>Tip</b>: If there are multiple measurements of the same quantity, you can use an <b>uarray</b> for each quantity to store the measured values and their errors:  <br/>\n",
    "    <code>array = unumpy.uarray([measured_value_1, measured_value_2, ...], [abs_error_1, abs_error_2, ...])</code>. "
   ]
  },
  {
   "cell_type": "code",
   "execution_count": 5,
   "id": "15fe191d",
   "metadata": {},
   "outputs": [],
   "source": [
    "# ----------------------------------------------\n",
    "# Damping 1\n",
    "# ----------------------------------------------\n",
    "\n",
    "I1 = 0.64     # [A] current \n",
    "T1 = ...      # [unit] oscillation period\n",
    "ω_01 = ...    # [unit] angular frequency\n",
    "\n",
    "# Add your data to the uarrays below; the first data point (t/T = 0 s and A = 110°) is given as example.\n",
    "# Note: the errors for your data won't be 0!\n",
    "\n",
    "t_ratio1 = unumpy.uarray(np.arange(0,25,3),9*[0]) # ratio (measured time t) / (period T); \n",
    "                                                  # replace the zeros with the errors you estimate\n",
    "A1 = unumpy.uarray([110],[0])     # [°] amplitude \n",
    "\n",
    "\n",
    "# ----------------------------------------------\n",
    "# Damping 2\n",
    "# ----------------------------------------------\n",
    "\n",
    "I2 = 0.90     # [A] current\n",
    "T2 = ...      # [unit] oscillation period\n",
    "ω_02 = ...    # [unit] angular frequency\n",
    "\n",
    "t_ratio2 = unumpy.uarray([0,1,2,4,6,8,10,12,14],9*[0]) # ratio (measured time t) / (period T)\n",
    "                                                  # replace the zeros with the errors you estimate\n",
    "A2 = unumpy.uarray([110],[0])     # [°] amplitude [°]\n",
    "\n",
    "\n",
    "# ----------------------------------------------\n",
    "# Damping 3\n",
    "# ----------------------------------------------\n",
    "\n",
    "I3 = 1.20     # [A] current\n",
    "T3 = ...      # [unit] oscillation period\n",
    "ω_03 = ...    # [unit] angular frequency\n",
    "\n",
    "t_ratio3 = unumpy.uarray(np.arange(0,9,1),9*[0]) # ratio (measured time t) / (period T) \n",
    "                                                  # replace the zeros with the errors you estimate\n",
    "A3 = unumpy.uarray([110],[0])     # [°] amplitude \n"
   ]
  },
  {
   "cell_type": "markdown",
   "id": "5ae5b1da",
   "metadata": {},
   "source": [
    "#### 3.1.2 Evaluation"
   ]
  },
  {
   "cell_type": "markdown",
   "id": "bde58918",
   "metadata": {},
   "source": [
    "<span style='color:darkcyan'> <i>Calculate the logarithm of the ratio of the amplitudes $ln(\\frac{A}{A_0})$. </i></span>"
   ]
  },
  {
   "cell_type": "code",
   "execution_count": null,
   "id": "d352dcd3",
   "metadata": {},
   "outputs": [],
   "source": []
  },
  {
   "cell_type": "markdown",
   "id": "c7f59a13",
   "metadata": {},
   "source": [
    "<span style='color:darkcyan'> <i>Complete the tables with your data .<br/>\n",
    "    Make comments in the Markdown below. (e.g. What does which quantity mean?) </i></span>"
   ]
  },
  {
   "cell_type": "code",
   "execution_count": 9,
   "id": "2331d905",
   "metadata": {},
   "outputs": [
    {
     "name": "stdout",
     "output_type": "stream",
     "text": [
      "\n",
      "\n",
      "DAMPING 1\n",
      "I = ...\n",
      "T = ...\n",
      "ω_0 = ...\n",
      "╒══════════╤═════════╤════════════╕\n",
      "│ t/τ      │   A [°] │   ln(A/A0) │\n",
      "╞══════════╪═════════╪════════════╡\n",
      "│ 0.0+/-0  │       0 │          0 │\n",
      "├──────────┼─────────┼────────────┤\n",
      "│ 3.0+/-0  │       0 │          0 │\n",
      "├──────────┼─────────┼────────────┤\n",
      "│ 6.0+/-0  │       0 │          0 │\n",
      "├──────────┼─────────┼────────────┤\n",
      "│ 9.0+/-0  │       0 │          0 │\n",
      "├──────────┼─────────┼────────────┤\n",
      "│ 12.0+/-0 │       0 │          0 │\n",
      "├──────────┼─────────┼────────────┤\n",
      "│ 15.0+/-0 │       0 │          0 │\n",
      "├──────────┼─────────┼────────────┤\n",
      "│ 18.0+/-0 │       0 │          0 │\n",
      "├──────────┼─────────┼────────────┤\n",
      "│ 21.0+/-0 │       0 │          0 │\n",
      "├──────────┼─────────┼────────────┤\n",
      "│ 24.0+/-0 │       0 │          0 │\n",
      "╘══════════╧═════════╧════════════╛\n",
      "\n",
      "\n",
      "DAMPING 2\n",
      "I = ...\n",
      "T = ...\n",
      "ω_0 = ...\n",
      "╒══════════╤═════════╤════════════╕\n",
      "│ t/τ      │   A [°] │   ln(A/A0) │\n",
      "╞══════════╪═════════╪════════════╡\n",
      "│ 0.0+/-0  │       0 │          0 │\n",
      "├──────────┼─────────┼────────────┤\n",
      "│ 1.0+/-0  │       0 │          0 │\n",
      "├──────────┼─────────┼────────────┤\n",
      "│ 2.0+/-0  │       0 │          0 │\n",
      "├──────────┼─────────┼────────────┤\n",
      "│ 4.0+/-0  │       0 │          0 │\n",
      "├──────────┼─────────┼────────────┤\n",
      "│ 6.0+/-0  │       0 │          0 │\n",
      "├──────────┼─────────┼────────────┤\n",
      "│ 8.0+/-0  │       0 │          0 │\n",
      "├──────────┼─────────┼────────────┤\n",
      "│ 10.0+/-0 │       0 │          0 │\n",
      "├──────────┼─────────┼────────────┤\n",
      "│ 12.0+/-0 │       0 │          0 │\n",
      "├──────────┼─────────┼────────────┤\n",
      "│ 14.0+/-0 │       0 │          0 │\n",
      "╘══════════╧═════════╧════════════╛\n",
      "\n",
      "\n",
      "DAMPING 1\n",
      "I = ...\n",
      "T = ...\n",
      "ω_0 = ...\n",
      "╒═════════╤═════════╤════════════╕\n",
      "│ t/τ     │   A [°] │   ln(A/A0) │\n",
      "╞═════════╪═════════╪════════════╡\n",
      "│ 0.0+/-0 │       0 │          0 │\n",
      "├─────────┼─────────┼────────────┤\n",
      "│ 1.0+/-0 │       0 │          0 │\n",
      "├─────────┼─────────┼────────────┤\n",
      "│ 2.0+/-0 │       0 │          0 │\n",
      "├─────────┼─────────┼────────────┤\n",
      "│ 3.0+/-0 │       0 │          0 │\n",
      "├─────────┼─────────┼────────────┤\n",
      "│ 4.0+/-0 │       0 │          0 │\n",
      "├─────────┼─────────┼────────────┤\n",
      "│ 5.0+/-0 │       0 │          0 │\n",
      "├─────────┼─────────┼────────────┤\n",
      "│ 6.0+/-0 │       0 │          0 │\n",
      "├─────────┼─────────┼────────────┤\n",
      "│ 7.0+/-0 │       0 │          0 │\n",
      "├─────────┼─────────┼────────────┤\n",
      "│ 8.0+/-0 │       0 │          0 │\n",
      "╘═════════╧═════════╧════════════╛\n"
     ]
    }
   ],
   "source": [
    "# create a table with your data \n",
    "\n",
    "# ----------------------------------------------\n",
    "# Damping 1\n",
    "# ----------------------------------------------\n",
    "\n",
    "header1a = ['t/τ', 'A [°]', 'ln(A/A0)']\n",
    "\n",
    "table1a = [t_ratio1,\n",
    "          9*[0], # replace with your data \n",
    "          9*[0]\n",
    "          ]\n",
    "\n",
    "precision1a = [None,0,0] # replace 0 with adequate values\n",
    "\n",
    "print('\\n')\n",
    "print('DAMPING 1')\n",
    "print('I = ...')\n",
    "print('T = ...')\n",
    "print('ω_0 = ...')\n",
    "Table(table1a, header1a, precision1a)\n",
    "\n",
    "# ----------------------------------------------\n",
    "# Damping 2\n",
    "# ----------------------------------------------\n",
    "\n",
    "header1b = ['t/τ', 'A [°]', 'ln(A/A0)']\n",
    "\n",
    "table1b = [t_ratio2,\n",
    "          9*[0], # replace with your data \n",
    "          9*[0]\n",
    "          ]\n",
    "\n",
    "precision1b = [None,0,0] # replace 0 with adequate values\n",
    "\n",
    "print('\\n')\n",
    "print('DAMPING 2')\n",
    "print('I = ...')\n",
    "print('T = ...')\n",
    "print('ω_0 = ...')\n",
    "Table(table1b, header1b, precision1b)\n",
    "\n",
    "# ----------------------------------------------\n",
    "# Damping 3\n",
    "# ----------------------------------------------\n",
    "\n",
    "header1c = ['t/τ', 'A [°]', 'ln(A/A0)']\n",
    "\n",
    "table1c = [t_ratio3,\n",
    "          9*[0], # replace with your data \n",
    "          9*[0]\n",
    "          ]\n",
    "\n",
    "precision1c = [None,0,0] # replace 0 with adequate values\n",
    "\n",
    "print('\\n')\n",
    "print('DAMPING 3')\n",
    "print('I = ...')\n",
    "print('T = ...')c\n",
    "print('ω_0 = ...')\n",
    "Table(table1c, header1c, precision1c)\n"
   ]
  },
  {
   "cell_type": "markdown",
   "id": "cd4560a0",
   "metadata": {},
   "source": []
  },
  {
   "cell_type": "markdown",
   "id": "d77eade6",
   "metadata": {},
   "source": [
    "<span style='color:darkcyan'> <i>Plot the logarithmic amplitude ratio as a function of time. <br/>\n",
    "    Create one plot for all three dampings: The data points should be dots with errorbars, and the three dampings indicated by different colors. <br/>\n",
    "    Fit your data with a linear function (e.g. using linregress).</i></span>"
   ]
  },
  {
   "cell_type": "code",
   "execution_count": null,
   "id": "3b74acd0",
   "metadata": {},
   "outputs": [],
   "source": [
    "# plot"
   ]
  },
  {
   "cell_type": "markdown",
   "id": "c4eafa50",
   "metadata": {},
   "source": [
    "<span style='color:darkcyan'> <i>Determine the values of the damping constants $\\alpha$ from the decay time $\\tau$ of the natural oscillation from the linear fit.</i></span>"
   ]
  },
  {
   "cell_type": "code",
   "execution_count": null,
   "id": "9ed254ef",
   "metadata": {},
   "outputs": [],
   "source": [
    "# ----------------------------------------------\n",
    "# Damping 1\n",
    "# ----------------------------------------------\n",
    "\n",
    "# decay time  [unit]\n",
    "tau1 = ...\n",
    "\n",
    "# damping constant [unit]\n",
    "alpha1 = ... \n",
    "\n",
    "\n",
    "# ----------------------------------------------\n",
    "# Damping 2\n",
    "# ----------------------------------------------\n",
    "\n",
    "# decay time  [unit]\n",
    "tau2 = ...\n",
    "\n",
    "# damping constant [unit]\n",
    "alpha2 = ... \n",
    "\n",
    "\n",
    "# ----------------------------------------------\n",
    "# Damping 3\n",
    "# ----------------------------------------------\n",
    "\n",
    "# decay time  [unit]\n",
    "tau3 = ...\n",
    "\n",
    "# damping constant [unit]\n",
    "alpha3 = ... \n"
   ]
  },
  {
   "cell_type": "markdown",
   "id": "51449faa",
   "metadata": {},
   "source": [
    "<span style='color:darkcyan'> <i>Print your results (including errors and units).</i></span>"
   ]
  },
  {
   "cell_type": "code",
   "execution_count": null,
   "id": "af601d9e",
   "metadata": {},
   "outputs": [],
   "source": []
  },
  {
   "cell_type": "markdown",
   "id": "40b8daac",
   "metadata": {},
   "source": [
    "### 3.2 Experiment 2: Forced oscillation\n",
    "<span style=\"color: indigo;\"><i>\n",
    "        For the same dampings as in 1, measure the resonance curves and represent them graphically.\n",
    "<br/>\n",
    "        Determine the values of the damping constants $\\alpha$:<br/>\n",
    "                a) from the decay time $\\tau$ of the natural oscillation.<br/>\n",
    "                b) from the width of the resonance curve (according to the formula (8)).<br/>\n",
    "        Determine the ratio of the three damping constants from the ratio of the resonance amplitudes $A_\\max$ (according to formula (7)).\n",
    "        \n"
   ]
  },
  {
   "cell_type": "markdown",
   "id": "3db55e6b",
   "metadata": {},
   "source": [
    "#### 3.2.1 Measurement data"
   ]
  },
  {
   "cell_type": "markdown",
   "id": "04d35d61",
   "metadata": {},
   "source": [
    "#### Calibration of the speed indicator"
   ]
  },
  {
   "cell_type": "markdown",
   "id": "4ce20ad3",
   "metadata": {},
   "source": [
    "<span style='color:darkcyan'> <i>Perform two measurements to calibrate the speed indicator and create a table with your data. </i></span>"
   ]
  },
  {
   "cell_type": "code",
   "execution_count": null,
   "id": "5abf59ba",
   "metadata": {},
   "outputs": [],
   "source": [
    "# 1st measurement\n",
    "N1_cal = ... # Number of revolutions\n",
    "t1_cal = ... # time [unit]\n",
    "ω1_cal = ... # angular frequency [unit]\n",
    "V_tacho1_cal = ... # tachometer voltage [unit]\n",
    "\n",
    "# 2nd measurement\n",
    "N2_cal = ... # Number of revolutions\n",
    "t2_cal = ... # time [unit]\n",
    "ω2_cal = ... # angular frequency [unit]\n",
    "V_tacho2_cal = ... # tachometer voltage [unit]\n"
   ]
  },
  {
   "cell_type": "code",
   "execution_count": null,
   "id": "e6ba8f53",
   "metadata": {},
   "outputs": [],
   "source": [
    "# table"
   ]
  },
  {
   "cell_type": "markdown",
   "id": "49f9c1c7",
   "metadata": {},
   "source": [
    "<span style='color:darkcyan'> <i>Measure the resonance curves (start each measurement at the eigenfrequency) and complete the table. </i></span>"
   ]
  },
  {
   "cell_type": "code",
   "execution_count": 20,
   "id": "189a1dc2",
   "metadata": {},
   "outputs": [
    {
     "name": "stdout",
     "output_type": "stream",
     "text": [
      "\n",
      "\n",
      "DAMPING 1\n",
      "╒═══════════╤══════════╤══════════╕\n",
      "│ V_tacho   │ ω        │ A        │\n",
      "│ [unit]    │ [unit]   │ [unit]   │\n",
      "╞═══════════╪══════════╪══════════╡\n",
      "╘═══════════╧══════════╧══════════╛\n",
      "\n",
      "\n",
      "DAMPING 2\n",
      "╒═══════╤═════════╤════════════╕\n",
      "│ t/τ   │ A [°]   │ ln(A/A0)   │\n",
      "╞═══════╪═════════╪════════════╡\n",
      "╘═══════╧═════════╧════════════╛\n",
      "\n",
      "\n",
      "DAMPING 3\n",
      "╒═══════╤═════════╤════════════╕\n",
      "│ t/τ   │ A [°]   │ ln(A/A0)   │\n",
      "╞═══════╪═════════╪════════════╡\n",
      "╘═══════╧═════════╧════════════╛\n"
     ]
    }
   ],
   "source": [
    "# create a table with your data \n",
    "\n",
    "# ----------------------------------------------\n",
    "# Damping 1\n",
    "# ----------------------------------------------\n",
    "\n",
    "header2a = ['V_tacho\\n[unit]', 'ω\\n[unit]', 'A\\n[unit]']\n",
    "\n",
    "table2a = [[],\n",
    "           [],\n",
    "           []] # your data\n",
    "\n",
    "precision2a = [0,0,0] # replace 0 with adequate values\n",
    "\n",
    "print('\\n')\n",
    "print('DAMPING 1')\n",
    "\n",
    "Table(table2a, header2a, precision2a)\n",
    "\n",
    "# ----------------------------------------------\n",
    "# Damping 2\n",
    "# ----------------------------------------------\n",
    "\n",
    "header2b = ['t/τ', 'A [°]', 'ln(A/A0)']\n",
    "\n",
    "table2b = [[],\n",
    "           [],\n",
    "           []] # your data\n",
    "\n",
    "precision2b = [0,0,0] # replace 0 with adequate values\n",
    "\n",
    "print('\\n')\n",
    "print('DAMPING 2')\n",
    "\n",
    "Table(table2b, header2b, precision2b)\n",
    "\n",
    "# ----------------------------------------------\n",
    "# Damping 3\n",
    "# ----------------------------------------------\n",
    "\n",
    "header2c = ['t/τ', 'A [°]', 'ln(A/A0)']\n",
    "\n",
    "table2c = [[],\n",
    "           [],\n",
    "           []] # your data\n",
    "\n",
    "precision2c = [0,0,0] # replace 0 with adequate values\n",
    "\n",
    "print('\\n')\n",
    "print('DAMPING 3')\n",
    "\n",
    "Table(table2c, header2c, precision2c)\n"
   ]
  },
  {
   "cell_type": "code",
   "execution_count": null,
   "id": "a7821f26",
   "metadata": {},
   "outputs": [],
   "source": [
    "# table"
   ]
  },
  {
   "cell_type": "markdown",
   "id": "4d69a9b0",
   "metadata": {},
   "source": [
    "#### 3.2.2 Evaluation"
   ]
  },
  {
   "cell_type": "markdown",
   "id": "e92e7b38",
   "metadata": {},
   "source": [
    "<span style='color:darkcyan'> <i>Calculate the constant $C_T = \\omega / V_{tacho}$ for the calibration of the speed indicator. </i></span>"
   ]
  },
  {
   "cell_type": "code",
   "execution_count": null,
   "id": "c4763171",
   "metadata": {},
   "outputs": [],
   "source": []
  },
  {
   "cell_type": "markdown",
   "id": "842a39c6",
   "metadata": {},
   "source": [
    "<span style='color:darkcyan'> <i>Present the resonance curves in a plot. <br/>\n",
    "    Create one plot for all three dampings: The data points should be dots with errorbars, and the three dampings indicated by different colors. </i></span>"
   ]
  },
  {
   "cell_type": "code",
   "execution_count": null,
   "id": "8a8f9d86",
   "metadata": {},
   "outputs": [],
   "source": [
    "# plot"
   ]
  },
  {
   "cell_type": "markdown",
   "id": "9fcf2e1b",
   "metadata": {},
   "source": [
    "<span style='color:darkcyan'> <i>Determine the values of the damping constants\n",
    "α from the width of the resonance curve (according to the formula (8)) and print your results (incl. errors and units).</i></span>"
   ]
  },
  {
   "cell_type": "code",
   "execution_count": null,
   "id": "26adc68f",
   "metadata": {},
   "outputs": [],
   "source": [
    "# ----------------------------------------------\n",
    "# Damping 1\n",
    "# ----------------------------------------------\n",
    "\n",
    "# half width of the resonance curve\n",
    "sigma1_d1 = ... # [unit]\n",
    "sigma2_d1 = ... # [unit]\n",
    "\n",
    "# sigma_m = (sigma1 + sigma2)/2\n",
    "sigma_m_d1 = ... # [unit]\n",
    "\n",
    "A_max_d1 = ... # [unit]\n",
    "\n",
    "\n",
    "# ----------------------------------------------\n",
    "# Damping 2\n",
    "# ----------------------------------------------\n",
    "\n",
    "sigma1_d2 = ... # [unit]\n",
    "sigma2_d2 = ... # [unit]\n",
    "\n",
    "sigma_m_d2 = ... # [unit]\n",
    "\n",
    "A_max_d2 = ... # [unit]\n",
    "\n",
    "\n",
    "# ----------------------------------------------\n",
    "# Damping 1\n",
    "# ----------------------------------------------\n",
    "\n",
    "sigma1_d3 = ... # [unit]\n",
    "sigma2_d3 = ... # [unit]\n",
    "\n",
    "sigma_m_d3 = ... # [unit]\n",
    "\n",
    "A_max_d3 = ... # [unit]"
   ]
  },
  {
   "cell_type": "markdown",
   "id": "74c43da2",
   "metadata": {},
   "source": [
    "<span style='color:darkcyan'> <i>Determine the ratio of the three damping constants from the ratio of the resonance amplitudes $A_\\max$ (according to formula (7)).</i></span>"
   ]
  },
  {
   "cell_type": "code",
   "execution_count": 21,
   "id": "6b8ba1a2",
   "metadata": {
    "scrolled": true
   },
   "outputs": [
    {
     "data": {
      "text/markdown": [
       "\n",
       "\n",
       "__Evaluation of the resonance curves:__ \n",
       "\n",
       "$ \\alpha_{I} : \\alpha_{II} : \\alpha_{III} = \n",
       "1 : \\frac{\\alpha_{II}}{\\alpha_{I}} : \\frac{\\alpha_{III}}{\\alpha_{I}} = \n",
       "1 : 0 : 0 $ \n",
       "\n",
       "\n",
       "$1 : \\frac{1}{A_{maxI}} : \\frac{1}{A_{maxII}} : \\frac{1}{A_{maxIII}} =\n",
       "1 : \\frac{A_{maxI}}{A_{maxII}} : \\frac{A_{maxI}}{A_{maxIII}} =\n",
       "1 : 0 : 0 $ \n",
       " \n",
       "\n"
      ],
      "text/plain": [
       "<IPython.core.display.Markdown object>"
      ]
     },
     "metadata": {},
     "output_type": "display_data"
    }
   ],
   "source": [
    "x = 0 # just some random variable to show how to print variables in a markdown\n",
    "\n",
    "display(Markdown(f'''\n",
    "\n",
    "__Evaluation of the resonance curves:__ \\n\n",
    "$ \\\\alpha_{{I}} : \\\\alpha_{{II}} : \\\\alpha_{{III}} = \n",
    "1 : \\\\frac{{\\\\alpha_{{II}}}}{{\\\\alpha_{{I}}}} : \\\\frac{{\\\\alpha_{{III}}}}{{\\\\alpha_{{I}}}} = \n",
    "1 : {x} : {x} $ \\n\n",
    "\n",
    "$1 : \\\\frac{{1}}{{A_{{maxI}}}} : \\\\frac{{1}}{{A_{{maxII}}}} : \\\\frac{{1}}{{A_{{maxIII}}}} =\n",
    "1 : \\\\frac{{A_{{maxI}}}}{{A_{{maxII}}}} : \\\\frac{{A_{{maxI}}}}{{A_{{maxIII}}}} =\n",
    "1 : {x} : {x} $ \\n \n",
    "\n",
    "'''))\n",
    "\n"
   ]
  },
  {
   "cell_type": "markdown",
   "id": "21e33ef5",
   "metadata": {},
   "source": [
    "<div class=\"alert alert-block alert-info\">\n",
    "    <b>Tip</b>: Printing to a Markdown can be useful, especially if you want to print formule in Latex-style together with your results. Just take care: in the Latex notation, here you always have to use '<code>\\\\</code>' and '<code>{{ }}</code>'! (inside the f-string, a single '<code>{ }</code>' is interpreted as Phython's string formatting braces)"
   ]
  },
  {
   "cell_type": "markdown",
   "id": "092f1b37",
   "metadata": {},
   "source": [
    "## 4 Discussion"
   ]
  },
  {
   "cell_type": "markdown",
   "id": "b27fa21a",
   "metadata": {},
   "source": [
    "<span style='color:darkcyan'> <i>Compare the values for the damping constants you obtained by the two different methods. Do they agree? </i></span>"
   ]
  },
  {
   "cell_type": "markdown",
   "id": "914d3bfb",
   "metadata": {},
   "source": []
  },
  {
   "cell_type": "markdown",
   "id": "58f8140a",
   "metadata": {},
   "source": [
    "<span style='color:darkcyan'> <i>Are your results realistic? Why (not)? Comparison with theory? </i></span>"
   ]
  },
  {
   "cell_type": "markdown",
   "id": "695c0b4b",
   "metadata": {},
   "source": []
  },
  {
   "cell_type": "markdown",
   "id": "2b084548",
   "metadata": {},
   "source": [
    "<span style='color:darkcyan'> <i>What measurement errors were assumed? Why? <br/>\n",
    "    What are the main reasons for the errors in your results and how do they come about?</i></span>"
   ]
  },
  {
   "cell_type": "markdown",
   "id": "afe6ee50",
   "metadata": {},
   "source": []
  },
  {
   "cell_type": "markdown",
   "id": "cc7b6515",
   "metadata": {},
   "source": [
    "<span style='color:darkcyan'> <i>How would you try to reduce the error further? Could you improve the accuracy of the experiment? </i></span>"
   ]
  },
  {
   "cell_type": "markdown",
   "id": "a34b79ec",
   "metadata": {},
   "source": []
  },
  {
   "cell_type": "markdown",
   "id": "3ad3dfcb",
   "metadata": {},
   "source": [
    "<span style='color:darkcyan'> <i>If you were to repeat the experiment, what would you do differently and why?</i></span>"
   ]
  },
  {
   "cell_type": "markdown",
   "id": "49415796",
   "metadata": {},
   "source": []
  },
  {
   "cell_type": "markdown",
   "id": "c81e3950",
   "metadata": {},
   "source": [
    "<div class=\"alert alert-block alert-info\">\n",
    "    <b>Tip</b>: Check again if all your data and results have a <b>unit</b> and an <b>error</b>!"
   ]
  }
 ],
 "metadata": {
  "kernelspec": {
   "display_name": "Python 3 (ipykernel)",
   "language": "python",
   "name": "python3"
  },
  "language_info": {
   "codemirror_mode": {
    "name": "ipython",
    "version": 3
   },
   "file_extension": ".py",
   "mimetype": "text/x-python",
   "name": "python",
   "nbconvert_exporter": "python",
   "pygments_lexer": "ipython3",
   "version": "3.10.12"
  }
 },
 "nbformat": 4,
 "nbformat_minor": 5
}
