{
 "cells": [
  {
   "cell_type": "markdown",
   "id": "8c6c9927-d4eb-4a86-a2c0-82a14c36ae03",
   "metadata": {},
   "source": [
    "# Jupyter Notebook Cheat Sheet"
   ]
  },
  {
   "cell_type": "markdown",
   "id": "19d80ff7-ee00-47ff-87a8-6b890a7bcf02",
   "metadata": {},
   "source": [
    "## General"
   ]
  },
  {
   "cell_type": "markdown",
   "id": "906f316d-7f83-4c92-8d15-e91d8abfb5cb",
   "metadata": {},
   "source": [
    "- Execute code: **Shift + Enter**\n",
    "- Execute code and create a new cell below: **Alt + Enter**\n",
    "- Restart kernel (double arrow at the top): clears all stored values and recalculates the entire notebook from the start\n",
    "- There are different types of cells (select from the top where it says \"Code\", \"Markdown\", ...):\n",
    "  - **Code:** Python; used for calculations, plots, etc.\n",
    "  - **Markdown:** for writing text passages (double-click on a text passage to edit it)\n"
   ]
  },
  {
   "cell_type": "markdown",
   "id": "081e9fcd-4ab1-4f9f-8a99-b9b74e7c2d9f",
   "metadata": {},
   "source": [
    "## Code"
   ]
  },
  {
   "cell_type": "markdown",
   "id": "271fea6e-0a26-44d0-9b76-10a585c1085e",
   "metadata": {},
   "source": [
    "### Helpful functions in Python"
   ]
  },
  {
   "cell_type": "markdown",
   "id": "a5c0c6af-d4c1-4259-8030-3abae5f279d0",
   "metadata": {},
   "source": [
    "- **help()**: Provides information about any built-in function in Python.\n",
    "- **type()**: Returns the type of any variable.\n",
    "- Basic arithmetic operations: **+** , **-** , **\\*** , **/**\n",
    "- **pow(** x, n **)**: $x^n$\n",
    "- Array: specified with square brackets (array=**[x1, x2, ..., xn]**)\n",
    "- **print(** '\\<Text\\>', \\<Variable\\> **)**: Text should be written between quotation marks. Variables can be separated by commas without quotation marks or with the placeholder **'{}'** and **.format(** \\<Variable\\> **)** at the end.  \n",
    "  Inside the {} the output format of the variable can be determined:\n",
    "  - **{:f}**: floating point format\n",
    "  - **{:.2f}**: floating point format with 2 decimal places\n",
    "  - **{:e}**: exponent format \n",
    "- **Comments:** either by\n",
    "    - **#** for single line, or by\n",
    "    - **'''** ... **'''** for multiple lines\n",
    " "
   ]
  },
  {
   "cell_type": "markdown",
   "id": "6a6a04a1",
   "metadata": {},
   "source": [
    "Additionally, there are various packages (which need to be first imported using \"import\"):"
   ]
  },
  {
   "cell_type": "markdown",
   "id": "d57d0656-bbbd-4e29-8442-949f3a0cf2de",
   "metadata": {},
   "source": [
    "### numpy "
   ]
  },
  {
   "cell_type": "code",
   "execution_count": 1,
   "id": "f209d9c1",
   "metadata": {},
   "outputs": [],
   "source": [
    "import numpy as np  # import numpy package"
   ]
  },
  {
   "cell_type": "markdown",
   "id": "5cfd1fe9-6b47-4d08-ba98-35002a9f49cd",
   "metadata": {},
   "source": [
    "- important constants: z.B. $\\pi$ = __np.pi__, $e$ =           __np.e__\n",
    "- __np.sin()__, __np.cos()__, __np.tan()__,... : input in rad!\n",
    "- __np.degrees()__, __np.radians()__: converts radians to degrees and vice versa\n",
    "- __np.sqrt()__: $\\sqrt{x}$\n",
    "- __np.exp()__: $e^{x}$\n",
    "- __np.log()__\n",
    "- __np.sum(__ \\<array> __)__: calculates sum of all elements $x_i$ of an arrays:  \n",
    "  $\\sum_{i=1}^{n}x_i$\n",
    "- __np.mean(__ \\<array> __)__: mean value  \n",
    "  $\\overline{x}=\\frac{1}{n}\\,\\sum_{i=1}^{n}x_i$\n",
    "- __np.std(__ \\<array> __)__: standard deviation  \n",
    "  $\\sigma=\\sqrt{\\frac{1}{n}\\sum_{i=1}^{n}(x_i-x_0)^2}$\n",
    "- __np.linspace(__ \\<min>, \\<max>, N __)__: creates array with N values from \\<min> to \\<max>\n",
    "- __np.arange(__ \\<min>, \\<max>, \\<step size> __)__: creates array from \\<min> to \\<max> (\\<max\\> is not included in the array) with defined wtep size\n",
    "- __np.random.normal(__ \\<mean>, \\<standard deviation>, N __)__: generates N random Gauss-distributed values"
   ]
  },
  {
   "cell_type": "markdown",
   "id": "513f76e0-8511-4ea9-bfe9-25738f0ed00e",
   "metadata": {},
   "source": [
    "### matplotlib.pyplot (for plotting)"
   ]
  },
  {
   "cell_type": "code",
   "execution_count": 2,
   "id": "934f2d78",
   "metadata": {},
   "outputs": [],
   "source": [
    "import matplotlib.pyplot as plt  "
   ]
  },
  {
   "cell_type": "markdown",
   "id": "d44efc9d-8b71-4ec9-af67-e2ac7011fa00",
   "metadata": {},
   "source": [
    "- __plt.plot(__ \\<x-values>, \\<y-values> __)__\n",
    "- __plt.xlabel(__ \\<label for x-axis> __)\n",
    "- __plt.ylabel(__ \\<label for y-axis> __)\n",
    "- __plt.errorbar(__ \\<x-values>, \\<y-values>, __yerr=__ \\<length of errorbar> __)__ (yerr plotts vertical errorbars, xerr for horizontal ones)\n",
    "- __plt.title(__ \\<title of the plot> __)  \n",
    "  \n",
    "<span style='color:darkcyan'> <i>--> See section 'useful examples for coding'</i></span>"
   ]
  },
  {
   "cell_type": "markdown",
   "id": "99fb2422-db2a-4c29-a5fa-b29766150e76",
   "metadata": {},
   "source": [
    "### uncertainties (for error calculation)"
   ]
  },
  {
   "cell_type": "code",
   "execution_count": 3,
   "id": "d3144e2e",
   "metadata": {},
   "outputs": [],
   "source": [
    "from uncertainties import ufloat\n",
    "from uncertainties.umath import * # additional functions (sin,cos,etc.))\n",
    "from uncertainties import unumpy "
   ]
  },
  {
   "cell_type": "markdown",
   "id": "4e132dbb-0853-4913-914c-be24b0b19803",
   "metadata": {},
   "source": [
    "**ufloat**\n",
    "- __ufloat(__ \\<value>, \\<absolute error> __)__: defines a new type of variables, which contains the nominal value and the error at the same time; e.g. var = ufloat(x, sigma)  \n",
    "- \\<ufloat variable>__.n__: to access nominal value (e.g. var.n -> x)\n",
    "- \\<ufloat variable>__.s__: to access standard deviation (z.B. var.s -> sigma)\n",
    "- print with __{:P}__ ('pretty-printing')\n"
   ]
  },
  {
   "cell_type": "code",
   "execution_count": 4,
   "id": "b1218386",
   "metadata": {},
   "outputs": [
    {
     "name": "stdout",
     "output_type": "stream",
     "text": [
      "ufloat variable v: 13.40±0.10\n",
      "nominal value of v: 13.4\n",
      "standard deviation (error) of v: 0.1\n"
     ]
    }
   ],
   "source": [
    "# example\n",
    "\n",
    "# create a ufloat called 'v'\n",
    "v = ufloat(13.4, 0.1)\n",
    "\n",
    "# access nominal value of 'v'\n",
    "v_nominal = v.n\n",
    "\n",
    "# access standard deviationv of 'v'\n",
    "v_stdev = v.s\n",
    "\n",
    "# print 'v'\n",
    "print('ufloat variable v: {:P}'.format(v))\n",
    "print('nominal value of v:', v_nominal)\n",
    "print('standard deviation (error) of v:', v_stdev)"
   ]
  },
  {
   "cell_type": "markdown",
   "id": "6c4e1b1f",
   "metadata": {},
   "source": [
    "**uarray**\n",
    "- __unumpy.uarray(\\[__ \\<value_1>, \\<value_2> ... __\\], \\[__ \\<absolute_error_1>, \\<absolute_error_2>, ... __\\])__: defines a 'matrix'-like variable, which contains an array of the nominal values and an array of the errors \n",
    "- **unumpy.nominal_values()**: to access the array of nominal values\n",
    "- **unumpy.standard_deviations()**: to access the array standard deviation \n"
   ]
  },
  {
   "cell_type": "code",
   "execution_count": 5,
   "id": "3174413e",
   "metadata": {},
   "outputs": [
    {
     "name": "stdout",
     "output_type": "stream",
     "text": [
      "uarray a: [10.0+/-0.1 11.0+/-0.3 12.0+/-0.2]\n",
      "first element of a: 10.00±0.10\n",
      "nominal values:  [10. 11. 12.]\n",
      "standard deviations:  [0.1 0.3 0.2]\n"
     ]
    }
   ],
   "source": [
    "# example\n",
    "\n",
    "# create an uncertainty array called 'a'\n",
    "a = unumpy.uarray([10, 11, 12], \n",
    "                  [0.1, 0.3, 0.2])\n",
    "\n",
    "# access one element of a\n",
    "a1 = a[0] # Caution: The counting of the elements of an array starts with index 0!\n",
    "\n",
    "# access nominal values of 'a'\n",
    "a_nominal = unumpy.nominal_values(a)\n",
    "\n",
    "# access standard deviations\n",
    "a_stdev = unumpy.std_devs(a)\n",
    "\n",
    "print('uarray a:', a)\n",
    "print('first element of a: {:P}'.format(a1))\n",
    "print('nominal values: ', a_nominal)\n",
    "print('standard deviations: ', a_stdev)"
   ]
  },
  {
   "cell_type": "markdown",
   "id": "1f2e3ad1-6da8-4918-b3d3-b5a3578c4153",
   "metadata": {},
   "source": [
    "### linregress (Lineare Regression)"
   ]
  },
  {
   "cell_type": "code",
   "execution_count": 6,
   "id": "162fb0e6",
   "metadata": {},
   "outputs": [],
   "source": [
    "from scipy.stats import linregress"
   ]
  },
  {
   "cell_type": "markdown",
   "id": "13167fcc-d486-4449-9dd4-809665354e3b",
   "metadata": {},
   "source": [
    "- __linregress(__ \\<x-values>, \\<y-values> __)__: fits regression line $f(x) = a*x + b$ for a list of x-/y-values\n",
    "- __.slope__ -> slope a\n",
    "- __.stderr__ -> standard deviation (error) of slope a\n",
    "- __.intercept__ -> intercept b\n",
    "- **.intercept_stderr** -> standard deviation of b"
   ]
  },
  {
   "cell_type": "markdown",
   "id": "db5a383c-c961-4177-9663-cff2a31ed89f",
   "metadata": {
    "tags": []
   },
   "source": [
    "For further information use __help()__ oder the internet."
   ]
  },
  {
   "cell_type": "markdown",
   "id": "fce21c50-da17-4601-acd0-34a0be595516",
   "metadata": {},
   "source": [
    "## Markdown"
   ]
  },
  {
   "cell_type": "markdown",
   "id": "9025fd77-38e9-42d8-a05f-6fd7cf5fc355",
   "metadata": {},
   "source": [
    "Basics for formatting:\n",
    "- __#__ Heading level 1  \n",
    "  __\\##__ Heading level 2\n",
    "- __\\$__ \\<Formula in Latex-style; inline> __\\$__, e.g. $ E = m c^2 $ \n",
    "- __\\$\\$__ \\<Formula in Latex-style; new line> __\\$\\$__, e.g. $$ \\mathcal{L} = - \\frac{1}{4} F_{\\mu \\nu} F^{\\mu \\nu} + i \\bar{\\psi} D_{\\mu}\\gamma^{\\mu} \\psi + h.c. + \\bar{\\psi}_i y_{ij} \\psi_j \\phi + h.c. + |D_\\mu \\phi|^2 - V(\\phi) $$  \n",
    "- **__** __bold__ **__** or __**__ **bold** __**__\n",
    "- __*__ *italic* __*__\n",
    "- Line break: 2 spaces or \\<br/>\n",
    "- __-__ List\n",
    "- Insert picture: display(Image(filename=\"/path/to/file.png\"))"
   ]
  },
  {
   "cell_type": "markdown",
   "id": "99269c31",
   "metadata": {},
   "source": [
    "# Useful examples for coding"
   ]
  },
  {
   "cell_type": "markdown",
   "id": "086b876d",
   "metadata": {},
   "source": [
    "## Define a function"
   ]
  },
  {
   "cell_type": "code",
   "execution_count": 7,
   "id": "c294b887",
   "metadata": {},
   "outputs": [],
   "source": [
    "def my_function(param1_placeholder, param2_placeholder):\n",
    "    \n",
    "    value = 'Replace with your calculation'\n",
    "    return value"
   ]
  },
  {
   "cell_type": "markdown",
   "id": "88aba728",
   "metadata": {},
   "source": [
    "This function takes two parameters and returns the result of your calculation.  \n",
    "\n",
    "**Parameters:**  \n",
    "param1_placeholder: Replace this with your first parameter.  \n",
    "param2_placeholder: Replace this with your second parameter.  \n",
    "    \n",
    "**Returns:**  \n",
    "\"value\" (the result of your calculation)"
   ]
  },
  {
   "cell_type": "markdown",
   "id": "c404762d",
   "metadata": {},
   "source": [
    "## Import data from a csv file"
   ]
  },
  {
   "cell_type": "markdown",
   "id": "084625e5",
   "metadata": {},
   "source": [
    "**1. Import pandas** (already done in the templates in section 'import packages')"
   ]
  },
  {
   "cell_type": "code",
   "execution_count": 8,
   "id": "486b0844",
   "metadata": {},
   "outputs": [],
   "source": [
    "import pandas as pd"
   ]
  },
  {
   "cell_type": "markdown",
   "id": "84ff01be",
   "metadata": {},
   "source": [
    "**2. Read the csv file:**  \n",
    "- save the csv file in the same directory as your notebook  \n",
    "- replace <code>./path/to/your/file.csv</code> with the path to your csv file and uncomment"
   ]
  },
  {
   "cell_type": "code",
   "execution_count": 9,
   "id": "c2ea4835",
   "metadata": {},
   "outputs": [],
   "source": [
    "# data = pd.read_csv('./path/to/your/file.csv') "
   ]
  },
  {
   "cell_type": "markdown",
   "id": "f17843eb",
   "metadata": {},
   "source": [
    "This returns a DataFrame (something like a matrix) called <code>data</code> in which the data of your csv file is stored.  \n",
    "The first line of your csv file is the header of the DataFrame. It can be used to acess the individual columns."
   ]
  },
  {
   "cell_type": "markdown",
   "id": "c192ffff",
   "metadata": {},
   "source": [
    "**3. Acess the columns:**  \n",
    "For further calculations it might be useful to store the columns in separate arrays"
   ]
  },
  {
   "cell_type": "code",
   "execution_count": 10,
   "id": "2c3e4597",
   "metadata": {},
   "outputs": [],
   "source": [
    "# data_column1, data_column_2 = data.column1, data.column2"
   ]
  },
  {
   "cell_type": "markdown",
   "id": "7aa512c2",
   "metadata": {},
   "source": [
    "This creates two arrays called <code>data_column1</code> and <code>data_column2</code> with the data of the columns called <i>'column1'</i> and <i>'column2'</i> in your csv file, respectively."
   ]
  },
  {
   "cell_type": "markdown",
   "id": "fdf2e99b",
   "metadata": {},
   "source": [
    "**4. Display the DataFrame:**  "
   ]
  },
  {
   "cell_type": "code",
   "execution_count": 11,
   "id": "d28e3fe7",
   "metadata": {},
   "outputs": [],
   "source": [
    "# display(data)"
   ]
  },
  {
   "cell_type": "markdown",
   "id": "04083adc",
   "metadata": {},
   "source": [
    "Displays the DataFrame <code>data</code> which contains your data."
   ]
  },
  {
   "cell_type": "markdown",
   "id": "1c03a8d8",
   "metadata": {},
   "source": [
    "## Create a table\n",
    "You can create a table of your data either by importing the data from a csv file or by typing it manually into arrays:"
   ]
  },
  {
   "cell_type": "markdown",
   "id": "9a0ae1db",
   "metadata": {},
   "source": [
    "**1. Import necessary packages** (already done in the templates in section 'import packages')"
   ]
  },
  {
   "cell_type": "code",
   "execution_count": 12,
   "id": "03c364fa",
   "metadata": {},
   "outputs": [],
   "source": [
    "import numpy as np\n",
    "from tabulate import tabulate"
   ]
  },
  {
   "cell_type": "markdown",
   "id": "51db7d68",
   "metadata": {},
   "source": [
    "**2. Define a function <code>Table</code> that creates a table for the following input parameter:**\n",
    "- **table:** matrix with your data\n",
    "- **header:** array of names of your columns (has to have as many elements as your data matrix has columns)\n",
    "- **precision:** array of the precision to which the values in each column should be rounded (has to have as many elements as your data matrix has columns);  \n",
    "If you don't want to apply round() to a specific column (e.g. if you have a column which contains strings), you can put 'None' as element in the corresponding position in the array."
   ]
  },
  {
   "cell_type": "code",
   "execution_count": 13,
   "id": "a6e590b2",
   "metadata": {},
   "outputs": [],
   "source": [
    "import numpy as np\n",
    "from tabulate import tabulate\n",
    "\n",
    "def Table(table, header, precisions):\n",
    "    # Check if precisions list length matches table's row count\n",
    "    if len(precisions) != len(table):\n",
    "        raise ValueError(\"Length of precisions list must match the number of columns in the table\")\n",
    "\n",
    "    for i in range(len(table)):\n",
    "        # If precision for this row/column is not None, round the entire row\n",
    "        if precisions[i] is not None:\n",
    "            table[i] = [np.round(val, precisions[i]) for val in table[i]]\n",
    "\n",
    "    table = np.matrix.transpose(np.array(table))\n",
    "    print(tabulate(table, headers=header, tablefmt='fancy_grid'))\n"
   ]
  },
  {
   "cell_type": "markdown",
   "id": "4df7071b",
   "metadata": {},
   "source": [
    "**3a. Insert the data**:  \n",
    "Either by reading it from a csv file or by manually typing it into arrays (like in this example):"
   ]
  },
  {
   "cell_type": "code",
   "execution_count": 14,
   "id": "656b163d",
   "metadata": {},
   "outputs": [],
   "source": [
    "# manually creating arrays with some random data\n",
    "# each array has to have the same number of elements\n",
    "column1, errors1 = [1.42545,2.4235,3.324,4.435,5.135,6.46,7.24], [0.1,0.2,0.3,0.4,0.5,0.6,0.7] \n",
    "column2, errors2 = [1.42545,2.4235,3.324,4.435,5.135,6.46,7.24], [1,2,3,4,5,6,7]\n",
    "\n",
    "# store the data in a matrix called 'table'\n",
    "table = [column1, errors1, column2, errors2] \n",
    "\n",
    "# create an array for the header\n",
    "header = ['data1 [unit]', 'error_data1 [unit]', 'data2', 'error_data2'] # has to have the same number of elements as 'table' table.\n",
    "\n",
    "# create an array for 'precision'\n",
    "precision = [2, 1, None, 0]"
   ]
  },
  {
   "cell_type": "markdown",
   "id": "d2977409",
   "metadata": {},
   "source": [
    "**3b. Insert the data using uarray**:  \n",
    "uncomment 3b and comment 3a to try"
   ]
  },
  {
   "cell_type": "code",
   "execution_count": 15,
   "id": "fbdb4098",
   "metadata": {},
   "outputs": [
    {
     "data": {
      "text/plain": [
       "\"\\n# manually creating uarrays with some random data\\n# each array has to have the same number of elements\\ncolumn1, errors1 = uarray([1.42545,2.4235,3.324,4.435,5.135,6.46,7.24], [0.1,0.2,0.3,0.4,0.5,0.6,0.7]) \\ncolumn2, errors2 = uarray([1.42545,2.4235,3.324,4.435,5.135,6.46,7.24], [1,2,3,4,5,6,7])\\n\\n# store the data in a matrix called 'table'\\ntable = [column1, errors1, column2, errors2] \\n\\n# create an array for the header\\nheader = ['data1 [Einheit]', 'error_data1 [Einheit]', 'data2', 'error_data2'] # muss selbe Anzahl Einträge haben wie table.\\n\\n# create an array for 'precision'\\nprecision = [2, 1, None, None]\\n\""
      ]
     },
     "execution_count": 15,
     "metadata": {},
     "output_type": "execute_result"
    }
   ],
   "source": [
    "'''\n",
    "# manually creating uarrays with some random data\n",
    "# each array has to have the same number of elements\n",
    "column1, errors1 = uarray([1.42545,2.4235,3.324,4.435,5.135,6.46,7.24], [0.1,0.2,0.3,0.4,0.5,0.6,0.7]) \n",
    "column2, errors2 = uarray([1.42545,2.4235,3.324,4.435,5.135,6.46,7.24], [1,2,3,4,5,6,7])\n",
    "\n",
    "# store the data in a matrix called 'table'\n",
    "table = [column1, errors1, column2, errors2] \n",
    "\n",
    "# create an array for the header\n",
    "header = ['data1 [Einheit]', 'error_data1 [Einheit]', 'data2', 'error_data2'] # muss selbe Anzahl Einträge haben wie table.\n",
    "\n",
    "# create an array for 'precision'\n",
    "precision = [2, 1, None, None]\n",
    "'''"
   ]
  },
  {
   "cell_type": "markdown",
   "id": "d0f0756f",
   "metadata": {},
   "source": [
    "**4. Create the table:**"
   ]
  },
  {
   "cell_type": "code",
   "execution_count": 16,
   "id": "bd9c5857",
   "metadata": {
    "scrolled": true
   },
   "outputs": [
    {
     "name": "stdout",
     "output_type": "stream",
     "text": [
      "╒════════════════╤══════════════════════╤═════════╤═══════════════╕\n",
      "│   data1 [unit] │   error_data1 [unit] │   data2 │   error_data2 │\n",
      "╞════════════════╪══════════════════════╪═════════╪═══════════════╡\n",
      "│           1.43 │                  0.1 │ 1.42545 │             1 │\n",
      "├────────────────┼──────────────────────┼─────────┼───────────────┤\n",
      "│           2.42 │                  0.2 │ 2.4235  │             2 │\n",
      "├────────────────┼──────────────────────┼─────────┼───────────────┤\n",
      "│           3.32 │                  0.3 │ 3.324   │             3 │\n",
      "├────────────────┼──────────────────────┼─────────┼───────────────┤\n",
      "│           4.43 │                  0.4 │ 4.435   │             4 │\n",
      "├────────────────┼──────────────────────┼─────────┼───────────────┤\n",
      "│           5.14 │                  0.5 │ 5.135   │             5 │\n",
      "├────────────────┼──────────────────────┼─────────┼───────────────┤\n",
      "│           6.46 │                  0.6 │ 6.46    │             6 │\n",
      "├────────────────┼──────────────────────┼─────────┼───────────────┤\n",
      "│           7.24 │                  0.7 │ 7.24    │             7 │\n",
      "╘════════════════╧══════════════════════╧═════════╧═══════════════╛\n"
     ]
    }
   ],
   "source": [
    "Table(table, header, precision) "
   ]
  },
  {
   "cell_type": "markdown",
   "id": "062dc508",
   "metadata": {},
   "source": [
    "## Create a plot"
   ]
  },
  {
   "cell_type": "markdown",
   "id": "9176bd9a",
   "metadata": {},
   "source": [
    "**1. Import necessary packages** (already done in the templates in section 'import packages')"
   ]
  },
  {
   "cell_type": "code",
   "execution_count": 17,
   "id": "76bc54e8",
   "metadata": {},
   "outputs": [],
   "source": [
    "import matplotlib.pyplot as plt\n",
    "import numpy as np\n",
    "from uncertainties import ufloat, unumpy # for 2b, 3b\n",
    "from scipy.stats import linregress # for linear regression"
   ]
  },
  {
   "cell_type": "markdown",
   "id": "88279d9b",
   "metadata": {},
   "source": [
    "**2a. Data for the plot:**  \n",
    "(to be replaced with your data)"
   ]
  },
  {
   "cell_type": "code",
   "execution_count": 18,
   "id": "b472bae5",
   "metadata": {},
   "outputs": [],
   "source": [
    "# Sample data for the x and y coordinates \n",
    "# You can replace this with your x and y data\n",
    "x = np.linspace(0, 10, 50)  # create an array with 50 evenly spaced numbers in the interval [0, 10]\n",
    "y = np.sin(x)              \n",
    "\n",
    "# Sample error data for x and y (you can replace these with your error values)\n",
    "x_error = 0.1\n",
    "y_error = 0.05"
   ]
  },
  {
   "cell_type": "markdown",
   "id": "e55b4035",
   "metadata": {},
   "source": [
    "**3a. Creating the plot (incl. linear regression):**"
   ]
  },
  {
   "cell_type": "code",
   "execution_count": 19,
   "id": "8ff1d277",
   "metadata": {},
   "outputs": [
    {
     "data": {
      "image/png": "[encoded data removed]",
      "text/plain": [
       "<Figure size 1000x600 with 1 Axes>"
      ]
     },
     "metadata": {},
     "output_type": "display_data"
    }
   ],
   "source": [
    "# Creating the plot\n",
    "plt.figure(figsize=(10, 6))  # Adjusting the size of the plot\n",
    "\n",
    "# Plotting the data with error bars\n",
    "# There are different types of plots, you can choose the appropriate(s) one depending on your needs\n",
    "plt.plot(x, y, label='Line', color='darkblue')\n",
    "plt.scatter(x, y, s=10, label='Dots', color='darkgreen') # s = size of the dots\n",
    "plt.errorbar(x, y, xerr=x_error, yerr=y_error, fmt='.', label='Dots with errorbars', capsize=2, color='darkred')\n",
    "\n",
    "# Labeling the x and y axes\n",
    "plt.xlabel('Time (s)')  # Replace with the appropriate label for the x-axis\n",
    "plt.ylabel('Amplitude') # Replace with the appropriate label for the y-axis\n",
    "\n",
    "# Adding a title to the plot\n",
    "plt.title('Time vs Amplitude') # Replace with an appropriate title\n",
    "\n",
    "# Limiting the axes manually\n",
    "plt.xlim(0, 10) # Replace with the desired limits for the x-axis\n",
    "plt.ylim(-1.5, 1.5) # Replace with the desired limits for the y-axis\n",
    "\n",
    "\n",
    "# ---------------------------------------\n",
    "# Adding a linear regression if necessary\n",
    "# ---------------------------------------\n",
    "\n",
    "# Filter the data points that lie in the desired x-interval\n",
    "interval = (x >= 2.2) & (x <= 4)\n",
    "x_filtered = x[interval]\n",
    "y_filtered = y[interval]\n",
    "\n",
    "# Calculate the linear regression and assign it to the variables slope, intercept, ...\n",
    "slope, intercept, r_value, p_value, std_err = linregress(x_filtered, y_filtered)\n",
    "\n",
    "# Define interval for plotting the regression line\n",
    "x_interval = np.array([1.8, 4.4])\n",
    "\n",
    "# Regression line\n",
    "y_regression = slope * x_interval + intercept\n",
    "\n",
    "# Plot the regression line\n",
    "plt.plot(x_interval, y_regression, color='green', label='Regression line (filtered data)')\n",
    "\n",
    "# ----------------------------------------\n",
    "\n",
    "# Adding a legend to the plot\n",
    "plt.legend(loc='upper right') # You can adjust the location of the legend as needed\n",
    "\n",
    "# Display the plot\n",
    "plt.show()"
   ]
  },
  {
   "cell_type": "markdown",
   "id": "39bd70d9",
   "metadata": {},
   "source": [
    "**2b. Alternative: using uarray**  \n",
    "(to be replaced with your data)"
   ]
  },
  {
   "cell_type": "code",
   "execution_count": 20,
   "id": "ba497185",
   "metadata": {},
   "outputs": [],
   "source": [
    "# Sample data with uncertainties (uarrays)\n",
    "# Replace these with your uarray data\n",
    "x2_uarray = unumpy.uarray(np.linspace(0, 10, 50), 0.1) # error 0.1 for all values\n",
    "y2_uarray = unumpy.sin(x2_uarray) # calculates y-error automatically from x-error\n",
    "\n",
    "# Extracting nominal values and standard deviations for x and y\n",
    "x2 = unumpy.nominal_values(x2_uarray) # create array x2 with only nominal values of x2_uarray\n",
    "y2 = unumpy.nominal_values(y2_uarray)\n",
    "x2_error = unumpy.std_devs(x2_uarray) # create array x2 with only standard deviations (errors) of x2_uarray\n",
    "y2_error = unumpy.std_devs(y2_uarray)\n",
    "\n",
    "\n"
   ]
  },
  {
   "cell_type": "markdown",
   "id": "56a05efc",
   "metadata": {},
   "source": [
    "**3b. Creating the plot:**  \n",
    "exactly the same as before, only replace the x- and y-data and errors by <code>x2, y2, x2_error, y2_error</code>"
   ]
  },
  {
   "cell_type": "code",
   "execution_count": 21,
   "id": "a2d6adbf",
   "metadata": {},
   "outputs": [
    {
     "data": {
      "image/png": "[encoded data removed]",
      "text/plain": [
       "<Figure size 1000x600 with 1 Axes>"
      ]
     },
     "metadata": {},
     "output_type": "display_data"
    }
   ],
   "source": [
    "# Creating the plot\n",
    "plt.figure(figsize=(10, 6))  # Adjusting the size of the plot\n",
    "\n",
    "# Plotting the data with error bars\n",
    "# There are different types of plots, you can choose the appropriate(s) one depending on your needs\n",
    "plt.plot(x2, y2, label='Line', color='darkblue')\n",
    "plt.scatter(x2, y2, s=10, label='Dots', color='darkgreen') # s = size of the dots\n",
    "plt.errorbar(x2, y2, xerr=x2_error, yerr=y2_error, fmt='.', label='Dots with errorbars', capsize=2, color='darkred')\n",
    "\n",
    "# Labeling the x and y axes\n",
    "plt.xlabel('Time (s)')  # Replace with the appropriate label for the x-axis\n",
    "plt.ylabel('Amplitude') # Replace with the appropriate label for the y-axis\n",
    "\n",
    "# Adding a title to the plot\n",
    "plt.title('Time vs Amplitude') # Replace with an appropriate title\n",
    "\n",
    "# Adding a legend to the plot\n",
    "plt.legend(loc='upper right') # You can adjust the location of the legend as needed\n",
    "\n",
    "# Limiting the axes manually\n",
    "plt.xlim(0, 10) # Replace with the desired limits for the x-axis\n",
    "plt.ylim(-1.5, 1.5) # Replace with the desired limits for the y-axis\n",
    "\n",
    "# Displaying the plot\n",
    "plt.show()"
   ]
  }
 ],
 "metadata": {
  "kernelspec": {
   "display_name": "Python 3 (ipykernel)",
   "language": "python",
   "name": "python3"
  },
  "language_info": {
   "codemirror_mode": {
    "name": "ipython",
    "version": 3
   },
   "file_extension": ".py",
   "mimetype": "text/x-python",
   "name": "python",
   "nbconvert_exporter": "python",
   "pygments_lexer": "ipython3",
   "version": "3.10.12"
  }
 },
 "nbformat": 4,
 "nbformat_minor": 5
}
