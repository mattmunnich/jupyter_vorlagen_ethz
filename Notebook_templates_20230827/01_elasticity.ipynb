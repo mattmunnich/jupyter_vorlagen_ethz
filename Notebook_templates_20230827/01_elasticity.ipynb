{
 "cells": [
  {
   "cell_type": "markdown",
   "id": "0629b8fb",
   "metadata": {},
   "source": [
    "# Protocol for experiment 01 \"Elasticity\""
   ]
  },
  {
   "cell_type": "markdown",
   "id": "0b7ce929",
   "metadata": {},
   "source": [
    "**Date:** {2023-MM-DD}  \n",
    "**Version:** {1 for 1st assignment, 2 for corrected assignment, ...}\n",
    " \n",
    " - **Student 1:** {full name}\n",
    " - **Student 2:** {full name}"
   ]
  },
  {
   "cell_type": "markdown",
   "id": "8f0f1d43",
   "metadata": {},
   "source": [
    "## 1. Introduction\n",
    "\n",
    "### 1.1 Introduction to the experiment\n",
    "\n",
    "- What is the experiment about? What is the objective?\n",
    "\n",
    "### 1.2 Summary of theory\n",
    "\n",
    "- Explanation of the formulas used incl. variable labeling (example from preliminary experiment)\n",
    "    - Representation e.g. by  \n",
    "    \"\\\\$\\\\$ T = 2\\pi \\sqrt{\\frac{L}{g}} \\\\$\\\\$\" $\\rightarrow$ \n",
    "    $$T=2\\pi\\sqrt{\\frac{L}{g}}$$  \n",
    "    where $T$ is the period of oscillation of the pendulum for one oscillation, $L$ is the length of the pendulum, and $g$ is the acceleration due to gravity.\n",
    "    - $$\\phi = A \\exp(-\\frac{\\gamma t}{2})\\cos(\\omega t + \\alpha)$$\n",
    "    where $\\phi$ is the displacement of the oscillation, $A$ is the original amplitude of the oscillation, $\\gamma$ is the coefficient of friction, and $\\omega$ is the angular frequency.\n",
    "\n",
    "### 1.3 Tasks\n",
    "\n",
    "- What are the tasks for the experiment?\n",
    "\n",
    "### 1.4 Environmental relevance\n",
    "\n",
    "- How is the experiment relevant to your studies in environmental science? (1-2 sentences)"
   ]
  },
  {
   "cell_type": "markdown",
   "id": "0172593d",
   "metadata": {},
   "source": [
    "## 2. Packages and Functions"
   ]
  },
  {
   "cell_type": "markdown",
   "id": "aad31d47",
   "metadata": {},
   "source": [
    "### 2.1 Load packages\n",
    "You may not use all of these packages. You can comment out the ones you don't need."
   ]
  },
  {
   "cell_type": "code",
   "execution_count": 1,
   "id": "b4170517",
   "metadata": {},
   "outputs": [],
   "source": [
    "# import packages  (not every package is used in each notebook template)\n",
    "\n",
    "# numerical computing\n",
    "import numpy as np                    # Fundamental package for numerical computing in Python\n",
    "\n",
    "# uncertainty calculations\n",
    "from uncertainties import ufloat      # For handling numbers with uncertainties\n",
    "from uncertainties.umath import *     # For applying mathematical functions with uncertainties\n",
    "from uncertainties import unumpy      # For handling uncertainties in arrays\n",
    "\n",
    "# data manipulation and analysis\n",
    "import pandas as pd                   # Powerful data manipulation and analysis library\n",
    "\n",
    "# data visualization in tables\n",
    "from tabulate import tabulate\n",
    "\n",
    "# data visualization in plots\n",
    "import matplotlib.pyplot as plt       # Library for creating static, interactive, and animated visualizations\n",
    "\n",
    "# scientific computing\n",
    "import scipy as sc                    # Open-source scientific computing library\n",
    "from scipy.stats import linregress    # For performing linear regression analysis\n",
    "from scipy.constants import R         # Physical and mathematical constants\n",
    "\n",
    "# interactive display in Jupyter Notebook\n",
    "from IPython.display import display, Markdown   # For displaying rich content (e.g., Markdown) in Jupyter Notebook\n",
    "\n",
    "# standard mathematical functions\n",
    "import math                          # Python's built-in math functions\n",
    "\n",
    "# widgets (to create elements such as dynamic input/output boxes)\n",
    "import ipywidgets as widgets\n",
    "\n",
    "\n"
   ]
  },
  {
   "cell_type": "markdown",
   "id": "40438cc2",
   "metadata": {},
   "source": [
    "### 2.2 Define functions"
   ]
  },
  {
   "cell_type": "code",
   "execution_count": 2,
   "id": "a51cdf68",
   "metadata": {},
   "outputs": [],
   "source": [
    "# example: \n",
    "\n",
    "def my_function(param1_placeholder, param2_placeholder):\n",
    "    \n",
    "    value = 'Replace with your calculation'\n",
    "    return value"
   ]
  },
  {
   "cell_type": "markdown",
   "id": "38635084",
   "metadata": {},
   "source": [
    "#### Creating a table"
   ]
  },
  {
   "cell_type": "code",
   "execution_count": 3,
   "id": "853a16ac",
   "metadata": {},
   "outputs": [],
   "source": [
    "#----------------------------------------------\n",
    "# Create a table (see CheatSheet)\n",
    "#----------------------------------------------\n",
    "\n",
    "def Table(table, header, precisions):\n",
    "    # Check if precisions list length matches table's row count\n",
    "    if len(precisions) != len(table):\n",
    "        raise ValueError(\"Length of precisions list must match the number of columns in the table\")\n",
    "\n",
    "    for i in range(len(table)):\n",
    "        # If precision for this row/column is not None, round the entire row\n",
    "        if precisions[i] is not None:\n",
    "            table[i] = [np.round(val, precisions[i]) for val in table[i]]\n",
    "\n",
    "    table = np.matrix.transpose(np.array(table))\n",
    "    print(tabulate(table, headers=header, tablefmt='fancy_grid'))"
   ]
  },
  {
   "cell_type": "markdown",
   "id": "6dd82fad",
   "metadata": {},
   "source": [
    "#### <span style='color:darkcyan'> Your functions: </span>"
   ]
  },
  {
   "cell_type": "code",
   "execution_count": null,
   "id": "2371dd18",
   "metadata": {},
   "outputs": [],
   "source": []
  },
  {
   "cell_type": "code",
   "execution_count": null,
   "id": "a3d0e52e",
   "metadata": {},
   "outputs": [],
   "source": []
  },
  {
   "cell_type": "markdown",
   "id": "aa491cdb",
   "metadata": {},
   "source": [
    "<div class=\"alert alert-block alert-info\">\n",
    "    <b>Tip</b>: <br/>\n",
    "    1) Here is the place to <b>define all the functions you need</b> in this notebook. This helps to keep your notebook clear and structured.<br/>\n",
    "    2) Add <b>comments</b> to your functions (e.g. what is the function good for, what happens in each line, etc.), so that you and your lab partner will still be able to understand the code at a later time."
   ]
  },
  {
   "cell_type": "markdown",
   "id": "335259b7",
   "metadata": {},
   "source": [
    "## 3. Experiments"
   ]
  },
  {
   "cell_type": "markdown",
   "id": "bbf964d2",
   "metadata": {},
   "source": [
    "### 3.1 Experiment 1: Extension  "
   ]
  },
  {
   "cell_type": "markdown",
   "id": "d3130f97",
   "metadata": {},
   "source": [
    "<span style='color:indigo'> <i>\n",
    "    Measure the extension of a wire as a function of load, plot the relationship graphically and\n",
    "calculate the Young’s modulus according to\n",
    "    equation (1). </i></span>"
   ]
  },
  {
   "cell_type": "markdown",
   "id": "b95cf676",
   "metadata": {},
   "source": [
    "#### 3.1.1 Measurement data"
   ]
  },
  {
   "cell_type": "markdown",
   "id": "cfd03f5c",
   "metadata": {},
   "source": [
    "<span style='color:darkcyan'> <i>Measure the extension </i>h<i> of a wire for different loads </i>M<i>. </i></span>"
   ]
  },
  {
   "cell_type": "markdown",
   "id": "404ef1b9",
   "metadata": {},
   "source": [
    "<div class=\"alert alert-block alert-info\">\n",
    "    <b>Tip</b>: Take care when choosing names for your variables - make sure that you <b>don't use the same name for different variables</b> (throughout the whole notebook!) <br/>\n",
    "    If you measure the same quantity in more than one experiment, you can e.g. include the experiment number in the variable name to make it unique. <br/>\n",
    "    <small>Otherwise the value of the variable will depend on the order in which you execute the cells, which may cause confusion and wrong results if you don't always execute them from top to bottom.</small><br/>"
   ]
  },
  {
   "cell_type": "code",
   "execution_count": 4,
   "id": "15fe191d",
   "metadata": {},
   "outputs": [
    {
     "name": "stdout",
     "output_type": "stream",
     "text": [
      "╒════════════╤══════════════╤════════════════╤══════════════╤════════════════╕\n",
      "│       Load │   increasing │     increasing │   decreasing │     decreasing │\n",
      "│   Mass [g] │     h [unit] │   h-h0  [unit] │    h  [unit] │   h-h0  [unit] │\n",
      "╞════════════╪══════════════╪════════════════╪══════════════╪════════════════╡\n",
      "│          0 │            0 │              0 │            0 │              0 │\n",
      "├────────────┼──────────────┼────────────────┼──────────────┼────────────────┤\n",
      "│        400 │            0 │              0 │            0 │              0 │\n",
      "├────────────┼──────────────┼────────────────┼──────────────┼────────────────┤\n",
      "│        800 │            0 │              0 │            0 │              0 │\n",
      "├────────────┼──────────────┼────────────────┼──────────────┼────────────────┤\n",
      "│       1200 │            0 │              0 │            0 │              0 │\n",
      "├────────────┼──────────────┼────────────────┼──────────────┼────────────────┤\n",
      "│       1600 │            0 │              0 │            0 │              0 │\n",
      "├────────────┼──────────────┼────────────────┼──────────────┼────────────────┤\n",
      "│       2000 │            0 │              0 │            0 │              0 │\n",
      "╘════════════╧══════════════╧════════════════╧══════════════╧════════════════╛\n"
     ]
    }
   ],
   "source": [
    "# MEASURES OF THE WIRE\n",
    "\n",
    "# length of the wire\n",
    "L1 = ufloat(0,0) \n",
    "\n",
    "# diameter of the wire\n",
    "d1 = ufloat(0,0) \n",
    "\n",
    "# cross-section area\n",
    "q1 = ...\n",
    "\n",
    "\n",
    "# LOAD \n",
    "\n",
    "M1 = np.arange(0,2001,400) # [g] mass from 0 to 2000 in steps of 400\n",
    "\n",
    "\n",
    "# EXTENSION OF THE WIRE\n",
    "# one value & error for each mass\n",
    "\n",
    "h_increase1 = unumpy.uarray([0,0,0,0,0,0],[0,0,0,0,0,0])\n",
    "h0_increase1 = h_increase1[1] # the 0th element of each column (array of your data) is h0 (h for m=0g)\n",
    "\n",
    "h_decrease1 = unumpy.uarray([0,0,0,0,0,0],[0,0,0,0,0,0])\n",
    "h0_decrease1 = h_decrease1[1] \n",
    "\n",
    "\n",
    "# ----------------------------------------------------------\n",
    "\n",
    "# create a table with your data \n",
    "\n",
    "header4 = ['Load\\nMass [g]', 'increasing\\nh [unit]', 'increasing\\nh-h0  [unit]', 'decreasing\\nh  [unit]','decreasing\\nh-h0  [unit]']\n",
    "\n",
    "table4 = [M1,\n",
    "          6*[0], # replace with your data (eg. h_increase1 for first column)\n",
    "          6*[0],\n",
    "          6*[0],\n",
    "          6*[0]]\n",
    "# the 0th element of each column (array of your data) is h0 (h for m=0g)\n",
    "\n",
    "precision4 = [None,0,0,0,0] # replace 0 with adequate values\n",
    "\n",
    "Table(table4, header4, precision4)\n",
    "\n"
   ]
  },
  {
   "cell_type": "markdown",
   "id": "5ae5b1da",
   "metadata": {},
   "source": [
    "#### 3.1.2 Evaluation"
   ]
  },
  {
   "cell_type": "markdown",
   "id": "b77f4257",
   "metadata": {},
   "source": [
    "<span style='color:darkcyan'> <i>Plot your data and fit it with a linear function using linregress. <br/>\n",
    "(see CheatSheet for help) </i></span>"
   ]
  },
  {
   "cell_type": "code",
   "execution_count": 5,
   "id": "402c87ec",
   "metadata": {},
   "outputs": [],
   "source": [
    "# plot"
   ]
  },
  {
   "cell_type": "markdown",
   "id": "157554a1",
   "metadata": {},
   "source": [
    "<span style='color:darkcyan'> <i>Calculate the elasticity modulus (incl. error) from the slope of the linear regression.</i></span>"
   ]
  },
  {
   "cell_type": "code",
   "execution_count": 6,
   "id": "c7f954e2",
   "metadata": {},
   "outputs": [],
   "source": [
    "# specific extension Delta_l/l\n",
    "epsilon1 = ...\n",
    "\n",
    "# elasticity modulus\n",
    "E1 = ... "
   ]
  },
  {
   "cell_type": "markdown",
   "id": "4b414a89",
   "metadata": {},
   "source": [
    "<span style='color:darkcyan'> <i>Print your result for E.</i></span>"
   ]
  },
  {
   "cell_type": "code",
   "execution_count": null,
   "id": "57f47875",
   "metadata": {},
   "outputs": [],
   "source": []
  },
  {
   "cell_type": "markdown",
   "id": "40b8daac",
   "metadata": {},
   "source": [
    "### 3.2 Deflection\n",
    "<span style='color:indigo'> <i>Measure the deflection of a cantilever with rectangular profile clamped at one end and loaded\n",
    "at the other end. Input the measured deflection\n",
    "in the table and plot deflection as a function of\n",
    "the load. Furthermore, calculate according to\n",
    "equation (2) the elastic modulus.</i></span>"
   ]
  },
  {
   "cell_type": "markdown",
   "id": "29058750",
   "metadata": {},
   "source": [
    "#### 3.2.1 Measurement data"
   ]
  },
  {
   "cell_type": "markdown",
   "id": "2e917325",
   "metadata": {},
   "source": [
    "<span style='color:darkcyan'> <i>Measure the deflection </i>h<i> of a cantilever for different loads</i>M<i> for<br>\n",
    "    a) an upright profile (b > a)<br/>\n",
    "    b) a crosswise profile (b < a).<br/> </i></span>"
   ]
  },
  {
   "cell_type": "code",
   "execution_count": 7,
   "id": "2ee4177a",
   "metadata": {},
   "outputs": [],
   "source": [
    "# length of the cantilever\n",
    "\n",
    "L_cant = ufloat(0,0) # [unit]"
   ]
  },
  {
   "cell_type": "markdown",
   "id": "6d8b2560",
   "metadata": {},
   "source": [
    "__a) upright (b > a)__"
   ]
  },
  {
   "cell_type": "code",
   "execution_count": 8,
   "id": "0c316f6b",
   "metadata": {},
   "outputs": [
    {
     "name": "stdout",
     "output_type": "stream",
     "text": [
      " upright\n",
      "╒════════════╤══════════════╤══════════════╤══════════════╤══════════════╕\n",
      "│       Load │   increasing │   increasing │   decreasing │   decreasing │\n",
      "│   Mass [g] │     h [unit] │    s  [unit] │    h  [unit] │    s  [unit] │\n",
      "╞════════════╪══════════════╪══════════════╪══════════════╪══════════════╡\n",
      "│          0 │            0 │            0 │            0 │            0 │\n",
      "├────────────┼──────────────┼──────────────┼──────────────┼──────────────┤\n",
      "│        400 │            0 │            0 │            0 │            0 │\n",
      "├────────────┼──────────────┼──────────────┼──────────────┼──────────────┤\n",
      "│        800 │            0 │            0 │            0 │            0 │\n",
      "├────────────┼──────────────┼──────────────┼──────────────┼──────────────┤\n",
      "│       1200 │            0 │            0 │            0 │            0 │\n",
      "├────────────┼──────────────┼──────────────┼──────────────┼──────────────┤\n",
      "│       1600 │            0 │            0 │            0 │            0 │\n",
      "├────────────┼──────────────┼──────────────┼──────────────┼──────────────┤\n",
      "│       2000 │            0 │            0 │            0 │            0 │\n",
      "╘════════════╧══════════════╧══════════════╧══════════════╧══════════════╛\n"
     ]
    }
   ],
   "source": [
    "# MEASURES OF THE CANTILEVER\n",
    "\n",
    "a_up = ufloat(0,0) # [unit] horizontal transverse dimension\n",
    "b_up = ufloat(0,0) # [unit] vertical transverse dimension\n",
    "\n",
    "# LOAD \n",
    "\n",
    "M_up2 = np.arange(0,2001,400) # [g] mass from 0 to 2000 in steps of 400\n",
    "\n",
    "\n",
    "# EXTENSION OF THE CANTILEVER\n",
    "# one value & error for each mass\n",
    "\n",
    "# similarly as in 3.1\n",
    "\n",
    "# ----------------------------------------------------------\n",
    "\n",
    "# create a table with your data \n",
    "\n",
    "header2a = ['Load\\nMass [g]', 'increasing\\nh [unit]', 'increasing\\ns  [unit]', 'decreasing\\nh  [unit]','decreasing\\ns  [unit]']\n",
    "\n",
    "table2a = [M_up2,\n",
    "          6*[0], # replace with your data\n",
    "          6*[0],\n",
    "          6*[0],\n",
    "          6*[0]]\n",
    "# the 0th element of each column (array of your data) is h0 (h for m=0g)\n",
    "\n",
    "precision2a = [None,0,0,0,0] # replace 0 with adequate values\n",
    "\n",
    "print(' upright')\n",
    "Table(table2a, header2a, precision2a)\n",
    "\n"
   ]
  },
  {
   "cell_type": "markdown",
   "id": "7f71493a",
   "metadata": {},
   "source": [
    "__b) crosswise (b < a)__"
   ]
  },
  {
   "cell_type": "code",
   "execution_count": 9,
   "id": "634bb5e1",
   "metadata": {
    "scrolled": true
   },
   "outputs": [
    {
     "name": "stdout",
     "output_type": "stream",
     "text": [
      " crosswise\n",
      "╒════════════╤══════════════╤══════════════╤══════════════╤══════════════╕\n",
      "│       Load │   increasing │   increasing │   decreasing │   decreasing │\n",
      "│   Mass [g] │     h [unit] │    s  [unit] │    h  [unit] │    s  [unit] │\n",
      "╞════════════╪══════════════╪══════════════╪══════════════╪══════════════╡\n",
      "│          0 │            0 │            0 │            0 │            0 │\n",
      "├────────────┼──────────────┼──────────────┼──────────────┼──────────────┤\n",
      "│        400 │            0 │            0 │            0 │            0 │\n",
      "├────────────┼──────────────┼──────────────┼──────────────┼──────────────┤\n",
      "│        800 │            0 │            0 │            0 │            0 │\n",
      "├────────────┼──────────────┼──────────────┼──────────────┼──────────────┤\n",
      "│       1200 │            0 │            0 │            0 │            0 │\n",
      "╘════════════╧══════════════╧══════════════╧══════════════╧══════════════╛\n"
     ]
    }
   ],
   "source": [
    "# MEASURES OF THE CANTILEVER\n",
    "\n",
    "a_cross = ufloat(0,0) # [unit] horizontal transverse dimension \n",
    "b_cross = ufloat(0,0) # [unit] vertical transverse dimension  \n",
    "\n",
    "# LOAD \n",
    "\n",
    "M_cross2 = np.arange(0,1201,400) # [g] mass from 0 to 2000 in steps of 400\n",
    "\n",
    "\n",
    "# EXTENSION OF THE CANTILEVER\n",
    "# one value & error for each mass\n",
    "\n",
    "# similarly as in 3.1\n",
    "\n",
    "# ----------------------------------------------------------\n",
    "\n",
    "# create a table with your data \n",
    "\n",
    "header2b = ['Load\\nMass [g]', 'increasing\\nh [unit]', 'increasing\\ns  [unit]', 'decreasing\\nh  [unit]','decreasing\\ns  [unit]']\n",
    "\n",
    "table2b = [M_cross2,\n",
    "          4*[0], # replace with your data\n",
    "          4*[0],\n",
    "          4*[0],\n",
    "          4*[0]]\n",
    "# the 0th element of each column (array of your data) is h0 (h for m=0g)\n",
    "\n",
    "precision2b = [None,0,0,0,0] # replace 0 with adequate values\n",
    "\n",
    "print(' crosswise')\n",
    "Table(table2b, header2b, precision2b)\n",
    "\n"
   ]
  },
  {
   "cell_type": "markdown",
   "id": "5206e237",
   "metadata": {},
   "source": [
    "#### 3.2.2 Evaluation"
   ]
  },
  {
   "cell_type": "markdown",
   "id": "9201ca1e",
   "metadata": {},
   "source": [
    "<span style='color:darkcyan'> <i>Plot your data for both the upright and the crosswise cantilever and fit it with a linear function using linregress. <br/>\n",
    "(see CheatSheet for help) </i></span>"
   ]
  },
  {
   "cell_type": "code",
   "execution_count": 10,
   "id": "4b5dfd3c",
   "metadata": {},
   "outputs": [],
   "source": [
    "# plot"
   ]
  },
  {
   "cell_type": "markdown",
   "id": "8d1b46eb",
   "metadata": {},
   "source": [
    "<span style='color:darkcyan'> <i>Calculate the elasticity modulus (incl. error) from the slope of the linear regression for both cases.</i></span>"
   ]
  },
  {
   "cell_type": "code",
   "execution_count": null,
   "id": "c81122ed",
   "metadata": {},
   "outputs": [],
   "source": []
  },
  {
   "cell_type": "markdown",
   "id": "ace5c17d",
   "metadata": {},
   "source": [
    "<span style='color:darkcyan'> <i>Print your results (incl. errors and units).</i></span>"
   ]
  },
  {
   "cell_type": "code",
   "execution_count": null,
   "id": "706005ff",
   "metadata": {},
   "outputs": [],
   "source": []
  },
  {
   "cell_type": "markdown",
   "id": "50fe919c",
   "metadata": {},
   "source": [
    "### 3.3 Experiment 3: Torsion\n",
    "<span style='color:indigo'> <i>Determine the modulus of rigidity G of a wire by observing the rotation oscillations of a\n",
    "suspended mass.</i></span>"
   ]
  },
  {
   "cell_type": "markdown",
   "id": "3887e9f8",
   "metadata": {},
   "source": [
    "#### 3.3.1 Measurement data"
   ]
  },
  {
   "cell_type": "code",
   "execution_count": 11,
   "id": "2797c35d",
   "metadata": {},
   "outputs": [],
   "source": [
    "# Measures \n",
    "\n",
    "r_K = ufloat(0,0) # [unit] radius of the cylindrical body K \n",
    "M_K = ufloat(0,0) # [unit] mass of the cylindrical body K \n",
    "l_w = ufloat(0,0) # [unit] length of the wire \n",
    "R_w = ufloat(0,0) # [unit] radius of the wire \n",
    "\n",
    "# Oscillation periods\n",
    "\n",
    "T = unumpy.uarray([0,0,0,0,0],[0,0,0,0,0]) # ten periods of the twisted pendulum [unit]\n",
    "T_prime = unumpy.uarray([0,0,0,0,0],[0,0,0,0,0]) # ten periods of the twisted pendulum with extra load [unit]\n"
   ]
  },
  {
   "cell_type": "markdown",
   "id": "a3364358",
   "metadata": {},
   "source": [
    "#### 3.3.2 Evaluation"
   ]
  },
  {
   "cell_type": "markdown",
   "id": "00ada829",
   "metadata": {},
   "source": [
    "<span style='color:darkcyan'> <i>Print your data in a table. </i></span>"
   ]
  },
  {
   "cell_type": "code",
   "execution_count": 12,
   "id": "9976f0b4",
   "metadata": {},
   "outputs": [],
   "source": [
    "# table"
   ]
  },
  {
   "cell_type": "markdown",
   "id": "5c3abe69",
   "metadata": {},
   "source": [
    "<span style='color:darkcyan'> <i>Calculate the moment of inertial of body K (incl. error) and print your result </i></span>"
   ]
  },
  {
   "cell_type": "code",
   "execution_count": 13,
   "id": "2143e74b",
   "metadata": {},
   "outputs": [],
   "source": [
    "Theta = ... # [unit]"
   ]
  },
  {
   "cell_type": "markdown",
   "id": "d64dde6a",
   "metadata": {},
   "source": [
    "<span style='color:darkcyan'> <i>Calculate the mean of T and T_prime</i></span>"
   ]
  },
  {
   "cell_type": "code",
   "execution_count": null,
   "id": "5621a067",
   "metadata": {},
   "outputs": [],
   "source": []
  },
  {
   "cell_type": "markdown",
   "id": "9e86b5c7",
   "metadata": {},
   "source": [
    "<span style='color:darkcyan'> <i>Calculate the directional torque D and the modulus of rigidity (incl. error) from the mean of T and T_prime. Print your results.</i></span>\n"
   ]
  },
  {
   "cell_type": "code",
   "execution_count": 14,
   "id": "37ebf3b0",
   "metadata": {},
   "outputs": [],
   "source": [
    "D = ... # [unit]\n",
    "G = ... # [unit]"
   ]
  },
  {
   "cell_type": "markdown",
   "id": "bf89e183",
   "metadata": {},
   "source": [
    "## 4 Discussion"
   ]
  },
  {
   "cell_type": "markdown",
   "id": "a8d23806",
   "metadata": {},
   "source": [
    "<span style='color:darkcyan'> <i>Are your results realistic? Why (not)? Comparison with theory? </i></span>"
   ]
  },
  {
   "cell_type": "markdown",
   "id": "8a8197d4",
   "metadata": {},
   "source": []
  },
  {
   "cell_type": "markdown",
   "id": "3dd638cf",
   "metadata": {},
   "source": [
    "<span style='color:darkcyan'> <i>What measurement errors were assumed? Why? <br/>\n",
    "    What are the main reasons for the errors in your results and how do they come about?</i></span>"
   ]
  },
  {
   "cell_type": "markdown",
   "id": "0661088c",
   "metadata": {},
   "source": []
  },
  {
   "cell_type": "markdown",
   "id": "301b3403",
   "metadata": {},
   "source": [
    "<span style='color:darkcyan'> <i>How would you try to reduce the error further? Could you improve the accuracy of the experiment? </i></span>"
   ]
  },
  {
   "cell_type": "markdown",
   "id": "c040425b",
   "metadata": {},
   "source": []
  },
  {
   "cell_type": "markdown",
   "id": "ceaa5507",
   "metadata": {},
   "source": [
    "<span style='color:darkcyan'> <i>If you were to repeat the experiment, what would you do differently and why?</i></span>"
   ]
  },
  {
   "cell_type": "markdown",
   "id": "61e13174",
   "metadata": {},
   "source": []
  }
 ],
 "metadata": {
  "kernelspec": {
   "display_name": "Python 3 (ipykernel)",
   "language": "python",
   "name": "python3"
  },
  "language_info": {
   "codemirror_mode": {
    "name": "ipython",
    "version": 3
   },
   "file_extension": ".py",
   "mimetype": "text/x-python",
   "name": "python",
   "nbconvert_exporter": "python",
   "pygments_lexer": "ipython3",
   "version": "3.10.12"
  }
 },
 "nbformat": 4,
 "nbformat_minor": 5
}
