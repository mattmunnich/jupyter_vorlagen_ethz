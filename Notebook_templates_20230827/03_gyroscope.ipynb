{
 "cells": [
  {
   "cell_type": "markdown",
   "id": "0629b8fb",
   "metadata": {},
   "source": [
    "# Protocol for experiment 03 \"Gyroscope\""
   ]
  },
  {
   "cell_type": "markdown",
   "id": "0b7ce929",
   "metadata": {},
   "source": [
    "**Date:** {2023-MM-DD}  \n",
    "**Version:** {1 for 1st assignment, 2 for corrected assignment, ...}\n",
    " \n",
    " - **Student 1:** {full name}\n",
    " - **Student 2:** {full name}"
   ]
  },
  {
   "cell_type": "markdown",
   "id": "8f0f1d43",
   "metadata": {},
   "source": [
    "## 1. Introduction\n",
    "\n",
    "### 1.1 Introduction to the experiment\n",
    "\n",
    "- What is the experiment about? What is the objective?\n",
    "\n",
    "### 1.2 Summary of theory\n",
    "\n",
    "- Explanation of the formulas used incl. variable labeling (example from preliminary experiment)\n",
    "    - Representation e.g. by  \n",
    "    \"\\\\$\\\\$ T = 2\\pi \\sqrt{\\frac{L}{g}} \\\\$\\\\$\" $\\rightarrow$ \n",
    "    $$T=2\\pi\\sqrt{\\frac{L}{g}}$$  \n",
    "    where $T$ is the period of oscillation of the pendulum for one oscillation, $L$ is the length of the pendulum, and $g$ is the acceleration due to gravity.\n",
    "    - $$\\phi = A \\exp(-\\frac{\\gamma t}{2})\\cos(\\omega t + \\alpha)$$\n",
    "    where $\\phi$ is the displacement of the oscillation, $A$ is the original amplitude of the oscillation, $\\gamma$ is the coefficient of friction, and $\\omega$ is the angular frequency.\n",
    "\n",
    "### 1.3 Tasks\n",
    "\n",
    "- What are the tasks for the experiment?\n",
    "\n",
    "### 1.4 Environmental relevance\n",
    "\n",
    "- How is the experiment relevant to your studies in environmental science? (1-2 sentences)"
   ]
  },
  {
   "cell_type": "markdown",
   "id": "0172593d",
   "metadata": {},
   "source": [
    "## 2. Packages and Functions"
   ]
  },
  {
   "cell_type": "markdown",
   "id": "aad31d47",
   "metadata": {},
   "source": [
    "### 2.1 Load packages\n",
    "You may not use all of these packages. You can comment out the ones you don't need."
   ]
  },
  {
   "cell_type": "code",
   "execution_count": 1,
   "id": "b4170517",
   "metadata": {},
   "outputs": [],
   "source": [
    "# TODO: toggle\n",
    "\n",
    "# import packages  (not every package is used in each notebook template)\n",
    "\n",
    "# numerical computing\n",
    "import numpy as np                    # Fundamental package for numerical computing in Python\n",
    "\n",
    "# uncertainty calculations\n",
    "from uncertainties import ufloat      # For handling numbers with uncertainties\n",
    "from uncertainties.umath import *     # For applying mathematical functions with uncertainties\n",
    "from uncertainties import unumpy      # For handling uncertainties in arrays\n",
    "\n",
    "# data manipulation and analysis\n",
    "import pandas as pd                   # Powerful data manipulation and analysis library\n",
    "\n",
    "# data visualization in tables\n",
    "from tabulate import tabulate\n",
    "\n",
    "# data visualization in plots\n",
    "import matplotlib.pyplot as plt       # Library for creating static, interactive, and animated visualizations\n",
    "\n",
    "# scientific computing\n",
    "import scipy as sc                    # Open-source scientific computing library\n",
    "from scipy.stats import linregress    # For performing linear regression analysis\n",
    "from scipy.constants import R         # Physical and mathematical constants\n",
    "\n",
    "# interactive display in Jupyter Notebook\n",
    "from IPython.display import display, Markdown   # For displaying rich content (e.g., Markdown) in Jupyter Notebook\n",
    "\n",
    "# standard mathematical functions\n",
    "import math                          # Python's built-in math functions\n",
    "\n",
    "# widgets (to create elements such as dynamic input/output boxes)\n",
    "import ipywidgets as widgets\n",
    "\n",
    "\n"
   ]
  },
  {
   "cell_type": "markdown",
   "id": "40438cc2",
   "metadata": {},
   "source": [
    "### 2.2 Define functions"
   ]
  },
  {
   "cell_type": "code",
   "execution_count": 2,
   "id": "2371dd18",
   "metadata": {},
   "outputs": [],
   "source": [
    "# example: \n",
    "\n",
    "def my_function(param1_placeholder, param2_placeholder):\n",
    "    \n",
    "    value = 'Replace with your calculation'\n",
    "    return value"
   ]
  },
  {
   "cell_type": "markdown",
   "id": "c42a9aa5",
   "metadata": {},
   "source": [
    "#### <span style='color:darkcyan'> Your functions: </span>"
   ]
  },
  {
   "cell_type": "code",
   "execution_count": null,
   "id": "a3d0e52e",
   "metadata": {},
   "outputs": [],
   "source": []
  },
  {
   "cell_type": "markdown",
   "id": "aa491cdb",
   "metadata": {},
   "source": [
    "<div class=\"alert alert-block alert-info\">\n",
    "    <b>Tip</b>: <br/>\n",
    "    1) Here is the place to <b>define all the functions you need</b> in this notebook. This helps to keep your notebook clear and structured.<br/>\n",
    "    2) Add <b>comments</b> to your functions (e.g. what is the function good for, what happens in each line, etc.), so that you and your lab partner will still be able to understand the code at a later time."
   ]
  },
  {
   "cell_type": "markdown",
   "id": "335259b7",
   "metadata": {},
   "source": [
    "## 3. Experiments"
   ]
  },
  {
   "cell_type": "markdown",
   "id": "bbf964d2",
   "metadata": {},
   "source": [
    "### 3.1 Experiment 1: Determination of moment of inertia"
   ]
  },
  {
   "cell_type": "markdown",
   "id": "0c829ee0",
   "metadata": {},
   "source": [
    "<span style='color:indigo'> <i>\n",
    "    The moment of inertia θ of the gyroscope wheel\n",
    "is to be determined. </i></span>"
   ]
  },
  {
   "cell_type": "markdown",
   "id": "b95cf676",
   "metadata": {},
   "source": [
    "#### 3.1.1 Measurement data"
   ]
  },
  {
   "cell_type": "markdown",
   "id": "3fead899",
   "metadata": {},
   "source": [
    "<span style='color:darkcyan'> <i>Perform the measurement with different masses m and\n",
    "repeated multiple times in order to get an average\n",
    "value of θ each time. </i></span>"
   ]
  },
  {
   "cell_type": "markdown",
   "id": "2940bf24",
   "metadata": {},
   "source": [
    "<div class=\"alert alert-block alert-info\">\n",
    "    <b>Tip</b>: If there are multiple measurements of the same quantity, you can use an <b>uarray</b> for each quantity to store the measured values and their errors:  <br/>\n",
    "    <code>array = unumpy.uarray([measured_value_1, measured_value_2, ...], [abs_error_1, abs_error_2, ...])</code>. "
   ]
  },
  {
   "cell_type": "code",
   "execution_count": 3,
   "id": "15fe191d",
   "metadata": {},
   "outputs": [],
   "source": [
    "R = ...  # [unit] radius of the wheel \n",
    "\n",
    "m = ...  # [unit] mass \n",
    "h = ...  # [unit] height \n",
    "T0 = ... # [unit] period \n",
    "ω0 = ... # [unit] angular velocity "
   ]
  },
  {
   "cell_type": "markdown",
   "id": "5ae5b1da",
   "metadata": {},
   "source": [
    "#### 3.1.2 Evaluation"
   ]
  },
  {
   "cell_type": "markdown",
   "id": "bde58918",
   "metadata": {},
   "source": [
    "<span style='color:darkcyan'> <i>Print your data in a table. </i></span>"
   ]
  },
  {
   "cell_type": "code",
   "execution_count": 4,
   "id": "2331d905",
   "metadata": {},
   "outputs": [],
   "source": [
    "# table"
   ]
  },
  {
   "cell_type": "markdown",
   "id": "f7c7ab02",
   "metadata": {},
   "source": [
    "<span style='color:darkcyan'> <i>Calculate the mean values of the  measured quantities which are necessary for the calculation of θ. </i></span>"
   ]
  },
  {
   "cell_type": "code",
   "execution_count": null,
   "id": "14d6ee78",
   "metadata": {},
   "outputs": [],
   "source": []
  },
  {
   "cell_type": "markdown",
   "id": "d77eade6",
   "metadata": {},
   "source": [
    "<span style='color:darkcyan'> <i>Calculate the moment of inertia (incl. error). </i></span>"
   ]
  },
  {
   "cell_type": "code",
   "execution_count": null,
   "id": "3b74acd0",
   "metadata": {},
   "outputs": [],
   "source": []
  },
  {
   "cell_type": "markdown",
   "id": "4f5c0314",
   "metadata": {},
   "source": [
    "<span style='color:darkcyan'> <i>Print your results (incl. errors and units).</i></span>"
   ]
  },
  {
   "cell_type": "code",
   "execution_count": null,
   "id": "af601d9e",
   "metadata": {},
   "outputs": [],
   "source": []
  },
  {
   "cell_type": "markdown",
   "id": "40b8daac",
   "metadata": {},
   "source": [
    "### 3.2 Experiment 2: Alternative method to determine the moment of inertia\n",
    "<span style='color:indigo'> <i>Measure the angular velocity Ω of the precession for different rotation speeds of the wheel,\n",
    "as well as for various weights G, and compare\n",
    "them with the values calculated according to\n",
    "Equation (6).</i></span>"
   ]
  },
  {
   "cell_type": "markdown",
   "id": "3db55e6b",
   "metadata": {},
   "source": [
    "#### 3.2.1 Measurement data"
   ]
  },
  {
   "cell_type": "code",
   "execution_count": 5,
   "id": "f431e02e",
   "metadata": {},
   "outputs": [],
   "source": [
    "m2 = ... # [unit] mass \n",
    "h2 = ... # [unit] height \n",
    "t = ...  # [unit] falling time "
   ]
  },
  {
   "cell_type": "markdown",
   "id": "b57a3233",
   "metadata": {},
   "source": [
    "<div class=\"alert alert-block alert-info\">\n",
    "    <b>Tip</b>: Take care when choosing names for your variables - make sure that you <b>don't use the same name for different variables</b> (throughout the whole notebook!) <br/>\n",
    "    If you measure the same quantity in more than one experiment, you can e.g. include the experiment number in the variable name to make it unique. <br/>\n",
    "    <small>Otherwise the value of the variable will depend on the order in which you execute the cells, which may cause confusion and wrong results if you don't always execute them from top to bottom.</small><br/>"
   ]
  },
  {
   "cell_type": "markdown",
   "id": "4d69a9b0",
   "metadata": {},
   "source": [
    "#### 3.2.2 Evaluation"
   ]
  },
  {
   "cell_type": "markdown",
   "id": "e92e7b38",
   "metadata": {},
   "source": [
    "<span style='color:darkcyan'> <i>Print your data in a table. </i></span>"
   ]
  },
  {
   "cell_type": "code",
   "execution_count": 6,
   "id": "4d74fbd7",
   "metadata": {},
   "outputs": [],
   "source": [
    "# table"
   ]
  },
  {
   "cell_type": "markdown",
   "id": "fac414be",
   "metadata": {},
   "source": [
    "<span style='color:darkcyan'> <i>Calculate the average of the measured times t and the momentum of inertia θ. </i></span>"
   ]
  },
  {
   "cell_type": "code",
   "execution_count": null,
   "id": "8a8f9d86",
   "metadata": {},
   "outputs": [],
   "source": []
  },
  {
   "cell_type": "markdown",
   "id": "74c43da2",
   "metadata": {},
   "source": [
    "<span style='color:darkcyan'> <i>Print your results (incl. errors and units).</i></span>"
   ]
  },
  {
   "cell_type": "code",
   "execution_count": null,
   "id": "ef5949d8",
   "metadata": {},
   "outputs": [],
   "source": []
  },
  {
   "cell_type": "markdown",
   "id": "b27fa21a",
   "metadata": {},
   "source": [
    "<span style='color:darkcyan'> <i>Compare the results of the two methods for determining θ and discuss differences in\n",
    "the variances of the two datasets by considering the uncertainty on the calculated values for the moment of inertia.</i></span>"
   ]
  },
  {
   "cell_type": "markdown",
   "id": "f6ae8113",
   "metadata": {},
   "source": []
  },
  {
   "cell_type": "markdown",
   "id": "06592efb",
   "metadata": {},
   "source": [
    "### 3.3 Experiment 3: Precesion velocity\n",
    "<span style='color:indigo'> <i>Convince yourself of the validity of the vectorial relationship of $\\vec{L}$ and $\\vec{M}$, by setting the wheel in different directions of circulation.</i></span>"
   ]
  },
  {
   "cell_type": "markdown",
   "id": "50d02f08",
   "metadata": {},
   "source": [
    "#### 3.3.1 Measurement data"
   ]
  },
  {
   "cell_type": "markdown",
   "id": "a9224196",
   "metadata": {},
   "source": [
    "<span style='color:darkcyan'> <i>Conduct the experiment with different weights and for both directions of rotation of the wheel.</i></span>"
   ]
  },
  {
   "cell_type": "code",
   "execution_count": 7,
   "id": "0e15f2bc",
   "metadata": {},
   "outputs": [],
   "source": [
    "l = ...     # [unit] distance rotation axis of bar - mass (see fig. 6) \n",
    "\n",
    "m3 = ...    # [unit] mass \n",
    "T_ω = ...   # [unit] period of the wheel \n",
    "T_Ω = ...   # [unit] period of the precession movement \n",
    "ω_exp = ... # [unit] angular velocity of the wheel \n",
    "Ω_exp = ... # [unit] measured angular velocity of the precession movement \n",
    "Ω_calc = ...\n"
   ]
  },
  {
   "cell_type": "markdown",
   "id": "596b7e4c",
   "metadata": {},
   "source": [
    "#### 3.3.2 Evaluation"
   ]
  },
  {
   "cell_type": "markdown",
   "id": "733d3f91",
   "metadata": {},
   "source": [
    "<span style='color:darkcyan'> <i>Calculete $\\frac{\\Omega \\omega}{G}$ for each weight m. </i></span>"
   ]
  },
  {
   "cell_type": "code",
   "execution_count": null,
   "id": "ed1fc6c8",
   "metadata": {},
   "outputs": [],
   "source": []
  },
  {
   "cell_type": "markdown",
   "id": "b1a4c022",
   "metadata": {},
   "source": [
    "<span style='color:darkcyan'> <i>Print your data in a table. </i></span>"
   ]
  },
  {
   "cell_type": "code",
   "execution_count": 8,
   "id": "249434f4",
   "metadata": {},
   "outputs": [],
   "source": [
    "# table"
   ]
  },
  {
   "cell_type": "markdown",
   "id": "f7f5d3ff",
   "metadata": {},
   "source": [
    "<span style='color:darkcyan'> <i>Calculate the mean of $\\frac{\\Omega \\omega}{G}$. </i></span>"
   ]
  },
  {
   "cell_type": "code",
   "execution_count": null,
   "id": "a7ce2abc",
   "metadata": {},
   "outputs": [],
   "source": []
  },
  {
   "cell_type": "markdown",
   "id": "6a85748d",
   "metadata": {},
   "source": [
    "<span style='color:darkcyan'> <i>Calculate the momentum of inertia from this value.</i></span>"
   ]
  },
  {
   "cell_type": "code",
   "execution_count": null,
   "id": "14458a36",
   "metadata": {},
   "outputs": [],
   "source": []
  },
  {
   "cell_type": "markdown",
   "id": "e753a398",
   "metadata": {},
   "source": [
    "<span style='color:darkcyan'> <i>Print your results (incl. errors and units).</i></span>"
   ]
  },
  {
   "cell_type": "code",
   "execution_count": null,
   "id": "57a91e54",
   "metadata": {},
   "outputs": [],
   "source": []
  },
  {
   "cell_type": "markdown",
   "id": "3d8ad304",
   "metadata": {},
   "source": [
    "## 4 Discussion"
   ]
  },
  {
   "cell_type": "markdown",
   "id": "b8db4852",
   "metadata": {},
   "source": [
    "<span style='color:darkcyan'> <i>Are your results realistic? Why (not)? Comparison with theory? </i></span>"
   ]
  },
  {
   "cell_type": "markdown",
   "id": "189c473b",
   "metadata": {},
   "source": []
  },
  {
   "cell_type": "markdown",
   "id": "ed475087",
   "metadata": {},
   "source": [
    "<span style='color:darkcyan'> <i>What measurement errors were assumed? Why? <br/>\n",
    "    What are the main reasons for the errors in your results and how do they come about?</i></span>"
   ]
  },
  {
   "cell_type": "markdown",
   "id": "4ceb8f17",
   "metadata": {},
   "source": []
  },
  {
   "cell_type": "markdown",
   "id": "9381b751",
   "metadata": {},
   "source": [
    "<span style='color:darkcyan'> <i>How would you try to reduce the error further? Could you improve the accuracy of the experiment? </i></span>"
   ]
  },
  {
   "cell_type": "markdown",
   "id": "ca856f37",
   "metadata": {},
   "source": []
  },
  {
   "cell_type": "markdown",
   "id": "e38d5dbc",
   "metadata": {},
   "source": [
    "<span style='color:darkcyan'> <i>If you were to repeat the experiment, what would you do differently and why?</i></span>"
   ]
  },
  {
   "cell_type": "markdown",
   "id": "c3f06d03",
   "metadata": {},
   "source": []
  }
 ],
 "metadata": {
  "kernelspec": {
   "display_name": "Python 3 (ipykernel)",
   "language": "python",
   "name": "python3"
  },
  "language_info": {
   "codemirror_mode": {
    "name": "ipython",
    "version": 3
   },
   "file_extension": ".py",
   "mimetype": "text/x-python",
   "name": "python",
   "nbconvert_exporter": "python",
   "pygments_lexer": "ipython3",
   "version": "3.10.12"
  }
 },
 "nbformat": 4,
 "nbformat_minor": 5
}
