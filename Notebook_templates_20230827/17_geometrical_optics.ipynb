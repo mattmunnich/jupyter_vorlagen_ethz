{
 "cells": [
  {
   "cell_type": "markdown",
   "id": "0629b8fb",
   "metadata": {},
   "source": [
    "# Protocol for experiment 17 \"Geometrical Optics\""
   ]
  },
  {
   "cell_type": "markdown",
   "id": "0b7ce929",
   "metadata": {},
   "source": [
    "**Date:** {2023-MM-DD}  \n",
    "**Version:** {1 for 1st assignment, 2 for corrected assignment, ...}\n",
    " \n",
    " - **Student 1:** {full name}\n",
    " - **Student 2:** {full name}"
   ]
  },
  {
   "cell_type": "markdown",
   "id": "8f0f1d43",
   "metadata": {},
   "source": [
    "## 1. Introduction\n",
    "\n",
    "### 1.1 Introduction to the experiment\n",
    "\n",
    "- What is the experiment about? What is the objective?\n",
    "\n",
    "### 1.2 Summary of theory\n",
    "\n",
    "- Explanation of the formulas used incl. variable labeling (example from preliminary experiment)\n",
    "    - Representation e.g. by  \n",
    "    \"\\\\$\\\\$ T = 2\\pi \\sqrt{\\frac{L}{g}} \\\\$\\\\$\" $\\rightarrow$ \n",
    "    $$T=2\\pi\\sqrt{\\frac{L}{g}}$$  \n",
    "    where $T$ is the period of oscillation of the pendulum for one oscillation, $L$ is the length of the pendulum, and $g$ is the acceleration due to gravity.\n",
    "    - $$\\phi = A \\exp(-\\frac{\\gamma t}{2})\\cos(\\omega t + \\alpha)$$\n",
    "    where $\\phi$ is the displacement of the oscillation, $A$ is the original amplitude of the oscillation, $\\gamma$ is the coefficient of friction, and $\\omega$ is the angular frequency.\n",
    "\n",
    "### 1.3 Tasks\n",
    "\n",
    "- What are the tasks for the experiment?\n",
    "\n",
    "### 1.4 Environmental relevance\n",
    "\n",
    "- How is the experiment relevant to your studies in environmental science? (1-2 sentences)"
   ]
  },
  {
   "cell_type": "markdown",
   "id": "0172593d",
   "metadata": {},
   "source": [
    "## 2. Packages and Functions"
   ]
  },
  {
   "cell_type": "markdown",
   "id": "aad31d47",
   "metadata": {},
   "source": [
    "### 2.1 Load packages\n",
    "You may not use all of these packages. You can comment out the ones you don't need."
   ]
  },
  {
   "cell_type": "code",
   "execution_count": 1,
   "id": "b4170517",
   "metadata": {},
   "outputs": [],
   "source": [
    "# import packages  (not every package is used in each notebook template)\n",
    "\n",
    "# numerical computing\n",
    "import numpy as np                    # Fundamental package for numerical computing in Python\n",
    "\n",
    "# uncertainty calculations\n",
    "from uncertainties import ufloat      # For handling numbers with uncertainties\n",
    "from uncertainties.umath import *     # For applying mathematical functions with uncertainties\n",
    "from uncertainties import unumpy      # For handling uncertainties in arrays\n",
    "\n",
    "# data manipulation and analysis\n",
    "import pandas as pd                   # Powerful data manipulation and analysis library\n",
    "\n",
    "# data visualization in tables\n",
    "from tabulate import tabulate\n",
    "\n",
    "# data visualization in plots\n",
    "import matplotlib.pyplot as plt       # Library for creating static, interactive, and animated visualizations\n",
    "\n",
    "# scientific computing\n",
    "import scipy as sc                    # Open-source scientific computing library\n",
    "from scipy.stats import linregress    # For performing linear regression analysis\n",
    "from scipy.constants import R         # Physical and mathematical constants\n",
    "\n",
    "# interactive display in Jupyter Notebook\n",
    "from IPython.display import display, Markdown, Image   # For displaying rich content (e.g., Markdown) in Jupyter Notebook\n",
    "\n",
    "# standard mathematical functions\n",
    "import math                          # Python's built-in math functions\n",
    "\n",
    "# widgets (to create elements such as dynamic input/output boxes)\n",
    "import ipywidgets as widgets\n",
    "\n",
    "\n"
   ]
  },
  {
   "cell_type": "markdown",
   "id": "40438cc2",
   "metadata": {},
   "source": [
    "### 2.2 Define functions"
   ]
  },
  {
   "cell_type": "code",
   "execution_count": 2,
   "id": "fdb6c831",
   "metadata": {},
   "outputs": [],
   "source": [
    "# example: \n",
    "\n",
    "def my_function(param1_placeholder, param2_placeholder):\n",
    "    \n",
    "    value = 'Replace with your calculation'\n",
    "    return value"
   ]
  },
  {
   "cell_type": "markdown",
   "id": "6dd82fad",
   "metadata": {},
   "source": [
    "#### <span style='color:darkcyan'> Your functions: </span>"
   ]
  },
  {
   "cell_type": "code",
   "execution_count": null,
   "id": "a3d0e52e",
   "metadata": {},
   "outputs": [],
   "source": []
  },
  {
   "cell_type": "markdown",
   "id": "aa491cdb",
   "metadata": {},
   "source": [
    "<div class=\"alert alert-block alert-info\">\n",
    "    <b>Tip</b>: <br/>\n",
    "    1) Here is the place to <b>define all the functions you need</b> in this notebook. This helps to keep your notebook clear and structured.<br/>\n",
    "    2) Add <b>comments</b> to your functions (e.g. what is the function good for, what happens in each line, etc.), so that you and your lab partner will still be able to understand the code at a later time."
   ]
  },
  {
   "cell_type": "markdown",
   "id": "335259b7",
   "metadata": {},
   "source": [
    "## 3. Experiments"
   ]
  },
  {
   "cell_type": "markdown",
   "id": "f61bee2d",
   "metadata": {},
   "source": [
    "### 3.1 Experiment 1: Focal length of two converging lenses\n",
    "<span style='color:indigo'> <i>DMeasure the focal length of two converging lenses: <br/>\n",
    "    a) using the object and image distances, fine wire mesh as object <br/>\n",
    "    b) applying Bessel’s method, coarse wire mesh as object.</i></span>"
   ]
  },
  {
   "cell_type": "markdown",
   "id": "7d08a213",
   "metadata": {},
   "source": [
    "__a) From object and image distance:__"
   ]
  },
  {
   "cell_type": "markdown",
   "id": "13293be6",
   "metadata": {},
   "source": [
    "<span style='color:darkcyan'> <i>Use two different object distances each time.</i></span>"
   ]
  },
  {
   "cell_type": "markdown",
   "id": "c5f596a3",
   "metadata": {},
   "source": [
    "#### 3.1.1 a) Measurement data"
   ]
  },
  {
   "cell_type": "code",
   "execution_count": 3,
   "id": "40c5dd03",
   "metadata": {},
   "outputs": [],
   "source": [
    "# Example:\n",
    "# Variable = ufloat(measured value, absolute error) # [unit]\n",
    "f_test = ufloat(19.4,0.1) # [mm]\n",
    "\n",
    "# Lense 1\n",
    "a1_1_1a = ufloat(0,0) # [unit]\n",
    "a1_2_1a = ufloat(0,0) # [unit]\n",
    "b1_1_1a = ufloat(0,0) # [unit]\n",
    "b1_2_1a = ufloat(0,0) # [unit]\n",
    "\n",
    "# Lense 2\n",
    "a2_1_1a = ufloat(0,0) # [unit]\n",
    "a2_2_1a = ufloat(0,0) # [unit]\n",
    "b2_1_1a = ufloat(0,0) # [unit]\n",
    "b2_2_1a = ufloat(0,0) # [unit]"
   ]
  },
  {
   "cell_type": "markdown",
   "id": "1c17cd98",
   "metadata": {},
   "source": [
    "<div class=\"alert alert-block alert-info\">\n",
    "    <b>Tip</b>: Take care when choosing names for your variables - make sure that you <b>don't use the same name for different variables</b> (throughout the whole notebook!) <br/>\n",
    "    If you measure the same quantity in more than one experiment, you can e.g. include the experiment number in the variable name to make it unique. <br/>\n",
    "    <small>Otherwise the value of the variable will depend on the order in which you execute the cells, which may cause confusion and wrong results if you don't always execute them from top to bottom.</small><br/>"
   ]
  },
  {
   "cell_type": "markdown",
   "id": "2f9e1af8",
   "metadata": {},
   "source": [
    "<span style='color:darkcyan'> <i>Print your data (incl. errors and units).</i></span>"
   ]
  },
  {
   "cell_type": "code",
   "execution_count": 4,
   "id": "91d0edb2",
   "metadata": {},
   "outputs": [
    {
     "name": "stdout",
     "output_type": "stream",
     "text": [
      "\n",
      "Lense 1:\n",
      "Measurement 1: a = 0.0+/-0 [unit], b =  0.0+/-0 [unit].\n",
      "Measurement 2: a = 0.0+/-0 [unit], b =  0.0+/-0 [unit].\n",
      "\n",
      "Lense 2:\n",
      "Measurement 1: a = 0.0+/-0 [unit], b =  0.0+/-0 [unit].\n",
      "Measurement 2: a = 0.0+/-0 [unit], b =  0.0+/-0 [unit].\n",
      "\n"
     ]
    }
   ],
   "source": [
    "# for example\n",
    "\n",
    "print()\n",
    "print(\"Lense 1:\")\n",
    "print(\"Measurement 1: a =\",a1_1_1a,\"[unit], b = \",b1_1_1a,\"[unit].\")\n",
    "print(\"Measurement 2: a =\",a1_2_1a,\"[unit], b = \",b1_2_1a,\"[unit].\")\n",
    "print()\n",
    "\n",
    "print(\"Lense 2:\")\n",
    "print(\"Measurement 1: a =\",a2_1_1a,\"[unit], b = \",b2_1_1a,\"[unit].\")\n",
    "print(\"Measurement 2: a =\",a2_2_1a,\"[unit], b = \",b2_2_1a,\"[unit].\")\n",
    "print()\n"
   ]
  },
  {
   "cell_type": "markdown",
   "id": "34447be8",
   "metadata": {},
   "source": [
    "#### 3.1.2 a) Evaluation"
   ]
  },
  {
   "cell_type": "code",
   "execution_count": 5,
   "id": "f3a9cc5a",
   "metadata": {},
   "outputs": [],
   "source": [
    "# Lense 1:\n",
    "f1_1_1a = ...\n",
    "f1_2_1a = ...\n",
    "f1 = ... # mean of both measurements"
   ]
  },
  {
   "cell_type": "markdown",
   "id": "4d142ae0",
   "metadata": {},
   "source": [
    "<span style='color:darkcyan'> <i>Print your results\n",
    "    (incl. errors and units).</i></span>"
   ]
  },
  {
   "cell_type": "code",
   "execution_count": 6,
   "id": "e4de5c74",
   "metadata": {},
   "outputs": [
    {
     "name": "stdout",
     "output_type": "stream",
     "text": [
      "1a) focal length from object and image distance\n",
      "Lense 1: f =  Ellipsis [unit].\n",
      "Lense 2: f =  Ellipsis [unit].\n"
     ]
    }
   ],
   "source": [
    "# for example:\n",
    "\n",
    "print(\"1a) focal length from object and image distance\")\n",
    "print(\"Lense 1: f = \",f1_1_1a,\"[unit].\")\n",
    "print(\"Lense 2: f = \",f1_2_1a,\"[unit].\")"
   ]
  },
  {
   "cell_type": "markdown",
   "id": "015491b5",
   "metadata": {},
   "source": [
    "__b) Applying Bessel’s method:__"
   ]
  },
  {
   "cell_type": "markdown",
   "id": "16f35c1e",
   "metadata": {},
   "source": [
    "#### 3.1.1 b) Measurement data"
   ]
  },
  {
   "cell_type": "code",
   "execution_count": 7,
   "id": "0a46482b",
   "metadata": {},
   "outputs": [],
   "source": [
    "# Lense 1\n",
    "d1_1b = ufloat(0,0) # [unit]\n",
    "e1_1b = ufloat(0,0) # [unit]\n",
    "\n",
    "# Lense 2\n",
    "d2_1b = ufloat(0,0) # [unit]\n",
    "e2_1b = ufloat(0,0) # [unit]\n"
   ]
  },
  {
   "cell_type": "markdown",
   "id": "7bb3d370",
   "metadata": {},
   "source": [
    "<span style='color:darkcyan'> <i>Print your data (incl. errors and units).</i></span>"
   ]
  },
  {
   "cell_type": "code",
   "execution_count": null,
   "id": "6144e703",
   "metadata": {},
   "outputs": [],
   "source": []
  },
  {
   "cell_type": "markdown",
   "id": "a6cf0619",
   "metadata": {},
   "source": [
    "#### 3.1.2 b) Evaluation"
   ]
  },
  {
   "cell_type": "code",
   "execution_count": 8,
   "id": "1546ad89",
   "metadata": {},
   "outputs": [],
   "source": [
    "# Lense 1\n",
    "f1_1b = ... # [unit]\n",
    "\n",
    "# Lense 2\n",
    "f2_1b = ... # [unit]\n"
   ]
  },
  {
   "cell_type": "markdown",
   "id": "4763a0d9",
   "metadata": {},
   "source": [
    "<span style='color:darkcyan'> <i>Print your results\n",
    "    (incl. errors and units).</i></span>"
   ]
  },
  {
   "cell_type": "code",
   "execution_count": null,
   "id": "d1a32b11",
   "metadata": {},
   "outputs": [],
   "source": []
  },
  {
   "cell_type": "markdown",
   "id": "11d22f08",
   "metadata": {},
   "source": [
    "### 3.2 Experiment 2: Focal length of a diverging lens \n",
    "<span style=\"color: indigo;\"><i>\n",
    "       The focal length of a diverging lens is to be determined from the object and image distances,\n",
    "inserting one of the converging lens.</i>\n",
    "</span>\n"
   ]
  },
  {
   "cell_type": "markdown",
   "id": "bd2b79f8",
   "metadata": {},
   "source": [
    "#### 3.2.1 Measurement data"
   ]
  },
  {
   "cell_type": "code",
   "execution_count": 9,
   "id": "a3c16c41",
   "metadata": {},
   "outputs": [],
   "source": [
    "a1_2 = ufloat(0,0) # [unit]\n",
    "b1_2 = ufloat(0,0) # [unit]\n",
    "\n",
    "a2_2 = ufloat(0,0) # [unit]\n",
    "b2_2 = ufloat(0,0) # [unit]\n"
   ]
  },
  {
   "cell_type": "markdown",
   "id": "6fc4a31c",
   "metadata": {},
   "source": [
    "<span style='color:darkcyan'> <i>Print your data (incl. errors and units).</i></span>"
   ]
  },
  {
   "cell_type": "code",
   "execution_count": null,
   "id": "43f46422",
   "metadata": {},
   "outputs": [],
   "source": []
  },
  {
   "cell_type": "markdown",
   "id": "80bc7539",
   "metadata": {},
   "source": [
    "#### 3.2.2 a) Evaluation"
   ]
  },
  {
   "cell_type": "code",
   "execution_count": 10,
   "id": "75611a70",
   "metadata": {},
   "outputs": [],
   "source": [
    "f1_1_2 = ufloat(0,0) # [unit]\n",
    "f1__2 = ufloat(0,0) # [unit]\n",
    "f1_2_2 = ufloat(0,0) # [unit]\n",
    "\n",
    "f2_1_2 = ufloat(0,0) # [unit]\n",
    "f2__2 = ufloat(0,0) # [unit]\n",
    "f2_2_2 = ufloat(0,0) # [unit]\n"
   ]
  },
  {
   "cell_type": "markdown",
   "id": "5e5737bb",
   "metadata": {},
   "source": [
    "<span style='color:darkcyan'> <i>Print your results\n",
    "    (incl. errors and units).</i></span>"
   ]
  },
  {
   "cell_type": "code",
   "execution_count": null,
   "id": "f32e6d29",
   "metadata": {},
   "outputs": [],
   "source": []
  },
  {
   "cell_type": "markdown",
   "id": "bbe09eb4",
   "metadata": {},
   "source": [
    "### 3.3 Experiment 3: Grating constant of the wire net\n",
    "<span style=\"color: indigo;\"><i>\n",
    "        Two wire nets are to be imaged on a screen one of the lenses. Their grating constant $G$ is\n",
    "to be determined from the image size $G′$ and the magnification.</i>\n",
    "</span>\n"
   ]
  },
  {
   "cell_type": "markdown",
   "id": "6e88808d",
   "metadata": {},
   "source": [
    "#### 3.3.1 Measurement data"
   ]
  },
  {
   "cell_type": "code",
   "execution_count": 11,
   "id": "f23ac8bb",
   "metadata": {},
   "outputs": [],
   "source": [
    "# Net Nr. ...\n",
    "# Lense Nr. ...\n",
    "\n",
    "a1_3 = ufloat(0,0)         # [unit]\n",
    "b1_3 = ufloat(0,0)         # [unit]\n",
    "G_prime_1_3  = ufloat(0,0) # [unit]\n",
    "\n",
    "# Net Nr. ...\n",
    "# Lense Nr. ...\n",
    "\n",
    "a2_3 = ufloat(0,0)         # [unit]\n",
    "b2_3 = ufloat(0,0)         # [unit]\n",
    "G_prime_2_3  = ufloat(0,0) # [unit]\n"
   ]
  },
  {
   "cell_type": "markdown",
   "id": "9d4157f7",
   "metadata": {},
   "source": [
    "<span style='color:darkcyan'> <i>Print your data (incl. errors and units).</i></span>"
   ]
  },
  {
   "cell_type": "code",
   "execution_count": null,
   "id": "89a1bb08",
   "metadata": {},
   "outputs": [],
   "source": []
  },
  {
   "cell_type": "markdown",
   "id": "12aa2a34",
   "metadata": {},
   "source": [
    "#### 3.2.2 Evaluation"
   ]
  },
  {
   "cell_type": "code",
   "execution_count": 12,
   "id": "691ed192",
   "metadata": {},
   "outputs": [],
   "source": [
    "# Net Nr. ...\n",
    "# Lense Nr. ...\n",
    "\n",
    "G1_3  = ufloat(0,0) # [unit]\n",
    "\n",
    "# Net Nr. ...\n",
    "# Lense Nr. ...\n",
    "\n",
    "G2_3  = ufloat(0,0) # [unit]\n"
   ]
  },
  {
   "cell_type": "markdown",
   "id": "dd9846b1",
   "metadata": {},
   "source": [
    "<span style='color:darkcyan'> <i>Print your results\n",
    "    (incl. errors and units).</i></span>"
   ]
  },
  {
   "cell_type": "code",
   "execution_count": null,
   "id": "dfe957f6",
   "metadata": {},
   "outputs": [],
   "source": []
  },
  {
   "cell_type": "markdown",
   "id": "b23b3f54",
   "metadata": {},
   "source": []
  },
  {
   "cell_type": "markdown",
   "id": "444eb10a",
   "metadata": {},
   "source": [
    "### 3.4 Experiment 4: Abbe’s theory of imaging\n",
    "<span style=\"color: indigo;\"><i>\n",
    "         The correctness of Abbe’s imaging theory is\n",
    "to be examined. The two wire nets are to be imaged on the screen using a converging lens\n",
    "and introducing in the focal plane of the lens\n",
    "a slit whose width is to be changed until the\n",
    "vertical bars in the figure just disappear. The\n",
    "critical slit width is to be measured by magnifying it with a lens, and the data should\n",
    "to be compared with the calculated value from\n",
    "Eq. (10).</i>\n",
    "</span>\n"
   ]
  },
  {
   "cell_type": "markdown",
   "id": "302fad31",
   "metadata": {},
   "source": [
    "#### 3.4.1 Measurement data"
   ]
  },
  {
   "cell_type": "code",
   "execution_count": 13,
   "id": "f11b7c8d",
   "metadata": {},
   "outputs": [],
   "source": [
    "# Lense Nr. ...\n",
    "\n",
    "lambda_4 = ufloat(0,0)   # [unit]  \n",
    "s_4 = ufloat(0,0)        # [unit] distance slit - lense\n",
    "\n",
    "# Net Nr. ...\n",
    "a1_4 = ufloat(0,0)         # [unit]\n",
    "b1_4 = ufloat(0,0)         # [unit]\n",
    "d_prime_1_4 = ufloat(0,0) # [unit] \n",
    "\n",
    "# Net Nr. ...\n",
    "a2_4 = ufloat(0,0)         # [unit]\n",
    "b2_4 = ufloat(0,0)         # [unit]\n",
    "d_prime_2_4 = ufloat(0,0) # [unit] "
   ]
  },
  {
   "cell_type": "markdown",
   "id": "1aab1015",
   "metadata": {},
   "source": [
    "<span style='color:darkcyan'> <i>Print your data (incl. errors and units).</i></span>"
   ]
  },
  {
   "cell_type": "code",
   "execution_count": null,
   "id": "b197852c",
   "metadata": {},
   "outputs": [],
   "source": []
  },
  {
   "cell_type": "markdown",
   "id": "6f137b58",
   "metadata": {},
   "source": [
    "#### 3.4.2 a) Evaluation"
   ]
  },
  {
   "cell_type": "markdown",
   "id": "07a9ac5d",
   "metadata": {},
   "source": [
    "<span style='color:darkcyan'> <i>Determine the critical slit width experimentally and from calculation.</i></span>"
   ]
  },
  {
   "cell_type": "code",
   "execution_count": 14,
   "id": "c29c820b",
   "metadata": {},
   "outputs": [],
   "source": [
    "# Net Nr. ...\n",
    "d_exp_1_4 = ufloat(0,0) # [unit] \n",
    "d_calc_1_4 = ufloat(0,0) # [unit] \n",
    "\n",
    "# Net Nr. ...\n",
    "d_exp_2_4 = ufloat(0,0) # [unit] \n",
    "d_calc_2_4 = ufloat(0,0) # [unit] \n"
   ]
  },
  {
   "cell_type": "markdown",
   "id": "83d12365",
   "metadata": {},
   "source": [
    "<span style='color:darkcyan'> <i>Print your results\n",
    "    (incl. errors and units).</i></span>"
   ]
  },
  {
   "cell_type": "code",
   "execution_count": null,
   "id": "ddda914c",
   "metadata": {},
   "outputs": [],
   "source": []
  },
  {
   "cell_type": "markdown",
   "id": "3a32edb6",
   "metadata": {},
   "source": [
    "## 4 Discussion"
   ]
  },
  {
   "cell_type": "markdown",
   "id": "7d2e95be",
   "metadata": {},
   "source": [
    "<span style='color:darkcyan'> <i>Are your results realistic? Why (not)? Comparison with theory? </i></span>"
   ]
  },
  {
   "cell_type": "markdown",
   "id": "9330d0e7",
   "metadata": {},
   "source": []
  },
  {
   "cell_type": "markdown",
   "id": "8a52e543",
   "metadata": {},
   "source": [
    "<span style='color:darkcyan'> <i>What measurement errors were assumed? Why? <br/>\n",
    "    What are the main reasons for the errors in your results and how do they come about?</i></span>"
   ]
  },
  {
   "cell_type": "markdown",
   "id": "4416ade5",
   "metadata": {},
   "source": []
  },
  {
   "cell_type": "markdown",
   "id": "0fab5617",
   "metadata": {},
   "source": [
    "<span style='color:darkcyan'> <i>How would you try to reduce the error further? Could you improve the accuracy of the experiment? </i></span>"
   ]
  },
  {
   "cell_type": "markdown",
   "id": "0d50b92e",
   "metadata": {},
   "source": []
  },
  {
   "cell_type": "markdown",
   "id": "f5967c0c",
   "metadata": {},
   "source": [
    "<span style='color:darkcyan'> <i>If you were to repeat the experiment, what would you do differently and why?</i></span>"
   ]
  },
  {
   "cell_type": "markdown",
   "id": "6593ac1e",
   "metadata": {},
   "source": []
  }
 ],
 "metadata": {
  "kernelspec": {
   "display_name": "Python 3 (ipykernel)",
   "language": "python",
   "name": "python3"
  },
  "language_info": {
   "codemirror_mode": {
    "name": "ipython",
    "version": 3
   },
   "file_extension": ".py",
   "mimetype": "text/x-python",
   "name": "python",
   "nbconvert_exporter": "python",
   "pygments_lexer": "ipython3",
   "version": "3.10.12"
  }
 },
 "nbformat": 4,
 "nbformat_minor": 5
}
