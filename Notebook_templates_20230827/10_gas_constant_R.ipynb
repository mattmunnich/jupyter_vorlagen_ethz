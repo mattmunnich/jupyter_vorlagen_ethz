{
 "cells": [
  {
   "cell_type": "markdown",
   "id": "0629b8fb",
   "metadata": {},
   "source": [
    "# Protocol for experiment 10 \"Universal Gas Constant\""
   ]
  },
  {
   "cell_type": "markdown",
   "id": "0b7ce929",
   "metadata": {},
   "source": [
    "**Date:** {2023-MM-DD}  \n",
    "**Version:** {1 for 1st assignment, 2 for corrected assignment, ...}\n",
    " \n",
    " - **Student 1:** {full name}\n",
    " - **Student 2:** {full name}"
   ]
  },
  {
   "cell_type": "markdown",
   "id": "8f0f1d43",
   "metadata": {},
   "source": [
    "## 1. Introduction\n",
    "\n",
    "### 1.1 Introduction to the experiment\n",
    "\n",
    "- What is the experiment about? What is the objective?\n",
    "\n",
    "### 1.2 Summary of theory\n",
    "\n",
    "- Explanation of the formulas used incl. variable labeling (example from preliminary experiment)\n",
    "    - Representation e.g. by  \n",
    "    \"\\\\$\\\\$ T = 2\\pi \\sqrt{\\frac{L}{g}} \\\\$\\\\$\" $\\rightarrow$ \n",
    "    $$T=2\\pi\\sqrt{\\frac{L}{g}}$$  \n",
    "    where $T$ is the period of oscillation of the pendulum for one oscillation, $L$ is the length of the pendulum, and $g$ is the acceleration due to gravity.\n",
    "    - $$\\phi = A \\exp(-\\frac{\\gamma t}{2})\\cos(\\omega t + \\alpha)$$\n",
    "    where $\\phi$ is the displacement of the oscillation, $A$ is the original amplitude of the oscillation, $\\gamma$ is the coefficient of friction, and $\\omega$ is the angular frequency.\n",
    "\n",
    "### 1.3 Tasks\n",
    "\n",
    "- What are the tasks for the experiment?\n",
    "\n",
    "### 1.4 Environmental relevance\n",
    "\n",
    "- How is the experiment relevant to your studies in environmental science? (1-2 sentences)"
   ]
  },
  {
   "cell_type": "markdown",
   "id": "0172593d",
   "metadata": {},
   "source": [
    "## 2. Packages and Functions"
   ]
  },
  {
   "cell_type": "markdown",
   "id": "aad31d47",
   "metadata": {},
   "source": [
    "### 2.1 Load packages\n",
    "You may not use all of these packages. You can comment out the ones you don't need."
   ]
  },
  {
   "cell_type": "code",
   "execution_count": 1,
   "id": "b4170517",
   "metadata": {},
   "outputs": [],
   "source": [
    "# import packages  (not every package is used in each notebook template)\n",
    "\n",
    "# numerical computing\n",
    "import numpy as np                    # Fundamental package for numerical computing in Python\n",
    "\n",
    "# uncertainty calculations\n",
    "from uncertainties import ufloat      # For handling numbers with uncertainties\n",
    "from uncertainties.umath import *     # For applying mathematical functions with uncertainties\n",
    "from uncertainties import unumpy      # For handling uncertainties in arrays\n",
    "\n",
    "# data manipulation and analysis\n",
    "import pandas as pd                   # Powerful data manipulation and analysis library\n",
    "\n",
    "# data visualization in tables\n",
    "from tabulate import tabulate\n",
    "\n",
    "# data visualization in plots\n",
    "import matplotlib.pyplot as plt       # Library for creating static, interactive, and animated visualizations\n",
    "\n",
    "# scientific computing\n",
    "import scipy as sc                    # Open-source scientific computing library\n",
    "from scipy.stats import linregress    # For performing linear regression analysis\n",
    "from scipy.constants import R         # Physical and mathematical constants\n",
    "\n",
    "# interactive display in Jupyter Notebook\n",
    "from IPython.display import display, Markdown   # For displaying rich content (e.g., Markdown) in Jupyter Notebook\n",
    "\n",
    "# standard mathematical functions\n",
    "import math                          # Python's built-in math functions\n",
    "\n",
    "# widgets (to create elements such as dynamic input/output boxes)\n",
    "import ipywidgets as widgets\n",
    "\n",
    "\n"
   ]
  },
  {
   "cell_type": "markdown",
   "id": "40438cc2",
   "metadata": {},
   "source": [
    "### 2.2 Define functions"
   ]
  },
  {
   "cell_type": "code",
   "execution_count": 2,
   "id": "dc122d8e",
   "metadata": {},
   "outputs": [],
   "source": [
    "# example: \n",
    "\n",
    "def my_function(param1_placeholder, param2_placeholder):\n",
    "    \n",
    "    value = 'Replace with your calculation'\n",
    "    return value"
   ]
  },
  {
   "cell_type": "markdown",
   "id": "6dd82fad",
   "metadata": {},
   "source": [
    "#### <span style='color:darkcyan'> Your functions: </span>"
   ]
  },
  {
   "cell_type": "code",
   "execution_count": 3,
   "id": "1e320d0f",
   "metadata": {},
   "outputs": [
    {
     "data": {
      "text/plain": [
       "'\\nR_L(...,...,...):\\n    \\n    R_L = ...\\n    \\n    return R_L, ...\\n'"
      ]
     },
     "execution_count": 3,
     "metadata": {},
     "output_type": "execute_result"
    }
   ],
   "source": [
    "# important fuctions you may need:\n",
    "\n",
    "# -------------------------------------------------------\n",
    "# Approximation for the universal gas constant\n",
    "# -------------------------------------------------------\n",
    "'''\n",
    "def R(...,...,...):\n",
    "\n",
    "    R = ...\n",
    "    \n",
    "    return R\n",
    "'''\n",
    "\n",
    "# -------------------------------------------------------\n",
    "# Universal gas constant considering air humidity\n",
    "# -------------------------------------------------------\n",
    "\n",
    "'''\n",
    "R_L(...,...,...):\n",
    "    \n",
    "    R_L = ...\n",
    "    \n",
    "    return R_L, ...\n",
    "'''\n",
    "\n",
    "# -------------------------------------------------------\n",
    "# more fuctions if needed ...\n",
    "# -------------------------------------------------------\n"
   ]
  },
  {
   "cell_type": "markdown",
   "id": "aa491cdb",
   "metadata": {},
   "source": [
    "<div class=\"alert alert-block alert-info\">\n",
    "    <b>Tip</b>: <br/>\n",
    "    1) Here is the place to <b>define all the functions you need</b> in this notebook. This helps to keep your notebook clear and structured.<br/>\n",
    "    2) Add <b>comments</b> to your functions (e.g. what is the function good for, what happens in each line, etc.), so that you and your lab partner will still be able to understand the code at a later time."
   ]
  },
  {
   "cell_type": "markdown",
   "id": "335259b7",
   "metadata": {},
   "source": [
    "## 3. Experiment\n",
    "<span style='color:indigo'> <i>Determine the universal constant $R$ by measuring\n",
    "the density of air at the current room temperature $t$.</i></span>"
   ]
  },
  {
   "cell_type": "markdown",
   "id": "b95cf676",
   "metadata": {},
   "source": [
    "### 3.1 Measurement data"
   ]
  },
  {
   "cell_type": "markdown",
   "id": "b12c011a",
   "metadata": {},
   "source": [
    "#### General observations"
   ]
  },
  {
   "cell_type": "code",
   "execution_count": 4,
   "id": "b61a90cd",
   "metadata": {},
   "outputs": [],
   "source": [
    "# Example:\n",
    "# Variable = ufloat(measured value, absolute error) # [unit]\n",
    "p_test = ufloat(707.42,0.1) # [mmHg]\n",
    "\n",
    "#------------------------------------------------------------------\n",
    "# Room air\n",
    "#------------------------------------------------------------------\n",
    "\n",
    "# molecular weight of air\n",
    "ML = ...  # [g/mol]\n",
    "\n",
    "# relative air humidity\n",
    "phi = ... # [unit]\n",
    "\n",
    "# air pressure\n",
    "pL_mmHg = ufloat(0,0) # [mmHg] (replace 0 with your values)\n",
    "p_corr = ...          # [mmHg] correction value air pressure\n",
    "pL_Torr = ...         # [Torr] \n",
    "pL_Pa = ...           # [Pa]\n",
    "\n",
    "# air temperature\n",
    "tL_C = ...            # [°C]"
   ]
  },
  {
   "cell_type": "markdown",
   "id": "f4aaed47",
   "metadata": {},
   "source": [
    "#### Determining the mass of air in the glass bulb"
   ]
  },
  {
   "cell_type": "code",
   "execution_count": 5,
   "id": "0709eaf9",
   "metadata": {},
   "outputs": [],
   "source": [
    "#------------------------------------------------------------------\n",
    "# Measurement 1\n",
    "#------------------------------------------------------------------\n",
    "\n",
    "# Mass of the air-filled bulb\n",
    "mKL1 = ...   # [unit]\n",
    "\n",
    "# Mass of the evacuated bulb \n",
    "mKV1 = ...   # [unit]\n",
    "\n",
    "# Mass of the humid air: mKL2 - mKV2\n",
    "m1 = ...     # [unit]\n",
    "\n",
    "#------------------------------------------------------------------\n",
    "# Measurement 2\n",
    "#------------------------------------------------------------------\n",
    "\n",
    "# Mass of the air-filled bulb\n",
    "mKL2 = ...   # [unit]\n",
    "\n",
    "# Mass of the evacuated bulb \n",
    "mKV2 = ...   # [unit]\n",
    "\n",
    "# Mass of the humid air: mKL2 - mKV2\n",
    "m2 = ...     # [unit]\n",
    "\n"
   ]
  },
  {
   "cell_type": "markdown",
   "id": "9db00198",
   "metadata": {},
   "source": [
    "#### Determining the volume of the glass bulb"
   ]
  },
  {
   "cell_type": "code",
   "execution_count": 6,
   "id": "42db7d59",
   "metadata": {},
   "outputs": [],
   "source": [
    "# Temperature of the water\n",
    "tW_C = ...     # [unit]\n",
    "\n",
    "# Density of water at temperature tW\n",
    "rhoW = ...     # [unit]\n",
    "\n",
    "# Mass of the evacuated bulb\n",
    "mKe = ...      # [unit]\n",
    "\n",
    "# Mass of the water-filled bulb (with all glass, which belongs to mKV2)\n",
    "mKWa = ...     # [unit]\n",
    "\n",
    "# Mass of the water in the bulb: mKW-mK\n",
    "mWa = ...      # [unit]\n",
    "\n",
    "# Volume of the glass bulb \n",
    "V = ...       # [unit]"
   ]
  },
  {
   "cell_type": "markdown",
   "id": "f97ceebe",
   "metadata": {},
   "source": [
    "<span style='color:darkcyan'> <i>Present your measuremet data clearly (in a table or with 'print()'). </i></span>"
   ]
  },
  {
   "cell_type": "code",
   "execution_count": 7,
   "id": "f515c7f1",
   "metadata": {},
   "outputs": [
    {
     "name": "stdout",
     "output_type": "stream",
     "text": [
      "\n",
      "air pressure:\n",
      "Air pressure in mmHg= Ellipsis [unit]\n",
      "Correction factor = Ellipsis [unit]\n",
      "Air pressure in Torr = Ellipsis [unit]\n",
      "Air pressure in Pa = Ellipsis [unit]\n",
      "\n",
      "\n",
      "Measurement 1:\n",
      "Ellipsis\n",
      "\n",
      "\n",
      "Measurement 2:\n",
      "Ellipsis\n",
      "\n",
      "\n",
      "Measurement Volume:\n",
      "Ellipsis\n",
      "\n"
     ]
    }
   ],
   "source": [
    "# for example:\n",
    "print()\n",
    "print(\"Air pressure:\")\n",
    "print(\"Air pressure in mmHg=\",...,\"[unit]\")\n",
    "print(\"Correction factor =\",...,\"[unit]\")\n",
    "print(\"Air pressure in Torr =\",...,\"[unit]\")\n",
    "print(\"Air pressure in Pa =\",...,\"[unit]\")\n",
    "print()\n",
    "\n",
    "print()\n",
    "print(\"Measurement 1:\")\n",
    "print(...)\n",
    "print()\n",
    "\n",
    "print()\n",
    "print(\"Measurement 2:\")\n",
    "print(...)\n",
    "print()\n",
    "\n",
    "print()\n",
    "print(\"Measurement Volume:\")\n",
    "print(...)\n",
    "print()"
   ]
  },
  {
   "cell_type": "markdown",
   "id": "8a4c87a0",
   "metadata": {},
   "source": [
    "#### 3.1.2 Evaluation"
   ]
  },
  {
   "cell_type": "markdown",
   "id": "8ba2a897",
   "metadata": {},
   "source": [
    "#### Approximate value for the universal gas constant (not correcting for air humidity)"
   ]
  },
  {
   "cell_type": "code",
   "execution_count": 8,
   "id": "315eaed3",
   "metadata": {},
   "outputs": [],
   "source": [
    "# use the formula or the function you defined in sec. 2\n",
    "\n",
    "# from measurement 1\n",
    "R1 = ...   # [unit] \n",
    "\n",
    "# from measurement 1\n",
    "R2 = ...   # [unit]"
   ]
  },
  {
   "cell_type": "markdown",
   "id": "122f111a",
   "metadata": {},
   "source": [
    "#### More precise value for the universal gas constant (taking air humidity into account)"
   ]
  },
  {
   "cell_type": "code",
   "execution_count": 9,
   "id": "448b44f9",
   "metadata": {},
   "outputs": [],
   "source": [
    "# Saturation pressure\n",
    "A = ...      # [unit]\n",
    "s = ...      # [unit]\n",
    "Tn = ...     # [unit]\n",
    "pws = ...    # [unit]\n",
    "\n",
    "# Partial pressure of the air humidity\n",
    "pw = ...     # [unit]\n",
    "\n",
    "# Partial pressure of the dry air \n",
    "pL = ...     # [unit]\n",
    "\n",
    "# Molecular weight of water\n",
    "MW = ...     # [unit]\n",
    "\n",
    "# Universal gas constant\n",
    "R1_L = ...   # [unit] from the 1st measurement\n",
    "R2_L = ...   # [unit] from the 2nd measurement"
   ]
  },
  {
   "cell_type": "markdown",
   "id": "be00a0bc",
   "metadata": {},
   "source": [
    "<span style='color:darkcyan'> <i>Print your results (incl. errors and units).</i></span>"
   ]
  },
  {
   "cell_type": "code",
   "execution_count": 10,
   "id": "fb03689b",
   "metadata": {},
   "outputs": [
    {
     "name": "stdout",
     "output_type": "stream",
     "text": [
      "Literature value:\n",
      "Universal gas constant R = 8.314462618 [J K-1 mol-1]\n",
      "\n",
      "Approximation for the universal gas constant\n",
      "Gas constant R1 = Ellipsis [unit]\n",
      "Gas constant R2 = Ellipsis [unit]\n",
      "\n",
      "More precise value for the universal gas constant:\n",
      "Ellipsis\n",
      "\n"
     ]
    }
   ],
   "source": [
    "# for example:\n",
    "\n",
    "print(\"Literature value:\")\n",
    "print(\"Universal gas constant R =\",R,\"[J K-1 mol-1]\")\n",
    "\n",
    "print()\n",
    "print(\"Approximation for the universal gas constant\")\n",
    "print(\"Gas constant R1 =\",...,\"[unit]\")\n",
    "print(\"Gas constant R2 =\",...,\"[unit]\")\n",
    "print()\n",
    "\n",
    "print(\"More precise value for the universal gas constant:\")\n",
    "print(...)\n",
    "print()"
   ]
  },
  {
   "cell_type": "markdown",
   "id": "3a32edb6",
   "metadata": {},
   "source": [
    "## 4 Discussion"
   ]
  },
  {
   "cell_type": "markdown",
   "id": "7d2e95be",
   "metadata": {},
   "source": [
    "<span style='color:darkcyan'> <i>Are your results realistic? Why (not)? Comparison with theory? </i></span>"
   ]
  },
  {
   "cell_type": "markdown",
   "id": "9330d0e7",
   "metadata": {},
   "source": []
  },
  {
   "cell_type": "markdown",
   "id": "8a52e543",
   "metadata": {},
   "source": [
    "<span style='color:darkcyan'> <i>What measurement errors were assumed? Why? <br/>\n",
    "    What are the main reasons for the errors in your results and how do they come about?</i></span>"
   ]
  },
  {
   "cell_type": "markdown",
   "id": "4416ade5",
   "metadata": {},
   "source": []
  },
  {
   "cell_type": "markdown",
   "id": "0fab5617",
   "metadata": {},
   "source": [
    "<span style='color:darkcyan'> <i>How would you try to reduce the error further? Could you improve the accuracy of the experiment? </i></span>"
   ]
  },
  {
   "cell_type": "markdown",
   "id": "0d50b92e",
   "metadata": {},
   "source": []
  },
  {
   "cell_type": "markdown",
   "id": "f5967c0c",
   "metadata": {},
   "source": [
    "<span style='color:darkcyan'> <i>If you were to repeat the experiment, what would you do differently and why?</i></span>"
   ]
  },
  {
   "cell_type": "markdown",
   "id": "6593ac1e",
   "metadata": {},
   "source": []
  }
 ],
 "metadata": {
  "kernelspec": {
   "display_name": "Python 3 (ipykernel)",
   "language": "python",
   "name": "python3"
  },
  "language_info": {
   "codemirror_mode": {
    "name": "ipython",
    "version": 3
   },
   "file_extension": ".py",
   "mimetype": "text/x-python",
   "name": "python",
   "nbconvert_exporter": "python",
   "pygments_lexer": "ipython3",
   "version": "3.10.12"
  }
 },
 "nbformat": 4,
 "nbformat_minor": 5
}
