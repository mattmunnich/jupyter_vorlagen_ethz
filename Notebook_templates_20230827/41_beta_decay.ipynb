{
 "cells": [
  {
   "cell_type": "markdown",
   "id": "0629b8fb",
   "metadata": {},
   "source": [
    "# Protocol for experiment 41 \"$\\beta$-Zerfall\""
   ]
  },
  {
   "cell_type": "markdown",
   "id": "0b7ce929",
   "metadata": {},
   "source": [
    "**Date:** {2023-MM-DD}  \n",
    "**Version:** {1 for 1st assignment, 2 for corrected assignment, ...}\n",
    " \n",
    " - **Student 1:** {full name}\n",
    " - **Student 2:** {full name}"
   ]
  },
  {
   "cell_type": "markdown",
   "id": "8f0f1d43",
   "metadata": {},
   "source": [
    "## 1. Introduction\n",
    "\n",
    "### 1.1 Introduction to the experiment\n",
    "\n",
    "- What is the experiment about? What is the objective?\n",
    "\n",
    "### 1.2 Summary of theory\n",
    "\n",
    "- Explanation of the formulas used incl. variable labeling (example from preliminary experiment)\n",
    "    - Representation e.g. by  \n",
    "    \"\\\\$\\\\$ T = 2\\pi \\sqrt{\\frac{L}{g}} \\\\$\\\\$\" $\\rightarrow$ \n",
    "    $$T=2\\pi\\sqrt{\\frac{L}{g}}$$  \n",
    "    where $T$ is the period of oscillation of the pendulum for one oscillation, $L$ is the length of the pendulum, and $g$ is the acceleration due to gravity.\n",
    "    - $$\\phi = A \\exp(-\\frac{\\gamma t}{2})\\cos(\\omega t + \\alpha)$$\n",
    "    where $\\phi$ is the displacement of the oscillation, $A$ is the original amplitude of the oscillation, $\\gamma$ is the coefficient of friction, and $\\omega$ is the angular frequency.\n",
    "\n",
    "### 1.3 Tasks\n",
    "\n",
    "- What are the tasks for the experiment?\n",
    "\n",
    "### 1.4 Environmental relevance\n",
    "\n",
    "- How is the experiment relevant to your studies in environmental science? (1-2 sentences)"
   ]
  },
  {
   "cell_type": "markdown",
   "id": "0172593d",
   "metadata": {},
   "source": [
    "## 2. Packages and Functions"
   ]
  },
  {
   "cell_type": "markdown",
   "id": "aad31d47",
   "metadata": {},
   "source": [
    "### 2.1 Load packages\n",
    "You may not use all of these packages. You can comment out the ones you don't need."
   ]
  },
  {
   "cell_type": "code",
   "execution_count": 1,
   "id": "b4170517",
   "metadata": {},
   "outputs": [],
   "source": [
    "# import packages  (not every package is used in each notebook template)\n",
    "\n",
    "# numerical computing\n",
    "import numpy as np                    # Fundamental package for numerical computing in Python\n",
    "\n",
    "# uncertainty calculations\n",
    "from uncertainties import ufloat      # For handling numbers with uncertainties\n",
    "from uncertainties.umath import *     # For applying mathematical functions with uncertainties\n",
    "from uncertainties import unumpy      # For handling uncertainties in arrays\n",
    "\n",
    "# data manipulation and analysis\n",
    "import pandas as pd                   # Powerful data manipulation and analysis library\n",
    "\n",
    "# data visualization in tables\n",
    "from tabulate import tabulate\n",
    "\n",
    "# data visualization in plots\n",
    "import matplotlib.pyplot as plt       # Library for creating static, interactive, and animated visualizations\n",
    "\n",
    "# scientific computing\n",
    "import scipy as sc                    # Open-source scientific computing library\n",
    "from scipy.stats import linregress    # For performing linear regression analysis\n",
    "from scipy.constants import R         # Physical and mathematical constants\n",
    "\n",
    "# interactive display in Jupyter Notebook\n",
    "from IPython.display import display, Markdown, Image   # For displaying rich content (e.g., Markdown) in Jupyter Notebook\n",
    "\n",
    "# standard mathematical functions\n",
    "import math                          # Python's built-in math functions\n",
    "\n",
    "# widgets (to create elements such as dynamic input/output boxes)\n",
    "import ipywidgets as widgets\n",
    "\n",
    "\n"
   ]
  },
  {
   "cell_type": "markdown",
   "id": "40438cc2",
   "metadata": {},
   "source": [
    "### 2.2 Define functions"
   ]
  },
  {
   "cell_type": "code",
   "execution_count": 2,
   "id": "a3d0e52e",
   "metadata": {},
   "outputs": [],
   "source": [
    "# example: \n",
    "\n",
    "def my_function(param1_placeholder, param2_placeholder):\n",
    "    \n",
    "    value = 'Replace with your calculation'\n",
    "    return value"
   ]
  },
  {
   "cell_type": "markdown",
   "id": "07b4431e",
   "metadata": {},
   "source": [
    "#### Creating a table"
   ]
  },
  {
   "cell_type": "code",
   "execution_count": 3,
   "id": "75785f59",
   "metadata": {},
   "outputs": [],
   "source": [
    "#----------------------------------------------\n",
    "# Create a table (see CheatSheet)\n",
    "#----------------------------------------------\n",
    "\n",
    "def Table(table, header, precisions):\n",
    "    # Check if precisions list length matches table's row count\n",
    "    if len(precisions) != len(table):\n",
    "        raise ValueError(\"Length of precisions list must match the number of rows in the table\")\n",
    "\n",
    "    for i in range(len(table)):\n",
    "        # If precision for this row/column is not None, round the entire row\n",
    "        if precisions[i] is not None:\n",
    "            table[i] = [np.round(val, precisions[i]) for val in table[i]]\n",
    "\n",
    "    table = np.matrix.transpose(np.array(table))\n",
    "    print(tabulate(table, headers=header, tablefmt='fancy_grid'))"
   ]
  },
  {
   "cell_type": "markdown",
   "id": "1cf496c7",
   "metadata": {},
   "source": [
    "#### Range of the electrons on Aluminium in dependence of the energy (cf. fig. 4)"
   ]
  },
  {
   "cell_type": "code",
   "execution_count": 4,
   "id": "90217458",
   "metadata": {},
   "outputs": [],
   "source": [
    "def electron_range(E):\n",
    "    '''\n",
    "    Range of electrons (beta radiation) in aluminum [mg/cm^(-2)]\n",
    "    as a function of the electron energy E [MeV]. \n",
    "    \n",
    "    Referenz:\n",
    "    Weber, Nuclear Instruments and Method 25 (1964) 261-264\n",
    "    https://www.sciencedirect.com/science/article/pii/0029554X63901964?ref=cra_js_challenge&fr=RR-1\n",
    "    '''\n",
    "    a = 1.479e-3 # +- 0.0009 (MeV*cm^2/mg)\n",
    "    A = 1/a\n",
    "    B = 0.9852     # +- 0.008\n",
    "    C = 3.73       # +- 0.12  (MeV^(-1))\n",
    "    return A*E*(1-B/(1+C*E))\n",
    "\n",
    "def energy(R): # you will need that for task 4\n",
    "    '''\n",
    "    Electron energy [MeV] as a function of their range R in Aluminium [mg/cm^(-2)]\n",
    "    (i.e.inverse function of electron_range(E))\n",
    "    '''\n",
    "    a = 1.479e-3 # +- 0.0009 (MeV*cm^2/mg)\n",
    "    A = 1/a\n",
    "    B=0.9852     # +- 0.008\n",
    "    C=3.73       # +- 0.12  (MeV^(-1))\n",
    "    return (A*B - A + C*R + (A**2*B**2 - 2*A**2*B + A**2 + 2*A*B*C*R + 2*A*C*R + C**2*R**2)**(1/2))/(2*A*C)"
   ]
  },
  {
   "cell_type": "code",
   "execution_count": 5,
   "id": "02284754",
   "metadata": {},
   "outputs": [
    {
     "data": {
      "image/png": "[encoded data removed]",
      "text/plain": [
       "<Figure size 640x480 with 1 Axes>"
      ]
     },
     "metadata": {},
     "output_type": "display_data"
    }
   ],
   "source": [
    "E = np.linspace(0.001,3,10000)\n",
    "R = np.linspace(0.01,2000,10000)\n",
    "\n",
    "plt.loglog(electron_range(E),E)\n",
    "plt.loglog(R,energy(R), linestyle='dashed')                \n",
    "plt.grid(True, which=\"both\", ls=\"-\")\n",
    "plt.ylabel(\"Electron energy [MeV]\")\n",
    "plt.xlabel(\"Range in Al [mg/cm^(-2)]\")\n",
    "plt.title(\"Range of beta-radiation in Al\")\n",
    "plt.legend(['electron_range(E)','energy(R)'])\n",
    "plt.show()"
   ]
  },
  {
   "cell_type": "markdown",
   "id": "d2e8fd46",
   "metadata": {},
   "source": [
    "#### <span style='color:darkcyan'> Your functions: </span>"
   ]
  },
  {
   "cell_type": "code",
   "execution_count": null,
   "id": "41dc64ad",
   "metadata": {},
   "outputs": [],
   "source": []
  },
  {
   "cell_type": "markdown",
   "id": "aa491cdb",
   "metadata": {},
   "source": [
    "<div class=\"alert alert-block alert-info\">\n",
    "    <b>Tip</b>: <br/>\n",
    "    1) Here is the place to <b>define all the functions you need</b> in this notebook. This helps to keep your notebook clear and structured.<br/>\n",
    "    2) Add <b>comments</b> to your functions (e.g. what is the function good for, what happens in each line, etc.), so that you and your lab partner will still be able to understand the code at a later time."
   ]
  },
  {
   "cell_type": "markdown",
   "id": "335259b7",
   "metadata": {},
   "source": [
    "## 3. Experiments"
   ]
  },
  {
   "cell_type": "markdown",
   "id": "676ae08b",
   "metadata": {},
   "source": [
    "<div class=\"alert alert-block alert-info\">\n",
    "    <b>Evaluation of the measurement errors:</b>  <br/>\n",
    "The fluctuations of the count rate in radioactive decays obey a Poisson-distribution. In that case, the uncertainties package (ufloat, uarray,...) cannot be used to determine the error correctly, since it uses the Gauss distribution.<br/>\n",
    "    The error for the count rate can easily be calculated with $\\Delta N = \\sqrt{N}$."
   ]
  },
  {
   "cell_type": "markdown",
   "id": "f61bee2d",
   "metadata": {},
   "source": [
    "### 3.1 Experiment 1: Counter Tube Characteristic\n",
    "<span style='color:indigo'> <i>\n",
    "    Measure the counter tube characteristic and determine the working point voltage (Geiger plateau) $V_S$ as well as the plateau slope $\\frac{\\Delta N}{\\Delta V}$ .</i></span>"
   ]
  },
  {
   "cell_type": "markdown",
   "id": "89769f2d",
   "metadata": {},
   "source": [
    "#### 3.1.1 Measurement Data"
   ]
  },
  {
   "cell_type": "code",
   "execution_count": 6,
   "id": "415ffa24",
   "metadata": {},
   "outputs": [],
   "source": [
    "# Messdauer\n",
    "t1 = ... # [unit]\n",
    "\n",
    "# Voltage\n",
    "V1 = ... # [unit]\n",
    "\n",
    "# Count rate\n",
    "N1 = ... # [unit]\n"
   ]
  },
  {
   "cell_type": "markdown",
   "id": "f4857423",
   "metadata": {},
   "source": [
    "<span style='color:darkcyan'> <i>Create a table with your data (incl. errors and units).</i></span>"
   ]
  },
  {
   "cell_type": "code",
   "execution_count": 7,
   "id": "ee1080c3",
   "metadata": {},
   "outputs": [],
   "source": [
    "# table"
   ]
  },
  {
   "cell_type": "markdown",
   "id": "7ad6afb1",
   "metadata": {},
   "source": [
    "#### 3.1.2 Evaluation"
   ]
  },
  {
   "cell_type": "markdown",
   "id": "538df8be",
   "metadata": {},
   "source": [
    "<span style='color:darkcyan'> <i>Plot the count rate $N$ in dependence of the voltage $V$ and determine the slope at the working point, e.g. by a linear fit over the Geiger plateau.</i></span>"
   ]
  },
  {
   "cell_type": "markdown",
   "id": "949cf203",
   "metadata": {},
   "source": [
    "<div class=\"alert alert-block alert-info\">\n",
    "    <b>Tip</b>: <br/>\n",
    "    For the linear fit: <code>x[a:b]</code> selects all elements of the array <code>x</code> that lie in the interval <code>[a,b]</code>. You can use this for selecting only the x and y-values that lie in the Geiger plateau range. "
   ]
  },
  {
   "cell_type": "code",
   "execution_count": 8,
   "id": "a8b68099",
   "metadata": {},
   "outputs": [],
   "source": [
    "# plot with fit"
   ]
  },
  {
   "cell_type": "markdown",
   "id": "604ccb0c",
   "metadata": {},
   "source": [
    "<span style='color:darkcyan'> <i>Print your results.</i></span>"
   ]
  },
  {
   "cell_type": "code",
   "execution_count": 9,
   "id": "7aee5a75",
   "metadata": {
    "scrolled": true
   },
   "outputs": [
    {
     "data": {
      "text/markdown": [
       "\n",
       "Voltage at the working point: $V_{ideal} = Ellipsis \\,V$ \n",
       "\n",
       "Dependence of the count rate on the voltage at $V_{ideal}: \\frac{\\Delta N/N}{\\Delta V} = Ellipsis \\,V^{-1}$ \n",
       "\n",
       "The smaller $\\frac{\\Delta N}{\\Delta V}$, the ......  (BETTER/WORSE) is the Geiger counter.  \n"
      ],
      "text/plain": [
       "<IPython.core.display.Markdown object>"
      ]
     },
     "metadata": {},
     "output_type": "display_data"
    }
   ],
   "source": [
    "# Working point\n",
    "V_ideal = ... # [unit]\n",
    "\n",
    "# slope at the working point\n",
    "slope_N = ... # [unit]\n",
    "\n",
    "display(Markdown(f'''\n",
    "Voltage at the working point: $V_{{ideal}} = {V_ideal} \\,V$ \\n\n",
    "Dependence of the count rate on the voltage at $V_{{ideal}}: \\\\frac{{\\\\Delta N/N}}{{\\\\Delta V}} = {slope_N} \\,V^{{-1}}$ \\n\n",
    "The smaller $\\\\frac{{\\\\Delta N}}{{\\\\Delta V}}$, the ......  (BETTER/WORSE) is the Geiger counter.  \n",
    "'''))"
   ]
  },
  {
   "cell_type": "markdown",
   "id": "f730d658",
   "metadata": {},
   "source": [
    "### 3.2 Experiment 2: Activity of the Source\n",
    "<span style='color:indigo'> <i>\n",
    "    Determine the current activity of the radioactive source.</i></span>"
   ]
  },
  {
   "cell_type": "markdown",
   "id": "85aac049",
   "metadata": {},
   "source": [
    "#### 3.2.1 Measurement Data"
   ]
  },
  {
   "cell_type": "code",
   "execution_count": 10,
   "id": "80038dc9",
   "metadata": {},
   "outputs": [],
   "source": [
    "# measurement time\n",
    "t2 = ... # [unit]\n",
    "\n",
    "# incoming particles during the time t\n",
    "N2 = ... # [unit]\n",
    "\n",
    "# background counts during the time t (with 8mm steel absorber)\n",
    "N2_BG = ... # [unit]\n",
    "\n",
    "# effective number of incomig particles during the time t \n",
    "# (= [incoming particles] - [background])\n",
    "N2_eff = ... # [unit]\n",
    "\n"
   ]
  },
  {
   "cell_type": "markdown",
   "id": "f86c2b0e",
   "metadata": {},
   "source": [
    "#### 3.2.2 Evaluation"
   ]
  },
  {
   "cell_type": "markdown",
   "id": "213aa87b",
   "metadata": {},
   "source": [
    "__Calculation of the solid angle ('Raumwinkel'):__  \n",
    "What is the solid angle? Note that the source radiates approximately uniformly in all directions. But the detector \"sees\" only a\n",
    "fraction of it, the so-called solid angle fraction (called \"acceptance\")."
   ]
  },
  {
   "cell_type": "markdown",
   "id": "5767ce75",
   "metadata": {},
   "source": [
    "<div class=\"alert alert-block alert-info\">\n",
    "    <b>Caution</b>: You will need trigonometric functions - they use <b>radians</b> in python!"
   ]
  },
  {
   "cell_type": "code",
   "execution_count": 11,
   "id": "57167a4a",
   "metadata": {},
   "outputs": [],
   "source": [
    "# Diameter of the aperture in the slider \n",
    "d = ... # [unit]\n",
    "\n",
    "# Half angle of the cone\n",
    "theta = ... # [unit]\n",
    "\n",
    "# acceptance (fraction of the solid angle)  \n",
    "epsilon = ... # [unit]"
   ]
  },
  {
   "cell_type": "markdown",
   "id": "8e299baf",
   "metadata": {},
   "source": [
    "__Calculation of the activity:__  "
   ]
  },
  {
   "cell_type": "markdown",
   "id": "e89484ee",
   "metadata": {},
   "source": [
    "<span style='color:darkcyan'> <i>What is the activity of the source (with the steel foil surrounding it)?</i></span>"
   ]
  },
  {
   "cell_type": "code",
   "execution_count": 12,
   "id": "aece8003",
   "metadata": {},
   "outputs": [],
   "source": [
    "# calculation"
   ]
  },
  {
   "cell_type": "markdown",
   "id": "6d4c370b",
   "metadata": {},
   "source": [
    "Within the steel foil, it can be assumed that half of the electrons originate from Strontium and half from Yttrium decays.   \n",
    "<b>Caution:</b> When passing through the steel foil, the electrons of the two decays are shielded differently, therefore this assumption is not valid in the detector where $N$ is measured!"
   ]
  },
  {
   "cell_type": "markdown",
   "id": "062f0727",
   "metadata": {},
   "source": [
    "<span style='color:darkcyan'> <i>What is the activity of the source, if the protective steel foil was removed?</i></span>"
   ]
  },
  {
   "cell_type": "code",
   "execution_count": 13,
   "id": "10812290",
   "metadata": {},
   "outputs": [],
   "source": [
    "# calculation"
   ]
  },
  {
   "cell_type": "markdown",
   "id": "97348d4d",
   "metadata": {},
   "source": [
    "<span style='color:darkcyan'> <i>Print your results (incl. errors and units).</i></span>"
   ]
  },
  {
   "cell_type": "code",
   "execution_count": null,
   "id": "a503def9",
   "metadata": {},
   "outputs": [],
   "source": []
  },
  {
   "cell_type": "markdown",
   "id": "d92121a4",
   "metadata": {},
   "source": [
    "### 3.3 Task 3: Radiologically relevant calculations\n",
    "<span style='color:indigo'> <i>Answer the following questions. <br/>Please describe briefly the important steps in your calculations.\n",
    "</i></span>"
   ]
  },
  {
   "cell_type": "markdown",
   "id": "18f625ca",
   "metadata": {},
   "source": [
    "<span style='color:darkcyan'> <i>a) When has the total activity of the source decreased to 10 kBq?\n",
    "</i></span>"
   ]
  },
  {
   "cell_type": "code",
   "execution_count": null,
   "id": "fab2390e",
   "metadata": {},
   "outputs": [],
   "source": []
  },
  {
   "cell_type": "markdown",
   "id": "a1f45494",
   "metadata": {},
   "source": [
    "<span style='color:darkcyan'> <i>b) Assuming the source was produced exactly 70 years ago: What was the activity at the time of production?\n",
    "</i></span>"
   ]
  },
  {
   "cell_type": "code",
   "execution_count": null,
   "id": "30979345",
   "metadata": {},
   "outputs": [],
   "source": []
  },
  {
   "cell_type": "markdown",
   "id": "0682af97",
   "metadata": {},
   "source": [
    "<span style='color:darkcyan'> <i>c) How long does it take until the average annual dose in Switzerland (= 5.5 mSv) is reached with complete incorporation of this source?\n",
    "</i></span>"
   ]
  },
  {
   "cell_type": "code",
   "execution_count": null,
   "id": "cda9fbef",
   "metadata": {},
   "outputs": [],
   "source": []
  },
  {
   "cell_type": "markdown",
   "id": "f75bf6d6",
   "metadata": {},
   "source": [
    "### 3.4 Eperiment 4: Absorbtion and $\\beta$-energy\n",
    "<span style='color:indigo'> <i>Measure the count rate $N$ as a function of the absorber thickness $x$ and determine the absorption curve.\n",
    "</i></span><br/>\n",
    "<b>Hint:</b> Density $\\rho (Al) = 2.69\\,g\\,cm^{-3}$  "
   ]
  },
  {
   "cell_type": "markdown",
   "id": "1d8907ce",
   "metadata": {},
   "source": [
    "#### 3.4.1 Measurement data"
   ]
  },
  {
   "cell_type": "markdown",
   "id": "ae2fef80",
   "metadata": {},
   "source": [
    "<div class=\"alert alert-block alert-info\">\n",
    "    <b>Tip</b>: To obtain measurement values for as many different thicknesses $x$ as possible, it can be useful to stack the plates on top of each other."
   ]
  },
  {
   "cell_type": "code",
   "execution_count": 14,
   "id": "54b7a71f",
   "metadata": {},
   "outputs": [],
   "source": [
    "# absorber thickness\n",
    "x4 = np.arange(0,4.1,0.25) # [mm]\n",
    "\n",
    "# measurement time\n",
    "t4 = ... # [unit]\n",
    "\n",
    "# incoming particles during the time t\n",
    "N4 = ... # [unit]"
   ]
  },
  {
   "cell_type": "markdown",
   "id": "e2e09209",
   "metadata": {},
   "source": [
    "#### 3.4.2 Evaluation"
   ]
  },
  {
   "cell_type": "code",
   "execution_count": 15,
   "id": "3e3c8653",
   "metadata": {},
   "outputs": [],
   "source": [
    "# calculation"
   ]
  },
  {
   "cell_type": "code",
   "execution_count": 16,
   "id": "42235abe",
   "metadata": {
    "scrolled": true
   },
   "outputs": [
    {
     "name": "stdout",
     "output_type": "stream",
     "text": [
      "╒════════╤═══════════════╤═══════╤═════╤═════════╤═══════════════════════╤═════════╕\n",
      "│      x │       ρ(Al)*x │     t │   N │   N_eff │   gemessene Aktivität │    E(x) │\n",
      "│   [mm] │   [g cm^(-2)] │   [s] │     │         │                  [Bq] │   [MeV] │\n",
      "╞════════╪═══════════════╪═══════╪═════╪═════════╪═══════════════════════╪═════════╡\n",
      "│   0    │             0 │     0 │   0 │       0 │                     0 │       0 │\n",
      "├────────┼───────────────┼───────┼─────┼─────────┼───────────────────────┼─────────┤\n",
      "│   0.25 │             0 │     0 │   0 │       0 │                     0 │       0 │\n",
      "├────────┼───────────────┼───────┼─────┼─────────┼───────────────────────┼─────────┤\n",
      "│   0.5  │             0 │     0 │   0 │       0 │                     0 │       0 │\n",
      "├────────┼───────────────┼───────┼─────┼─────────┼───────────────────────┼─────────┤\n",
      "│   0.75 │             0 │     0 │   0 │       0 │                     0 │       0 │\n",
      "├────────┼───────────────┼───────┼─────┼─────────┼───────────────────────┼─────────┤\n",
      "│   1    │             0 │     0 │   0 │       0 │                     0 │       0 │\n",
      "├────────┼───────────────┼───────┼─────┼─────────┼───────────────────────┼─────────┤\n",
      "│   1.25 │             0 │     0 │   0 │       0 │                     0 │       0 │\n",
      "├────────┼───────────────┼───────┼─────┼─────────┼───────────────────────┼─────────┤\n",
      "│   1.5  │             0 │     0 │   0 │       0 │                     0 │       0 │\n",
      "├────────┼───────────────┼───────┼─────┼─────────┼───────────────────────┼─────────┤\n",
      "│   1.75 │             0 │     0 │   0 │       0 │                     0 │       0 │\n",
      "├────────┼───────────────┼───────┼─────┼─────────┼───────────────────────┼─────────┤\n",
      "│   2    │             0 │     0 │   0 │       0 │                     0 │       0 │\n",
      "├────────┼───────────────┼───────┼─────┼─────────┼───────────────────────┼─────────┤\n",
      "│   2.25 │             0 │     0 │   0 │       0 │                     0 │       0 │\n",
      "├────────┼───────────────┼───────┼─────┼─────────┼───────────────────────┼─────────┤\n",
      "│   2.5  │             0 │     0 │   0 │       0 │                     0 │       0 │\n",
      "├────────┼───────────────┼───────┼─────┼─────────┼───────────────────────┼─────────┤\n",
      "│   2.75 │             0 │     0 │   0 │       0 │                     0 │       0 │\n",
      "├────────┼───────────────┼───────┼─────┼─────────┼───────────────────────┼─────────┤\n",
      "│   3    │             0 │     0 │   0 │       0 │                     0 │       0 │\n",
      "├────────┼───────────────┼───────┼─────┼─────────┼───────────────────────┼─────────┤\n",
      "│   3.25 │             0 │     0 │   0 │       0 │                     0 │       0 │\n",
      "├────────┼───────────────┼───────┼─────┼─────────┼───────────────────────┼─────────┤\n",
      "│   3.5  │             0 │     0 │   0 │       0 │                     0 │       0 │\n",
      "├────────┼───────────────┼───────┼─────┼─────────┼───────────────────────┼─────────┤\n",
      "│   3.75 │             0 │     0 │   0 │       0 │                     0 │       0 │\n",
      "├────────┼───────────────┼───────┼─────┼─────────┼───────────────────────┼─────────┤\n",
      "│   4    │             0 │     0 │   0 │       0 │                     0 │       0 │\n",
      "╘════════╧═══════════════╧═══════╧═════╧═════════╧═══════════════════════╧═════════╛\n"
     ]
    }
   ],
   "source": [
    "# table of your data and results\n",
    "\n",
    "header4 = ['x\\n[mm]', 'ρ(Al)*x\\n[g cm^(-2)]', 't\\n[s]', 'N','N_eff', 'gemessene Aktivität\\n[Bq]', 'E(x)\\n[MeV]'] \n",
    "\n",
    "table4 = [x4,\n",
    "          17*[0], # replace with your data\n",
    "          17*[0],\n",
    "          17*[0],\n",
    "          17*[0],\n",
    "          17*[0],\n",
    "          17*[0]]\n",
    "\n",
    "precision4 = [None,0,0,0,0,0,0] # replace 0 with agequate values\n",
    "\n",
    "Table(table4, header4, precision4)"
   ]
  },
  {
   "cell_type": "markdown",
   "id": "66757701",
   "metadata": {},
   "source": [
    "<span style='color:darkcyan'> <i>Plot the absorption curve:<br/>\n",
    "    y-axis: $N/t$<br/>\n",
    "    x-axis: $x$\n",
    "</i></span>"
   ]
  },
  {
   "cell_type": "code",
   "execution_count": 17,
   "id": "8ad00570",
   "metadata": {},
   "outputs": [],
   "source": [
    "# plot"
   ]
  },
  {
   "cell_type": "markdown",
   "id": "e8593997",
   "metadata": {},
   "source": [
    "### 3.5 Task 5: Maximum $\\beta$-energy\n",
    "<span style='color:indigo'> <i>From the absorption curve, determine the maximum $\\beta$-energy of $^{90}Y$ in different ways."
   ]
  },
  {
   "cell_type": "markdown",
   "id": "9fd0761d",
   "metadata": {},
   "source": [
    "__a) Determine $E_\\max$ from $x_\\max$:__"
   ]
  },
  {
   "cell_type": "markdown",
   "id": "c397e75b",
   "metadata": {},
   "source": [
    "<span style='color:darkcyan'> <i>Plot the absorption curve (logarithmic) to determine $x_\\max$:<br/>\n",
    "    y-axis: $ln(N/t)$<br/>\n",
    "    x-axis: $x$\n",
    "</i></span>"
   ]
  },
  {
   "cell_type": "code",
   "execution_count": 18,
   "id": "37264b93",
   "metadata": {},
   "outputs": [],
   "source": [
    "# plot"
   ]
  },
  {
   "cell_type": "markdown",
   "id": "b5399892",
   "metadata": {},
   "source": [
    "<span style='color:darkcyan'> <i>Calculate $E_\\max$. </i></span>"
   ]
  },
  {
   "cell_type": "code",
   "execution_count": 19,
   "id": "d72ca8fd",
   "metadata": {},
   "outputs": [],
   "source": [
    "# Maximum penetration depth of the electrons\n",
    "x_max_5a = ...\n",
    "\n",
    "# Energy at x_max\n",
    "E_max_5a = ...\n",
    "\n",
    "# Energy loss wile passing the steel foil\n",
    "DeltaE_5a = ...\n",
    "\n",
    "# Maximum energy directly at the source\n",
    "E_source_5a = ..."
   ]
  },
  {
   "cell_type": "markdown",
   "id": "05578156",
   "metadata": {},
   "source": [
    "<span style='color:darkcyan'> <i>Print your results (incl. errors and units) </i></span>"
   ]
  },
  {
   "cell_type": "code",
   "execution_count": 20,
   "id": "84d8a3a2",
   "metadata": {},
   "outputs": [
    {
     "data": {
      "text/markdown": [
       "\n",
       "Maximum penetration depth of the electrons: $\\: x_{max} = Ellipsis \\, mm \\, Al$ \n",
       "\n",
       "Energy at $x_{max}$: $\\: E_{max} = Ellipsis \\, MeV $ \n",
       "\n",
       "Energy loss wile passing the steel foil: $\\: \\Delta E = Ellipsis \\, MeV$ \n",
       "\n",
       "Maximum energy directly at the source: $\\: E_{max,source} = Ellipsis \\, MeV$\n"
      ],
      "text/plain": [
       "<IPython.core.display.Markdown object>"
      ]
     },
     "metadata": {},
     "output_type": "display_data"
    }
   ],
   "source": [
    "display(Markdown(f'''\n",
    "Maximum penetration depth of the electrons: $\\: x_{{max}} = {x_max_5a} \\, mm \\, Al$ \\n\n",
    "Energy at $x_{{max}}$: $\\: E_{{max}} = {E_max_5a} \\, MeV $ \\n\n",
    "Energy loss wile passing the steel foil: $\\: \\Delta E = {DeltaE_5a} \\, MeV$ \\n\n",
    "Maximum energy directly at the source: $\\: E_{{max,source}} = {E_source_5a} \\, MeV$\n",
    "'''))"
   ]
  },
  {
   "cell_type": "markdown",
   "id": "70751983",
   "metadata": {},
   "source": [
    "__b) Determine $E_\\max$ from $\\mu$:__"
   ]
  },
  {
   "cell_type": "markdown",
   "id": "0a7da8d6",
   "metadata": {},
   "source": [
    "<span style='color:darkcyan'> <i>Plot the absorption curve (logarithmic) and fit it with a straight line where $x < x_\\max$ to find the coefficient $\\mu$:<br/>\n",
    "    y-axis: $ln(N/t)$<br/>\n",
    "    x-axis: $x$\n",
    "</i></span>"
   ]
  },
  {
   "cell_type": "code",
   "execution_count": 21,
   "id": "62c3dc2c",
   "metadata": {},
   "outputs": [],
   "source": [
    "# plot with linear fit"
   ]
  },
  {
   "cell_type": "markdown",
   "id": "7a2ea12e",
   "metadata": {},
   "source": [
    "<span style='color:darkcyan'> <i>Calculate $E_\\max$. </i></span>"
   ]
  },
  {
   "cell_type": "code",
   "execution_count": 22,
   "id": "53ba871f",
   "metadata": {},
   "outputs": [],
   "source": [
    "# Maximum penetration depth of the electrons\n",
    "mu_5b = ...\n",
    "\n",
    "# Energy at x_max\n",
    "E_max_5b = ...\n",
    "\n",
    "# Energy loss wile passing the steel foil\n",
    "DeltaE_5b = ...\n",
    "\n",
    "# Maximum energy directly at the source\n",
    "E_source_5b = ..."
   ]
  },
  {
   "cell_type": "markdown",
   "id": "7435be3a",
   "metadata": {},
   "source": [
    "<span style='color:darkcyan'> <i>Print your results (incl. errors and units) </i></span>"
   ]
  },
  {
   "cell_type": "code",
   "execution_count": 25,
   "id": "aa5f5b5d",
   "metadata": {},
   "outputs": [
    {
     "data": {
      "text/markdown": [
       "\n",
       "Coefficient $\\mu$: $\\: \\mu = Ellipsis \\, mm \\, Al$ \n",
       "\n",
       "Energy at $x_{max}$: $\\: E_{max} = Ellipsis \\, MeV $ \n",
       "\n",
       "Energy loss wile passing the steel foil: $\\: \\Delta E = Ellipsis \\, MeV$ \n",
       "\n",
       "Maximum energy directly at the source: $\\: E_{max,source} = Ellipsis \\, MeV$\n"
      ],
      "text/plain": [
       "<IPython.core.display.Markdown object>"
      ]
     },
     "metadata": {},
     "output_type": "display_data"
    }
   ],
   "source": [
    "display(Markdown(f'''\n",
    "Coefficient $\\mu$: $\\: \\mu = {mu_5b} \\, mm \\, Al$ \\n\n",
    "Energy at $x_{{max}}$: $\\: E_{{max}} = {E_max_5b} \\, MeV $ \\n\n",
    "Energy loss wile passing the steel foil: $\\: \\Delta E = {DeltaE_5b} \\, MeV$ \\n\n",
    "Maximum energy directly at the source: $\\: E_{{max,source}} = {E_source_5b} \\, MeV$\n",
    "'''))"
   ]
  },
  {
   "cell_type": "markdown",
   "id": "3a32edb6",
   "metadata": {},
   "source": [
    "## 4 Discussion"
   ]
  },
  {
   "cell_type": "markdown",
   "id": "7d2e95be",
   "metadata": {},
   "source": [
    "<span style='color:darkcyan'> <i>Are your results realistic? Why (not)? Comparison with theory? </i></span>"
   ]
  },
  {
   "cell_type": "markdown",
   "id": "9330d0e7",
   "metadata": {},
   "source": []
  },
  {
   "cell_type": "markdown",
   "id": "8a52e543",
   "metadata": {},
   "source": [
    "<span style='color:darkcyan'> <i>What measurement errors were assumed? Why? <br/>\n",
    "    What are the main reasons for the errors in your results and how do they come about?</i></span>"
   ]
  },
  {
   "cell_type": "markdown",
   "id": "4416ade5",
   "metadata": {},
   "source": []
  },
  {
   "cell_type": "markdown",
   "id": "0fab5617",
   "metadata": {},
   "source": [
    "<span style='color:darkcyan'> <i>How would you try to reduce the error further? Could you improve the accuracy of the experiment? </i></span>"
   ]
  },
  {
   "cell_type": "markdown",
   "id": "0d50b92e",
   "metadata": {},
   "source": []
  },
  {
   "cell_type": "markdown",
   "id": "f5967c0c",
   "metadata": {},
   "source": [
    "<span style='color:darkcyan'> <i>If you were to repeat the experiment, what would you do differently and why?</i></span>"
   ]
  },
  {
   "cell_type": "markdown",
   "id": "6593ac1e",
   "metadata": {},
   "source": []
  }
 ],
 "metadata": {
  "kernelspec": {
   "display_name": "Python 3 (ipykernel)",
   "language": "python",
   "name": "python3"
  },
  "language_info": {
   "codemirror_mode": {
    "name": "ipython",
    "version": 3
   },
   "file_extension": ".py",
   "mimetype": "text/x-python",
   "name": "python",
   "nbconvert_exporter": "python",
   "pygments_lexer": "ipython3",
   "version": "3.10.12"
  }
 },
 "nbformat": 4,
 "nbformat_minor": 5
}
