{
 "cells": [
  {
   "cell_type": "markdown",
   "id": "0629b8fb",
   "metadata": {},
   "source": [
    "# Protocol for experiment 53 \"Flow through porose Media\""
   ]
  },
  {
   "cell_type": "markdown",
   "id": "0b7ce929",
   "metadata": {},
   "source": [
    "**Date:** {2023-MM-DD}  \n",
    "**Version:** {1 for 1st assignment, 2 for corrected assignment, ...}\n",
    " \n",
    " - **Student 1:** {full name}\n",
    " - **Student 2:** {full name}"
   ]
  },
  {
   "cell_type": "markdown",
   "id": "8f0f1d43",
   "metadata": {},
   "source": [
    "## 1. Introduction\n",
    "\n",
    "### 1.1 Introduction to the experiment\n",
    "\n",
    "- What is the experiment about? What is the objective?\n",
    "\n",
    "### 1.2 Summary of theory\n",
    "\n",
    "- Explanation of the formulas used incl. variable labeling (example from preliminary experiment)\n",
    "    - Representation e.g. by  \n",
    "    \"\\\\$\\\\$ T = 2\\pi \\sqrt{\\frac{L}{g}} \\\\$\\\\$\" $\\rightarrow$ \n",
    "    $$T=2\\pi\\sqrt{\\frac{L}{g}}$$  \n",
    "    where $T$ is the period of oscillation of the pendulum for one oscillation, $L$ is the length of the pendulum, and $g$ is the acceleration due to gravity.\n",
    "    - $$\\phi = A \\exp(-\\frac{\\gamma t}{2})\\cos(\\omega t + \\alpha)$$\n",
    "    where $\\phi$ is the displacement of the oscillation, $A$ is the original amplitude of the oscillation, $\\gamma$ is the coefficient of friction, and $\\omega$ is the angular frequency.\n",
    "\n",
    "### 1.3 Tasks\n",
    "\n",
    "- What are the tasks for the experiment?\n",
    "\n",
    "### 1.4 Environmental relevance\n",
    "\n",
    "- How is the experiment relevant to your studies in environmental science? (1-2 sentences)"
   ]
  },
  {
   "cell_type": "markdown",
   "id": "0172593d",
   "metadata": {},
   "source": [
    "## 2. Packages and Functions"
   ]
  },
  {
   "cell_type": "markdown",
   "id": "aad31d47",
   "metadata": {},
   "source": [
    "### 2.1 Load packages\n",
    "You may not use all of these packages. You can comment out the ones you don't need."
   ]
  },
  {
   "cell_type": "code",
   "execution_count": 1,
   "id": "b4170517",
   "metadata": {},
   "outputs": [],
   "source": [
    "# import packages  (not every package is used in each notebook template)\n",
    "\n",
    "# numerical computing\n",
    "import numpy as np                    # Fundamental package for numerical computing in Python\n",
    "\n",
    "# uncertainty calculations\n",
    "from uncertainties import ufloat      # For handling numbers with uncertainties\n",
    "from uncertainties.umath import *     # For applying mathematical functions with uncertainties\n",
    "from uncertainties import unumpy      # For handling uncertainties in arrays\n",
    "\n",
    "# data manipulation and analysis\n",
    "import pandas as pd                   # Powerful data manipulation and analysis library\n",
    "\n",
    "# data visualization in tables\n",
    "from tabulate import tabulate\n",
    "\n",
    "# data visualization in plots\n",
    "import matplotlib.pyplot as plt       # Library for creating static, interactive, and animated visualizations\n",
    "\n",
    "# scientific computing\n",
    "import scipy as sc                    # Open-source scientific computing library\n",
    "from scipy.stats import linregress    # For performing linear regression analysis\n",
    "from scipy.constants import R         # Physical and mathematical constants\n",
    "\n",
    "# interactive display in Jupyter Notebook\n",
    "from IPython.display import display, Markdown, Image   # For displaying rich content (e.g., Markdown) in Jupyter Notebook\n",
    "\n",
    "# standard mathematical functions\n",
    "import math                          # Python's built-in math functions\n",
    "\n",
    "# widgets (to create elements such as dynamic input/output boxes)\n",
    "import ipywidgets as widgets\n",
    "\n",
    "\n"
   ]
  },
  {
   "cell_type": "markdown",
   "id": "40438cc2",
   "metadata": {},
   "source": [
    "### 2.2 Define functions"
   ]
  },
  {
   "cell_type": "code",
   "execution_count": 2,
   "id": "a3d0e52e",
   "metadata": {},
   "outputs": [],
   "source": [
    "# example: \n",
    "\n",
    "def my_function(param1_placeholder, param2_placeholder):\n",
    "    \n",
    "    value = 'Replace with your calculation'\n",
    "    return value"
   ]
  },
  {
   "cell_type": "markdown",
   "id": "07b4431e",
   "metadata": {},
   "source": [
    "#### Creating a table"
   ]
  },
  {
   "cell_type": "code",
   "execution_count": 3,
   "id": "75785f59",
   "metadata": {},
   "outputs": [],
   "source": [
    "#----------------------------------------------\n",
    "# Create a table (see CheatSheet)\n",
    "#----------------------------------------------\n",
    "\n",
    "def Table(table, header, precisions):\n",
    "    # Check if precisions list length matches table's row count\n",
    "    if len(precisions) != len(table):\n",
    "        raise ValueError(\"Length of precisions list must match the number of rows in the table\")\n",
    "\n",
    "    for i in range(len(table)):\n",
    "        # If precision for this row/column is not None, round the entire row\n",
    "        if precisions[i] is not None:\n",
    "            table[i] = [np.round(val, precisions[i]) for val in table[i]]\n",
    "\n",
    "    table = np.matrix.transpose(np.array(table))\n",
    "    print(tabulate(table, headers=header, tablefmt='fancy_grid'))"
   ]
  },
  {
   "cell_type": "markdown",
   "id": "d2e8fd46",
   "metadata": {},
   "source": [
    "#### <span style='color:darkcyan'> Your functions: </span>"
   ]
  },
  {
   "cell_type": "code",
   "execution_count": null,
   "id": "41dc64ad",
   "metadata": {},
   "outputs": [],
   "source": []
  },
  {
   "cell_type": "markdown",
   "id": "aa491cdb",
   "metadata": {},
   "source": [
    "<div class=\"alert alert-block alert-info\">\n",
    "    <b>Tip</b>: <br/>\n",
    "    1) Here is the place to <b>define all the functions you need</b> in this notebook. This helps to keep your notebook clear and structured.<br/>\n",
    "    2) Add <b>comments</b> to your functions (e.g. what is the function good for, what happens in each line, etc.), so that you and your lab partner will still be able to understand the code at a later time."
   ]
  },
  {
   "cell_type": "markdown",
   "id": "335259b7",
   "metadata": {},
   "source": [
    "## 3. Experiments"
   ]
  },
  {
   "cell_type": "markdown",
   "id": "d9dd1f00",
   "metadata": {},
   "source": [
    "### 3.1 Measurement Data"
   ]
  },
  {
   "cell_type": "markdown",
   "id": "0befe7df",
   "metadata": {},
   "source": [
    "<span style='color:darkcyan'> <i>Same procedure for every set of data.  \n",
    "    (You can just copy+paste the table, replace the data and replace the ending '1u' of the variables eg. by '1m' (for experiment <b>1</b>, <b>m</b>iddle valve open) with find+replace.)</i></span>"
   ]
  },
  {
   "cell_type": "code",
   "execution_count": 4,
   "id": "22c06286",
   "metadata": {},
   "outputs": [],
   "source": [
    "valve_u = 'upper valve open'\n",
    "valve_m = 'middle valve open'\n",
    "valve_l = 'lower valve open'\n",
    "\n",
    "# create an array for the table with always the same header except for the first entry, which valve is open\n",
    "def header(valve):\n",
    "    return [valve, 'L\\n[cm]', 'V\\n[cm³]', 't\\n[s]', 'H_bottom\\n[cm]', \n",
    "            'H_top\\n[cm]', '∆H\\n[cm]', 'K\\n[ms⁻²]', 'κ\\n[m²]'] \n",
    "\n",
    "# the first column of the table\n",
    "pi_pk = ['valve to outlet','p3 to p1', 'p3 to p2', 'p2 to p1' ]"
   ]
  },
  {
   "cell_type": "markdown",
   "id": "263058c7",
   "metadata": {},
   "source": [
    "<div class=\"alert alert-block alert-info\">\n",
    "    <b>Tip</b>: Take care when choosing names for your variables - make sure that you <b>don't use the same name for different variables</b> (throughout the whole notebook!) <br/>\n",
    "    If you measure the same quantity in more than one experiment, you can e.g. include the experiment number in the variable name to make it unique. <br/>\n",
    "    <small>Otherwise the value of the variable will depend on the order in which you execute the cells, which may cause confusion and wrong results if you don't always execute them from top to bottom.</small><br/>"
   ]
  },
  {
   "cell_type": "markdown",
   "id": "87c18c1d",
   "metadata": {},
   "source": [
    "#### 3.1.1 Column with coarse grain"
   ]
  },
  {
   "cell_type": "markdown",
   "id": "05a43e69",
   "metadata": {},
   "source": [
    "__a) upper valve open__"
   ]
  },
  {
   "cell_type": "code",
   "execution_count": 5,
   "id": "7751197b",
   "metadata": {
    "scrolled": false
   },
   "outputs": [],
   "source": [
    "#---------------------------------------\n",
    "# coarse grain, upper valve open\n",
    "#---------------------------------------\n",
    "\n",
    "# L [cm]\n",
    "L_1u = 4*[0] # replace with your data\n",
    "\n",
    "# V [cm³]\n",
    "V_1u = 4*[0] # replace with your data\n",
    "\n",
    "# t [s]\n",
    "t_1u = 4*[0] # replace with your data\n",
    "\n",
    "# H_bottom [cm]\n",
    "Hb_1u = 4*[0] # replace with your data\n",
    "\n",
    "# H_top [cm]\n",
    "Ht_1u = 4*[0] # replace with your data\n",
    "\n",
    "# ∆H [cm]\n",
    "DeltaH_1u = 4*[0] # replace with your data\n",
    "\n"
   ]
  },
  {
   "cell_type": "markdown",
   "id": "0e89b310",
   "metadata": {},
   "source": [
    "__b) middle valve open__"
   ]
  },
  {
   "cell_type": "code",
   "execution_count": 6,
   "id": "3f333dac",
   "metadata": {},
   "outputs": [],
   "source": [
    "#---------------------------------------\n",
    "# coarse grain, middle valve open\n",
    "#---------------------------------------\n",
    "\n",
    "# L [cm]\n",
    "L_1m = 4*[0] # replace with your data\n",
    "\n",
    "# V [cm³]\n",
    "V_1m = 4*[0] # replace with your data\n",
    "\n",
    "# t [s]\n",
    "t_1m = 4*[0] # replace with your data\n",
    "\n",
    "# H_bottom [cm]\n",
    "Hb_1m = 4*[0] # replace with your data\n",
    "\n",
    "# H_top [cm]\n",
    "Ht_1m = 4*[0] # replace with your data\n",
    "\n",
    "# ∆H [cm]\n",
    "DeltaH_1m = 4*[0] # replace with your data"
   ]
  },
  {
   "cell_type": "markdown",
   "id": "eac3d16c",
   "metadata": {},
   "source": [
    "__c) lower valve open__"
   ]
  },
  {
   "cell_type": "code",
   "execution_count": 7,
   "id": "546fb2a9",
   "metadata": {},
   "outputs": [],
   "source": [
    "# data"
   ]
  },
  {
   "cell_type": "markdown",
   "id": "9b44ff1b",
   "metadata": {},
   "source": [
    "#### 3.1.2 Column with fine grain"
   ]
  },
  {
   "cell_type": "markdown",
   "id": "c44aa852",
   "metadata": {},
   "source": [
    "__a) upper valve open__"
   ]
  },
  {
   "cell_type": "code",
   "execution_count": 8,
   "id": "09180e81",
   "metadata": {},
   "outputs": [],
   "source": [
    "# data"
   ]
  },
  {
   "cell_type": "markdown",
   "id": "bb90c819",
   "metadata": {},
   "source": [
    "__b) middle valve open__"
   ]
  },
  {
   "cell_type": "code",
   "execution_count": 9,
   "id": "e1084b3e",
   "metadata": {},
   "outputs": [],
   "source": [
    "# data"
   ]
  },
  {
   "cell_type": "markdown",
   "id": "f289860d",
   "metadata": {},
   "source": [
    "__c) lower valve open__"
   ]
  },
  {
   "cell_type": "code",
   "execution_count": 10,
   "id": "fa61f2cf",
   "metadata": {},
   "outputs": [],
   "source": [
    "# data"
   ]
  },
  {
   "cell_type": "markdown",
   "id": "19fcb448",
   "metadata": {},
   "source": [
    "#### 3.1.3 Column with coarse and fine grain"
   ]
  },
  {
   "cell_type": "markdown",
   "id": "a21673c0",
   "metadata": {},
   "source": [
    "__a) upper valve open__"
   ]
  },
  {
   "cell_type": "code",
   "execution_count": 11,
   "id": "67fbeba4",
   "metadata": {},
   "outputs": [],
   "source": [
    "# data"
   ]
  },
  {
   "cell_type": "markdown",
   "id": "feff93c6",
   "metadata": {},
   "source": [
    "__b) middle valve open__"
   ]
  },
  {
   "cell_type": "code",
   "execution_count": 12,
   "id": "c0073798",
   "metadata": {},
   "outputs": [],
   "source": [
    "# data"
   ]
  },
  {
   "cell_type": "markdown",
   "id": "75238615",
   "metadata": {},
   "source": [
    "__c) lower valve open__"
   ]
  },
  {
   "cell_type": "code",
   "execution_count": 13,
   "id": "aa480e59",
   "metadata": {},
   "outputs": [],
   "source": [
    "# data"
   ]
  },
  {
   "cell_type": "markdown",
   "id": "61a34839",
   "metadata": {},
   "source": [
    "### 3.2 Evaluation"
   ]
  },
  {
   "cell_type": "markdown",
   "id": "27807edb",
   "metadata": {},
   "source": [
    "#### 3.2.1 Column with coarse grain"
   ]
  },
  {
   "cell_type": "markdown",
   "id": "e2dde989",
   "metadata": {},
   "source": [
    "<span style='color:darkcyan'> <i>Calculate K and κ for each of your data points.</i></span>"
   ]
  },
  {
   "cell_type": "code",
   "execution_count": 14,
   "id": "7cd996a8",
   "metadata": {},
   "outputs": [],
   "source": [
    "# K [ms⁻²]\n",
    "K_1u = 4*[0] # replace with your results\n",
    " \n",
    "# κ [m²]\n",
    "kappa_1u = 4*[0] # replace with your resuls\n"
   ]
  },
  {
   "cell_type": "markdown",
   "id": "00807254",
   "metadata": {},
   "source": [
    "<span style='color:darkcyan'> <i>Create a table with your measurement data and your results.</i></span>"
   ]
  },
  {
   "cell_type": "code",
   "execution_count": 15,
   "id": "29cddfc1",
   "metadata": {},
   "outputs": [
    {
     "name": "stdout",
     "output_type": "stream",
     "text": [
      "\n",
      "COARSE GRAIN\n",
      "╒════════════════════╤════════╤═════════╤═══════╤════════════╤═════════╤════════╤══════════╤════════╕\n",
      "│ upper valve open   │      L │       V │     t │   H_bottom │   H_top │     ∆H │        K │      κ │\n",
      "│                    │   [cm] │   [cm³] │   [s] │       [cm] │    [cm] │   [cm] │   [ms⁻²] │   [m²] │\n",
      "╞════════════════════╪════════╪═════════╪═══════╪════════════╪═════════╪════════╪══════════╪════════╡\n",
      "│ valve to outlet    │      0 │       0 │     0 │          0 │       0 │      0 │        0 │      0 │\n",
      "├────────────────────┼────────┼─────────┼───────┼────────────┼─────────┼────────┼──────────┼────────┤\n",
      "│ p3 to p1           │      0 │       0 │     0 │          0 │       0 │      0 │        0 │      0 │\n",
      "├────────────────────┼────────┼─────────┼───────┼────────────┼─────────┼────────┼──────────┼────────┤\n",
      "│ p3 to p2           │      0 │       0 │     0 │          0 │       0 │      0 │        0 │      0 │\n",
      "├────────────────────┼────────┼─────────┼───────┼────────────┼─────────┼────────┼──────────┼────────┤\n",
      "│ p2 to p1           │      0 │       0 │     0 │          0 │       0 │      0 │        0 │      0 │\n",
      "╘════════════════════╧════════╧═════════╧═══════╧════════════╧═════════╧════════╧══════════╧════════╛\n"
     ]
    }
   ],
   "source": [
    "# CREATING THE TABLE\n",
    "\n",
    "header_1u = header(valve_u)\n",
    "\n",
    "table_1u = [pi_pk,L_1u,V_1u,t_1u,Hb_1u,Ht_1u,DeltaH_1u,K_1u,kappa_1u]\n",
    "\n",
    "precision_1u = [None,0,0,0,0,0,0,0,0] # replace 0 by adequate values\n",
    "\n",
    "print('\\nCOARSE GRAIN')\n",
    "Table(table_1u,header_1u,precision_1u)"
   ]
  },
  {
   "cell_type": "markdown",
   "id": "43e2fe3a",
   "metadata": {},
   "source": [
    "__b) middle valve open__"
   ]
  },
  {
   "cell_type": "markdown",
   "id": "dc5e3ac2",
   "metadata": {},
   "source": [
    "<span style='color:darkcyan'> <i>Calculate K and κ for each of your data points.</i></span>"
   ]
  },
  {
   "cell_type": "code",
   "execution_count": null,
   "id": "a3ea3f18",
   "metadata": {},
   "outputs": [],
   "source": []
  },
  {
   "cell_type": "markdown",
   "id": "96d26e5c",
   "metadata": {},
   "source": [
    "<span style='color:darkcyan'> <i>Create a table with your measurement data and your results.</i></span>"
   ]
  },
  {
   "cell_type": "code",
   "execution_count": 16,
   "id": "60fbbe9d",
   "metadata": {},
   "outputs": [],
   "source": [
    "# table"
   ]
  },
  {
   "cell_type": "markdown",
   "id": "db69e1cf",
   "metadata": {},
   "source": [
    "__c) lower valve open__"
   ]
  },
  {
   "cell_type": "markdown",
   "id": "ec791fb8",
   "metadata": {},
   "source": [
    "<span style='color:darkcyan'> <i>Calculate K and κ for each of your data points.</i></span>"
   ]
  },
  {
   "cell_type": "code",
   "execution_count": null,
   "id": "ee5cae29",
   "metadata": {},
   "outputs": [],
   "source": []
  },
  {
   "cell_type": "markdown",
   "id": "e943749b",
   "metadata": {},
   "source": [
    "<span style='color:darkcyan'> <i>Create a table with your measurement data and your results.</i></span>"
   ]
  },
  {
   "cell_type": "code",
   "execution_count": 17,
   "id": "2e3e4914",
   "metadata": {},
   "outputs": [],
   "source": [
    "# table"
   ]
  },
  {
   "cell_type": "markdown",
   "id": "28839829",
   "metadata": {},
   "source": [
    "<span style='color:darkcyan'> <i>What is the best estimation for K and κ?</i></span>"
   ]
  },
  {
   "cell_type": "code",
   "execution_count": null,
   "id": "0dbc7a3a",
   "metadata": {},
   "outputs": [],
   "source": []
  },
  {
   "cell_type": "markdown",
   "id": "857672e3",
   "metadata": {},
   "source": [
    "#### 3.2.2 Column with fine grain"
   ]
  },
  {
   "cell_type": "markdown",
   "id": "dfd8bccf",
   "metadata": {},
   "source": [
    "<span style='color:darkcyan'> <i>Calculate K and κ for each of your data points.</i></span>"
   ]
  },
  {
   "cell_type": "code",
   "execution_count": null,
   "id": "769674b5",
   "metadata": {},
   "outputs": [],
   "source": []
  },
  {
   "cell_type": "markdown",
   "id": "488e3337",
   "metadata": {},
   "source": [
    "<span style='color:darkcyan'> <i>Create a table with your measurement data and your results.</i></span>"
   ]
  },
  {
   "cell_type": "code",
   "execution_count": 18,
   "id": "d355c344",
   "metadata": {},
   "outputs": [],
   "source": [
    "# table"
   ]
  },
  {
   "cell_type": "markdown",
   "id": "6ecaa9f4",
   "metadata": {},
   "source": [
    "__b) middle valve open__"
   ]
  },
  {
   "cell_type": "markdown",
   "id": "9609e47d",
   "metadata": {},
   "source": [
    "<span style='color:darkcyan'> <i>Calculate K and κ for each of your data points.</i></span>"
   ]
  },
  {
   "cell_type": "code",
   "execution_count": null,
   "id": "b5e58876",
   "metadata": {},
   "outputs": [],
   "source": []
  },
  {
   "cell_type": "markdown",
   "id": "6feecb63",
   "metadata": {},
   "source": [
    "<span style='color:darkcyan'> <i>Create a table with your measurement data and your results.</i></span>"
   ]
  },
  {
   "cell_type": "code",
   "execution_count": 19,
   "id": "0b51afea",
   "metadata": {},
   "outputs": [],
   "source": [
    "# table"
   ]
  },
  {
   "cell_type": "markdown",
   "id": "0d2a75bc",
   "metadata": {},
   "source": [
    "__c) lower valve open__"
   ]
  },
  {
   "cell_type": "markdown",
   "id": "6072a727",
   "metadata": {},
   "source": [
    "<span style='color:darkcyan'> <i>Calculate K and κ for each of your data points.</i></span>"
   ]
  },
  {
   "cell_type": "code",
   "execution_count": null,
   "id": "c56ed410",
   "metadata": {},
   "outputs": [],
   "source": []
  },
  {
   "cell_type": "markdown",
   "id": "f93ab8c7",
   "metadata": {},
   "source": [
    "<span style='color:darkcyan'> <i>Create a table with your measurement data and your results.</i></span>"
   ]
  },
  {
   "cell_type": "code",
   "execution_count": 20,
   "id": "cf64031d",
   "metadata": {},
   "outputs": [],
   "source": [
    "# table"
   ]
  },
  {
   "cell_type": "markdown",
   "id": "9f7bfd7b",
   "metadata": {},
   "source": [
    "<span style='color:darkcyan'> <i>What is the best estimation for K and κ?</i></span>"
   ]
  },
  {
   "cell_type": "code",
   "execution_count": null,
   "id": "2fe65281",
   "metadata": {},
   "outputs": [],
   "source": []
  },
  {
   "cell_type": "markdown",
   "id": "207a929f",
   "metadata": {},
   "source": [
    "__a) upper valve open__"
   ]
  },
  {
   "cell_type": "markdown",
   "id": "2ad3e2ff",
   "metadata": {},
   "source": [
    "#### 3.2.3 Column with coarse and fine grain"
   ]
  },
  {
   "cell_type": "markdown",
   "id": "cbbd8b08",
   "metadata": {},
   "source": [
    "__a) upper valve open__"
   ]
  },
  {
   "cell_type": "markdown",
   "id": "2b326c7d",
   "metadata": {},
   "source": [
    "<span style='color:darkcyan'> <i>Calculate K and κ for each of your data points.</i></span>"
   ]
  },
  {
   "cell_type": "code",
   "execution_count": null,
   "id": "20d5320d",
   "metadata": {},
   "outputs": [],
   "source": []
  },
  {
   "cell_type": "markdown",
   "id": "c615c5ee",
   "metadata": {},
   "source": [
    "<span style='color:darkcyan'> <i>Create a table with your measurement data and your results.</i></span>"
   ]
  },
  {
   "cell_type": "code",
   "execution_count": 21,
   "id": "c67f4a07",
   "metadata": {},
   "outputs": [],
   "source": [
    "# table"
   ]
  },
  {
   "cell_type": "markdown",
   "id": "ab289adb",
   "metadata": {},
   "source": [
    "__b) middle valve open__"
   ]
  },
  {
   "cell_type": "markdown",
   "id": "c2d0b0a8",
   "metadata": {},
   "source": [
    "<span style='color:darkcyan'> <i>Calculate K and κ for each of your data points.</i></span>"
   ]
  },
  {
   "cell_type": "code",
   "execution_count": null,
   "id": "e20d2cd8",
   "metadata": {},
   "outputs": [],
   "source": []
  },
  {
   "cell_type": "markdown",
   "id": "2339b7b7",
   "metadata": {},
   "source": [
    "<span style='color:darkcyan'> <i>Create a table with your measurement data and your results.</i></span>"
   ]
  },
  {
   "cell_type": "code",
   "execution_count": 22,
   "id": "b56632aa",
   "metadata": {},
   "outputs": [],
   "source": [
    "# table"
   ]
  },
  {
   "cell_type": "markdown",
   "id": "27a6c1c1",
   "metadata": {},
   "source": [
    "__c) lower valve open__"
   ]
  },
  {
   "cell_type": "markdown",
   "id": "85788ec6",
   "metadata": {},
   "source": [
    "<span style='color:darkcyan'> <i>Calculate K and κ for each of your data points.</i></span>"
   ]
  },
  {
   "cell_type": "code",
   "execution_count": null,
   "id": "30f047c6",
   "metadata": {},
   "outputs": [],
   "source": []
  },
  {
   "cell_type": "markdown",
   "id": "787279e9",
   "metadata": {},
   "source": [
    "<span style='color:darkcyan'> <i>Create a table with your measurement data and your results.</i></span>"
   ]
  },
  {
   "cell_type": "code",
   "execution_count": 23,
   "id": "232cbe0d",
   "metadata": {},
   "outputs": [],
   "source": [
    "# table"
   ]
  },
  {
   "cell_type": "markdown",
   "id": "827aec8e",
   "metadata": {},
   "source": [
    "<span style='color:darkcyan'> <i>What is the best estimation for K and κ?</i></span>"
   ]
  },
  {
   "cell_type": "code",
   "execution_count": null,
   "id": "936fc42b",
   "metadata": {},
   "outputs": [],
   "source": []
  },
  {
   "cell_type": "markdown",
   "id": "3a32edb6",
   "metadata": {},
   "source": [
    "## 4 Discussion"
   ]
  },
  {
   "cell_type": "markdown",
   "id": "7d2e95be",
   "metadata": {},
   "source": [
    "<span style='color:darkcyan'> <i>Are your results realistic? Why (not)? Comparison with theory? </i></span>"
   ]
  },
  {
   "cell_type": "markdown",
   "id": "9330d0e7",
   "metadata": {},
   "source": []
  },
  {
   "cell_type": "markdown",
   "id": "8a52e543",
   "metadata": {},
   "source": [
    "<span style='color:darkcyan'> <i>What measurement errors were assumed? Why? <br/>\n",
    "    What are the main reasons for the errors in your results and how do they come about?</i></span>"
   ]
  },
  {
   "cell_type": "markdown",
   "id": "4416ade5",
   "metadata": {},
   "source": []
  },
  {
   "cell_type": "markdown",
   "id": "0fab5617",
   "metadata": {},
   "source": [
    "<span style='color:darkcyan'> <i>How would you try to reduce the error further? Could you improve the accuracy of the experiment? </i></span>"
   ]
  },
  {
   "cell_type": "markdown",
   "id": "0d50b92e",
   "metadata": {},
   "source": []
  },
  {
   "cell_type": "markdown",
   "id": "f5967c0c",
   "metadata": {},
   "source": [
    "<span style='color:darkcyan'> <i>If you were to repeat the experiment, what would you do differently and why?</i></span>"
   ]
  },
  {
   "cell_type": "markdown",
   "id": "6593ac1e",
   "metadata": {},
   "source": []
  }
 ],
 "metadata": {
  "kernelspec": {
   "display_name": "Python 3 (ipykernel)",
   "language": "python",
   "name": "python3"
  },
  "language_info": {
   "codemirror_mode": {
    "name": "ipython",
    "version": 3
   },
   "file_extension": ".py",
   "mimetype": "text/x-python",
   "name": "python",
   "nbconvert_exporter": "python",
   "pygments_lexer": "ipython3",
   "version": "3.10.12"
  }
 },
 "nbformat": 4,
 "nbformat_minor": 5
}
