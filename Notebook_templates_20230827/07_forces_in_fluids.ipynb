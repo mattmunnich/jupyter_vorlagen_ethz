{
 "cells": [
  {
   "cell_type": "markdown",
   "id": "0629b8fb",
   "metadata": {},
   "source": [
    "# Protocol for experiment 07 \"Internal forces in Fluids\""
   ]
  },
  {
   "cell_type": "markdown",
   "id": "0b7ce929",
   "metadata": {},
   "source": [
    "**Date:** {2023-MM-DD}  \n",
    "**Version:** {1 for 1st assignment, 2 for corrected assignment, ...}\n",
    " \n",
    " - **Student 1:** {full name}\n",
    " - **Student 2:** {full name}"
   ]
  },
  {
   "cell_type": "markdown",
   "id": "8f0f1d43",
   "metadata": {},
   "source": [
    "## 1. Introduction\n",
    "\n",
    "### 1.1 Introduction to the experiment\n",
    "\n",
    "- What is the experiment about? What is the objective?\n",
    "\n",
    "### 1.2 Summary of theory\n",
    "\n",
    "- Explanation of the formulas used incl. variable labeling (example from preliminary experiment)\n",
    "    - Representation e.g. by  \n",
    "    \"\\\\$\\\\$ T = 2\\pi \\sqrt{\\frac{L}{g}} \\\\$\\\\$\" $\\rightarrow$ \n",
    "    $$T=2\\pi\\sqrt{\\frac{L}{g}}$$  \n",
    "    where $T$ is the period of oscillation of the pendulum for one oscillation, $L$ is the length of the pendulum, and $g$ is the acceleration due to gravity.\n",
    "    - $$\\phi = A \\exp(-\\frac{\\gamma t}{2})\\cos(\\omega t + \\alpha)$$\n",
    "    where $\\phi$ is the displacement of the oscillation, $A$ is the original amplitude of the oscillation, $\\gamma$ is the coefficient of friction, and $\\omega$ is the angular frequency.\n",
    "\n",
    "### 1.3 Tasks\n",
    "\n",
    "- What are the tasks for the experiment?\n",
    "\n",
    "### 1.4 Environmental relevance\n",
    "\n",
    "- How is the experiment relevant to your studies in environmental science? (1-2 sentences)"
   ]
  },
  {
   "cell_type": "markdown",
   "id": "0172593d",
   "metadata": {},
   "source": [
    "## 2. Packages and Functions"
   ]
  },
  {
   "cell_type": "markdown",
   "id": "aad31d47",
   "metadata": {},
   "source": [
    "### 2.1 Load packages\n",
    "You may not use all of these packages. You can comment out the ones you don't need."
   ]
  },
  {
   "cell_type": "code",
   "execution_count": 1,
   "id": "b4170517",
   "metadata": {},
   "outputs": [],
   "source": [
    "# import packages  (not every package is used in each notebook template)\n",
    "\n",
    "# numerical computing\n",
    "import numpy as np                    # Fundamental package for numerical computing in Python\n",
    "\n",
    "# uncertainty calculations\n",
    "from uncertainties import ufloat      # For handling numbers with uncertainties\n",
    "from uncertainties.umath import *     # For applying mathematical functions with uncertainties\n",
    "from uncertainties import unumpy      # For handling uncertainties in arrays\n",
    "\n",
    "# data manipulation and analysis\n",
    "import pandas as pd                   # Powerful data manipulation and analysis library\n",
    "\n",
    "# data visualization in tables\n",
    "from tabulate import tabulate\n",
    "\n",
    "# data visualization in plots\n",
    "import matplotlib.pyplot as plt       # Library for creating static, interactive, and animated visualizations\n",
    "\n",
    "# scientific computing\n",
    "import scipy as sc                    # Open-source scientific computing library\n",
    "from scipy.stats import linregress    # For performing linear regression analysis\n",
    "from scipy.constants import R         # Physical and mathematical constants\n",
    "\n",
    "# interactive display in Jupyter Notebook\n",
    "from IPython.display import display, Markdown  # For displaying rich content (e.g., Markdown) in Jupyter Notebook\n",
    "\n",
    "# standard mathematical functions\n",
    "import math                          # Python's built-in math functions\n",
    "\n",
    "# widgets (to create elements such as dynamic input/output boxes)\n",
    "import ipywidgets as widgets\n",
    "\n",
    "\n"
   ]
  },
  {
   "cell_type": "markdown",
   "id": "40438cc2",
   "metadata": {},
   "source": [
    "### 2.2 Define functions"
   ]
  },
  {
   "cell_type": "code",
   "execution_count": 2,
   "id": "ffbe73f3",
   "metadata": {},
   "outputs": [],
   "source": [
    "# example: \n",
    "\n",
    "def my_function(param1_placeholder, param2_placeholder):\n",
    "    \n",
    "    value = 'Replace with your calculation'\n",
    "    return value"
   ]
  },
  {
   "cell_type": "markdown",
   "id": "6dd82fad",
   "metadata": {},
   "source": [
    "#### <span style='color:darkcyan'> Your functions: </span>"
   ]
  },
  {
   "cell_type": "code",
   "execution_count": null,
   "id": "2371dd18",
   "metadata": {},
   "outputs": [],
   "source": []
  },
  {
   "cell_type": "code",
   "execution_count": null,
   "id": "a3d0e52e",
   "metadata": {},
   "outputs": [],
   "source": []
  },
  {
   "cell_type": "markdown",
   "id": "aa491cdb",
   "metadata": {},
   "source": [
    "<div class=\"alert alert-block alert-info\">\n",
    "    <b>Tip</b>: <br/>\n",
    "    1) Here is the place to <b>define all the functions you need</b> in this notebook. This helps to keep your notebook clear and structured.<br/>\n",
    "    2) Add <b>comments</b> to your functions (e.g. what is the function good for, what happens in each line, etc.), so that you and your lab partner will still be able to understand the code at a later time."
   ]
  },
  {
   "cell_type": "markdown",
   "id": "335259b7",
   "metadata": {},
   "source": [
    "## 3. Experiments"
   ]
  },
  {
   "cell_type": "markdown",
   "id": "bbf964d2",
   "metadata": {},
   "source": [
    "### 3.1 Experiment 1: η from Hagen-Poiseuille\n",
    "<span style=\"color: indigo;\"><i>\n",
    "Determine the viscosity η of water at room\n",
    "temperature by using the Hagen-Poiseuille law\n",
    "[Equation (5)].\n",
    "    </i></span>\n"
   ]
  },
  {
   "cell_type": "markdown",
   "id": "b95cf676",
   "metadata": {},
   "source": [
    "#### 3.1.1 Measurement data"
   ]
  },
  {
   "cell_type": "code",
   "execution_count": 3,
   "id": "55b66350",
   "metadata": {},
   "outputs": [],
   "source": [
    "# measurement data"
   ]
  },
  {
   "cell_type": "markdown",
   "id": "aa577e1b",
   "metadata": {},
   "source": [
    "<div class=\"alert alert-block alert-info\">\n",
    "    <b>Tip</b>: Take care when choosing names for your variables - make sure that you <b>don't use the same name for different variables</b> (throughout the whole notebook!) <br/>\n",
    "    If you measure the same quantity in more than one experiment, you can e.g. include the experiment number in the variable name to make it unique. <br/>\n",
    "    <small>Otherwise the value of the variable will depend on the order in which you execute the cells, which may cause confusion and wrong results if you don't always execute them from top to bottom.</small><br/>"
   ]
  },
  {
   "cell_type": "markdown",
   "id": "e8c9c677",
   "metadata": {},
   "source": [
    "<span style='color:darkcyan'> <i>Create a table with your data.<br/>\n",
    "    Make comments in a Markdown below. (e.g. What does which quantity mean?) </i></span>"
   ]
  },
  {
   "cell_type": "code",
   "execution_count": 4,
   "id": "76fa8f98",
   "metadata": {},
   "outputs": [],
   "source": [
    "# table"
   ]
  },
  {
   "cell_type": "markdown",
   "id": "5ae5b1da",
   "metadata": {},
   "source": [
    "#### 3.1.2 Evaluation"
   ]
  },
  {
   "cell_type": "code",
   "execution_count": 5,
   "id": "d352dcd3",
   "metadata": {},
   "outputs": [],
   "source": [
    "# calculations"
   ]
  },
  {
   "cell_type": "markdown",
   "id": "4aad5357",
   "metadata": {},
   "source": [
    "<span style='color:darkcyan'> <i>Print your results (including errors and units).</i></span>"
   ]
  },
  {
   "cell_type": "code",
   "execution_count": null,
   "id": "fab695e8",
   "metadata": {},
   "outputs": [],
   "source": []
  },
  {
   "cell_type": "markdown",
   "id": "40b8daac",
   "metadata": {},
   "source": [
    "### 3.2 Experiment 2: Höppler viscosimeter\n",
    "<span style=\"color: indigo;\"><i>\n",
    "Determine with the Hoeppler viscometer the\n",
    "viscosity for oil of the density $0.90\\cdot 10^3 kg \\,m^{−3}$\n",
    "as function of the temperature between 25°C\n",
    "and approx. 50°C and give a graphic representation of the function: $\\eta = f (T )$!\n",
    "    </i></span>\n"
   ]
  },
  {
   "cell_type": "markdown",
   "id": "75fb428d",
   "metadata": {},
   "source": [
    "#### 3.2.1 Measurement data"
   ]
  },
  {
   "cell_type": "code",
   "execution_count": 6,
   "id": "5848df54",
   "metadata": {},
   "outputs": [],
   "source": [
    "# measurement data"
   ]
  },
  {
   "cell_type": "markdown",
   "id": "137785f9",
   "metadata": {},
   "source": [
    "<span style='color:darkcyan'> <i><span style='color:darkcyan'> <i>Create a table with your data.<br/>\n",
    "    Make comments in a Markdown below. (e.g. What does which quantity mean?) </i></span>"
   ]
  },
  {
   "cell_type": "code",
   "execution_count": 7,
   "id": "188f73c9",
   "metadata": {},
   "outputs": [],
   "source": [
    "# table"
   ]
  },
  {
   "cell_type": "markdown",
   "id": "2222a613",
   "metadata": {},
   "source": [
    "#### 3.2.2 Evaluation"
   ]
  },
  {
   "cell_type": "code",
   "execution_count": 8,
   "id": "1c5963a6",
   "metadata": {},
   "outputs": [],
   "source": [
    "# calculations"
   ]
  },
  {
   "cell_type": "markdown",
   "id": "359a6a7a",
   "metadata": {},
   "source": [
    "<span style='color:darkcyan'> <i>Plot $\\eta = f (T )$. Describe briefly what you can see in the plots in the markdown below.</i></span>"
   ]
  },
  {
   "cell_type": "code",
   "execution_count": 9,
   "id": "52a631b4",
   "metadata": {},
   "outputs": [],
   "source": [
    "# plots (with axis labels, units and errorbars)"
   ]
  },
  {
   "cell_type": "markdown",
   "id": "87317c7b",
   "metadata": {},
   "source": []
  },
  {
   "cell_type": "markdown",
   "id": "5e4c8c3b",
   "metadata": {},
   "source": [
    "<span style='color:darkcyan'> <i>Print your results (including errors and units).</i></span>"
   ]
  },
  {
   "cell_type": "code",
   "execution_count": null,
   "id": "572a9bdd",
   "metadata": {},
   "outputs": [],
   "source": []
  },
  {
   "cell_type": "markdown",
   "id": "0b8d72aa",
   "metadata": {},
   "source": [
    "### 3.3 Experiment 3: Determination of the surface tension by the tear-off method\n",
    "<span style=\"color: indigo;\"><i>\n",
    "Measure the tensile force $F_{w,max}$ at which a liquid lamella breaks off an aluminum ring, and\n",
    "then calculate the surface tension of the liquid.\n",
    "The liquids used are water and water with detergent.\n",
    "    </i></span>\n"
   ]
  },
  {
   "cell_type": "markdown",
   "id": "7c460bb2",
   "metadata": {},
   "source": [
    "#### 3.3.1 Measurement data"
   ]
  },
  {
   "cell_type": "code",
   "execution_count": 10,
   "id": "acba6ea9",
   "metadata": {},
   "outputs": [],
   "source": [
    "# measurement data"
   ]
  },
  {
   "cell_type": "markdown",
   "id": "fa209dbe",
   "metadata": {},
   "source": [
    "<span style='color:darkcyan'> <i>Create a table with your data.<br/>\n",
    "    Make comments in a Markdown below. (e.g. What does which quantity mean?) </i></span>"
   ]
  },
  {
   "cell_type": "code",
   "execution_count": 11,
   "id": "2d0fbe44",
   "metadata": {},
   "outputs": [],
   "source": [
    "# table"
   ]
  },
  {
   "cell_type": "markdown",
   "id": "2cf594dd",
   "metadata": {},
   "source": [
    "#### 3.3.2 Evaluation"
   ]
  },
  {
   "cell_type": "code",
   "execution_count": 12,
   "id": "d3004ca2",
   "metadata": {},
   "outputs": [],
   "source": [
    "# calculations"
   ]
  },
  {
   "cell_type": "markdown",
   "id": "c265fca0",
   "metadata": {},
   "source": [
    "<span style='color:darkcyan'> <i>Print your results (including errors and units).</i></span>"
   ]
  },
  {
   "cell_type": "code",
   "execution_count": null,
   "id": "61877bd9",
   "metadata": {},
   "outputs": [],
   "source": []
  },
  {
   "cell_type": "markdown",
   "id": "8e53b047",
   "metadata": {},
   "source": [
    "### 3.4 Experiment 4: Determination of the surface tension by the capillary rise method\n",
    "<span style=\"color: indigo;\"><i>\n",
    "The surface tension of water should also be determined using the capillary rise method.\n",
    "    </i></span>\n"
   ]
  },
  {
   "cell_type": "markdown",
   "id": "38feb0a3",
   "metadata": {},
   "source": [
    "#### 3.4.1 Measurement data"
   ]
  },
  {
   "cell_type": "code",
   "execution_count": 13,
   "id": "0292817d",
   "metadata": {},
   "outputs": [],
   "source": [
    "# measurement data"
   ]
  },
  {
   "cell_type": "markdown",
   "id": "a8a4837c",
   "metadata": {},
   "source": [
    "<span style='color:darkcyan'> <i>Create a table with your data.<br/>\n",
    "    Make comments in a Markdown below. (e.g. What does which quantity mean?) </i></span>"
   ]
  },
  {
   "cell_type": "code",
   "execution_count": 14,
   "id": "b6cf7a03",
   "metadata": {},
   "outputs": [],
   "source": [
    "# table"
   ]
  },
  {
   "cell_type": "markdown",
   "id": "2f88aaa1",
   "metadata": {},
   "source": [
    "#### 3.4.2 Evaluation"
   ]
  },
  {
   "cell_type": "code",
   "execution_count": 15,
   "id": "ec73853a",
   "metadata": {},
   "outputs": [],
   "source": [
    "# calculations"
   ]
  },
  {
   "cell_type": "markdown",
   "id": "6a8bea25",
   "metadata": {},
   "source": [
    "<span style='color:darkcyan'> <i>Print your results (including errors and units).</i></span>"
   ]
  },
  {
   "cell_type": "code",
   "execution_count": null,
   "id": "8554656a",
   "metadata": {},
   "outputs": [],
   "source": []
  },
  {
   "cell_type": "markdown",
   "id": "2b975a9d",
   "metadata": {},
   "source": [
    "### 3.5 Compare the two methods\n",
    "<span style=\"color: indigo;\"><i>\n",
    "Compare the two methods to determine σ, argue\n",
    "which method is more accurate why, and where\n",
    "the biggest error or uncertainty comes from.<br/>\n",
    "    </i></span>\n"
   ]
  },
  {
   "cell_type": "markdown",
   "id": "7a48b4c4",
   "metadata": {},
   "source": [
    "<span style='color:darkcyan'> <i>What is the literature value for of\n",
    "σ for water at 20°C?</i></span>"
   ]
  },
  {
   "cell_type": "code",
   "execution_count": null,
   "id": "75031cae",
   "metadata": {},
   "outputs": [],
   "source": []
  },
  {
   "cell_type": "markdown",
   "id": "d73ec9b4",
   "metadata": {},
   "source": [
    "<span style='color:darkcyan'> <i>Where does the greatest uncertainty come from\n",
    "measuring each method? </i></span>"
   ]
  },
  {
   "cell_type": "markdown",
   "id": "682ad45e",
   "metadata": {},
   "source": []
  },
  {
   "cell_type": "markdown",
   "id": "f957b06e",
   "metadata": {},
   "source": [
    "<span style='color:darkcyan'> <i>Which method neglects which effects, and how\n",
    "does that affect the value of σ? </i></span>"
   ]
  },
  {
   "cell_type": "markdown",
   "id": "a1ea0add",
   "metadata": {},
   "source": []
  },
  {
   "cell_type": "markdown",
   "id": "cd00b6c0",
   "metadata": {},
   "source": [
    "<span style='color:darkcyan'> <i>What is the effect of detergent in water? How\n",
    "do you explain this?</i></span>"
   ]
  },
  {
   "cell_type": "markdown",
   "id": "673e10a2",
   "metadata": {},
   "source": []
  },
  {
   "cell_type": "markdown",
   "id": "d07da9f1",
   "metadata": {},
   "source": [
    "<span style='color:darkcyan'> <i>Which method is more accurate for determining $\\sigma$?</i></span>"
   ]
  },
  {
   "cell_type": "markdown",
   "id": "1f9683ad",
   "metadata": {},
   "source": []
  },
  {
   "cell_type": "markdown",
   "id": "f1af2fb0",
   "metadata": {},
   "source": [
    "### 3.6 Experiment 6: Turibulent flow\n",
    "<span style=\"color: indigo;\"><i>\n",
    "Confirm the resistance law (14) for turbulent\n",
    "flow on a cylindrical test body and calculate its\n",
    "resistance number $c_W$. Present W graphically\n",
    "as a function of $v^2$: $W = f (v^2)$!\n",
    "    </i></span>\n"
   ]
  },
  {
   "cell_type": "markdown",
   "id": "7c50a60c",
   "metadata": {},
   "source": [
    "#### 3.6.1 Measurement data"
   ]
  },
  {
   "cell_type": "code",
   "execution_count": 16,
   "id": "7d766b8f",
   "metadata": {},
   "outputs": [],
   "source": [
    "# measurement data"
   ]
  },
  {
   "cell_type": "markdown",
   "id": "a24deb4a",
   "metadata": {},
   "source": [
    "<span style='color:darkcyan'> <i>Create a table with your data.<br/>\n",
    "    Make comments in a Markdown below. (e.g. What does which quantity mean?) </i></span>"
   ]
  },
  {
   "cell_type": "code",
   "execution_count": 17,
   "id": "fd759093",
   "metadata": {},
   "outputs": [],
   "source": [
    "# table"
   ]
  },
  {
   "cell_type": "markdown",
   "id": "bd48759f",
   "metadata": {},
   "source": [
    "#### 3.6.2 Evaluation"
   ]
  },
  {
   "cell_type": "code",
   "execution_count": 18,
   "id": "ff2d6ac7",
   "metadata": {},
   "outputs": [],
   "source": [
    "# calculations"
   ]
  },
  {
   "cell_type": "markdown",
   "id": "0a693003",
   "metadata": {},
   "source": [
    "<span style='color:darkcyan'> <i>Plot $W = f (v^2)$.</i></span>"
   ]
  },
  {
   "cell_type": "code",
   "execution_count": 19,
   "id": "8c3efbc4",
   "metadata": {},
   "outputs": [],
   "source": [
    "# plots (with axis labels, units and errorbars)"
   ]
  },
  {
   "cell_type": "markdown",
   "id": "e465c547",
   "metadata": {},
   "source": [
    "<span style='color:darkcyan'> <i>Print your results (including errors and units).</i></span>"
   ]
  },
  {
   "cell_type": "code",
   "execution_count": null,
   "id": "3fea0ee7",
   "metadata": {},
   "outputs": [],
   "source": []
  },
  {
   "cell_type": "markdown",
   "id": "9adf4d55",
   "metadata": {},
   "source": []
  },
  {
   "cell_type": "markdown",
   "id": "16fcbf6a",
   "metadata": {},
   "source": [
    "<span style='color:darkcyan'> <i>What does $c_W$ represent? Are your results as ecpected?</i></span>"
   ]
  },
  {
   "cell_type": "markdown",
   "id": "f6fb38bb",
   "metadata": {},
   "source": [
    "## 4 Discussion"
   ]
  },
  {
   "cell_type": "markdown",
   "id": "cfbc3056",
   "metadata": {},
   "source": [
    "<span style='color:darkcyan'> <i>Are your results realistic? Why (not)? Comparison with theory? </i></span>"
   ]
  },
  {
   "cell_type": "markdown",
   "id": "68bbe950",
   "metadata": {},
   "source": []
  },
  {
   "cell_type": "markdown",
   "id": "2b084548",
   "metadata": {},
   "source": [
    "<span style='color:darkcyan'> <i>What measurement errors were assumed? Why? <br/>\n",
    "    What are the main reasons for the errors in your results and how do they come about?</i></span>"
   ]
  },
  {
   "cell_type": "markdown",
   "id": "cce809d9",
   "metadata": {},
   "source": []
  },
  {
   "cell_type": "markdown",
   "id": "afe6ee50",
   "metadata": {},
   "source": [
    "<span style='color:darkcyan'> <i>How would you try to reduce the error further? Could you improve the accuracy of the experiment? </i></span>"
   ]
  },
  {
   "cell_type": "markdown",
   "id": "164913f8",
   "metadata": {},
   "source": []
  },
  {
   "cell_type": "markdown",
   "id": "3ad3dfcb",
   "metadata": {},
   "source": [
    "<span style='color:darkcyan'> <i>If you were to repeat the experiments, what would you do differently and why?</i></span>"
   ]
  },
  {
   "cell_type": "markdown",
   "id": "49415796",
   "metadata": {},
   "source": []
  }
 ],
 "metadata": {
  "kernelspec": {
   "display_name": "Python 3 (ipykernel)",
   "language": "python",
   "name": "python3"
  },
  "language_info": {
   "codemirror_mode": {
    "name": "ipython",
    "version": 3
   },
   "file_extension": ".py",
   "mimetype": "text/x-python",
   "name": "python",
   "nbconvert_exporter": "python",
   "pygments_lexer": "ipython3",
   "version": "3.10.12"
  }
 },
 "nbformat": 4,
 "nbformat_minor": 5
}
