{
 "cells": [
  {
   "cell_type": "markdown",
   "id": "0629b8fb",
   "metadata": {},
   "source": [
    "# Protocol for experiment 04 \"Transverse Oscillation of a String\""
   ]
  },
  {
   "cell_type": "markdown",
   "id": "0b7ce929",
   "metadata": {},
   "source": [
    "**Date:** {2023-MM-DD}  \n",
    "**Version:** {1 for 1st assignment, 2 for corrected assignment, ...}\n",
    " \n",
    " - **Student 1:** {full name}\n",
    " - **Student 2:** {full name}"
   ]
  },
  {
   "cell_type": "markdown",
   "id": "8f0f1d43",
   "metadata": {},
   "source": [
    "## 1. Introduction\n",
    "\n",
    "### 1.1 Introduction to the experiment\n",
    "\n",
    "- What is the experiment about? What is the objective?\n",
    "\n",
    "### 1.2 Summary of theory\n",
    "\n",
    "- Explanation of the formulas used incl. variable labeling (example from preliminary experiment)\n",
    "    - Representation e.g. by  \n",
    "    \"\\\\$\\\\$ T = 2\\pi \\sqrt{\\frac{L}{g}} \\\\$\\\\$\" $\\rightarrow$ \n",
    "    $$T=2\\pi\\sqrt{\\frac{L}{g}}$$  \n",
    "    where $T$ is the period of oscillation of the pendulum for one oscillation, $L$ is the length of the pendulum, and $g$ is the acceleration due to gravity.\n",
    "    - $$\\phi = A \\exp(-\\frac{\\gamma t}{2})\\cos(\\omega t + \\alpha)$$\n",
    "    where $\\phi$ is the displacement of the oscillation, $A$ is the original amplitude of the oscillation, $\\gamma$ is the coefficient of friction, and $\\omega$ is the angular frequency.\n",
    "\n",
    "### 1.3 Tasks\n",
    "\n",
    "- What are the tasks for the experiment?\n",
    "\n",
    "### 1.4 Environmental relevance\n",
    "\n",
    "- How is the experiment relevant to your studies in environmental science? (1-2 sentences)"
   ]
  },
  {
   "cell_type": "markdown",
   "id": "0172593d",
   "metadata": {},
   "source": [
    "## 2. Packages and Functions"
   ]
  },
  {
   "cell_type": "markdown",
   "id": "aad31d47",
   "metadata": {},
   "source": [
    "### 2.1 Load packages\n",
    "You may not use all of these packages. You can comment out the ones you don't need."
   ]
  },
  {
   "cell_type": "code",
   "execution_count": 1,
   "id": "b4170517",
   "metadata": {},
   "outputs": [],
   "source": [
    "# import packages  (not every package is used in each notebook template)\n",
    "\n",
    "# numerical computing\n",
    "import numpy as np                    # Fundamental package for numerical computing in Python\n",
    "\n",
    "# uncertainty calculations\n",
    "from uncertainties import ufloat      # For handling numbers with uncertainties\n",
    "from uncertainties.umath import *     # For applying mathematical functions with uncertainties\n",
    "from uncertainties import unumpy      # For handling uncertainties in arrays\n",
    "\n",
    "# data manipulation and analysis\n",
    "import pandas as pd                   # Powerful data manipulation and analysis library\n",
    "\n",
    "# data visualization in tables\n",
    "from tabulate import tabulate\n",
    "\n",
    "# data visualization in plots\n",
    "import matplotlib.pyplot as plt       # Library for creating static, interactive, and animated visualizations\n",
    "\n",
    "# scientific computing\n",
    "import scipy as sc                    # Open-source scientific computing library\n",
    "from scipy.stats import linregress    # For performing linear regression analysis\n",
    "from scipy.constants import R         # Physical and mathematical constants\n",
    "\n",
    "# interactive display in Jupyter Notebook\n",
    "from IPython.display import display, Markdown   # For displaying rich content (e.g., Markdown) in Jupyter Notebook\n",
    "\n",
    "# standard mathematical functions\n",
    "import math                          # Python's built-in math functions\n",
    "\n",
    "# widgets (to create elements such as dynamic input/output boxes)\n",
    "import ipywidgets as widgets\n",
    "\n",
    "\n"
   ]
  },
  {
   "cell_type": "markdown",
   "id": "40438cc2",
   "metadata": {},
   "source": [
    "### 2.2 Define functions"
   ]
  },
  {
   "cell_type": "code",
   "execution_count": 2,
   "id": "879a86ae",
   "metadata": {},
   "outputs": [],
   "source": [
    "# example: \n",
    "\n",
    "def my_function(param1_placeholder, param2_placeholder):\n",
    "    \n",
    "    value = 'Replace with your calculation'\n",
    "    return value"
   ]
  },
  {
   "cell_type": "markdown",
   "id": "0151b9ec",
   "metadata": {},
   "source": [
    "#### Creating a table"
   ]
  },
  {
   "cell_type": "code",
   "execution_count": 3,
   "id": "99a58bf6",
   "metadata": {},
   "outputs": [],
   "source": [
    "#----------------------------------------------\n",
    "# Create a table (see CheatSheet)\n",
    "#----------------------------------------------\n",
    "\n",
    "def Table(table, header, precisions):\n",
    "    # Check if precisions list length matches table's row count\n",
    "    if len(precisions) != len(table):\n",
    "        raise ValueError(\"Length of precisions list must match the number of columns in the table\")\n",
    "\n",
    "    for i in range(len(table)):\n",
    "        # If precision for this row/column is not None, round the entire row\n",
    "        if precisions[i] is not None:\n",
    "            table[i] = [np.round(val, precisions[i]) for val in table[i]]\n",
    "\n",
    "    table = np.matrix.transpose(np.array(table))\n",
    "    print(tabulate(table, headers=header, tablefmt='fancy_grid'))"
   ]
  },
  {
   "cell_type": "markdown",
   "id": "6dd82fad",
   "metadata": {},
   "source": [
    "#### <span style='color:darkcyan'> Your functions: </span>"
   ]
  },
  {
   "cell_type": "code",
   "execution_count": null,
   "id": "2371dd18",
   "metadata": {},
   "outputs": [],
   "source": []
  },
  {
   "cell_type": "code",
   "execution_count": null,
   "id": "a3d0e52e",
   "metadata": {},
   "outputs": [],
   "source": []
  },
  {
   "cell_type": "markdown",
   "id": "aa491cdb",
   "metadata": {},
   "source": [
    "<div class=\"alert alert-block alert-info\">\n",
    "    <b>Tip</b>: <br/>\n",
    "    1) Here is the place to <b>define all the functions you need</b> in this notebook. This helps to keep your notebook clear and structured.<br/>\n",
    "    2) Add <b>comments</b> to your functions (e.g. what is the function good for, what happens in each line, etc.), so that you and your lab partner will still be able to understand the code at a later time."
   ]
  },
  {
   "cell_type": "markdown",
   "id": "335259b7",
   "metadata": {},
   "source": [
    "## 3. Experiments"
   ]
  },
  {
   "cell_type": "code",
   "execution_count": 4,
   "id": "997c214e",
   "metadata": {},
   "outputs": [],
   "source": [
    "# general parameters of the setup:\n",
    "\n",
    "ν = ... # [unit] driving frequency\n",
    "μ = ... # [unit] mass per unit lenght  \n",
    "# lever arm ratio (force Z / weight G) = 2:1"
   ]
  },
  {
   "cell_type": "markdown",
   "id": "bbf964d2",
   "metadata": {},
   "source": [
    "### 3.1 Experiment 1: Precision of the Micrometer Screw Reading  "
   ]
  },
  {
   "cell_type": "markdown",
   "id": "0c829ee0",
   "metadata": {},
   "source": [
    "<span style='color:indigo'> <i>\n",
    "    Determining the uncertainty of a measurement\n",
    "with the micrometer screw: Measure the am-\n",
    "plitude of the oscillating string close to the\n",
    "resonance at least 10 times. Then, your lab\n",
    "partner repeats the measurement 10 times as\n",
    "well. </i></span>"
   ]
  },
  {
   "cell_type": "markdown",
   "id": "b95cf676",
   "metadata": {},
   "source": [
    "#### 3.1.1 Measurement data"
   ]
  },
  {
   "cell_type": "markdown",
   "id": "428bac9c",
   "metadata": {},
   "source": [
    "<div class=\"alert alert-block alert-info\">\n",
    "    <b>Tip</b>: If there are multiple measurements of the same quantity, you can use an <b>uarray</b> for each quantity to store the measured values and their errors:  <br/>\n",
    "    <code>array = unumpy.uarray([measured_value_1, measured_value_2, ...], [abs_error_1, abs_error_2, ...])</code>. "
   ]
  },
  {
   "cell_type": "code",
   "execution_count": 5,
   "id": "15fe191d",
   "metadata": {},
   "outputs": [],
   "source": [
    "# amplitude \n",
    "\n",
    "# person 1: (10 measurements)\n",
    "a_1 = ... # [unit]\n",
    "a_2 = ... # [unit]"
   ]
  },
  {
   "cell_type": "markdown",
   "id": "5ae5b1da",
   "metadata": {},
   "source": [
    "#### 3.1.2 Evaluation"
   ]
  },
  {
   "cell_type": "markdown",
   "id": "5cafb2da",
   "metadata": {},
   "source": [
    "<span style='color:darkcyan'> <i>Create a table with your data.</i></span>"
   ]
  },
  {
   "cell_type": "code",
   "execution_count": 6,
   "id": "6a564f0d",
   "metadata": {},
   "outputs": [],
   "source": [
    "# table"
   ]
  },
  {
   "cell_type": "markdown",
   "id": "bde58918",
   "metadata": {},
   "source": [
    "<span style='color:darkcyan'> <i>Calculate the mean value from each of the 10\n",
    "measurements and determine the uncertainty\n",
    "on the mean. </i></span>"
   ]
  },
  {
   "cell_type": "code",
   "execution_count": null,
   "id": "2331d905",
   "metadata": {},
   "outputs": [],
   "source": []
  },
  {
   "cell_type": "markdown",
   "id": "2949f2f9",
   "metadata": {},
   "source": [
    "<span style='color:darkcyan'> <i>Are the two mean values compatible with each other? </i></span>"
   ]
  },
  {
   "cell_type": "markdown",
   "id": "e93cf8f1",
   "metadata": {},
   "source": []
  },
  {
   "cell_type": "markdown",
   "id": "7c8c93eb",
   "metadata": {},
   "source": [
    "<span style='color:darkcyan'> <i>Give an example of a systematic error in this\n",
    "experiment and quantify it. </i></span>"
   ]
  },
  {
   "cell_type": "markdown",
   "id": "65cff7e2",
   "metadata": {},
   "source": []
  },
  {
   "cell_type": "markdown",
   "id": "ea37eeb5",
   "metadata": {},
   "source": [
    "<span style='color:darkcyan'> <i>Describe how you\n",
    "would detect the systematic error and how you\n",
    "might correct for it.</i></span>"
   ]
  },
  {
   "cell_type": "markdown",
   "id": "bbf16ca2",
   "metadata": {},
   "source": []
  },
  {
   "cell_type": "markdown",
   "id": "40b8daac",
   "metadata": {},
   "source": [
    "### 3.2 Experiment 2: Resonance curve\n",
    "<span style='color:indigo'> <i>For a constant string length (l = 40–50 cm), record the so-called resonance curve for the\n",
    "fundamental vibration of the string. Plot the\n",
    "amplitude A as a function of $\\sqrt{Z}$! Draw the\n",
    "resonance curve including the error bars for the\n",
    "amplitude. <br/>\n",
    "  </i></span>"
   ]
  },
  {
   "cell_type": "markdown",
   "id": "3db55e6b",
   "metadata": {},
   "source": [
    "#### 3.2.1 Measurement data"
   ]
  },
  {
   "cell_type": "markdown",
   "id": "e6ace980",
   "metadata": {},
   "source": [
    "<span style='color:indigo'> <i>Make sure you have a sufficiently fine resolution around the resonance\n",
    "curve (enough data points)</i></span>"
   ]
  },
  {
   "cell_type": "code",
   "execution_count": 7,
   "id": "d387bf43",
   "metadata": {},
   "outputs": [],
   "source": [
    "l = ... # [unit] string length\n",
    "\n",
    "m = ... # [unit] mass  \n",
    "Z = ... # [unit] force \n",
    "A = ... # [unit] amplitude "
   ]
  },
  {
   "cell_type": "markdown",
   "id": "4d69a9b0",
   "metadata": {},
   "source": [
    "#### 3.2.2 Evaluation"
   ]
  },
  {
   "cell_type": "markdown",
   "id": "e92e7b38",
   "metadata": {},
   "source": [
    "<span style='color:darkcyan'> <i>Print your data in a table. </i></span>"
   ]
  },
  {
   "cell_type": "code",
   "execution_count": 8,
   "id": "4d74fbd7",
   "metadata": {},
   "outputs": [],
   "source": [
    "# table"
   ]
  },
  {
   "cell_type": "markdown",
   "id": "fac414be",
   "metadata": {},
   "source": [
    "<span style='color:darkcyan'> <i>Plot the\n",
    "amplitude A as a function of $\\sqrt{Z}$. Use dots with errorbars and make sure that you plot the curve at a reasonable interval. </i></span>"
   ]
  },
  {
   "cell_type": "code",
   "execution_count": 9,
   "id": "8a8f9d86",
   "metadata": {},
   "outputs": [],
   "source": [
    "# plot"
   ]
  },
  {
   "cell_type": "markdown",
   "id": "9fcf2e1b",
   "metadata": {},
   "source": [
    "<span style='color:darkcyan'> <i>Determine the mean of the resonance curve,\n",
    "as well as the full width at half maximum\n",
    "(FWHM). From the FWHM, the uncertainty\n",
    "σ on the mean can be determined. The relationship is FWHM = 2.35σ. To do this, try\n",
    "fitting the resonance curve by a Gaussian curve\n",
    "either by hand or by computer. </i></span><br/>\n",
    "<span style='color:darkseagreen'> <i>\n",
    "    __For advanced\n",
    "and interested people:__ A resonance curve is better described by a Lorentz curve (also called\n",
    "Breit-Wigner curve). Fit such a Lorentz curve,\n",
    "and discuss the differences.</i></span>"
   ]
  },
  {
   "cell_type": "code",
   "execution_count": 10,
   "id": "26adc68f",
   "metadata": {},
   "outputs": [],
   "source": [
    "FWHM = ... \n",
    "σ = ..."
   ]
  },
  {
   "cell_type": "code",
   "execution_count": 11,
   "id": "e431c174",
   "metadata": {},
   "outputs": [],
   "source": [
    "# plot with Gaussian / Lorentz fit"
   ]
  },
  {
   "cell_type": "markdown",
   "id": "b27fa21a",
   "metadata": {},
   "source": [
    "<span style='color:darkcyan'> <i>One expects that for 1/3 of the data points the\n",
    "fit curve does not pass through the error bar. Is\n",
    "this the case for you? If not, explain why this\n",
    "is not the case.</i></span>"
   ]
  },
  {
   "cell_type": "markdown",
   "id": "695c0b4b",
   "metadata": {},
   "source": []
  },
  {
   "cell_type": "markdown",
   "id": "06592efb",
   "metadata": {},
   "source": [
    "### 3.3 Experiment 3: Force Z at resonance for variable string lengths l\n",
    "<span style='color:indigo'> <i>Check the law (7) for its validity. For various\n",
    "string lengths l, determine the tensile force Z\n",
    "for which the string resonates. Change the length l in steps of\n",
    "2 cm between 36 and 54 cm.</i></span>"
   ]
  },
  {
   "cell_type": "markdown",
   "id": "50d02f08",
   "metadata": {},
   "source": [
    "#### 3.3.1 Measurement data"
   ]
  },
  {
   "cell_type": "code",
   "execution_count": 12,
   "id": "e2592050",
   "metadata": {},
   "outputs": [],
   "source": [
    "l3 = unumpy.uarray([36, 38, 40, 42, 44, 46, 48, 50, 52, 54], # [cm] string length\n",
    "          [0, 0, 0, 0, 0, 0, 0, 0, 0, 0])  # replace the zeroes with the error for l\n",
    "\n",
    "m3 = ... # [unit] \n",
    "Z3 = ... # [unit] "
   ]
  },
  {
   "cell_type": "markdown",
   "id": "a25301c1",
   "metadata": {},
   "source": [
    "<div class=\"alert alert-block alert-info\">\n",
    "    <b>Tip</b>: Take care when choosing names for your variables - make sure that you <b>don't use the same name for different variables</b> (throughout the whole notebook!) <br/>\n",
    "    If you measure the same quantity in more than one experiment, you can e.g. include the experiment number in the variable name to make it unique. <br/>\n",
    "    <small>Otherwise the value of the variable will depend on the order in which you execute the cells, which may cause confusion and wrong results if you don't always execute them from top to bottom.</small><br/>"
   ]
  },
  {
   "cell_type": "markdown",
   "id": "d67cfe3d",
   "metadata": {},
   "source": [
    "<span style='color:darkcyan'> <i>Complete the table with your data.</i></span>"
   ]
  },
  {
   "cell_type": "markdown",
   "id": "596b7e4c",
   "metadata": {},
   "source": [
    "#### 3.3.2 Evaluation"
   ]
  },
  {
   "cell_type": "markdown",
   "id": "6a85748d",
   "metadata": {},
   "source": [
    "<span style='color:darkcyan'> <i>Plot Z as a function of \n",
    "    $l^2$ (dots with errorbars).<br/>\n",
    "    Draw a regression line through the data points\n",
    "$Z(l^2)$, either by computer or using the formula<br/>\n",
    "$m = Cov(x,y)/Var(x)$,<br/>\n",
    "    where x corresponds\n",
    "to the squared string length $l^2$, and y represents the tensile force Z.</i></span>"
   ]
  },
  {
   "cell_type": "code",
   "execution_count": 15,
   "id": "14458a36",
   "metadata": {},
   "outputs": [],
   "source": [
    "# plot with regression line"
   ]
  },
  {
   "cell_type": "markdown",
   "id": "aa9f6e3f",
   "metadata": {},
   "source": [
    "<span style='color:darkcyan'> <i>Calculate the\n",
    "fundamental frequency $ν_1$ for each measurement and the mean of $ν_1$.</i></span>"
   ]
  },
  {
   "cell_type": "code",
   "execution_count": 16,
   "id": "da18e815",
   "metadata": {},
   "outputs": [],
   "source": [
    "ν_1 = ..."
   ]
  },
  {
   "cell_type": "code",
   "execution_count": 17,
   "id": "74d3ce25",
   "metadata": {},
   "outputs": [
    {
     "name": "stdout",
     "output_type": "stream",
     "text": [
      "╒══════════╤══════════╤══════════╤══════════╕\n",
      "│ l        │        m │        Z │      ν_1 │\n",
      "│ [cm]     │   [unit] │   [unit] │   [unit] │\n",
      "╞══════════╪══════════╪══════════╪══════════╡\n",
      "│ 36.0+/-0 │        0 │        0 │        0 │\n",
      "├──────────┼──────────┼──────────┼──────────┤\n",
      "│ 38.0+/-0 │        0 │        0 │        0 │\n",
      "├──────────┼──────────┼──────────┼──────────┤\n",
      "│ 40.0+/-0 │        0 │        0 │        0 │\n",
      "├──────────┼──────────┼──────────┼──────────┤\n",
      "│ 42.0+/-0 │        0 │        0 │        0 │\n",
      "├──────────┼──────────┼──────────┼──────────┤\n",
      "│ 44.0+/-0 │        0 │        0 │        0 │\n",
      "├──────────┼──────────┼──────────┼──────────┤\n",
      "│ 46.0+/-0 │        0 │        0 │        0 │\n",
      "├──────────┼──────────┼──────────┼──────────┤\n",
      "│ 48.0+/-0 │        0 │        0 │        0 │\n",
      "├──────────┼──────────┼──────────┼──────────┤\n",
      "│ 50.0+/-0 │        0 │        0 │        0 │\n",
      "├──────────┼──────────┼──────────┼──────────┤\n",
      "│ 52.0+/-0 │        0 │        0 │        0 │\n",
      "├──────────┼──────────┼──────────┼──────────┤\n",
      "│ 54.0+/-0 │        0 │        0 │        0 │\n",
      "╘══════════╧══════════╧══════════╧══════════╛\n",
      "<ν_1> = ...\n"
     ]
    }
   ],
   "source": [
    "# create a table with your data \n",
    "\n",
    "header3 = ['l\\n[cm]','m\\n[unit]', 'Z\\n[unit]', 'ν_1\\n[unit]']\n",
    "\n",
    "table3 = [l3,\n",
    "          10*[0], # replace with your data \n",
    "          10*[0],\n",
    "          10*[0]\n",
    "          ]\n",
    "\n",
    "\n",
    "precision3 = [None,0,0,0] # replace 0 with adequate values\n",
    "\n",
    "Table(table3, header3, precision3)\n",
    "print('<ν_1> = ...')"
   ]
  },
  {
   "cell_type": "markdown",
   "id": "3d8ad304",
   "metadata": {},
   "source": [
    "## 4 Discussion"
   ]
  },
  {
   "cell_type": "markdown",
   "id": "b8db4852",
   "metadata": {},
   "source": [
    "<span style='color:darkcyan'> <i>Are your results realistic? Why (not)? Compare $\\nu_1$\n",
    "to the oscillators driving frequency indicated at\n",
    "the experiment setup. </i></span>"
   ]
  },
  {
   "cell_type": "markdown",
   "id": "189c473b",
   "metadata": {},
   "source": []
  },
  {
   "cell_type": "markdown",
   "id": "ed475087",
   "metadata": {},
   "source": [
    "<span style='color:darkcyan'> <i>What measurement errors were assumed? Why? <br/>\n",
    "    What are the main reasons for the errors in your results and how do they come about?</i></span>"
   ]
  },
  {
   "cell_type": "markdown",
   "id": "4ceb8f17",
   "metadata": {},
   "source": []
  },
  {
   "cell_type": "markdown",
   "id": "9381b751",
   "metadata": {},
   "source": [
    "<span style='color:darkcyan'> <i>How would you try to reduce the error further? Could you improve the accuracy of the experiment? </i></span>"
   ]
  },
  {
   "cell_type": "markdown",
   "id": "ca856f37",
   "metadata": {},
   "source": []
  },
  {
   "cell_type": "markdown",
   "id": "e38d5dbc",
   "metadata": {},
   "source": [
    "<span style='color:darkcyan'> <i>If you were to repeat the experiment, what would you do differently and why?</i></span>"
   ]
  },
  {
   "cell_type": "markdown",
   "id": "c3f06d03",
   "metadata": {},
   "source": []
  }
 ],
 "metadata": {
  "kernelspec": {
   "display_name": "Python 3 (ipykernel)",
   "language": "python",
   "name": "python3"
  },
  "language_info": {
   "codemirror_mode": {
    "name": "ipython",
    "version": 3
   },
   "file_extension": ".py",
   "mimetype": "text/x-python",
   "name": "python",
   "nbconvert_exporter": "python",
   "pygments_lexer": "ipython3",
   "version": "3.10.12"
  }
 },
 "nbformat": 4,
 "nbformat_minor": 5
}
