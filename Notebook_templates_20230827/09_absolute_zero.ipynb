{
 "cells": [
  {
   "cell_type": "markdown",
   "id": "0629b8fb",
   "metadata": {},
   "source": [
    "# Protocol for experiment 09 \"Absolute Zero\""
   ]
  },
  {
   "cell_type": "markdown",
   "id": "0b7ce929",
   "metadata": {},
   "source": [
    "**Date:** {2023-MM-DD}  \n",
    "**Version:** {1 for 1st assignment, 2 for corrected assignment, ...}\n",
    " \n",
    " - **Student 1:** {full name}\n",
    " - **Student 2:** {full name}"
   ]
  },
  {
   "cell_type": "markdown",
   "id": "8f0f1d43",
   "metadata": {},
   "source": [
    "## 1. Introduction\n",
    "\n",
    "### 1.1 Introduction to the experiment\n",
    "\n",
    "- What is the experiment about? What is the objective?\n",
    "\n",
    "### 1.2 Summary of theory\n",
    "\n",
    "- Explanation of the formulas used incl. variable labeling (example from preliminary experiment)\n",
    "    - Representation e.g. by  \n",
    "    \"\\\\$\\\\$ T = 2\\pi \\sqrt{\\frac{L}{g}} \\\\$\\\\$\" $\\rightarrow$ \n",
    "    $$T=2\\pi\\sqrt{\\frac{L}{g}}$$  \n",
    "    where $T$ is the period of oscillation of the pendulum for one oscillation, $L$ is the length of the pendulum, and $g$ is the acceleration due to gravity.\n",
    "    - $$\\phi = A \\exp(-\\frac{\\gamma t}{2})\\cos(\\omega t + \\alpha)$$\n",
    "    where $\\phi$ is the displacement of the oscillation, $A$ is the original amplitude of the oscillation, $\\gamma$ is the coefficient of friction, and $\\omega$ is the angular frequency.\n",
    "\n",
    "### 1.3 Tasks\n",
    "\n",
    "- What are the tasks for the experiment?\n",
    "\n",
    "### 1.4 Environmental relevance\n",
    "\n",
    "- How is the experiment relevant to your studies in environmental science? (1-2 sentences)"
   ]
  },
  {
   "cell_type": "markdown",
   "id": "0172593d",
   "metadata": {},
   "source": [
    "## 2. Packages and Functions"
   ]
  },
  {
   "cell_type": "markdown",
   "id": "aad31d47",
   "metadata": {},
   "source": [
    "### 2.1 Load packages\n",
    "You may not use all of these packages. You can comment out the ones you don't need."
   ]
  },
  {
   "cell_type": "code",
   "execution_count": 1,
   "id": "b4170517",
   "metadata": {},
   "outputs": [],
   "source": [
    "# import packages  (not every package is used in each notebook template)\n",
    "\n",
    "# numerical computing\n",
    "import numpy as np                    # Fundamental package for numerical computing in Python\n",
    "\n",
    "# uncertainty calculations\n",
    "from uncertainties import ufloat      # For handling numbers with uncertainties\n",
    "from uncertainties.umath import *     # For applying mathematical functions with uncertainties\n",
    "from uncertainties import unumpy      # For handling uncertainties in arrays\n",
    "\n",
    "# data manipulation and analysis\n",
    "import pandas as pd                   # Powerful data manipulation and analysis library\n",
    "\n",
    "# data visualization in tables\n",
    "from tabulate import tabulate\n",
    "\n",
    "# data visualization in plots\n",
    "import matplotlib.pyplot as plt       # Library for creating static, interactive, and animated visualizations\n",
    "\n",
    "# scientific computing\n",
    "import scipy as sc                    # Open-source scientific computing library\n",
    "from scipy.stats import linregress    # For performing linear regression analysis\n",
    "from scipy.constants import R         # Physical and mathematical constants\n",
    "\n",
    "# interactive display in Jupyter Notebook\n",
    "from IPython.display import display, Markdown   # For displaying rich content (e.g., Markdown) in Jupyter Notebook\n",
    "\n",
    "# standard mathematical functions\n",
    "import math                          # Python's built-in math functions\n",
    "\n",
    "# widgets (to create elements such as dynamic input/output boxes)\n",
    "import ipywidgets as widgets\n",
    "\n",
    "\n"
   ]
  },
  {
   "cell_type": "markdown",
   "id": "40438cc2",
   "metadata": {},
   "source": [
    "### 2.2 Define functions"
   ]
  },
  {
   "cell_type": "code",
   "execution_count": 2,
   "id": "eddf02f4",
   "metadata": {},
   "outputs": [],
   "source": [
    "# example: \n",
    "\n",
    "def my_function(param1_placeholder, param2_placeholder):\n",
    "    \n",
    "    value = 'Replace with your calculation'\n",
    "    return value"
   ]
  },
  {
   "cell_type": "markdown",
   "id": "6dd82fad",
   "metadata": {},
   "source": [
    "#### <span style='color:darkcyan'> Your functions: </span>"
   ]
  },
  {
   "cell_type": "code",
   "execution_count": 3,
   "id": "1e320d0f",
   "metadata": {},
   "outputs": [
    {
     "data": {
      "text/plain": [
       "'\\ndef U2p(...,...,...):\\n    p = ...\\n    return p\\n'"
      ]
     },
     "execution_count": 3,
     "metadata": {},
     "output_type": "execute_result"
    }
   ],
   "source": [
    "# important fuctions you may need:\n",
    "\n",
    "# -------------------------------------------------------\n",
    "# Approximation for the temperature of the absolute zero\n",
    "# -------------------------------------------------------\n",
    "'''\n",
    "def t00(...,...,...):\n",
    "\n",
    "    t00 = ...\n",
    "    \n",
    "    return t00c\n",
    "'''\n",
    "\n",
    "# -------------------------------------------------------\n",
    "# Exact calculation of the absolute zero\n",
    "# -------------------------------------------------------\n",
    "\n",
    "'''\n",
    "def t0(...,...,...):\n",
    "    a = ...\n",
    "    b = ...\n",
    "    c = ...\n",
    "    t0 = ...\n",
    "    return t0, a, b, c\n",
    "'''\n",
    "\n",
    "# -------------------------------------------------------\n",
    "# Convert voltage into pressure\n",
    "# -------------------------------------------------------\n",
    "\n",
    "'''\n",
    "def U2p(...,...,...):\n",
    "    p = ...\n",
    "    return p\n",
    "'''"
   ]
  },
  {
   "cell_type": "code",
   "execution_count": null,
   "id": "a3d0e52e",
   "metadata": {},
   "outputs": [],
   "source": []
  },
  {
   "cell_type": "markdown",
   "id": "aa491cdb",
   "metadata": {},
   "source": [
    "<div class=\"alert alert-block alert-info\">\n",
    "    <b>Tip</b>: <br/>\n",
    "    1) Here is the place to <b>define all the functions you need</b> in this notebook. This helps to keep your notebook clear and structured.<br/>\n",
    "    2) Add <b>comments</b> to your functions (e.g. what is the function good for, what happens in each line, etc.), so that you and your lab partner will still be able to understand the code at a later time."
   ]
  },
  {
   "cell_type": "markdown",
   "id": "335259b7",
   "metadata": {},
   "source": [
    "## 3. Experiments"
   ]
  },
  {
   "cell_type": "markdown",
   "id": "bbf964d2",
   "metadata": {},
   "source": [
    "### 3.1 Experiment 1: Calibration of the pressure sensor"
   ]
  },
  {
   "cell_type": "markdown",
   "id": "b95cf676",
   "metadata": {},
   "source": [
    "#### 3.1.1 Measurement data"
   ]
  },
  {
   "cell_type": "code",
   "execution_count": 5,
   "id": "591524b2",
   "metadata": {},
   "outputs": [],
   "source": [
    "# Example:\n",
    "# Variable = ufloat(measured value, absolute error) # [unit]\n",
    "p_test = ufloat(707.42,0.1) # [mmHg]\n",
    "\n",
    "# ----------------------------------------\n",
    "# Calibration point at ambient pressure\n",
    "# ----------------------------------------\n",
    "\n",
    "# air pressure\n",
    "pL_mmHg = ufloat(0,0) # [mmHg] (replace 0 with your values)\n",
    "p_corr = ...          # [mmHg] correction value air pressure\n",
    "pL_Torr = ...         # [Torr] \n",
    "pL_Pa = ...           # [Pa]\n",
    "\n",
    "# air temperature\n",
    "tL_C = ...            # [°C]\n",
    "\n",
    "# voltage at air pressure and temperature\n",
    "UL = ...              # [mV]\n",
    "\n",
    "\n",
    "# ----------------------------------------\n",
    "# Calibration point at low pressure\n",
    "# ----------------------------------------\n",
    "\n",
    "pt_mbar = ...              # [mbar]\n",
    "pt_Pa = ...              # [Pa]\n",
    "Ut = ...              # [unit]\n",
    "\n"
   ]
  },
  {
   "cell_type": "markdown",
   "id": "94a5c348",
   "metadata": {},
   "source": [
    "<span style='color:darkcyan'> <i>Create a table with your measurement data.<br/>\n",
    "    Make comments in a Markdown below. (e.g. What does which quantity mean?) </i></span>"
   ]
  },
  {
   "cell_type": "code",
   "execution_count": 6,
   "id": "f3ae53c2",
   "metadata": {},
   "outputs": [],
   "source": [
    "# table"
   ]
  },
  {
   "cell_type": "markdown",
   "id": "8a4c87a0",
   "metadata": {},
   "source": [
    "#### 3.1.2 Evaluation"
   ]
  },
  {
   "cell_type": "markdown",
   "id": "8ba2a897",
   "metadata": {},
   "source": [
    "<span style='color:darkcyan'> <i>Plot $(U_t, p_t)$ and $(U_L, p_L)$ and fit a straight line though the two points. This line is the characteristic curve (calibration curve) of the sensor.</i></span>"
   ]
  },
  {
   "cell_type": "code",
   "execution_count": 7,
   "id": "18284a44",
   "metadata": {},
   "outputs": [],
   "source": [
    "# plot"
   ]
  },
  {
   "cell_type": "markdown",
   "id": "72013e3e",
   "metadata": {},
   "source": [
    "<div class=\"alert alert-block alert-info\">\n",
    "    <b>Tip</b>: For plotting you can use the nominal values only (the measured values without the error). You can access them by adding .n (e.g. pL.n).<br/>\n",
    "    Zum plotten können nur die Nominalwerte \n",
    "- also die Messwerte ohne die Fehler verwendet werden.\n",
    "diese können mit dem Anhang .n (e.g. pL.n) aufgerufen\n",
    "werden."
   ]
  },
  {
   "cell_type": "markdown",
   "id": "024dce31",
   "metadata": {},
   "source": [
    "<span style='color:darkcyan'> <i>From the characteristic curve, determine $p_0$ and $C$ and print your results (incl. errors and units).</i></span>"
   ]
  },
  {
   "cell_type": "code",
   "execution_count": 8,
   "id": "554a8306",
   "metadata": {},
   "outputs": [],
   "source": [
    "# ----------------------------------------\n",
    "# Sensor characteristics (p=p0+CU)\n",
    "# ----------------------------------------\n",
    "\n",
    "p0 = ...              # [unit]\n",
    "C = ...               # [unit]"
   ]
  },
  {
   "cell_type": "markdown",
   "id": "40b8daac",
   "metadata": {},
   "source": [
    "### 3.2 Experiment 2: Determination of the absolute zero\n",
    "<span style='color:indigo'> <i>Measure the pressure in a constant volume $V$\n",
    "filled with helium gas at the temperature of\n",
    "boiling water $t_K$ and ice water $t_E$ . Using these\n",
    "two results, calculate the temperature t0 of the absolute zero which is implied by Eq. 6.</i></span>"
   ]
  },
  {
   "cell_type": "markdown",
   "id": "3db55e6b",
   "metadata": {},
   "source": [
    "#### 3.2.1 Measurement data"
   ]
  },
  {
   "cell_type": "code",
   "execution_count": 9,
   "id": "6b9b78f6",
   "metadata": {},
   "outputs": [],
   "source": [
    "#------------------------------------------------------------------\n",
    "# boiling water\n",
    "#------------------------------------------------------------------\n",
    "\n",
    "tK = ...  # [unit]\n",
    "UK = ...  # [unit]\n",
    "pK = ...  # [unit] use formula or above define function U2p \n",
    "\n",
    "#------------------------------------------------------------------\n",
    "# ice water\n",
    "#------------------------------------------------------------------\n",
    "\n",
    "tE = ...  # [unit]\n",
    "UE = ...  # [unit]\n",
    "pE = ...  # [unit]\n",
    "\n"
   ]
  },
  {
   "cell_type": "markdown",
   "id": "49f9c1c7",
   "metadata": {},
   "source": [
    "<span style='color:darkcyan'> <i>Create a table with your measurement data.<br/>\n",
    "    Make comments in a Markdown below. (e.g. What does which quantity mean?) </i></span>"
   ]
  },
  {
   "cell_type": "code",
   "execution_count": 10,
   "id": "34c1b57f",
   "metadata": {},
   "outputs": [],
   "source": [
    "# table"
   ]
  },
  {
   "cell_type": "markdown",
   "id": "4d69a9b0",
   "metadata": {},
   "source": [
    "#### 3.2.2 Evaluation"
   ]
  },
  {
   "cell_type": "markdown",
   "id": "c057bf24",
   "metadata": {},
   "source": [
    "__Approximation for the temperature of the absolute zero:__"
   ]
  },
  {
   "cell_type": "markdown",
   "id": "fac414be",
   "metadata": {},
   "source": [
    "<span style='color:darkcyan'> <i>Calculate the temperature of the absolute zero approximately. </i></span>"
   ]
  },
  {
   "cell_type": "markdown",
   "id": "c381b1c3",
   "metadata": {},
   "source": [
    "<div class=\"alert alert-block alert-info\">\n",
    "    <b>Tip</b>: \n",
    "    Use the function t00(...) you have defined in section 2.\n",
    "    </div>"
   ]
  },
  {
   "cell_type": "code",
   "execution_count": 12,
   "id": "ccc3417a",
   "metadata": {},
   "outputs": [],
   "source": [
    "t00 = ..."
   ]
  },
  {
   "cell_type": "markdown",
   "id": "4d23f161",
   "metadata": {},
   "source": [
    "__Exact calculation of the temperature of the absolute zero:__"
   ]
  },
  {
   "cell_type": "markdown",
   "id": "59f167e5",
   "metadata": {},
   "source": [
    "Volume of the empty space / volume of the glass bulb: $V_s/V = \\epsilon = 1 \\cdot 10^{−3}$  \n",
    "Cubic expansion coefficient of glass: $\\gamma = 1.0 \\cdot 10^{−5}\\,°C^{−1}$"
   ]
  },
  {
   "cell_type": "markdown",
   "id": "9fcf2e1b",
   "metadata": {},
   "source": [
    "<span style='color:darkcyan'> <i>\n",
    "  Calculate the absolute zero of temperature under consideration of both volumes and the thermal expansion.\n",
    "    </i></span>"
   ]
  },
  {
   "cell_type": "markdown",
   "id": "90b097a0",
   "metadata": {},
   "source": [
    "<div class=\"alert alert-block alert-info\">\n",
    "    <b>Tip</b>: \n",
    "    Use the function t0(...) you have defined in section 2.\n",
    "    </div>"
   ]
  },
  {
   "cell_type": "code",
   "execution_count": 13,
   "id": "26adc68f",
   "metadata": {},
   "outputs": [],
   "source": [
    "t0 = ..."
   ]
  },
  {
   "cell_type": "markdown",
   "id": "74c43da2",
   "metadata": {},
   "source": [
    "<span style='color:darkcyan'> <i> How\n",
    "can the numerical values of the partial derivations\n",
    "$\\partial t_0/\\partial p_E$ and $\\partial t_0/\\partial p_K$ be obtained, if one has programmed already the above formulas for $t_0$?</i></span>"
   ]
  },
  {
   "cell_type": "markdown",
   "id": "d8478858",
   "metadata": {},
   "source": []
  },
  {
   "cell_type": "markdown",
   "id": "165a2c92",
   "metadata": {},
   "source": [
    "<span style='color:darkcyan'> <i>Print your results (incl. errors and units).</i></span>"
   ]
  },
  {
   "cell_type": "code",
   "execution_count": 15,
   "id": "9353c45b",
   "metadata": {},
   "outputs": [
    {
     "name": "stdout",
     "output_type": "stream",
     "text": [
      "Approximation for the absolute zero of temperature:\n",
      "Variable = Ellipsis [unit]\n",
      "Ellipsis\n",
      "\n",
      "Exact determination ot the absolute zero of temperature:\n",
      "a = ... [unit], b = ... [unit]., c = ... [unit].\n",
      "Absolute zero = Ellipsis [unit]\n",
      "\n"
     ]
    }
   ],
   "source": [
    "# for example like this\n",
    "\n",
    "# Werte ausgeben\n",
    "print(\"Approximation for the absolute zero of temperature:\")\n",
    "print(\"Variable =\",...,\"[unit]\")\n",
    "print(...)\n",
    "print()\n",
    "print(\"Exact determination ot the absolute zero of temperature:\")\n",
    "print(\"a = ... [unit], b = ... [unit]., c = ... [unit].\")\n",
    "print(\"Absolute zero =\",t00,\"[unit]\")\n",
    "print()"
   ]
  },
  {
   "cell_type": "markdown",
   "id": "06592efb",
   "metadata": {},
   "source": [
    "### 3.3 Experiment 3: Measurement of the temperature of liquid nitrogen\n",
    "<span style='color:indigo'> <i>Determine the temperature of liquid nitrogen\n",
    "(use the closed gas volume and its pressure as\n",
    "thermometer).</i></span>"
   ]
  },
  {
   "cell_type": "markdown",
   "id": "598e83ad",
   "metadata": {},
   "source": [
    "#### 3.3.1 Measurement data"
   ]
  },
  {
   "cell_type": "code",
   "execution_count": null,
   "id": "d21a1de5",
   "metadata": {},
   "outputs": [],
   "source": [
    "U_N = ... # [mV] pressure signal"
   ]
  },
  {
   "cell_type": "markdown",
   "id": "acd221d7",
   "metadata": {},
   "source": [
    "#### 3.3.2 Evaluation"
   ]
  },
  {
   "cell_type": "code",
   "execution_count": null,
   "id": "91da29d3",
   "metadata": {},
   "outputs": [],
   "source": [
    "p_N = ...          # [Pa] pressure\n",
    "t_LN2_prime = ...  # [°C] approximate value for temperature\n",
    "A = ...            # correction coefficient\n",
    "t_LN2 = ...        # [°C] exact value for temperature"
   ]
  },
  {
   "cell_type": "markdown",
   "id": "d6296fe8",
   "metadata": {},
   "source": [
    "<span style='color:darkcyan'> <i>Print your results (incl. errors and units).</i></span>"
   ]
  },
  {
   "cell_type": "code",
   "execution_count": null,
   "id": "11fe7523",
   "metadata": {},
   "outputs": [],
   "source": []
  },
  {
   "cell_type": "markdown",
   "id": "3a32edb6",
   "metadata": {},
   "source": [
    "## 4 Discussion"
   ]
  },
  {
   "cell_type": "markdown",
   "id": "7d2e95be",
   "metadata": {},
   "source": [
    "<span style='color:darkcyan'> <i>Are your results realistic? Why (not)? Comparison with theory? </i></span>"
   ]
  },
  {
   "cell_type": "markdown",
   "id": "9330d0e7",
   "metadata": {},
   "source": []
  },
  {
   "cell_type": "markdown",
   "id": "8a52e543",
   "metadata": {},
   "source": [
    "<span style='color:darkcyan'> <i>What measurement errors were assumed? Why? <br/>\n",
    "    What are the main reasons for the errors in your results and how do they come about?</i></span>"
   ]
  },
  {
   "cell_type": "markdown",
   "id": "4416ade5",
   "metadata": {},
   "source": []
  },
  {
   "cell_type": "markdown",
   "id": "0fab5617",
   "metadata": {},
   "source": [
    "<span style='color:darkcyan'> <i>How would you try to reduce the error further? Could you improve the accuracy of the experiment? </i></span>"
   ]
  },
  {
   "cell_type": "markdown",
   "id": "0d50b92e",
   "metadata": {},
   "source": []
  },
  {
   "cell_type": "markdown",
   "id": "f5967c0c",
   "metadata": {},
   "source": [
    "<span style='color:darkcyan'> <i>If you were to repeat the experiment, what would you do differently and why?</i></span>"
   ]
  },
  {
   "cell_type": "markdown",
   "id": "6593ac1e",
   "metadata": {},
   "source": []
  }
 ],
 "metadata": {
  "kernelspec": {
   "display_name": "Python 3 (ipykernel)",
   "language": "python",
   "name": "python3"
  },
  "language_info": {
   "codemirror_mode": {
    "name": "ipython",
    "version": 3
   },
   "file_extension": ".py",
   "mimetype": "text/x-python",
   "name": "python",
   "nbconvert_exporter": "python",
   "pygments_lexer": "ipython3",
   "version": "3.10.12"
  }
 },
 "nbformat": 4,
 "nbformat_minor": 5
}
